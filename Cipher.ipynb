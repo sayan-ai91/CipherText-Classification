{
 "cells": [
  {
   "cell_type": "markdown",
   "id": "outstanding-worry",
   "metadata": {},
   "source": [
    "# ...................Newsgroups Ciphertext Challenge........................."
   ]
  },
  {
   "cell_type": "code",
   "execution_count": 1,
   "id": "intensive-remedy",
   "metadata": {},
   "outputs": [],
   "source": [
    "import pandas as pd\n",
    "import numpy as np\n",
    "import seaborn as sns\n",
    "import matplotlib.pyplot as plt\n",
    "from sklearn.feature_extraction.text import TfidfVectorizer\n",
    "from sklearn.metrics import classification_report\n",
    "from sklearn.model_selection import RandomizedSearchCV,GridSearchCV\n",
    "import warnings\n",
    "warnings.filterwarnings('ignore')"
   ]
  },
  {
   "cell_type": "code",
   "execution_count": 2,
   "id": "vietnamese-brook",
   "metadata": {},
   "outputs": [
    {
     "data": {
      "text/html": [
       "<div>\n",
       "<style scoped>\n",
       "    .dataframe tbody tr th:only-of-type {\n",
       "        vertical-align: middle;\n",
       "    }\n",
       "\n",
       "    .dataframe tbody tr th {\n",
       "        vertical-align: top;\n",
       "    }\n",
       "\n",
       "    .dataframe thead th {\n",
       "        text-align: right;\n",
       "    }\n",
       "</style>\n",
       "<table border=\"1\" class=\"dataframe\">\n",
       "  <thead>\n",
       "    <tr style=\"text-align: right;\">\n",
       "      <th></th>\n",
       "      <th>ciphertext</th>\n",
       "      <th>Id</th>\n",
       "      <th>target</th>\n",
       "    </tr>\n",
       "  </thead>\n",
       "  <tbody>\n",
       "    <tr>\n",
       "      <th>0</th>\n",
       "      <td>W)(7\u001ayT7h8;Hv\\nlTcH;hHhNW)%HhMNPcHNG_Cy^PvMBMy...</td>\n",
       "      <td>ID_48096b7a9</td>\n",
       "      <td>12</td>\n",
       "    </tr>\n",
       "    <tr>\n",
       "      <th>1</th>\n",
       "      <td>W)(7\u001ayqv(H3cl-iNHv\u001e",
       "cNMrcNv3y^](H\\ny\\tNy\u0003c/syPc...</td>\n",
       "      <td>ID_a2d6e55f4</td>\n",
       "      <td>2</td>\n",
       "    </tr>\n",
       "    <tr>\n",
       "      <th>2</th>\n",
       "      <td>W)(7\u001ayqM()qMl7;HTvM)N\\n()8N%hNc8syPcu4Mhv\u001ayO(H...</td>\n",
       "      <td>ID_9dde342f6</td>\n",
       "      <td>11</td>\n",
       "    </tr>\n",
       "    <tr>\n",
       "      <th>3</th>\n",
       "      <td>W)(7\u001ayH=j0j?&amp;Il\u001e",
       "MHT(HNhhN33cNMrcy^\\%7MTyX(cq1%...</td>\n",
       "      <td>ID_b637c2642</td>\n",
       "      <td>16</td>\n",
       "    </tr>\n",
       "    <tr>\n",
       "      <th>4</th>\n",
       "      <td>W)(7\u001ay8()MHM8lH7v;Nh(7y^q%)\\ny8()MHM8/syPcu4Mh...</td>\n",
       "      <td>ID_51b0f15e7</td>\n",
       "      <td>3</td>\n",
       "    </tr>\n",
       "  </tbody>\n",
       "</table>\n",
       "</div>"
      ],
      "text/plain": [
       "                                          ciphertext            Id  target\n",
       "0  W)(7\u001ayT7h8;Hv\\nlTcH;hHhNW)%HhMNPcHNG_Cy^PvMBMy...  ID_48096b7a9      12\n",
       "1  W)(7\u001ayqv(H3cl-iNHv\n",
       "cNMrcNv3y^](H\\ny\\tNy\u0003c/syPc...  ID_a2d6e55f4       2\n",
       "2  W)(7\u001ayqM()qMl7;HTvM)N\\n()8N%hNc8syPcu4Mhv\u001ayO(H...  ID_9dde342f6      11\n",
       "3  W)(7\u001ayH=j0j?&Il\n",
       "MHT(HNhhN33cNMrcy^\\%7MTyX(cq1%...  ID_b637c2642      16\n",
       "4  W)(7\u001ay8()MHM8lH7v;Nh(7y^q%)\\ny8()MHM8/syPcu4Mh...  ID_51b0f15e7       3"
      ]
     },
     "execution_count": 2,
     "metadata": {},
     "output_type": "execute_result"
    }
   ],
   "source": [
    "train= pd.read_csv(\"C:/Users/Sayan Mondal/Desktop/bmed/train.csv\")\n",
    "test=  pd.read_csv(\"C:/Users/Sayan Mondal/Desktop/bmed/test.csv\")\n",
    "train.head()"
   ]
  },
  {
   "cell_type": "code",
   "execution_count": 3,
   "id": "worth-citizen",
   "metadata": {},
   "outputs": [
    {
     "data": {
      "text/plain": [
       "((5631, 3), (13142, 2))"
      ]
     },
     "execution_count": 3,
     "metadata": {},
     "output_type": "execute_result"
    }
   ],
   "source": [
    "train.shape, test.shape"
   ]
  },
  {
   "cell_type": "code",
   "execution_count": 4,
   "id": "natural-constitution",
   "metadata": {},
   "outputs": [
    {
     "data": {
      "text/html": [
       "<div>\n",
       "<style scoped>\n",
       "    .dataframe tbody tr th:only-of-type {\n",
       "        vertical-align: middle;\n",
       "    }\n",
       "\n",
       "    .dataframe tbody tr th {\n",
       "        vertical-align: top;\n",
       "    }\n",
       "\n",
       "    .dataframe thead th {\n",
       "        text-align: right;\n",
       "    }\n",
       "</style>\n",
       "<table border=\"1\" class=\"dataframe\">\n",
       "  <thead>\n",
       "    <tr style=\"text-align: right;\">\n",
       "      <th></th>\n",
       "      <th>15</th>\n",
       "      <th>9</th>\n",
       "      <th>11</th>\n",
       "      <th>8</th>\n",
       "      <th>7</th>\n",
       "      <th>12</th>\n",
       "      <th>2</th>\n",
       "      <th>1</th>\n",
       "      <th>10</th>\n",
       "      <th>13</th>\n",
       "      <th>16</th>\n",
       "      <th>3</th>\n",
       "      <th>4</th>\n",
       "      <th>6</th>\n",
       "      <th>17</th>\n",
       "      <th>14</th>\n",
       "      <th>5</th>\n",
       "      <th>0</th>\n",
       "      <th>18</th>\n",
       "      <th>19</th>\n",
       "    </tr>\n",
       "  </thead>\n",
       "  <tbody>\n",
       "    <tr>\n",
       "      <th>target</th>\n",
       "      <td>328</td>\n",
       "      <td>326</td>\n",
       "      <td>312</td>\n",
       "      <td>306</td>\n",
       "      <td>305</td>\n",
       "      <td>300</td>\n",
       "      <td>291</td>\n",
       "      <td>288</td>\n",
       "      <td>288</td>\n",
       "      <td>288</td>\n",
       "      <td>286</td>\n",
       "      <td>283</td>\n",
       "      <td>282</td>\n",
       "      <td>279</td>\n",
       "      <td>276</td>\n",
       "      <td>275</td>\n",
       "      <td>274</td>\n",
       "      <td>244</td>\n",
       "      <td>219</td>\n",
       "      <td>181</td>\n",
       "    </tr>\n",
       "  </tbody>\n",
       "</table>\n",
       "</div>"
      ],
      "text/plain": [
       "         15   9    11   8    7    12   2    1    10   13   16   3    4    6   \\\n",
       "target  328  326  312  306  305  300  291  288  288  288  286  283  282  279   \n",
       "\n",
       "         17   14   5    0    18   19  \n",
       "target  276  275  274  244  219  181  "
      ]
     },
     "execution_count": 4,
     "metadata": {},
     "output_type": "execute_result"
    }
   ],
   "source": [
    "train['target'].value_counts().to_frame().T\n"
   ]
  },
  {
   "cell_type": "code",
   "execution_count": 6,
   "id": "champion-defensive",
   "metadata": {},
   "outputs": [],
   "source": [
    "train['ciphertext'] = train['ciphertext'].str.lower()\n",
    "train['ciphertext'] = train['ciphertext'].astype(str)"
   ]
  },
  {
   "cell_type": "code",
   "execution_count": 7,
   "id": "recorded-radical",
   "metadata": {},
   "outputs": [],
   "source": [
    "test['ciphertext'] = test['ciphertext'].str.lower()\n",
    "test['ciphertext'] = test['ciphertext'].astype(str)\n"
   ]
  },
  {
   "cell_type": "code",
   "execution_count": 8,
   "id": "raising-combat",
   "metadata": {},
   "outputs": [
    {
     "data": {
      "text/html": [
       "<div>\n",
       "<style scoped>\n",
       "    .dataframe tbody tr th:only-of-type {\n",
       "        vertical-align: middle;\n",
       "    }\n",
       "\n",
       "    .dataframe tbody tr th {\n",
       "        vertical-align: top;\n",
       "    }\n",
       "\n",
       "    .dataframe thead th {\n",
       "        text-align: right;\n",
       "    }\n",
       "</style>\n",
       "<table border=\"1\" class=\"dataframe\">\n",
       "  <thead>\n",
       "    <tr style=\"text-align: right;\">\n",
       "      <th></th>\n",
       "      <th>ciphertext</th>\n",
       "      <th>Id</th>\n",
       "      <th>target</th>\n",
       "    </tr>\n",
       "  </thead>\n",
       "  <tbody>\n",
       "    <tr>\n",
       "      <th>0</th>\n",
       "      <td>w)(7\u001ayt7h8;hv\\nltch;hhhnw)%hhmnpchng_cy^pvmbmy...</td>\n",
       "      <td>ID_48096b7a9</td>\n",
       "      <td>12</td>\n",
       "    </tr>\n",
       "    <tr>\n",
       "      <th>1</th>\n",
       "      <td>w)(7\u001ayqv(h3cl-inhv\u001e",
       "cnmrcnv3y^](h\\ny\\tny\u0003c/sypc...</td>\n",
       "      <td>ID_a2d6e55f4</td>\n",
       "      <td>2</td>\n",
       "    </tr>\n",
       "    <tr>\n",
       "      <th>2</th>\n",
       "      <td>w)(7\u001ayqm()qml7;htvm)n\\n()8n%hnc8sypcu4mhv\u001ayo(h...</td>\n",
       "      <td>ID_9dde342f6</td>\n",
       "      <td>11</td>\n",
       "    </tr>\n",
       "  </tbody>\n",
       "</table>\n",
       "</div>"
      ],
      "text/plain": [
       "                                          ciphertext            Id  target\n",
       "0  w)(7\u001ayt7h8;hv\\nltch;hhhnw)%hhmnpchng_cy^pvmbmy...  ID_48096b7a9      12\n",
       "1  w)(7\u001ayqv(h3cl-inhv\n",
       "cnmrcnv3y^](h\\ny\\tny\u0003c/sypc...  ID_a2d6e55f4       2\n",
       "2  w)(7\u001ayqm()qml7;htvm)n\\n()8n%hnc8sypcu4mhv\u001ayo(h...  ID_9dde342f6      11"
      ]
     },
     "execution_count": 8,
     "metadata": {},
     "output_type": "execute_result"
    }
   ],
   "source": [
    "train.head(3)\n"
   ]
  },
  {
   "cell_type": "code",
   "execution_count": 57,
   "id": "confidential-ordinance",
   "metadata": {},
   "outputs": [],
   "source": [
    "Ciph = train.ciphertext\n"
   ]
  },
  {
   "cell_type": "code",
   "execution_count": 58,
   "id": "frequent-terrorist",
   "metadata": {},
   "outputs": [],
   "source": [
    "import re\n",
    "from nltk.corpus import stopwords\n",
    "stop1 = stopwords.words(\"english\")\n"
   ]
  },
  {
   "cell_type": "markdown",
   "id": "statutory-jamaica",
   "metadata": {},
   "source": [
    "### TF_IDF Word and Char level features"
   ]
  },
  {
   "cell_type": "code",
   "execution_count": 60,
   "id": "phantom-basement",
   "metadata": {},
   "outputs": [],
   "source": [
    "token= ((u'(?ui)\\\\b\\\\w*[a-z]+\\\\w*\\\\b'))\n",
    "\n",
    "## word....\n",
    "word_vec = TfidfVectorizer(\n",
    "     sublinear_tf=True,\n",
    "     strip_accents='ascii',\n",
    "     analyzer='word',\n",
    "     token_pattern=token,\n",
    "     dtype=np.float32,\n",
    "     max_features=9100)\n",
    "     \n",
    "\n",
    "### Character .....\n",
    "char_vec = TfidfVectorizer(\n",
    "     sublinear_tf=True,\n",
    "     strip_accents='ascii',\n",
    "     analyzer='char',\n",
    "     token_pattern=token,\n",
    "     dtype=np.float32,\n",
    "     max_features=10000)\n",
    "     \n",
    "    \n",
    "\n"
   ]
  },
  {
   "cell_type": "code",
   "execution_count": 14,
   "id": "entire-might",
   "metadata": {},
   "outputs": [],
   "source": [
    "X1=word_vec.fit_transform(Ciph)\n"
   ]
  },
  {
   "cell_type": "code",
   "execution_count": 15,
   "id": "weighted-assembly",
   "metadata": {},
   "outputs": [
    {
     "name": "stdout",
     "output_type": "stream",
     "text": [
      "['00n', '00ni', '00y', '06i', '06j', '06u', '0a', '0c', '0e', '0f', '0g', '0i', '0i0', '0i6', '0ij', '0in', '0ini', '0inj', '0j', '0j0', '0j6i', '0ji', '0jj', '0jn', '0jni', '0jnj', '0jy', '0l', '0l1', '0m', '0n', '0n0', '0n6', '0n_', '0ni', '0nj', '0nlb7h7tnhtc', '0nn', '0nni', '0nsy', '0ny', '0nyy', '0o', '0p', '0q', '0r', '0s', '0sy', '0sy_', '0syc', '0syoo', '0sysy', '0sysysy', '0syx', '0u', '0w', '0x', '0y', '0y3', '0yb', '0yh', '0yq', '0yr', '0yu', '0yy', '0z', '116pv', '11c7', '11ct', '11ctv', '11cv', '11l', '11l78t', '11m', '11m1y', '11mh', '11mhqmy', '11mhqmyv', '11mhv', '11mhvl', '11mhvy', '11mhy', '11mq', '11mqm', '11mqmsyp', '11mqmy', '11mqmym', '11mqnmrc', '11mr', '11mrsy', '11mry', '11mry3', '11mry7', '11mryc', '11mrye', '11mryl', '11mryu', '11mryv', '11my', '11nh', '11nmrc', '11ns', '11nsy', '11nsysy', '11ny', '11nyy', '11s', '11sy', '11syh', '11syl', '11syp', '11syumy', '11syv', '11t', '11tsy', '11ty', '11tyl', '11tyv', '11u', '11v', '11y', '11y1', '11y1m', '11y3', '11y3m', '11y4', '11y7', '11y7m', '11y7my', '11y8', '11y8h', '11y8mm', '11ya', '11yb', '11yc', '11ychrm', '11yctmy', '11yg', '11yg1', '11yh', '11yh1', '11yhm', '11yhmbm', '11yhmmryv', '11yl', '11ym', '11ym1', '11ymbm', '11yms', '11yo', '11yo_', '11yp', '11ypv', '11ypvm3', '11yq', '11yqmvy', '11yr', '11ysy', '11yt', '11ytc', '11yth', '11ytm', '11ytmmyv', '11ytv', '11yu', '11yuc', '11yum', '11yumh', '11yumq', '11yumsy', '11yumy', '11yumy1', '11yumy3', '11yumy7', '11yumyh', '11yumyl', '11yumyq', '11yumyr', '11yumyt', '11yumyu', '11yumyv', '11yv', '11yvm', '16v', '17m', '17y', '17ypmm', '18m', '18ml8m1b', '18mry', '18mryv', '18n', '18t', '18ty', '18ty3', '18tyv', '18y', '18y3', '18yv', '1b', '1bm', '1bmn', '1bmr', '1bmry', '1bmry3', '1bmryv', '1bmty', '1bmtyv', '1bmy', '1bmyv', '1c', '1c7', '1c7h', '1c7hy', '1c7my', '1c7u', '1chv', '1chvmm', '1cm', '1cmt', '1cmty', '1cmtyv', '1cmy', '1cmyl', '1cmyv', '1cqqmry', '1cqty', '1cqy', '1cr', '1ct', '1cty', '1ctyt', '1ctyv', '1cv', '1cvm1', '1cvmy', '1cvmyv', '1e', '1enyy', '1ey', '1g', '1h', '1hc1', '1hvimn3', '1hyp', '1i', '1l', '1l3', '1lh', '1lhmvh', '1lm', '1lnlh', '1lq', '1lqv', '1ly', '1lyv', '1m', '1m1', '1m7', '1m7mhv', '1m7mhvmry', '1m7mhvy', '1m7mhvyv', '1m7y', '1mh', '1mhc1', '1mhhm', '1mhhmnsy', '1mhhmy', '1mhhy', '1mhr', '1mhv', '1mhvy', '1mhvyh', '1mhvyv', '1mhy', '1ml', '1mlh', '1mn', '1mn8', '1mnh', '1mnmrc', '1mnmrcsy', '1mnmrcy', '1mnsy', '1mnsysy', '1mny', '1mnyy', '1mp', '1mq', '1mr', '1mry', '1mry3', '1mryl', '1mrym', '1mryu', '1mryv', '1ms', '1msm', '1msy', '1msy3', '1msy_', '1msyv', '1mt', '1mt7', '1mtn', '1mtnsy', '1mtnsysy', '1mtny', '1mtnyy', '1mtsy', '1mtty', '1mtv', '1mtvm', '1mty', '1mty1', '1mty3', '1mty7', '1mtyg', '1mtyh', '1mtyl', '1mtym', '1mtyv', '1muty', '1mv', '1mvm', '1mvm1', '1mvmy', '1mvy', '1mw', '1my', '1my1', '1my3', '1my3m', '1my3my', '1my7', '1myb', '1myc', '1mye', '1myg', '1myh', '1myl', '1mym', '1myms', '1myo', '1myp', '1mypm', '1mypvm', '1myq', '1myr', '1mysy', '1myt', '1myth', '1mytv', '1myu', '1myum', '1myum1', '1myumh', '1myv', '1myvm', '1myw', '1n', '1n7', '1ncty', '1ng', '1nh', '1nh4nhmhnh', '1nhv', '1nl', '1np', '1nq', '1nrtmqnv', '1nsy', '1nsysy', '1nt', '1ntchnh', '1ny', '1nyy', '1q', '1qncv', '1r', '1r1', '1r3', '1rm', '1rmhnh', '1rn', '1rnsysy', '1rntvrnh', '1rny', '1rnyy', '1rs', '1rsy', '1rsy_', '1rsyoo', '1rsyp', '1rt', '1rty', '1rtyv', '1ry', '1ry1', '1ry3', '1ry7', '1ry7my', '1ry7myv', '1ry_1h', '1rybm', '1ryc', '1ryg', '1ryh', '1ryl', '1rymcu1', '1ryp', '1rypm', '1ryq', '1ryr', '1ryt', '1ryu', '1ryv', '1s', '1sy', '1sy1', '1sy3', '1sy7', '1sy_', '1syh', '1syl', '1syp', '1syr', '1sysy', '1syt', '1syu', '1syv', '1syyy', '1syyyy', '1syyyyy', '1t', '1tl', '1tm', '1tmy', '1tnsy', '1tnsysy', '1tny', '1tnyy', '1tsy', '1tsy_', '1tt', '1tv', '1tvm', '1ty', '1ty1', '1ty3', '1ty3m', '1ty7', '1tyh', '1tyl', '1tyq', '1tyr', '1tyt', '1tyu', '1tyv', '1u', '1um', '1uty', '1v', '1v6', '1vh', '1vm', '1vmh', '1vmhrm', '1vn', '1vnqc', '1vsy', '1vy', '1vy3', '1vyl', '1vyp', '1vyu', '1vyv', '1y', '1y0', '1y1', '1y1m', '1y3', '1y3m', '1y6y', '1y7', '1y7m', '1y7mr', '1y7mtt', '1y7my', '1y7myv', '1y8', '1y8m', '1y9', '1y_', '1ya', '1yb', '1ybm', '1yc', '1ych', '1yctm', '1yctmy', '1ye', '1yfqv', '1yg', '1ygmhvm', '1yh', '1yh1', '1yhc7um', '1yhm', '1yhmv3', '1yi', '1ykc', '1ykcmtv', '1yl', '1yl1', '1ylchhv', '1ylm', '1ym', '1ym1mhv', '1ymb', '1ymhh', '1yms', '1yo', '1yp', '1ypc', '1yph', '1ypm', '1ypv', '1ypvcr', '1yq', '1yqc', '1yqhq', '1yqkc', '1yqs', '1yr', '1yrm', '1yrmb', '1yrmh', '1yrml', '1yrmt', '1yrmv', '1ysy', '1yt', '1ytc', '1yth', '1ytm', '1ytmhc', '1ytv', '1yu', '1yum', '1yum1', '1yumh', '1yv', '1yvm', '1yvmh', '1yw', '1yx', '1yy', '22u', '22ui', '25j', '25z', '2_r', '2a', '2e', '2g', '2i', '2j', '2l', '2m', '2n', '2ng', '2o', '2p', '2q', '2r', '2s', '2sy', '2sy_', '2syc', '2syc5', '2syp', '2sysy', '2u', '2w', '2x', '2y', '2yy', '2z', '31m', '31mrqm', '31mrqmy', '31mrqmyv', '31mt1', '31y', '36c', '36h', '38ty', '38y', '3c', '3h', '3h1', '3h7', '3hm', '3hmry', '3hmryu', '3hnh7', '3hnmrcy', '3hnsysy', '3hny', '3hnyy', '3hsy', '3ht', '3hty', '3hy', '3hy1', '3hy3', '3hy7', '3hyc', '3hyh', '3hyl', '3hym', '3hyq', '3hyr', '3hyt', '3hyu', '3hyv', '3l', '3l7', '3lc11', '3lc1y1', '3lmu', '3m', '3m11', '3m11nmrcy', '3m11y', '3mbm', '3mr', '3mrsy', '3mry', '3mryc', '3mryu', '3mryv', '3mt', '3mtvm', '3mtvy', '3mv', '3my', '3n', '3nh', '3nsy', '3nsysy', '3ntv', '3ny', '3nyy', '3r', '3rm', '3ry', '3s', '3sy', '3syv', '3t', '3t8', '3tn', '3tny', '3tnyy', '3tsy', '3tsy_', '3ty', '3ty1', '3ty3', '3tyc', '3tyh', '3tyl', '3tyo', '3tyr', '3tyt', '3tyu', '3tyv', '3u', '3v', '3y', '3y1', '3y3', '3y3my', '3y7', '3y7ch', '3y7my', '3y7myv', '3yc', '3ychrm', '3yg', '3yh', '3yh1', '3yl', '3ym', '3ymbm', '3ymhl', '3yms', '3yq', '3yr', '3ysy', '3yt', '3yth', '3ytm', '3ytv', '3yu', '3yum', '3yumvvm', '3yv', '4c', '4ctvy', '4l', '4mhv', '4mhvsyp', '4mhvty', '4mhvy', '4mtv', '55p', '56e', '56n', '5a', '5c', '5ct', '5cx', '5e', '5f', '5g', '5g0', '5h', '5i', '5j', '5l', '5m', '5n', '5n5', '5nmh', '5o', '5om', '5ot', '5p', '5pxm', '5q', '5r', '5sy', '5syc', '5t', '5u', '5w', '5x', '5y', '5yy', '5yyyyyyy', '5z', '60i', '60y', '60yh', '666sy', '666ytmhv', '66hmbm', '66sy', '66y', '66ysy', '68h', '68m', '6a', '6b', '6c', '6e', '6f', '6g', '6gn', '6h', '6i', '6ii', '6ij', '6iy', '6j', '6j0mee', '6l', '6l1', '6m', '6mth', '6n', '6nj', '6o', '6o0', '6oj', '6om3t', '6om3t6', '6om3ty', '6p', '6pf', '6pi', '6pm', '6q', '6r', '6rml', '6sy', '6syc', '6syh', '6t', '6th', '6tm', '6tm7', '6tv', '6tvcvvq', '6u', '6ucllm', '6v', '6vm', '6w', '6w6', '6x', '6y', '6y0', '6yi', '6yy', '6yyc', '6z', '6z6', '76a', '77ch', '77m', '77mhr', '77mhrmry', '77mhry', '77mhryv', '77mhv', '77mhvt', '77mhvty', '77mhvy', '77mhvyv', '77mr', '77mry', '77mv', '77my', '77n7', '77nh', '77ty', '77u', '77y', '7c', '7c1', '7c1ctn', '7c1cty', '7c1v', '7c7', '7c7y', '7ch', '7chq', '7cm1tt', '7cn', '7cnmrcy', '7ct', '7e', '7ey', '7g', '7h', '7hy', '7i', '7l', '7lh', '7llhmhvm', '7lmhr', '7lqhbn', '7lr', '7lt', '7lv', '7m', '7m1', '7m3', '7m6', '7mh', '7mhr7mhv', '7mhr7mhvy', '7mht', '7mhv', '7mhvnsysy', '7mhvny', '7mhvnyy', '7mhvsy', '7mhvt', '7mhvty', '7mhvy', '7mhvy3', '7mhvyg', '7mhvyh', '7mhvyl', '7mhvyv', '7mhy', '7mhy3', '7mhyv', '7mlc1yv', '7mn', '7mnsy', '7mnsysy', '7mny', '7mnyy', '7mr', '7mrnyy', '7mrsy', '7mry', '7mry3', '7mryh', '7mryl', '7mryu', '7mryv', '7msy', '7msy3', '7msy_', '7msyh', '7msyp', '7msyv', '7mt', '7mtn', '7mtnsy', '7mtnsysy', '7mtnyy', '7mtsy', '7mtsy_', '7mtv', '7mty', '7mty1', '7mty3', '7mty7', '7mtyc', '7mtyh', '7mtyl', '7mtymnyg', '7mtyr', '7mtyt', '7mtyu', '7mtyv', '7mtyx', '7mu', '7mv', '7mviqm', '7mvm', '7mvy', '7my', '7my1', '7my3', '7my3m', '7my7', '7my7m', '7my8', '7myb', '7mybm', '7myc', '7mychrm', '7mye', '7myg', '7myh', '7myh1', '7mykc', '7mykcmtv', '7myl', '7mym', '7mymb', '7myms', '7myo', '7myp', '7myq', '7myqc', '7myr', '7mysy', '7myt', '7mytch', '7myth', '7mytm', '7mytv', '7myu', '7myum', '7myumh', '7myuml', '7myv', '7myvm', '7n', '7n7', '7n7hq', '7nc7rnmrc', '7nc7rnmrcy', '7nh', '7nmrcy', '7nq', '7nsy', '7nsysy', '7ntv', '7nu', '7ny', '7nyy', '7r', '7rmml4', '7ry', '7s', '7sy', '7sy3', '7sy_', '7syc', '7syh', '7syoo', '7syp', '7sypcu4mhv', '7sys', '7sysy', '7sysysy', '7syv', '7syx', '7syy', '7syyy', '7t', '7tm', '7tm1l', '7tm1ly', '7tm1lyv', '7tnsy', '7tnsysy', '7tny', '7tnyy', '7tsy', '7tv', '7tvm', '7ty', '7ty1', '7ty3', '7tyh', '7tyl', '7tym7u', '7tyr', '7tyt', '7tyu', '7tyv', '7u', '7u1', '7uc', '7um', '7uty', '7uty7mtt', '7uy', '7v', '7y', '7y0', '7y1', '7y1m', '7y3', '7y6y', '7y6y_h1', '7y7', '7y7m', '7y7m7', '7y9', '7y_', '7y_h1', '7ya', '7yb', '7ybm', '7yc', '7ych', '7yct', '7ye', '7yg', '7yg1', '7yh', '7yhc', '7yhm', '7yi', '7ykc', '7yl', '7ylv', '7ym', '7ymbm', '7ymm', '7yms', '7yo', '7yom3y', '7yp', '7yp7', '7yph', '7yq', '7yq1', '7yqmvv', '7yr', '7yrm', '7ysy', '7yt', '7ytc', '7yth', '7ytm', '7ytv', '7yu', '7yum', '7yumh', '7yv', '7yw', '7yx', '7yxmy', '7yy', '7yyy', '7yyy66', '7yyyy', '7yyyyyy', '7yyyyyyy', '7yyyyyyyy3', '7yyyyyyyyyy', '7yyyyyyyyyyy', '81m', '82y', '8666ytmhv', '8b', '8c', '8cnh', '8g', '8h', '8hl', '8l', '8l7', '8lhm3v', '8lkc', '8lq', '8m', '8m1', '8m1m', '8m3', '8m6', '8mh', '8mhy', '8mhyg', '8mhyl', '8mhyu', '8mhyv', '8ml', '8mlq', '8mlu', '8mm', '8mnsy', '8mnsysy', '8mny', '8mnyy', '8mr', '8mrsy', '8mry', '8mry1', '8mry3', '8mryc', '8mryl', '8mryv', '8msy', '8msyv', '8mt', '8mt7', '8mty', '8mty7', '8mtyh', '8mtyl', '8mtyt', '8mtyv', '8mv', '8mvy', '8mvyl', '8mvyv', '8my', '8my1', '8my3', '8my7', '8my7my', '8mya', '8myc', '8mye', '8myg', '8myh', '8myi', '8myl', '8mym', '8mymbm', '8myp', '8myph', '8myq', '8myr', '8mysy', '8myt', '8mytc', '8mytch', '8mytv', '8myu', '8myv', '8myw', '8myx', '8n', '8nc8', '8nch', '8nh', '8nsy', '8nsysy', '8nt', '8ny', '8nyy', '8s', '8sy', '8syp', '8t', '8tny', '8tnyy', '8tsy', '8tv', '8ty', '8ty1', '8ty3', '8tyl', '8tyq', '8tysyyyyyyyyyyyyyyyyyyyyyyyyyyyyy', '8tyt', '8tyu', '8tyv', '8u', '8v', '8vy', '8y', '8y1', '8y3', '8y6y', '8y7', '8ya', '8yb', '8ybm', '8yc', '8ychgc11', '8ycm18', '8yg', '8yh', '8yl', '8ym', '8yp', '8yq', '8yr', '8ysy', '8yt', '8yu', '8yv', '8yx', '8yyyyyyyyyyyyyyyyyyy', '9a', '9c', '9e', '9g', '9i', '9j', '9l', '9m', '9mb', '9mhhmv', '9mhvyp', '9mhy', '9n', '9nsy', '9nsyp', '9o', '9ox', '9oxo', '9p', '9py', '9q', '9qy', '9sy', '9syc', '9syp', '9t', '9u', '9w', '9x', '9y', '9z', '_5p', '_6n', '_a', '_aq', '_c', '_cq', '_cx', '_cy', '_cyr', '_e', '_g', '_g9q', '_h1', '_hmy', '_hyv', '_i', '_j', '_l', '_lyh', '_m', '_n', '_np', '_o', '_op', '_opy', '_oy', '_p', '_py', '_q', '_r', '_syc', '_t', '_u', '_v', '_w', '_wwwsy', '_x', '_y', '_ya', '_yg', '_yt', '_yw', '_yy', '_z', 'a', 'a0', 'a1', 'a2', 'a5', 'a5g', 'a6', 'a9', 'a_', 'a_n', 'a_nw', 'a_p', 'aa', 'ac', 'acvy', 'acvy3', 'acvyv', 'acy', 'ae', 'af', 'ag', 'ai', 'aj', 'al', 'am', 'amh', 'amhmr', 'aml', 'an', 'anq', 'anw', 'ao', 'ao9', 'ap', 'apj', 'aq', 'asyc', 'asyp', 'at', 'au', 'aw', 'ax', 'ay', 'ayh', 'ayv', 'az', 'b', 'b1', 'bh', 'bl7', 'bm', 'bm1', 'bm11', 'bm1y', 'bm1yv', 'bm6', 'bm6h', 'bm7mhv', 'bm7mhvty', 'bm7mhvy', 'bm7um', 'bme', 'bmey', 'bmh', 'bmhmtty', 'bmhnyy', 'bmhsy', 'bmhuvy', 'bmhuvytmmhy', 'bmhuvyummhy', 'bmhuvyv', 'bmhv', 'bmhy', 'bmhy3', 'bmhyh', 'bmhyl', 'bmhyu', 'bmhyv', 'bml', 'bmn', 'bmn3', 'bmnh', 'bmnsy', 'bmnsysy', 'bmny', 'bmnyy', 'bmr', 'bmrnyy', 'bmrsy', 'bmry', 'bmry3', 'bmry7', 'bmryl', 'bmryu', 'bmryv', 'bmsy', 'bmsy7', 'bmsy_', 'bmsyh', 'bmsyt', 'bmsyv', 'bmt', 'bmtm', 'bmtnsysy', 'bmtny', 'bmtnyy', 'bmtr', 'bmtsy', 'bmty', 'bmty3', 'bmtyh', 'bmtyl', 'bmtyr', 'bmtyt', 'bmtyv', 'bmv', 'bmvl', 'bmy', 'bmy1', 'bmy3', 'bmy7', 'bmy7ch', 'bmy7m', 'bmy7my', 'bmy7myt', 'bmy7myv', 'bmy8h', 'bmy9', 'bmya', 'bmyb', 'bmybm', 'bmyc', 'bmychrm', 'bmycmr', 'bmyctmry', 'bmycty', 'bmye', 'bmyg', 'bmyh', 'bmyhm', 'bmyhmbm', 'bmykc', 'bmykcmtv', 'bmyl', 'bmym', 'bmymb', 'bmymbm', 'bmymh', 'bmyms', 'bmyo', 'bmyp', 'bmyq', 'bmyr', 'bmyrm', 'bmyrmh', 'bmysy', 'bmysyv', 'bmyt', 'bmytc', 'bmytch', 'bmyth', 'bmytm', 'bmytmbm', 'bmytmmhy', 'bmytmmhyv', 'bmytv', 'bmyu', 'bmyuc', 'bmyum', 'bmyum1', 'bmyumh', 'bmyummhsy', 'bmyummhy', 'bmyummhy1', 'bmyummhy3', 'bmyummhy7', 'bmyummhyh', 'bmyummhyl', 'bmyummhyr', 'bmyummhyt', 'bmyummhyv', 'bmyv', 'bmyv3', 'bmyvm', 'bmyw', 'bmyx', 'bmyy', 'bn', 'bnrtmqnv', 'bnuhnh', 'bny', 'bs', 'bsy', 'bsyom3t6p', 'bsypcu4mhv', 'bsysy', 'by', 'by3', 'c', 'c0', 'c1', 'c11', 'c11mry', 'c11y', 'c11yv', 'c17', 'c18y', 'c1cnl', 'c1ly', 'c1m', 'c1mry', 'c1mt', 'c1mty', 'c1mtyl', 'c1my', 'c1nhtrnc3', 'c1nuy', 'c1r', 'c1rhuvsy', 'c1rhuvy', 'c1rhuvy3', 'c1rhuvy7', 'c1rhuvyh', 'c1rhuvyl', 'c1rhuvyms', 'c1rhuvyumy', 'c1rhuvyv', 'c1rm', 'c1rsy', 'c1rsyh', 'c1rsyumy', 'c1ry', 'c1ry1', 'c1ry1m', 'c1ry3', 'c1ry4ctvy', 'c1ry7', 'c1ry7m', 'c1ry8h', 'c1ryctmyv', 'c1ryh', 'c1ryhm', 'c1ryhmbm', 'c1ryhmmryv', 'c1ryl', 'c1rym', 'c1rymbm', 'c1ryms', 'c1ryq', 'c1ryqmvy', 'c1ryqmvyv', 'c1ryr', 'c1rysy', 'c1ryt', 'c1rytc', 'c1rytmm7yv', 'c1rytv', 'c1ryu', 'c1ryuc', 'c1ryum', 'c1ryum1', 'c1ryumh', 'c1ryumsy', 'c1ryumy', 'c1ryumy1', 'c1ryumy3', 'c1ryumy7', 'c1ryumy7ch', 'c1ryumybm', 'c1ryumyh', 'c1ryumyl', 'c1ryumyq', 'c1ryumyr', 'c1ryumyt', 'c1ryumyu', 'c1ryumyumvvm', 'c1ryumyv', 'c1ryv', 'c1t', 'c1ty', 'c1v', 'c1vty', 'c1vy', 'c1vy3m', 'c1vyl', 'c1y', 'c1ya', 'c1yg', 'c1yph', 'c2', 'c2u', 'c2ui', 'c4', 'c5', 'c6', 'c7', 'c7lnh', 'c7mhv', 'c7mhvt', 'c7mhvty', 'c7n', 'c7sy', 'c7u', 'c7y', 'c7y3', 'c7yl', 'c7yv', 'c8', 'c8ch', 'c8mmy', 'c8y', 'c9', 'c_', 'ca', 'cay', 'cb', 'cbm', 'cc', 'cch', 'cchmv', 'ce', 'cf', 'cg', 'ch', 'ch8', 'ch81', 'ch8ty', 'ch8y', 'ch8yv', 'chh', 'chhm', 'chhm7mhvy', 'chhmry', 'chhmryv', 'chhmy', 'chhmyv', 'chhvc', 'chm', 'chmy', 'chmyi', 'chnmrc', 'chnmrcsy', 'chnmrcy', 'chq', 'chqm', 'chqtv', 'chqy', 'chr', 'chrm', 'chrmry', 'chrmryu', 'chrnsy', 'chrnsysy', 'chrny', 'chrnyy', 'chrsy', 'chrt', 'chrty', 'chrty1', 'chrtyv', 'chru1', 'chry', 'chry1', 'chry3', 'chry7', 'chryc', 'chryh', 'chryi', 'chryl', 'chryr', 'chryt', 'chryu', 'chryv', 'chsy', 'cht', 'cht3', 'chty', 'chtychrm', 'chtyv', 'chv', 'chvc', 'chvm', 'chvmry', 'chvmryv', 'chvsy', 'chvt', 'chvtb', 'chvty', 'chvtyv', 'chvy', 'chvyl', 'chvyv', 'chy', 'chy3', 'chyg', 'chyh', 'chyl', 'chyu', 'chyv', 'ci', 'cin7', 'cj', 'cl', 'cl7', 'clb7', 'cll', 'clth', 'cm', 'cm1', 'cm1v', 'cm1y', 'cmny', 'cmnyy', 'cmry', 'cmtr', 'cmtt', 'cmv', 'cmy', 'cmyh', 'cmyl', 'cmyv', 'cn', 'cna', 'cnh', 'cnhtn4', 'cnmrc', 'cnmrcsysy', 'cnmrcsysysy', 'cnmrcy', 'cnsy', 'cnsysy', 'cny', 'cnyy', 'co', 'cp', 'cpm', 'cpy', 'cpyoq', 'cq', 'cq1', 'cqctv', 'cqctvyi', 'cqm', 'cqmy', 'cqo', 'cqq1', 'cqt', 'cqty', 'cqy', 'cqy3', 'cqya', 'cqyp', 'cqyrm', 'cqyv', 'cr', 'cr1', 'crm', 'crt', 'cry', 'cryv', 'cs', 'csy', 'csy3', 'csy7', 'csy_', 'csyc', 'csyh', 'csyp', 'csysy', 'csyt', 'csyv', 'ct', 'ct1', 'ct7', 'ct8', 'ctc', 'cth', 'cthmtty', 'ctm', 'ctmh8', 'ctmny', 'ctmnyy', 'ctmry', 'ctmryu', 'ctmryv', 'ctmsy', 'ctmsyv', 'ctmty', 'ctmtyv', 'ctmvvty', 'ctmy', 'ctmy3', 'ctmy3my', 'ctmy7', 'ctmyg', 'ctmyh', 'ctmyl', 'ctmyr', 'ctmysy', 'ctmyt', 'ctmyu', 'ctmyv', 'ctn', 'ctnsy', 'ctnsysy', 'ctnyy', 'ctsy', 'ctsyp', 'ctt', 'cttm', 'ctty', 'ctu', 'ctv', 'ctvm', 'ctvsy', 'ctvy', 'ctvy1', 'ctvy3', 'ctvy7', 'ctvyhc', 'ctvyl', 'ctvyt', 'ctvyumh', 'ctvyv', 'cty', 'cty1', 'cty3', 'cty7', 'ctybininiri', 'ctyc', 'ctyh', 'ctyl', 'ctylv', 'ctym', 'ctyp', 'ctyq', 'ctyr', 'ctyt', 'ctytm', 'ctyu', 'ctyum1', 'ctyv', 'ctyw', 'cu', 'cu1', 'cu11y', 'cu11yl', 'cu1m', 'cu1mt', 'cu1my', 'cu1my3', 'cu1myh', 'cu1myp', 'cu1myt', 'cu1myv', 'cu5', 'cubmy', 'cubmyq', 'cuc', 'cuh', 'cum', 'cun', 'cunhhnc8', 'cunrc8mnmrcy', 'cury', 'cury1', 'cuu', 'cuum', 'cuv', 'cuvy', 'cuvyv', 'cuy', 'cv', 'cv1', 'cv3m', 'cv6', 'cvg', 'cvh', 'cvl', 'cvm', 'cvmry', 'cvmy', 'cvmyv', 'cvn', 'cvnl', 'cvnsy', 'cvnsysy', 'cvny', 'cvnyy', 'cvqm', 'cvr', 'cvsy', 'cvsy3', 'cvsyv', 'cvt', 'cvtv', 'cvty', 'cvtyl', 'cvtyv', 'cvv', 'cvv1my', 'cvv1my7', 'cvvm', 'cvy', 'cvy0', 'cvy1', 'cvy3', 'cvy7', 'cvy9', 'cvya', 'cvyc', 'cvyct', 'cvye', 'cvyei', 'cvyg', 'cvyh', 'cvyi', 'cvyl', 'cvym', 'cvymbm', 'cvyo', 'cvyp', 'cvyq', 'cvyr', 'cvysy', 'cvysyv', 'cvyt', 'cvytch', 'cvytv', 'cvyu', 'cvyum', 'cvyuml', 'cvyv', 'cvyv3', 'cvyx', 'cw', 'cx', 'cy', 'cy1', 'cy1m', 'cy3', 'cy3m', 'cy4ctvy', 'cy7', 'cy7ctvy', 'cy7m', 'cy7mhv', 'cy8h', 'cy8mm', 'cybm', 'cyc', 'cychrm', 'cyctmy', 'cyctmyv', 'cyg', 'cyg1', 'cyh', 'cyh1', 'cyhmbm', 'cyhmmry', 'cyhmmryv', 'cyi', 'cykc', 'cyl', 'cylmm1y', 'cylmm1yv', 'cym', 'cymbm', 'cyms', 'cyp', 'cypgin', 'cyq', 'cyqc', 'cyqmvy', 'cyqmvyv', 'cyr', 'cyrmh', 'cyrml', 'cysy', 'cyt', 'cytc', 'cytmm', 'cytmm7yv', 'cytmmy', 'cytv', 'cyu', 'cyuc', 'cyum1', 'cyumh', 'cyv', 'cz', 'd', 'd2', 'dd', 'dedeej', 'dedeoj', 'dedw2j', 'dj', 'dl', 'dm', 'dm6', 'dmj', 'dmn', 'dp', 'dsy', 'dx', 'dz', 'e', 'e0', 'e2', 'e5', 'e6', 'e9', 'e_', 'ea', 'ec', 'ed', 'edl', 'ee', 'ef', 'eg', 'eh', 'ei', 'ej', 'ejx', 'el', 'em', 'em5', 'emcw', 'emoq', 'emp', 'en', 'ensy', 'ensysy', 'eny', 'enyy', 'eo', 'eo9', 'ep', 'epowwjddld', 'eq', 'er', 'es', 'esy', 'esyc', 'esysy', 'et', 'etn', 'etoet', 'etsyc', 'ett', 'etz', 'eu', 'ev', 'ew', 'ex', 'exp', 'ext', 'ey', 'ey3', 'ey7', 'eyc', 'eyh', 'eyl', 'eyp', 'eyr', 'eyt', 'eyu', 'eyv', 'eyy', 'ez', 'f', 'f0', 'f2', 'f5', 'f66', 'f9', 'f_', 'fa', 'fc', 'fe', 'ff', 'fg', 'fi', 'fiw', 'fiwe', 'fj', 'fl', 'fm', 'fn', 'fo', 'fp', 'fpm', 'fpt', 'fq', 'fr', 'fsyc', 'ft', 'ftt', 'fttzn', 'fu', 'fw', 'fx', 'fy', 'fz', 'g', 'g0', 'g1', 'g2', 'g5', 'g5p', 'g5pg', 'g6', 'g6n', 'g6ng', 'g9', 'g9n', 'g9y', 'g_', 'g_9', 'g_cy', 'g_cy_h61', 'g_n', 'ga', 'gc', 'gd', 'ge', 'gf', 'gg', 'ggg', 'ggggg', 'ggy', 'gh', 'gi', 'gj', 'gl', 'gm', 'gmy', 'gn', 'gn5', 'gn5g', 'gnyxny', 'go', 'gopng', 'gp', 'gpg', 'gpgj', 'gpn', 'gpsyc', 'gq', 'gqo', 'gqy', 'gr', 'gsy', 'gsyc', 'gsyp', 'gt', 'gu', 'gv', 'gw', 'gx', 'gy', 'gy3', 'gy7', 'gyh', 'gyp', 'gyq', 'gyu', 'gyv', 'gyy', 'gyyy', 'gyyyy', 'gz', 'gzu', 'h', 'h0', 'h1', 'h1m', 'h1m6', 'h1m7', 'h1m7lh', 'h1mnh', 'h1mnyy', 'h1msy', 'h1mt', 'h1mtt', 'h1mtty', 'h1mttyv', 'h1mty', 'h1mtyv', 'h1my', 'h1my3', 'h1myf', 'h1myf0', 'h1myf0j', 'h1myfc', 'h1myfg', 'h1myfh', 'h1myfi', 'h1myfii', 'h1myfik', 'h1myft', 'h1myfu', 'h1myg', 'h1myh', 'h1myi', 'h1myl', 'h1myr', 'h1myt', 'h1myu', 'h1myv', 'h1q', 'h2y', 'h3', 'h3m', 'h4', 'h4c', 'h4mhv', 'h5', 'h53', 'h6', 'h61', 'h63', 'h66', 'h67', 'h68m', 'h6_hhc', 'h6a', 'h6b', 'h6c', 'h6g', 'h6h', 'h6l', 'h6ms', 'h6o', 'h6q', 'h6r', 'h6t', 'h6u', 'h6v', 'h7', 'h7mhv', 'h7mhvnsysy', 'h7mhvny', 'h7mhvnyy', 'h7mhvsy', 'h7mhvt', 'h7mhvty', 'h7mhvy', 'h7mhvy3', 'h7mhvyb', 'h7mhvyh', 'h7mhvyl', 'h7mhvyr', 'h7mhvyt', 'h7mhvyv', 'h7n', 'h8', 'h81', 'h81m', 'h83', 'h86', 'h86c', 'h87', 'h8c', 'h8ey', 'h8h', 'h8hmvnh', 'h8l', 'h8lxji0p', 'h8m', 'h8mlm11m', 'h8mmty', 'h8mr', 'h8mry', 'h8mry3', 'h8mryc', 'h8mryl', 'h8mryu', 'h8mryv', 'h8mv', 'h8mvnnnsys', 'h8mvnt3ntv', 'h8mvt', 'h8mvty', 'h8mvy', 'h8mvy3', 'h8mvyl', 'h8mvyv', 'h8n', 'h8ng_c', 'h8ng_cy', 'h8nh', 'h8nsy', 'h8nsysy', 'h8num', 'h8ny', 'h8nyy', 'h8q', 'h8r', 'h8sy', 'h8syv', 'h8t', 'h8tnsy', 'h8tnsysy', 'h8tnyy', 'h8tsy', 'h8tsysy', 'h8tuc', 'h8ty', 'h8ty3', 'h8ty3m', 'h8tyc', 'h8tyh', 'h8tyl', 'h8tyr', 'h8tyv', 'h8tyyo', 'h8u', 'h8uty', 'h8v', 'h8wh', 'h8y', 'h8y1', 'h8y3', 'h8y3my', 'h8y7', 'h8y_ux3', 'h8ya', 'h8yc', 'h8yg', 'h8yh', 'h8yl', 'h8ym', 'h8yp', 'h8yph', 'h8yq', 'h8yr', 'h8ysy', 'h8yt', 'h8ytm', 'h8ytv', 'h8yu', 'h8yv', 'h8yx', 'hb', 'hb7nc', 'hbm', 'hbmh', 'hbmhv', 'hbmsnh', 'hbmtv', 'hc', 'hc1', 'hc1v', 'hc1vc', 'hc1vy', 'hc1vyl', 'hc1vyv', 'hc7h', 'hc7mhv', 'hc7mhvt', 'hc7mhvty', 'hc7mhvy', 'hc7tv', 'hch', 'hcl', 'hcmry', 'hcmtyv', 'hcmy', 'hcmyv', 'hcs', 'hct', 'hctn7', 'hcty', 'hcv', 'hcvmt', 'hcvmty', 'hcvmtyv', 'hcvmy', 'he', 'hesy', 'hey', 'hey3', 'heyv', 'hg', 'hgp', 'hh', 'hh1', 'hh1cr', 'hh1crm', 'hh1crmr', 'hh1crmry', 'hh1crmry3', 'hh1crmryv', 'hh1crmty', 'hh1crmtyv', 'hh1crmy', 'hh1crmyt', 'hh1crmyv', 'hh1ct', 'hh6', 'hhc', 'hhct', 'hhctmry', 'hhjinh', 'hhl', 'hhm', 'hhm1', 'hhm11', 'hhm1m', 'hhm1y', 'hhmhv', 'hhmhvmryv', 'hhmhvy', 'hhmhvyv', 'hhmnh', 'hhmnsy', 'hhmnsysy', 'hhmny', 'hhmnyy', 'hhmr', 'hhmry', 'hhmry7', 'hhmryl', 'hhmryv', 'hhms', 'hhmsy', 'hhmsyv', 'hhmt', 'hhmtnsysy', 'hhmtt', 'hhmttnr', 'hhmttsy', 'hhmtty', 'hhmtty_h1', 'hhmttyv', 'hhmtv', 'hhmty', 'hhmtyv', 'hhmv', 'hhmy', 'hhmy1', 'hhmy3', 'hhmy7', 'hhmyg', 'hhmyh', 'hhmyi', 'hhmyl', 'hhmymbm', 'hhmyp', 'hhmyr', 'hhmyt', 'hhmyu', 'hhmyv', 'hhn', 'hhnh', 'hhnqm', 'hhnsy', 'hhnsyp', 'hhnsyx', 'hhny', 'hhtnltcnmrcy', 'hhv', 'hhy', 'hhyp', 'hi', 'hk7', 'hkc', 'hkcm', 'hl', 'hl1', 'hl1cmhhmy', 'hl1m1', 'hl3', 'hl7', 'hl8', 'hlb', 'hlc', 'hlc1y', 'hlct', 'hlctmry', 'hlh', 'hlhh', 'hlhtn', 'hll', 'hlm', 'hlmhv', 'hlmtt', 'hln', 'hln4', 'hlq', 'hlr', 'hlrmt', 'hlrtq', 'hlt', 'hlt8hr', 'hlu', 'hlv', 'hm', 'hm1', 'hm11', 'hm11nmrc', 'hm11nmrcy', 'hm11y', 'hm1y', 'hm3', 'hm5', 'hm6', 'hm63', 'hm6h', 'hm6v', 'hm7', 'hm7mhv', 'hm7mhvy', 'hm7mhvyl', 'hm8mhlcs', 'hm8mhr', 'hmb', 'hmbm', 'hmc', 'hmcbm', 'hme', 'hmey', 'hmh', 'hmhhmy', 'hmhr', 'hmht', 'hmhtmry', 'hmhtmy', 'hmhv', 'hmhv1', 'hmhvsy', 'hmhvt', 'hmhvty', 'hmhvy', 'hmhvyh', 'hml', 'hml77', 'hmlc11', 'hmlcs', 'hmllmhv', 'hmlu', 'hmm', 'hmmr', 'hmmrmry', 'hmmrtyl', 'hmn', 'hmn7', 'hmnch', 'hmnh', 'hmnhtnrcnmrc', 'hmnmrcy', 'hmnsy', 'hmnsysy', 'hmny', 'hmnyy', 'hmnyyp', 'hmq', 'hmr', 'hmrc', 'hmrnsy', 'hmrnsysy', 'hmrny', 'hmrnyy', 'hmrsy', 'hmry', 'hmry3', 'hmry7', 'hmryh', 'hmryl', 'hmryr', 'hmryt', 'hmryu', 'hmryv', 'hms', 'hmsy', 'hmsy3', 'hmsy_', 'hmsyh', 'hmsyl', 'hmsyp', 'hmsyr', 'hmsysy', 'hmsyt', 'hmsyv', 'hmt', 'hmtm', 'hmtmvvm', 'hmtmy', 'hmtmyvm', 'hmtnsy', 'hmtnsysy', 'hmtny', 'hmtnyy', 'hmtsy', 'hmtsyp', 'hmtt', 'hmttmty', 'hmttnsysy', 'hmttnyy', 'hmtty', 'hmtty3', 'hmttyv', 'hmtv', 'hmtv1', 'hmtvm', 'hmtvy', 'hmty', 'hmty1', 'hmty3', 'hmty3m', 'hmty7', 'hmtyg', 'hmtyh', 'hmtyl', 'hmtyr', 'hmtyt', 'hmtyv', 'hmtyx', 'hmu', 'hmuty', 'hmv', 'hmvn', 'hmvnh', 'hmvsy', 'hmvsyoo', 'hmvsyp', 'hmvy', 'hmvyh', 'hmvym', 'hmwsy', 'hmwy', 'hmy', 'hmy1', 'hmy3', 'hmy3m', 'hmy6y', 'hmy7', 'hmy8h', 'hmy8m', 'hmy9c1', 'hmy_', 'hmya', 'hmyb', 'hmybm', 'hmyc', 'hmychrm', 'hmyct', 'hmye', 'hmyg', 'hmyh', 'hmyh1', 'hmyhc7um', 'hmyiy', 'hmyl', 'hmym', 'hmym1tm', 'hmym1tmnyy', 'hmym1tmy', 'hmym1tmy3', 'hmym1tmyh', 'hmymbm', 'hmyms', 'hmyo', 'hmyp', 'hmyp7', 'hmyph', 'hmypv', 'hmyq', 'hmyr', 'hmyrm', 'hmysy', 'hmyt', 'hmytc', 'hmyth', 'hmytm', 'hmytv', 'hmyu', 'hmyum', 'hmyumh', 'hmyv', 'hmyvm', 'hmyvm11y7my', 'hmyvm11y7my3', 'hmyw', 'hmyw1', 'hmyx', 'hmyxm', 'hmyy', 'hn', 'hn1', 'hn33hnmrcy', 'hn4', 'hn7', 'hn7unh', 'hnc', 'hnc3', 'hnc7', 'hnc8', 'hnc8sy', 'hnc8sy_', 'hnc8y', 'hnch', 'hncn3', 'hncrm1nmrcsy_', 'hncrm1nmrcy', 'hnctrnmrcy', 'hney', 'hneysy6666666666666666666666666666666666666666666666666666666666666666666666666666s', 'hng', 'hnh', 'hnhiy', 'hnhmvy', 'hni', 'hnmrc', 'hnmrcs', 'hnmrcsy', 'hnmrcsy_', 'hnmrcsysy', 'hnmrcy', 'hnnn', 'hnnnsy', 'hno', 'hnqrcy', 'hnqx', 'hnr', 'hnrm7', 'hns', 'hnsy', 'hnsys', 'hnsysy', 'hnsysya', 'hnsysyc', 'hnsysyo', 'hnsysyp', 'hnsysysy', 'hnsysyx', 'hntm', 'hntmy', 'hnu7rnv', 'hnum', 'hnusyyyyyyyyyyyyyyyyyyyyyyyyyyyyyyyyyyyyyyyyyyyyyyyyyyy', 'hny', 'hnyc', 'hnyg', 'hnyo', 'hnyp', 'hnysy', 'hnysysy', 'hnyy', 'hnyya', 'hnyyacvy', 'hnyyacvyv', 'hnyyc', 'hnyyg', 'hnyyo', 'hnyyp', 'hnyysy', 'hnyysysy', 'hnyyw', 'hnyyx', 'hp', 'hq', 'hq1', 'hq1m', 'hq1mty', 'hq1my', 'hq1myh', 'hq1myu', 'hq1myv', 'hq3', 'hq5', 'hq5qm', 'hq6', 'hq6vm', 'hq7', 'hqc', 'hqc1', 'hqe', 'hqey', 'hqeyt', 'hqeyv', 'hql', 'hqlhmvh', 'hqluh', 'hqm', 'hqm1', 'hqm1mt', 'hqmnyy', 'hqmr', 'hqmry', 'hqmryv', 'hqmsy', 'hqmt', 'hqmtv', 'hqmty', 'hqmtyl', 'hqmtyv', 'hqmy', 'hqmy3', 'hqmy7', 'hqmyl', 'hqmyv', 'hqn', 'hqnh', 'hqns', 'hqnsy', 'hqnsysy', 'hqny', 'hqnyc', 'hqnyp', 'hqnyy', 'hqnyyc', 'hqnyyg', 'hqnyyp', 'hqnyyw', 'hqr', 'hqry', 'hqryv', 'hqs', 'hqsy', 'hqsy1', 'hqsy3', 'hqsy7', 'hqsy_', 'hqsyh', 'hqsyl', 'hqsyohv', 'hqsyp', 'hqsyq', 'hqsyr', 'hqsysy', 'hqsyt', 'hqsyv', 'hqsyx', 'hqsyy', 'hqsyyy', 'hqsyyyy', 'hqsyyyyy', 'hqt', 'hqtnsy', 'hqtnsysy', 'hqtny', 'hqtnyy', 'hqtsy', 'hqtsy_', 'hqtv', 'hqty', 'hqty1', 'hqty3', 'hqty3m', 'hqty7', 'hqtyc', 'hqtyh', 'hqtyl', 'hqtyr', 'hqtyt', 'hqtyu', 'hqtyv', 'hqu', 'hquty', 'hquy', 'hqv', 'hqvl', 'hqw', 'hqwsy', 'hqy', 'hqy0', 'hqy1', 'hqy3', 'hqy3m', 'hqy4', 'hqy66y', 'hqy7', 'hqy7ch', 'hqy7m', 'hqy7m7um', 'hqy7mtt', 'hqy7my', 'hqy7myv', 'hqy8', 'hqy8m', 'hqy9', 'hqy_', 'hqya', 'hqyb', 'hqybm', 'hqyc', 'hqych', 'hqychrm', 'hqychv', 'hqyctmryv', 'hqyctyv', 'hqye', 'hqyev', 'hqyg', 'hqygmhv', 'hqygmhvm', 'hqyh', 'hqyh1', 'hqyhc7um', 'hqyhm', 'hqyi', 'hqykc', 'hqykcmtv', 'hqyl', 'hqyl1', 'hqyl1c', 'hqylchhv', 'hqylm', 'hqym', 'hqym1tm', 'hqym1tmy', 'hqym1tmyv', 'hqym7', 'hqymb', 'hqymbm', 'hqymh', 'hqymhb', 'hqymhh', 'hqymhv', 'hqyms', 'hqyo', 'hqyp', 'hqypc', 'hqyph', 'hqypm', 'hqypv', 'hqyq', 'hqyqrch', 'hqyr', 'hqyrm', 'hqyrmb', 'hqyrmbm1', 'hqysy', 'hqysy3', 'hqysyh', 'hqysyv', 'hqyt', 'hqyt1', 'hqyt3', 'hqytc', 'hqytch', 'hqyth', 'hqytm', 'hqytmh', 'hqytv', 'hqyu', 'hqyu1', 'hqyuc', 'hqyuct', 'hqyucvy', 'hqyum', 'hqyumh', 'hqyuml', 'hqyumvvm', 'hqyv', 'hqyv3', 'hqyvm', 'hqyvmh', 'hqyw', 'hqyx', 'hqyy', 'hqyyv', 'hr', 'hr1', 'hr1m', 'hr1mry', 'hr1my', 'hr1myv', 'hr3', 'hr5', 'hr6', 'hr7', 'hr7mhvty', 'hrb', 'hrchv', 'hrchvy', 'hrctv', 'hrl', 'hrlgpng', 'hrlmhvm', 'hrm', 'hrm7h', 'hrmht', 'hrmhtm', 'hrmmr', 'hrmmry', 'hrmmryv', 'hrmr', 'hrmry', 'hrmryv', 'hrn', 'hrnbhmvn', 'hrnh', 'hrnmrc', 'hrnmrcy', 'hrnpv', 'hrnsy', 'hrnsysy', 'hrntv', 'hrnu', 'hrnw', 'hrny', 'hrnyy', 'hrqchy', 'hrsy', 'hrsy3', 'hrsy7', 'hrsyh', 'hrsyl', 'hrsyp', 'hrsyqmulh', 'hrsyr', 'hrsyt', 'hrsyv', 'hrsyyy', 'hrsyyyy', 'hrsyyyyyyyyyyyyyyyh', 'hrt', 'hrth', 'hrtnyy', 'hrtsy', 'hrtv', 'hrty', 'hrty3', 'hrty7my', 'hrtyc', 'hrtyh', 'hrtyl', 'hrtyv', 'hru', 'hrum', 'hry', 'hry0', 'hry1', 'hry1m', 'hry1mvyv', 'hry3', 'hry3m', 'hry3mu', 'hry3my', 'hry3myh', 'hry4', 'hry6y', 'hry7', 'hry7c', 'hry7m', 'hry8', 'hry8h', 'hry8m', 'hry8mm', 'hry9', 'hry9c', 'hry_', 'hrya', 'hryb', 'hrybm', 'hryc', 'hrych', 'hrychrm', 'hryct', 'hryctmy', 'hryctmyv', 'hrye', 'hryg', 'hryh', 'hryh1', 'hryh1m', 'hryhc', 'hryhm', 'hryhmbm', 'hryi', 'hrykc', 'hrykcmtv', 'hryl', 'hryl1', 'hrym', 'hrym1tm3', 'hrym7', 'hrymb', 'hrymbm', 'hrymbmhvc', 'hrymbmhy', 'hrymh', 'hrymllmhv', 'hryms', 'hrymsv', 'hryo', 'hryp', 'hryph', 'hrypm', 'hrypv', 'hrypvm', 'hryq', 'hryqc', 'hryqmhm', 'hryqmvv', 'hryqmvy', 'hryqmvyv', 'hryr', 'hryrm', 'hryrmbm1', 'hryrmh', 'hryrmtv', 'hrysy', 'hrysyh', 'hrysyv', 'hryt', 'hryt1', 'hryt7', 'hrytc', 'hrytch', 'hryth', 'hrytm', 'hrytmbm', 'hrytmh', 'hrytmhc', 'hrytmmy', 'hrytmmy3', 'hrytmsc', 'hrytmvy', 'hrytv', 'hrytz', 'hryu', 'hryu1', 'hryuc', 'hryum', 'hryum1', 'hryumh', 'hryuml', 'hryumvvm', 'hryumy', 'hryv', 'hryv3', 'hryvc', 'hryvm', 'hryw', 'hryx', 'hryxmbm1', 'hryy', 'hryysy', 'hryyv', 'hs', 'hsy', 'hsy1', 'hsy3', 'hsy66ysy', 'hsy7', 'hsy9m', 'hsy_', 'hsyc', 'hsyg', 'hsyh', 'hsyi', 'hsyl', 'hsym', 'hsyms', 'hsyo', 'hsyohv', 'hsyp', 'hsypnxnmn', 'hsyq', 'hsyr', 'hsys', 'hsysy', 'hsysys', 'hsysyyyyyyyyyyyyyyyyyyyyyyyyyyyyu', 'hsyt', 'hsyth', 'hsytv', 'hsyu', 'hsyv', 'hsyw', 'hsyx', 'hsyy', 'hsyyy', 'hsyyyv', 'hsyyyy', 'hsyyyyy', 'hsyyyyyv', 'ht', 'ht1', 'ht3m', 'ht5', 'ht66yam', 'ht7', 'ht8', 'htc', 'htc1', 'htc1v', 'htc7', 'htc7m', 'htcnucll', 'hte', 'htenyy', 'htey', 'hth', 'htl', 'htllh', 'htlm', 'htm', 'htmh', 'htmhtcty', 'htmhv', 'htmkcmhhmty', 'htmty', 'htmtyv', 'htmy', 'htmyv', 'htn', 'htnch', 'htnh', 'htnh3', 'htnl', 'htnnnsy', 'htnsy', 'htnsysy', 'htny', 'htnysysy', 'htnyy', 'htnyyp', 'htnyyyytv', 'htsy', 'htsy3', 'htsy_', 'htsyl', 'htsyohv', 'htsyp', 'htsysy', 'htsyv', 'htsyx', 'htt', 'httlclt', 'htuy', 'htv', 'htvm', 'htvm11', 'htvsy', 'htvy', 'htvyh', 'htvyt', 'htvyv', 'hty', 'hty0', 'hty1', 'hty3', 'hty3m', 'hty6y', 'hty7', 'htyc', 'htye', 'htyg', 'htyh', 'htyi', 'htyl', 'htym', 'htyms', 'htymshm', 'htyp', 'htypm', 'htyq', 'htyr', 'htysy', 'htyt', 'htytv', 'htyu', 'htyum', 'htyum1', 'htyumh', 'htyuml', 'htyumv3mmhy', 'htyv', 'htyw', 'htyx', 'htyy', 'hu', 'huc', 'huc1', 'hum', 'hutsy', 'huty', 'hutyh', 'huv', 'huvnyy', 'huvsy', 'huvsyv', 'huvy', 'huvy1', 'huvy3', 'huvy7', 'huvy7m', 'huvy8', 'huvy8h', 'huvychrm', 'huvyctmy', 'huvyctmyv', 'huvyh', 'huvyh1', 'huvyhmmryv', 'huvyl', 'huvyms', 'huvyq', 'huvyqmvy', 'huvyr', 'huvysy', 'huvyt', 'huvytmm7yv', 'huvytmmy', 'huvytmmy3', 'huvytmmyv', 'huvytv', 'huvyu', 'huvyu1', 'huvyuc', 'huvyum1', 'huvyumy', 'huvyv', 'huy', 'hv', 'hv1', 'hvc', 'hvctn', 'hvh', 'hvl', 'hvm', 'hvm1', 'hvm11', 'hvm11mhv', 'hvm11mhvc', 'hvm1nh', 'hvm1y', 'hvm7', 'hvmh', 'hvmhh', 'hvmhr', 'hvmhrmry', 'hvmhrmryl', 'hvmhrmryv', 'hvmhrtyv', 'hvmhryv', 'hvmht', 'hvmhv', 'hvmhv6', 'hvmhvt', 'hvmhvty', 'hvmhvy', 'hvmhvyv', 'hvml', 'hvmmryv', 'hvmmyv', 'hvmq', 'hvmqm', 'hvmr', 'hvmrsy', 'hvmrsy_', 'hvmry', 'hvmry3', 'hvmryl', 'hvmryu', 'hvmryv', 'hvmsv', 'hvmsvnyy', 'hvmsvy', 'hvmtv', 'hvmtvy', 'hvn', 'hvnsy', 'hvnsysy', 'hvny', 'hvnyy', 'hvq', 'hvsy', 'hvsyv', 'hvt', 'hvtnsy', 'hvtnsysy', 'hvtny', 'hvtnyy', 'hvtsy', 'hvty', 'hvty3', 'hvtyh', 'hvtyi', 'hvtyl', 'hvtyt', 'hvtyv', 'hvy', 'hvy1', 'hvy3', 'hvy7', 'hvy7my', 'hvy7myv', 'hvyb', 'hvyc', 'hvyg', 'hvyh', 'hvyl', 'hvym', 'hvyp', 'hvyq', 'hvyr', 'hvysy', 'hvyt', 'hvytv', 'hvyu', 'hvyv', 'hvywc', 'hw', 'hwy', 'hwyy', 'hx', 'hy', 'hy0', 'hy0y', 'hy1', 'hy1m', 'hy1mhqv', 'hy1mq', 'hy3', 'hy3m', 'hy3my', 'hy3myt', 'hy4', 'hy4ctvy', 'hy66y', 'hy66yv', 'hy6y', 'hy6yi', 'hy7', 'hy7ch', 'hy7m', 'hy7m7', 'hy7m7um', 'hy7mr', 'hy7mtt', 'hy7mv', 'hy8', 'hy8h', 'hy8m', 'hy8mm', 'hy9', 'hy9h', 'hy9m', 'hy9mhr', 'hy_', 'hy_hv', 'hya', 'hyac', 'hyam', 'hyb', 'hybm', 'hyc', 'hycc', 'hycct1', 'hych', 'hychh', 'hychrm', 'hychv', 'hycmr', 'hyct', 'hyctm', 'hyctmy', 'hyctmyv', 'hye', 'hyev', 'hyf', 'hyfg', 'hyfi', 'hyg', 'hyg1', 'hygc', 'hygmhh', 'hygmhvm', 'hygy', 'hyh', 'hyh1', 'hyh1m', 'hyhc', 'hyhc7um', 'hyhm', 'hyhmbm', 'hyhmmry', 'hyi', 'hyin', 'hyinin', 'hyiniymp', 'hyiniympn2syp', 'hyiniympn2sysy', 'hyiy', 'hykc', 'hykcmtv', 'hyl', 'hyl1', 'hylchhv', 'hylm', 'hylv', 'hym', 'hym1', 'hym1mhv', 'hym67', 'hym7', 'hym7m', 'hymb', 'hymbm', 'hymh', 'hymhb', 'hymhh', 'hymhq', 'hymhv', 'hymhvm', 'hymkc', 'hymll', 'hymllmhv', 'hymllmhvy', 'hymm', 'hymr', 'hymrch', 'hyms', 'hymsh', 'hymshm', 'hymshm11mhvy', 'hymshm11mhvyh', 'hymsv', 'hymsvm', 'hymtv', 'hymv', 'hyn', 'hynj6u', 'hyo', 'hyom3y', 'hyp', 'hyp7', 'hypc', 'hypc7q', 'hypchr', 'hypcv', 'hypg', 'hyph', 'hypm', 'hypmu', 'hypv', 'hypvcr', 'hypvm', 'hyq', 'hyq7', 'hyqc', 'hyqhq', 'hyqhq1', 'hyqm', 'hyqmh', 'hyqmhm', 'hyqmvv', 'hyqmvy', 'hyqmvyv', 'hyqnyg', 'hyqnytc', 'hyqs', 'hyr', 'hyrc', 'hyrm', 'hyrmb', 'hyrmbm1', 'hyrmh', 'hyrmt', 'hyrmv', 'hyrurlc', 'hysy', 'hysy3', 'hysyh', 'hysyv', 'hyt', 'hyt1', 'hyt7', 'hytc', 'hytc77', 'hytch', 'hyth', 'hytkc', 'hytm', 'hytm7', 'hytmbm', 'hytmh', 'hytmm', 'hytmmy', 'hytmmyv', 'hytv', 'hytvc', 'hytvcr', 'hytvm', 'hyu', 'hyu1', 'hyuc', 'hyuct', 'hyucvy', 'hyum', 'hyum1', 'hyumh', 'hyuml', 'hyumsy', 'hyumv3mmhy', 'hyumv3mmhyv', 'hyumy', 'hyumy7', 'hyumyctmryv', 'hyumyh', 'hyumyl', 'hyumyr', 'hyumyt', 'hyumyv', 'hyun', 'hyv', 'hyv3', 'hyvc', 'hyvm', 'hyvm11', 'hyvm11y', 'hyvm7', 'hyvmh', 'hyvmsvy', 'hyw', 'hyw1', 'hywm', 'hywmu', 'hyx', 'hyxm', 'hyxmv', 'hyy', 'hyysy', 'hyyv', 'hyyy', 'hyyyy', 'hyyyyy', 'hyyyyyy', 'hyyyyyyy', 'hyyyyyyyy', 'hyyyyyyyyy', 'hyzy', 'i', 'i0', 'i00', 'i00ul', 'i0i', 'i0j', 'i0n', 'i0ni', 'i0y', 'i1', 'i2', 'i5', 'i56', 'i6', 'i60', 'i6i', 'i7', 'i9', 'i_', 'ia', 'ic', 'ic7rm', 'ie', 'if', 'ig', 'ih', 'ii', 'ii5', 'iii', 'iij', 'iin', 'iint', 'iiy', 'iiz', 'ij', 'ij0', 'ij5', 'ij6', 'iji', 'ijj', 'ijn', 'ijni', 'ijy', 'il', 'ilh', 'im', 'imht', 'imhty', 'imhty3', 'imhy', 'imq', 'imr', 'imrsy', 'imry', 'imry3', 'imry7', 'imryh', 'imryl', 'imryu', 'imryv', 'imsy', 'imty', 'imtyv', 'imy', 'imy3', 'imy7', 'imyl', 'imyt', 'imyv', 'in', 'in0', 'ing', 'ini', 'inj', 'inn', 'inn0', 'inni', 'innj', 'insy', 'inu', 'invc6utnrmy', 'iny', 'inyy', 'io', 'ip', 'iq', 'ir', 'isy', 'isyc', 'isyohv', 'isyoo', 'isysy', 'isyx', 'it', 'itvy', 'iu', 'iw', 'iwe', 'ix', 'iy', 'iy0', 'iy3', 'iyc', 'iyp', 'iyr', 'iyv', 'iyy', 'iyyjn', 'iyyy', 'iyyyysysy', 'iyyyyyyyyyyyyyyyyyyyyyy', 'iz', 'ize', 'j', 'j0', 'j05', 'j06', 'j0j', 'j0y', 'j2', 'j5', 'j5g', 'j5ggn5', 'j5ggn5g', 'j5gj', 'j5syc', 'j5sycg', 'j6', 'j60', 'j6i', 'j6j', 'j6n', 'j6u', 'j6x', 'j7', 'j9', 'j_', 'j_9', 'j_e', 'ja', 'jc', 'jcw', 'jcwt', 'je', 'jf', 'jg', 'ji', 'jii', 'jijilrutvcin', 'jil', 'jiy', 'jj', 'jj0', 'jj6', 'jjj', 'jjj5', 'jjjsy', 'jjjy', 'jjjy7', 'jjjyh', 'jjjyv', 'jjn', 'jjsy', 'jjy', 'jjy3', 'jjy7', 'jjyc', 'jjyh', 'jjyi', 'jjyl', 'jjyr', 'jjyu', 'jjyv', 'jjyyjn', 'jl', 'jl7', 'jlc', 'jm', 'jn', 'jn0', 'jn0n', 'jn5', 'jn6', 'jn60', 'jnh', 'jni', 'jnj', 'jnn', 'jnsy', 'jnsysy', 'jny', 'jny0', 'jnyy', 'jo', 'jp', 'jq', 'jr', 'js', 'jsy', 'jsy_', 'jsyc', 'jsyohv', 'jsyoo', 'jsysy', 'jsysysy', 'jsyx', 'jt', 'jty', 'ju', 'jut', 'juty', 'jw', 'jx', 'jy', 'jy1', 'jy3', 'jy7', 'jya', 'jyc', 'jyh', 'jyl', 'jym', 'jyq', 'jyqcmtv', 'jyr', 'jyt', 'jyu', 'jyv', 'jyy', 'jyyjn', 'jyyy', 'jz', 'jzn', 'k', 'kc', 'kcm', 'kcmt', 'kcmty', 'kcmy', 'kcmy3', 'knh', 'ky', 'l', 'l0', 'l1', 'l1m', 'l1m1', 'l2', 'l3', 'l4', 'l4c', 'l4c1', 'l5', 'l6', 'l6v', 'l7', 'l7mq', 'l7mv', 'l8', 'l8m', 'l9', 'la', 'lb', 'lb7tn', 'lbhmvn', 'lbm1', 'lc', 'lc1', 'lc11', 'lc1vun', 'lc1y', 'lc1yv', 'lc8n', 'lch', 'lchr', 'lchrm', 'lchtcng', 'lcs', 'le', 'lf', 'lg', 'lh', 'lh1mbm1', 'lhc', 'lhch', 'lhh', 'lhhcnc7', 'lhhtb', 'lhm3tnht', 'lhm3tntm', 'lhmvh', 'lhmvhm3tnc', 'lhn', 'lht', 'lhtn', 'lhtnc', 'lhtnh', 'lhtnh7cnmrcy', 'lhuhm3t4nhun', 'lhv', 'li', 'lic7', 'lj', 'lkc', 'll', 'll1', 'll6', 'll7', 'llm', 'llmht', 'llmhtm', 'llmhvyv', 'llnsy', 'llny', 'llnyy', 'llsy', 'llt', 'llty', 'lly', 'lly3', 'lly7', 'llyh', 'llyl', 'llyq', 'llyt', 'llyu', 'llyv', 'lm', 'lm1', 'lmhq', 'lmhv', 'lmhv1', 'lmhvy', 'lmhvyh', 'lmhvyt', 'lmn', 'lmny', 'lmnyy', 'lmqc', 'lmsy', 'lmtt', 'lmtv', 'lmv', 'lmy', 'lmy3', 'lmyh', 'lmyl', 'lmyv', 'ln', 'ln7', 'lnh', 'lny', 'lnyy', 'lo', 'loq', 'loqi', 'loqi22', 'lp', 'lq', 'lqbq', 'lqmhmb', 'lr', 'lsy', 'lsy1', 'lsy3', 'lsy7', 'lsyc', 'lsyg', 'lsyh', 'lsyl', 'lsyt', 'lsyv', 'lsyy', 'lsyyy', 'lsyyyyy', 'lsyyyyyyyyyyyyyyyyyyyyyyyyyy', 'lt', 'lt8', 'ltc', 'lth', 'ltm', 'ltq', 'ltv', 'lty', 'lu', 'lu1cmnh', 'luc', 'lucnmrc', 'luh', 'lv', 'lv3', 'lv6r', 'lvm', 'lvmh', 'lvmhy', 'lvmhyh', 'lvmhyl', 'lvmhyr', 'lvmhyv', 'lvnh', 'lvsy', 'lvty', 'lvy', 'lvy3', 'lvyg', 'lvyh', 'lvyl', 'lvyr', 'lvytc', 'lvyv', 'lw', 'lx', 'ly', 'ly0', 'ly0n', 'ly1', 'ly3', 'ly3m', 'ly3my', 'ly3myh', 'ly3myr', 'ly4', 'ly7', 'ly7c', 'ly7c1v', 'ly7m', 'ly7m7', 'ly7mr', 'ly8', 'ly8h', 'ly8m', 'ly9', 'ly_', 'ly_81', 'ly_c1c', 'lya', 'lyam', 'lyb', 'lybm', 'lyc', 'lycct1', 'lych', 'lychrm', 'lycm', 'lycmr', 'lyct', 'lyctm', 'lycty', 'lycty3', 'lye', 'lyeh', 'lyev', 'lyg', 'lyg1', 'lyg_o', 'lygmhv', 'lyh', 'lyh1', 'lyhc', 'lyhm', 'lyhm3y', 'lyhmhmtt', 'lyi', 'lyij', 'lykc', 'lykcmtv', 'lyl', 'lyl1', 'lylm', 'lym', 'lym1mhv', 'lym7', 'lymb', 'lymbm', 'lymh', 'lymhh', 'lymhv', 'lymmhht', 'lyms', 'lymsv', 'lymsvm', 'lymth', 'lyn', 'lyo', 'lyom3y', 'lyomu', 'lyp', 'lyph', 'lypm', 'lypv', 'lyq', 'lyq1', 'lyq1mhv', 'lyqc', 'lyqhq', 'lyqmhm', 'lyqmvv', 'lyr', 'lyrm', 'lyrmh', 'lysy', 'lysyv', 'lyt', 'lyt1', 'lyt7', 'lytc', 'lytch', 'lyth', 'lytm', 'lytmbm', 'lytmhc', 'lytv', 'lyu', 'lyu1', 'lyuc', 'lyuct', 'lyum', 'lyum1', 'lyv', 'lyv3', 'lyvm', 'lyvmh', 'lyw', 'lyw1', 'lyx', 'lyxm', 'lyxm1', 'lyxmhbm', 'lyy', 'lyysy', 'lyyv', 'lz', 'lzr', 'm', 'm0', 'm1', 'm11', 'm117', 'm11m', 'm11mry', 'm11mryv', 'm11nh', 'm11nyy', 'm11t', 'm11y', 'm11y3', 'm11y_', 'm11yh', 'm11yr', 'm11yv', 'm17', 'm17mvy', 'm1h', 'm1m', 'm1mb', 'm1mh', 'm1mhv', 'm1mth', 'm1mtt', 'm1mtty', 'm1n', 'm1nsy', 'm1ny', 'm1nyy', 'm1r', 'm1rm', 'm1rnh', 'm1rnyy', 'm1rsy', 'm1rt', 'm1rty', 'm1ry', 'm1ryv', 'm1sy', 'm1t', 'm1ty', 'm1u', 'm1vm', 'm1vt', 'm1y', 'm1y3', 'm1y9', 'm1yc', 'm1yg', 'm1yh', 'm1yl', 'm1ym', 'm1yp', 'm1yt', 'm1yv', 'm1yw', 'm1yx', 'm2', 'm3', 'm31mvv6m', 'm31mvvym', 'm3l', 'm3l7', 'm3m', 'm3mry', 'm3mryc', 'm3nh7cnmrc', 'm3nh7cnmrcsy', 'm3nh7cnmrcy', 'm3nyy', 'm3s', 'm3sy', 'm3t', 'm3tnyy', 'm3tsy', 'm3ty', 'm3ty3', 'm3ty3m', 'm3tyl', 'm3tyms', 'm3tyv', 'm3y', 'm3y3', 'm3yc', 'm3yf7', 'm3yh', 'm3yl', 'm3yph', 'm3yv', 'm4', 'm4cr', 'm4mhv', 'm4mhvmry', 'm4mhvy', 'm4mhvyv', 'm5', 'm5t', 'm6', 'm61', 'm63', 'm67', 'm6h', 'm6m', 'm6sy', 'm6u', 'm6v', 'm7', 'm7l', 'm7m', 'm7m1', 'm7m7um', 'm7mhr', 'm7mhv', 'm7mhvty', 'm7mhvy', 'm7mr', 'm7my', 'm7myg', 'm7myh', 'm7ncv', 'm7nrc8mnmrcy', 'm7nsy', 'm7nsysy', 'm7ny', 'm7nyy', 'm7nyyp', 'm7sy', 'm7tm1bmt', 'm7tm1bmtnyy', 'm7tm1bmty', 'm7tm1bmty3', 'm7tm1bmtyv', 'm7y', 'm7y1', 'm7y3', 'm7y7', 'm7yc', 'm7yh', 'm7yl', 'm7yr', 'm7yt', 'm7yu', 'm7yv', 'm8', 'm8v', 'm8y', 'm9', 'm_', 'ma', 'mb', 'mbllu', 'mbm', 'mbm1', 'mbmhv', 'mbmhvy', 'mbmhvyv', 'mbmhy', 'mbmry', 'mbmryv', 'mbmsy', 'mbmsyv', 'mbmty', 'mbmtyv', 'mbmy', 'mbmy3', 'mbmyl', 'mbmyt', 'mbmyv', 'mby', 'mc', 'mc3mhr', 'mcs', 'mct', 'mcvm', 'me', 'mey', 'mf', 'mg', 'mgy', 'mh', 'mh1', 'mh3', 'mh8', 'mh8g', 'mh8m', 'mh8mry', 'mh8mryv', 'mh8y', 'mh8y3', 'mh8yl', 'mh8yv', 'mhc', 'mhc1', 'mhcty', 'mhg', 'mhh', 'mhhm', 'mhhmnsy', 'mhhmnsysy', 'mhhmny', 'mhhmnyy', 'mhhmry', 'mhhmsy', 'mhhmsyp', 'mhhmt', 'mhhmtsyp', 'mhhmtt', 'mhhmttmmyx', 'mhhmty', 'mhhmty3', 'mhhmtyl', 'mhhmtyv', 'mhhmy', 'mhhmy3', 'mhhmy7', 'mhhmyc', 'mhhmyh', 'mhhmyl', 'mhhmyu', 'mhhmyumv3mmhy', 'mhhmyumv3mmhyv', 'mhhmyv', 'mhhmyxm', 'mhhnmrc', 'mhhnmrcsysy', 'mhhnmrcy', 'mhi', 'mhl', 'mhm', 'mhm3', 'mhmbm', 'mhmhv1', 'mhmhvy', 'mhmr', 'mhmry', 'mhmryv', 'mhmt', 'mhmty', 'mhmv', 'mhmy', 'mhn', 'mhn7', 'mhnsy', 'mhnsysy', 'mhnt', 'mhny', 'mhnyy', 'mhq', 'mhqv', 'mhr', 'mhr1', 'mhrm', 'mhrmhv', 'mhrmhv1', 'mhrmhvy', 'mhrsy', 'mhrt', 'mhrty', 'mhrty3', 'mhry', 'mhry3', 'mhry7', 'mhryv', 'mhsy', 'mhsyv', 'mht', 'mhtmy', 'mhtsyp', 'mhttm1', 'mhty', 'mhty3', 'mhtyl', 'mhtyv', 'mhuvy', 'mhuvyq', 'mhuvyv', 'mhv', 'mhv1', 'mhvc', 'mhvey', 'mhvm', 'mhvmr', 'mhvmry', 'mhvmryv', 'mhvnsy', 'mhvnsysy', 'mhvny', 'mhvnyy', 'mhvsy', 'mhvt', 'mhvtsy', 'mhvty', 'mhvty3', 'mhvtyv', 'mhvy', 'mhvy1', 'mhvy3', 'mhvy7', 'mhvy7my', 'mhvyb', 'mhvybm', 'mhvyh', 'mhvyl', 'mhvyq', 'mhvyr', 'mhvyt', 'mhvytv', 'mhvyu', 'mhvyv', 'mhy', 'mhy1', 'mhy3', 'mhy3m', 'mhy3my', 'mhy3myh', 'mhy7', 'mhyc', 'mhyct', 'mhyg', 'mhyh', 'mhykcmtv', 'mhyl', 'mhym', 'mhyms', 'mhyp', 'mhyq', 'mhyr', 'mhysy', 'mhyt', 'mhytv', 'mhyu', 'mhyv', 'mi', 'miu', 'mj', 'mk', 'mkc', 'mkcmhh', 'mkcmhv1', 'mkcmtv', 'mkcmtvl', 'mkcmtvtyv', 'mkcmtvy', 'mkcmtvyl', 'mkcmtvyv', 'ml', 'ml1', 'ml1mhv', 'ml1mhvy', 'ml1mhvyv', 'ml7', 'mlc11', 'mlc1y', 'mlct', 'mlctmryv', 'mlctmtyv', 'mlctmyv', 'mlcv', 'mlhtnc7rnmrcy', 'mll', 'mllm', 'mlly', 'mllyc', 'mlm', 'mlm1r', 'mlt', 'mlty', 'mlv', 'mly', 'mlyv', 'mm', 'mm1', 'mm1ty', 'mm1y', 'mm1yr', 'mm3', 'mm6', 'mm7', 'mm7mhvy', 'mm8', 'mm8ty', 'mm8y', 'mm8yg', 'mm8yq', 'mmh', 'mmhlm', 'mmhm', 'mmhmvnh', 'mmhmvnqrcy', 'mmhmy', 'mmhnyy', 'mmhum1v', 'mmhy', 'mmhy3', 'mmhyv', 'mmnsysy', 'mmny', 'mmnyy', 'mmp', 'mmq', 'mmr', 'mmrnh', 'mmrnyy', 'mmrsy', 'mmrt', 'mmrtv', 'mmrty', 'mmry', 'mmry1', 'mmry3', 'mmry7', 'mmryc', 'mmryh', 'mmryv', 'mmsy', 'mmt', 'mmty', 'mmty3', 'mmtyv', 'mmv', 'mmvm', 'mmvy', 'mmy', 'mmy3', 'mmy7', 'mmyh', 'mmyl', 'mmyr', 'mmyt', 'mmytv', 'mmyu', 'mmyv', 'mn', 'mn1', 'mn3', 'mnc', 'mnccqn', 'mng_cy', 'mnh', 'mnmrcy', 'mnnn', 'mnqn', 'mnqny', 'mnrt1n', 'mnsy', 'mnsy_', 'mnsysy', 'mny', 'mnyp', 'mnysysy', 'mnyy', 'mnyyo', 'mnyyp', 'mo', 'mp', 'mpng', 'mpq', 'mpy', 'mq', 'mqc', 'mqc1', 'mqcy', 'mqh', 'mqm', 'mqq', 'mqqy', 'mqy', 'mqyp', 'mr', 'mr1', 'mr2yw', 'mr3', 'mr7', 'mrc1', 'mrc1mryl', 'mrc1my', 'mrch', 'mrchmyv', 'mrchr', 'mrchv', 'mrey', 'mrhmtr', 'mrm', 'mrmt', 'mrmtv', 'mrn', 'mrnsy', 'mrnsysy', 'mrny', 'mrnyy', 'mrr', 'mrsy', 'mrsyv', 'mrty', 'mry', 'mry1', 'mry3', 'mry7', 'mry9', 'mrya', 'mryb', 'mrybm', 'mryc', 'mryg', 'mryh', 'mryl', 'mrym', 'mryom3y', 'mryp', 'mryph', 'mryq', 'mryr', 'mryrc', 'mrysy', 'mryt', 'mrytv', 'mryu', 'mryumh', 'mryuml', 'mryv', 'mryv3', 'ms', 'mshm', 'msmhnu', 'msv', 'msy', 'msy1', 'msy3', 'msy7', 'msy_', 'msya', 'msyb', 'msyc', 'msye', 'msyg', 'msyh', 'msyl', 'msym', 'msyms', 'msyo', 'msyp', 'msyq', 'msyr', 'msyrm', 'msysy', 'msyt', 'msytc', 'msytv', 'msyu', 'msyv', 'msyw', 'msyx', 'msyy', 'msyyy', 'msyyyy', 'msyyyyy', 'msyyyyyy', 'mt', 'mt1m', 'mtc', 'mtc1v', 'mtc1vt', 'mtc1vty', 'mtc1vtyl', 'mtc1vy', 'mtc7', 'mtct', 'mtctnyy', 'mtctsy', 'mtcty', 'mtcty3', 'mtcty7', 'mtctyg', 'mtctyr', 'mtctyt', 'mtctyv', 'mte', 'mtey', 'mth', 'mthuv', 'mthuvsy', 'mthuvy', 'mthuvy1', 'mthuvy3', 'mthuvy7', 'mthuvy7m', 'mthuvy8h', 'mthuvyh', 'mthuvyms', 'mthuvyq', 'mthuvyr', 'mthuvyt', 'mthuvytmm7yv', 'mthuvyv', 'mtm', 'mtm1', 'mtmctnchsnt', 'mtmhhmy', 'mtmhv', 'mtmhv1', 'mtmhvmry', 'mtmhvmryv', 'mtmhvty', 'mtmhvtyv', 'mtmhvy', 'mtmhvyv', 'mtmnyy', 'mtmsy', 'mtmy', 'mtmy1', 'mtmy3', 'mtmy3m', 'mtmy7', 'mtmyb', 'mtmyh', 'mtmykcmtv', 'mtmyl', 'mtmyq', 'mtmyqc', 'mtmyr', 'mtmyt', 'mtmytv', 'mtmyu', 'mtmyv', 'mtmyv3', 'mtn', 'mtnh', 'mtnsy', 'mtnsysy', 'mtny', 'mtnyy', 'mtr', 'mtsy', 'mtsy_', 'mtsyh', 'mtsyp', 'mtsyv', 'mtt', 'mttc', 'mttm', 'mttm1', 'mttmr', 'mttmry', 'mttmry3', 'mttmryu', 'mttmryv', 'mttmt', 'mttmty', 'mttnhhtcnmrcy', 'mttnyy', 'mttsy', 'mtty', 'mtty3', 'mtty7', 'mttyg', 'mttyh', 'mttyl', 'mttypmh', 'mttyu', 'mttyv', 'mtu', 'mtv', 'mtvm', 'mtvmr', 'mtvmry', 'mtvmryv', 'mtvnyy', 'mtvsy', 'mtvty', 'mtvy', 'mtvy3', 'mtvya', 'mtvygmhvm', 'mtvyh', 'mtvyl', 'mtvyv', 'mty', 'mty1', 'mty3', 'mty3m', 'mty6y', 'mty7', 'mtyc', 'mtyg', 'mtyh', 'mtyl', 'mtym', 'mtymbm', 'mtyms', 'mtyq', 'mtyr', 'mtysy', 'mtyt', 'mtytmm7yv', 'mtytv', 'mtyu', 'mtyum', 'mtyumh', 'mtyv', 'mu', 'mu11y', 'mu11yumy', 'muc', 'mum', 'mury', 'mutsy', 'muty', 'muty3', 'muty7', 'mutyh', 'mutyq', 'mutyt', 'mutyv', 'muy', 'mv', 'mv1', 'mvc', 'mvh', 'mvi8', 'mvm', 'mvmry', 'mvmy', 'mvnh', 'mvnsy', 'mvnsysy', 'mvnyy', 'mvsy', 'mvt', 'mvty', 'mvty3', 'mvtyy', 'mvv', 'mvvl', 'mvvy', 'mvy', 'mvy3', 'mvy7', 'mvy8m', 'mvyh', 'mvyl', 'mvym', 'mvyt', 'mvyv', 'mw', 'mwsy', 'mx', 'my', 'my0', 'my0hry', 'my1', 'my1ch', 'my1m', 'my1mbm1y', 'my1mhqv', 'my1mlv', 'my1mlvy', 'my1mq', 'my1mtt', 'my1mvvm', 'my3', 'my3m', 'my3m1h', 'my3mhvy', 'my3my', 'my3myh', 'my3myq', 'my3myv', 'my4', 'my4c', 'my4c7', 'my4ctv', 'my4ctvy', 'my4ctvyh', 'my4ctvyv', 'my666', 'my66y', 'my6y', 'my7', 'my7c', 'my7c1v', 'my7ch', 'my7ctvy', 'my7ctvyumy', 'my7m', 'my7m7', 'my7m7um', 'my7mh', 'my7mhv', 'my7mmv', 'my7mr', 'my7mtt', 'my7mv', 'my7myt', 'my8', 'my8h', 'my8m', 'my8mm', 'my9', 'my_', 'my_vv', 'mya', 'mya1', 'myac', 'myact', 'myam', 'myb', 'mybm', 'mybtnycct1', 'myc', 'myc1v', 'myc7', 'mycct1', 'mycctv', 'mych', 'mychh', 'mychrm', 'mychv', 'mycm', 'mycm11', 'mycmtt', 'mycmvty', 'myct', 'myctc', 'myctm', 'myctmry', 'myctmryv', 'myctmy', 'mye', 'mye1', 'mye3', 'mye7', 'myeg1', 'myeh', 'myel', 'myep', 'myeq', 'myeu', 'myev', 'myg', 'myg1', 'mygm', 'mygmhv', 'mygmhvm', 'myh', 'myh1', 'myh1cvh', 'myh1m', 'myhc', 'myhc7m', 'myhc7um', 'myhm', 'myhm3m', 'myhm3t', 'myhm3tq', 'myhm3ty', 'myhm3y', 'myhm3yh', 'myhmbm', 'myhmhmtt', 'myhmhv', 'myhmhvc', 'myhmhvm', 'myhmmrmryv', 'myhmmrtyv', 'myhmmryl', 'myhmmryv', 'myhmq', 'myhmsvy', 'myhmsvyr', 'myhmsvyv', 'myhmv', 'myhmv3', 'myhmvns', 'myhmvy', 'myi', 'myin', 'mykc', 'mykcmtv', 'myl', 'myl1', 'mylc11', 'mylc11y', 'mylchhv', 'mylchr', 'mylcvc', 'mylm', 'mylmm1', 'mylmrm', 'mym', 'mym1', 'mym1mhv', 'mym7', 'mym7m', 'mymb', 'mymbm', 'mymbmh', 'mymbmhvy', 'mymh', 'mymhb', 'mymhh', 'mymhm7', 'mymhq', 'mymhr', 'mymhry', 'mymhv', 'mymhvm', 'mymkc', 'mymll', 'mymllmhv', 'mymllmhvy', 'mymm', 'mymmhqc', 'mymr', 'mymrqmy', 'myms', 'mymshm', 'mymsv', 'mymth', 'mymttmhv', 'mymtv', 'mymv', 'myn', 'myo', 'myo_', 'myom', 'myom3y', 'myomv', 'myop', 'myp', 'myp7', 'myp8', 'myp_', 'mypc', 'mypch', 'mypchr', 'mypg', 'mypgp', 'myph', 'mypm', 'mypmh', 'mypmu', 'mypv', 'myq', 'myq1', 'myq7', 'myqc', 'myqhq', 'myqm', 'myqmh', 'myqmhm', 'myqmvv', 'myqq', 'myqs', 'myr', 'myrm', 'myrm1', 'myrm7', 'myrmb', 'myrmbm1', 'myrmh', 'myrml', 'myrmlmhr', 'myrmq', 'myrmt', 'myrmth', 'myrmtm', 'myrmtv', 'myrmv', 'mysy', 'mysy1', 'mysy3', 'mysy7', 'mysyh', 'mysyl', 'mysym', 'mysyr', 'mysyt', 'mysyu', 'mysyv', 'mysyy', 'myt', 'myt1', 'myt3', 'myt7', 'myt8', 'mytc', 'mytc77', 'mytc77m', 'mytch', 'mytcu4mhv', 'mytcu4mhvy', 'mytcu4mhvyv', 'myth', 'mytm', 'mytm1mhv', 'mytmbm', 'mytmbmhv', 'mytmh', 'mytmhc', 'mytmht', 'mytmhtmy', 'mytmhtmyv', 'mytmhv', 'mytmm7tyv', 'mytmtt', 'mytmvy', 'mytv', 'mytvc', 'mytvclly', 'mytvcr', 'mytvm', 'myu', 'myu1', 'myuc', 'myuc11', 'myuc18y', 'myuct', 'myucvv', 'myum', 'myum1', 'myumh', 'myumhh', 'myumhml', 'myuml', 'myumq', 'myumr', 'myumtvy', 'myumtvy3', 'myumtvyv', 'myumvvm', 'myumy', 'myv', 'myv3', 'myvc', 'myvm', 'myvm7', 'myvmh', 'myvmsvy', 'myvmtv', 'myw', 'myw1', 'mywa', 'mywm', 'mywmrm', 'myx', 'myxc', 'myxm', 'myxmb', 'myxmt8', 'myxmv', 'myy', 'myysy', 'myyt', 'myyv', 'myyyy', 'myyyyy', 'myyyyyy', 'mz', 'n', 'n0', 'n00', 'n06', 'n0i', 'n0j', 'n0jj', 'n0n', 'n0y', 'n1', 'n1htn7', 'n1m', 'n2', 'n3', 'n4', 'n4thnh', 'n5', 'n6', 'n6i', 'n6u', 'n7', 'n7h', 'n7ttv', 'n8', 'n8n', 'n9', 'n9n', 'n_', 'na', 'nag', 'nam', 'nc', 'nc3', 'nc8', 'nc8sy', 'nc8y', 'ncb', 'ncch', 'ncg', 'nch', 'nchtn', 'ncn3', 'ncq', 'nct', 'ncty', 'ncv', 'ncvt', 'ne', 'nesy', 'nesysy', 'ney', 'neyy', 'nf', 'ng', 'ng9', 'ng_c', 'ng_cy', 'ngnyam', 'nh', 'nh1', 'nh3', 'nh4', 'nh7cnmrcy', 'nhh', 'nhhn', 'nhhn7', 'nhhncvms', 'nhhnh', 'nhhnhrnmrc', 'nhhnu', 'nhm', 'nhmvy', 'nht', 'nhtn', 'nhtn1', 'nhtnc', 'nhtnc7hnmrcy', 'nhtncq', 'nhun', 'ni', 'ni0', 'ni6', 'nii', 'niinl', 'nij', 'nin', 'nini', 'nisy', 'niy', 'nj', 'nj0', 'nj0n', 'nji', 'njj', 'njjsy', 'njjsysy', 'njjy', 'njn', 'njy', 'njyyyyy', 'nl', 'nlh', 'nlt', 'nm', 'nm1mhv', 'nmhmvnrmhnh', 'nmhq', 'nmn', 'nmny', 'nmnyv', 'nmp', 'nmrc', 'nmrcn', 'nmrcs', 'nmrcsy', 'nmrcsy_', 'nmrcsyp', 'nmrcsypcu4mhv', 'nmrcsys', 'nmrcsysy', 'nmrcy', 'nmrcy3', 'nmrcy66y', 'nmrcyy', 'nmrcyycvi', 'nn', 'nn0', 'nn6i', 'nncch', 'nni', 'nnj', 'nnn', 'nnnn', 'nnnnn', 'nnns', 'nnnsy', 'nnnsy_', 'nnnsysy', 'nnnv', 'nnny', 'nnnyy', 'nnsy', 'nnsysy', 'nny', 'nnyy', 'no', 'nog', 'nol', 'nony', 'np', 'np9', 'npn', 'npny', 'npnyq', 'nq', 'nqbqnvm8nh', 'nqrc', 'nqrcy', 'nqtlhnh', 'nqx', 'nr', 'nrm', 'nrmhnh', 'nrmt', 'nrmy', 'nrqnh', 'nrquvnr', 'nrtmnumh87', 'ns', 'ns0', 'nsy', 'nsy66ysy', 'nsy_', 'nsyc', 'nsyg', 'nsyo', 'nsyohv', 'nsyoo', 'nsyp', 'nsys', 'nsysy', 'nsysy6', 'nsysy66ysy', 'nsysy_', 'nsysya', 'nsysyc', 'nsysye', 'nsysyg', 'nsysym', 'nsysyo', 'nsysyp', 'nsysysy', 'nsysysysy', 'nsysyw', 'nsysyx', 'nsysyy', 'nsysyyy', 'nsysyyyy', 'nsysyyyyy', 'nsysyyyyyy', 'nsysyyyyyyyyy', 'nsyw', 'nsyx', 'nsyy', 'nsyysy', 'nsyyy', 'nsyyyy', 'nsyyyyy', 'nsyyyyyy', 'nsyyyyyyyyy', 'nt', 'ntchnh', 'nth', 'ntn', 'ntq', 'ntv', 'nu', 'nucnmrcy', 'nuh', 'nuhnh', 'num', 'num11h', 'nv', 'nw', 'nwgn', 'nx', 'nxn', 'ny', 'ny0', 'ny3', 'ny9', 'ny_', 'nya', 'nyacvy', 'nyacvyv', 'nyam', 'nyc', 'nye', 'nyg', 'nyg1', 'nygmhvm', 'nyh', 'nyi', 'nym', 'nyo', 'nyp', 'nyph', 'nypm', 'nypv', 'nypvm', 'nyq', 'nysy', 'nysysy', 'nyv', 'nyw', 'nyx', 'nyy', 'nyy_', 'nyy_hmy', 'nyy_hyv', 'nyy_lyh', 'nyya', 'nyyacvy', 'nyyacvyv', 'nyyc', 'nyye', 'nyyg', 'nyyjn', 'nyym', 'nyym1m', 'nyymm', 'nyyo', 'nyyp', 'nyypc', 'nyyq', 'nyysy', 'nyysysy', 'nyyv', 'nyyw', 'nyyx', 'nyyy', 'nyyyy', 'nyyyyy', 'nyyyyyy', 'nyyyyyyyyyyyyyyyyyy', 'nz', 'o', 'o0', 'o2', 'o5', 'o6', 'o9', 'o_', 'o_m_', 'oa', 'oc', 'od', 'odm', 'odm6', 'odmn', 'oe', 'of', 'og', 'ogp', 'oi', 'oj', 'ol', 'om', 'om1t', 'om2', 'om3tq', 'om3y', 'omv', 'on', 'oo', 'ooq', 'op', 'oplwo', 'opng', 'opy', 'opyx', 'oq', 'oqnc', 'oqnqx', 'or', 'orml', 'orw', 'osy', 'osyc', 'ot', 'ou', 'ow', 'ow_', 'ox', 'ox_', 'oxc', 'oxox', 'oxp', 'oxq', 'oxy', 'oxy66ym', 'oy', 'oyg', 'oyl', 'oym', 'oyo', 'oyp', 'oyq', 'oyr', 'oyv', 'oyxbm', 'oyy', 'oz', 'ozn', 'p', 'p0', 'p1', 'p2', 'p5', 'p6', 'p60', 'p9', 'p9n', 'p_', 'p_o', 'p_p', 'pa', 'paoyj6', 'pc', 'pcu4mhv', 'pcur', 'pcy', 'pe', 'pet', 'pett', 'pf', 'pg', 'pgp', 'pgy', 'ph', 'pi', 'pj', 'pjt', 'pl', 'pm', 'pm1', 'pmy', 'pn', 'pnpv', 'pny', 'pnyy', 'po', 'pp', 'ppq', 'ppy', 'ppyv', 'pq', 'pqoq', 'pqy', 'pr', 'psy', 'psy_', 'psyc', 'psyp', 'psysy', 'pt', 'pu', 'pue', 'pv', 'pvm', 'pvmbmhyam11', 'pvmbmy', 'pvmbmya', 'pvmbmyp', 'pw', 'pwwwsy_', 'pwwwwwsy', 'pwx', 'px', 'pxy', 'pxyp', 'py', 'py1', 'py3', 'py7', 'pya', 'pyc', 'pyg', 'pyh', 'pyin', 'pyin0', 'pyl', 'pym', 'pyp', 'pypq', 'pyq', 'pyr', 'pyt', 'pyu', 'pyv', 'pyvm', 'pyw', 'pyx', 'pyy', 'pz', 'q', 'q0', 'q1', 'q1c', 'q1m', 'q1mn3mt1m', 'q1my', 'q2', 'q3', 'q5', 'q6', 'q7', 'q9', 'q9ng_cy', 'q_', 'qa', 'qb', 'qbm', 'qc', 'qc7mhv', 'qc7mhvty', 'qc7mhvy', 'qc7mhvy3', 'qc7mhvyl', 'qc7mhvyv', 'qcm', 'qcmqp', 'qcmsy', 'qcmty', 'qcmy', 'qcmy3', 'qcmyl', 'qcmyv', 'qd', 'qe', 'qemp', 'qg', 'qgp', 'qh', 'qh7mhvy', 'qhctcqn7', 'qhctn', 'qhm', 'qhmr', 'qhmry', 'qhmryl', 'qhmryu', 'qhmryv', 'qhmt', 'qhmv', 'qhn', 'qhsy', 'qhsyp', 'qhty', 'qhv', 'qhy', 'qhy3', 'qhy_ll', 'qhyh', 'qhyl', 'qhyv', 'qi', 'qj', 'ql', 'qlhmvh', 'qllt', 'qlrhvn', 'qm', 'qm1', 'qm11', 'qm1nv', 'qm1y', 'qm6', 'qm7mhv', 'qm7mhvy', 'qmb', 'qmc', 'qmey', 'qmh', 'qmhh', 'qmhhm', 'qmhhmy', 'qmhhmym', 'qmhm', 'qmhr', 'qmhv', 'qmhvtnyy', 'qmhvty', 'qmhvy', 'qmhy', 'qmn', 'qmnsy', 'qmnsysy', 'qmny', 'qmnyy', 'qmr', 'qmry', 'qmry3', 'qmryl', 'qmryu', 'qmryv', 'qmsnh', 'qmsnhmv', 'qmsnhmvsysy', 'qmsnhmvy', 'qmsy', 'qmsy_', 'qmt', 'qmtnsy', 'qmtny', 'qmtnyy', 'qmtsy', 'qmtv', 'qmtvy', 'qmty', 'qmty3', 'qmtyh', 'qmtyl', 'qmtyv', 'qmv', 'qmvty', 'qmvv', 'qmvy', 'qmvy3', 'qmvyv', 'qmy', 'qmy1', 'qmy3', 'qmy7', 'qmyact', 'qmyc', 'qmyg', 'qmyh', 'qmyhc7um', 'qmykc', 'qmyl', 'qmym', 'qmymh', 'qmyp', 'qmyr', 'qmysy', 'qmyt', 'qmytv', 'qmyu', 'qmyv', 'qmyx', 'qn', 'qnh', 'qnl', 'qnqx', 'qnrmy', 'qnsy', 'qnsysy', 'qnt', 'qny', 'qnyy', 'qo', 'qo_g', 'qog', 'qoq', 'qoy', 'qp', 'qpm', 'qpp', 'qppy', 'qpq', 'qpy', 'qq', 'qqm', 'qqmr', 'qqmry', 'qqmtvy', 'qqt', 'qqy', 'qr', 'qr3', 'qry', 'qs', 'qsy', 'qsy_', 'qsyc', 'qsysy', 'qt', 'qth', 'qtxh2', 'qty', 'qu', 'quty', 'qv', 'qw', 'qx', 'qxc', 'qxy', 'qy', 'qy1', 'qy3', 'qy7', 'qya', 'qyc', 'qyg', 'qyh', 'qyl', 'qym', 'qymh', 'qyoq', 'qyp', 'qyq', 'qyr', 'qyrm', 'qyt', 'qyu', 'qyv', 'qyw', 'qyx', 'qyyy', 'qz', 'r', 'r0', 'r1', 'r1m', 'r1mtty', 'r2', 'r3', 'r4', 'r4ctv', 'r4mhv', 'r5', 'r6', 'r6h', 'r6v', 'r7', 'ra', 'rb', 'rbm', 'rbmhvc', 'rc', 'rc1', 'rch', 'rchm', 'rchmry', 'rchmryu', 'rchmy', 'rchmyv', 'rchv', 'rchvt', 'rchvty', 'rchvy', 'rcmnmrc', 'rcmnmrcy', 'rcmy', 'rdw', 're', 'rey', 'reyv', 'rf', 'rg', 'rh', 'rhhnh', 'rhm', 'rhuvsy', 'rhuvy', 'rhuvy1', 'rhuvy3', 'rhuvy7', 'rhuvy8h', 'rhuvyh', 'rhuvyr', 'rhuvyt', 'rhuvyv', 'ri', 'rj', 'rkc', 'rl', 'rlh', 'rlh1', 'rlh1mtchngmhv', 'rlhtnh', 'rlr', 'rm', 'rm1', 'rm11', 'rm1g', 'rm1m', 'rm1t', 'rm1ty', 'rm1y', 'rm1yhc7um', 'rm3', 'rm6', 'rm7', 'rm7t', 'rm7ty', 'rm7y', 'rmb', 'rmh', 'rmhh', 'rmhhm', 'rmhhmnyy', 'rmhhmsy', 'rmhhmy', 'rmhhmy3', 'rmhhmyl', 'rmhhmyv', 'rmhn', 'rmhv', 'rmhv1', 'rmhvns', 'rmhvnyy', 'rmhvt', 'rmhvty', 'rmhvy', 'rmhvy3', 'rmhvyg1', 'rmhvyl', 'rmhvyt', 'rmhvyum1', 'rmhvyv', 'rmhy', 'rmkc', 'rml', 'rmm', 'rmn', 'rmnmrcn', 'rmnsy', 'rmnsysy', 'rmny', 'rmnyy', 'rmr', 'rmrnyy', 'rmrsy', 'rmry', 'rmry3', 'rmryh', 'rmryl', 'rmryu', 'rmryv', 'rmsy', 'rmsy_', 'rmsyv', 'rmt', 'rmth', 'rmtsy', 'rmtv', 'rmty', 'rmty3', 'rmtyl', 'rmtyv', 'rmu', 'rmy', 'rmy1', 'rmy3', 'rmy7', 'rmyb', 'rmyc', 'rmyg', 'rmyh', 'rmyl', 'rmyr', 'rmysy', 'rmyt', 'rmytv', 'rmyu', 'rmyv', 'rmyw', 'rn', 'rn7', 'rnh', 'rnhtnbvnmrcy', 'rnmrc', 'rnmrcs', 'rnmrcsysy', 'rnmrcy', 'rnqmnh', 'rnqx', 'rnsy', 'rnsysy', 'rntq', 'rnu', 'rny', 'rnyy', 'rnyyo', 'rnyyp', 'ro', 'rp', 'rq', 'rqm', 'rqmlu7tnh', 'rqmny', 'rqmty', 'rqmv', 'rqmvg1', 'rqmvt', 'rqmvty', 'rqmvy', 'rqmvyv', 'rqmy', 'rqmyc', 'rr', 'rr1m', 'rr1my', 'rr1myq', 'rrm', 'rrmhy', 'rrmry', 'rrmryv', 'rrty', 'rry', 'rryv', 'rs', 'rsy', 'rsy_', 'rsyc', 'rsyh', 'rsyl', 'rsyp', 'rsysy', 'rsyv', 'rsyyy', 'rsyyyy', 'rsyyyyy', 'rsyyyyyy', 'rsyyyyyyi', 'rsyyyyyyy', 'rt', 'rtnch', 'rtnh', 'rtnsy', 'rtnsysy', 'rtny', 'rtnyy', 'rtsy', 'rtsy_', 'rtt', 'rtv', 'rty', 'rty1', 'rty3', 'rty3m', 'rtyh', 'rtyl', 'rtyr', 'rtyt', 'rtyu', 'rtyv', 'ru', 'ruty', 'ruty3', 'rutyh', 'rutym', 'rutyms', 'rv', 'rw', 'rx', 'ry', 'ry1', 'ry3', 'ry4', 'ry7', 'ry8h', 'ry9', 'ry9m', 'rya', 'ryb', 'rybm', 'ryc', 'rycny', 'rye', 'ryg', 'ryh', 'ryh1', 'ryhmbm', 'ryi', 'rykcmtv', 'ryl', 'ryl1', 'rym', 'rymb', 'rymbm', 'rymh', 'ryms', 'ryo', 'ryp', 'rypm', 'rypv', 'rypvm', 'ryq', 'ryqc', 'ryr', 'ryrm', 'ryrmh', 'rysy', 'rysyv', 'ryt', 'rytc', 'rytch', 'ryth', 'rytm', 'rytmbm', 'rytv', 'ryu', 'ryucvy', 'ryum', 'ryumh', 'ryuml', 'ryummhy', 'ryummhyv', 'ryumvvm', 'ryv', 'ryv3', 'ryvm', 'ryw', 'ryx', 'ryy', 'ryyyyxmth', 'rz', 's', 's5', 's7', 'sb', 'sh', 'sh1', 'shna', 'sl', 'slh', 'slnhhnh', 'sm', 'sm1', 'sm1tt', 'sm1ty', 'sm1y', 'smry', 'smryv', 'smt', 'smty', 'smtyv', 'sn', 'sn7', 'sn8', 'snc3mhnmrc', 'snc3mhnmrcy', 'snh', 'snh1', 'snhtnrcnmrcy', 'snmhhnc', 'snsysy', 'sntl', 'sny', 'snyy', 'sqncuhnh', 'sr', 'ssy', 'ssy_', 'ssyp', 'sunhhnh', 'sv', 'sy', 'sy0', 'sy0i', 'sy0j', 'sy1', 'sy1m', 'sy2', 'sy3', 'sy3m', 'sy4', 'sy5', 'sy6', 'sy66sy', 'sy66ysy', 'sy6y', 'sy7', 'sy7ch', 'sy7m', 'sy8', 'sy8h', 'sy9', 'sy9m', 'sy9mhvsy666syt', 'sy_', 'sya', 'syb', 'sybm', 'syc', 'syc0', 'syc2', 'syc5', 'syc6', 'syc9', 'syc_', 'syca', 'sycanw', 'sycc', 'syce', 'sycf', 'sycg', 'sych', 'sychrm', 'syci', 'sycj', 'sycl', 'sycm', 'sycn', 'syco', 'sycp', 'sycq', 'sycr', 'syct', 'syctmy', 'sycu', 'sycw', 'sycx', 'sycy', 'sycz', 'syczix', 'syd', 'sye', 'syf', 'syg', 'syh', 'syh1', 'syh1m', 'syhm', 'syi', 'syi0', 'syii', 'syij', 'syin', 'syj', 'sykc', 'syl', 'sym', 'sym67', 'sym7', 'symbm', 'symh', 'syms', 'symt', 'syn', 'synnnsy', 'syo', 'syohv', 'syom3t6p', 'syoo', 'syoy', 'syp', 'sypc77', 'sypcu4mhv', 'syph', 'sypm', 'sypv', 'syq', 'syqc', 'syqs', 'syr', 'syrm', 'syrmh', 'sys', 'sysy', 'sysy0', 'sysy4', 'sysy6', 'sysy66ysy', 'sysy7', 'sysy9', 'sysy_', 'sysy_lyh', 'sysya', 'sysyc', 'sysye', 'sysyg', 'sysyh', 'sysyi', 'sysym', 'sysym1m', 'sysyo', 'sysyp', 'sysypm', 'sysyq', 'sysyr', 'sysys', 'sysysy', 'sysysy66ysy', 'sysysyc', 'sysysyg', 'sysysyp', 'sysysys', 'sysysysy', 'sysysyx', 'sysyt', 'sysyu', 'sysyv', 'sysyw', 'sysyx', 'sysyxc', 'sysyy', 'sysyyy', 'sysyyyy', 'sysyyyyy', 'sysyyyyyy', 'sysyyyyyyy', 'sysyyyyyyyyy', 'syt', 'syt1', 'sytc', 'syth', 'sytm', 'sytv', 'syu', 'syuc', 'syucvy', 'syucvyh', 'syucvyv', 'syum', 'syum1', 'syumh', 'syumy', 'syv', 'syvm', 'syw', 'syx', 'syxm', 'syy', 'syy3', 'syy9m', 'syyc', 'syyfi', 'syyh', 'syyi', 'syyp', 'syys', 'syysy', 'syysyy', 'syyv', 'syyy', 'syyy3', 'syyy6y', 'syyy7', 'syyyg', 'syyyh', 'syyyl', 'syyyr', 'syyyt', 'syyyv', 'syyyy', 'syyyy7', 'syyyye', 'syyyyh', 'syyyyv', 'syyyyy', 'syyyyy3', 'syyyyy7', 'syyyyyg', 'syyyyyh', 'syyyyyi', 'syyyyyl', 'syyyyym', 'syyyyyp', 'syyyyyr', 'syyyyyt', 'syyyyyv', 'syyyyyx', 'syyyyyy', 'syyyyyyv', 'syyyyyyy', 'syyyyyyyy', 'syyyyyyyyp', 'syyyyyyyyy', 'syyyyyyyyyy', 'syyyyyyyyyyyy', 'syyyyyyyyyyyyy', 'syyyyyyyyyyyyyy', 'syyyyyyyyyyyyyyyg', 'syyyyyyyyyyyyyyyyy', 'syyyyyyyyyyyyyyyyyy', 'syyyyyyyyyyyyyyyyyyyyyyyyyy', 'syyyyyyyyyyyyyyyyyyyyyyyyyyy', 'syyyyyyyyyyyyyyyyyyyyyyyyyyyyu', 'syz', 't', 't0', 't1', 't1m', 't1mm', 't3', 't5', 't5h', 't5q', 't6', 't7', 't7n', 't7nq', 't7ny', 't7nyy', 't7q', 't7sy', 't7sy_', 't7ty', 't7y', 't7y3', 't7yl', 't7yv', 't8', 't8m', 't8mr', 't8mry', 't8mryl', 't8mrytcmtv', 't8mryv', 't8mvu', 't8nh', 't8nsysy', 't8nyy', 't8sy', 't8t', 't8tnyy', 't8ty', 't8tyh', 't8y', 't8y3', 't8y7my', 't8yh', 't8yl', 't8yr', 't8yt', 't8yv', 't9', 't_', 'ta', 'tb', 'tc', 'tcb7n', 'tch', 'tchrm', 'tcnmrc', 'tcnmrcy', 'tcty', 'te', 'tey', 'tf', 'tfix', 'tfz', 'tg', 'th', 'th1', 'th6u', 'thc', 'thctt', 'thcttmry', 'thctty', 'thcttyv', 'thm', 'thm11', 'thn', 'thnh', 'thnl', 'thnmrc', 'thnmrcy', 'thuv', 'thuvsy', 'thuvy', 'thuvy3', 'thuvy7', 'thuvyh', 'thuvyl', 'thuvyq', 'thuvyr', 'thuvyt', 'thuvyummhy', 'thuvyv', 'thy', 'ti', 'tj', 'tjijulc', 'tk1n', 'tkc', 'tl', 'tl7', 'tlg', 'tlh', 'tlhmvh', 'tlm', 'tln', 'tm', 'tm1', 'tm1bmty', 'tm1l', 'tm1lnsy', 'tm1lnsysy', 'tm1lny', 'tm1lnyy', 'tm1lsy', 'tm1ly', 'tm1ly3', 'tm1lyv', 'tm6', 'tm7', 'tmbm', 'tmc', 'tmcr', 'tmey', 'tmh', 'tmhc', 'tmhcv', 'tmhmv', 'tmhmvy', 'tmhry', 'tmhv', 'tmhy', 'tml', 'tmmy', 'tmmyv', 'tmn', 'tmnh', 'tmnsy', 'tmnsysy', 'tmnt', 'tmnu', 'tmny', 'tmnyy', 'tmr', 'tmr1', 'tmrmt', 'tmrny', 'tmrnyy', 'tmrsy', 'tmrsyv', 'tmry', 'tmry3', 'tmry7', 'tmryc', 'tmryh', 'tmryl', 'tmryr', 'tmryt', 'tmryu', 'tmryv', 'tmsc', 'tmsy', 'tmsy3', 'tmsy_', 'tmsyh', 'tmsyv', 'tmt', 'tmtnsysy', 'tmtny', 'tmtnyy', 'tmtsy', 'tmtt', 'tmty', 'tmty1', 'tmty3', 'tmtyl', 'tmtyv', 'tmu', 'tmv', 'tmvy', 'tmy', 'tmy1', 'tmy1mvy7my8h', 'tmy3', 'tmy3m', 'tmy7', 'tmy8', 'tmyb', 'tmyc', 'tmycmr', 'tmye', 'tmyg', 'tmyh', 'tmyl', 'tmym', 'tmym67', 'tmym7', 'tmyms', 'tmyp', 'tmyq', 'tmyr', 'tmysy', 'tmyt', 'tmyth', 'tmytmhry', 'tmytv', 'tmyu', 'tmyv', 'tmyv3', 'tmyvm11y7my3', 'tn', 'tn1', 'tn3', 'tn7', 'tn7t63', 'tnc', 'tnch', 'tncl1nmrc', 'tnh', 'tnhhtcnmrcy', 'tnmrc', 'tnmrcsy_', 'tnmrcsysy', 'tnmrcy', 'tnnn', 'tnr', 'tnrvnh', 'tns', 'tnsy', 'tnsy_', 'tnsysy', 'tnsysysy', 'tntv', 'tnvm7', 'tny', 'tnyp', 'tnysy', 'tnysysy', 'tnyw', 'tnyx', 'tnyy', 'tnyyc', 'tnyyo', 'tnyyp', 'tnyyw', 'tnyyx', 'to', 'tp', 'tq', 'tqc', 'tqctv', 'tr', 'trntq', 'try', 'ts', 'tsy', 'tsy1', 'tsy3', 'tsy7', 'tsy9m', 'tsy_', 'tsyc', 'tsyh', 'tsyl', 'tsyohv', 'tsyp', 'tsyq', 'tsyr', 'tsysy', 'tsyt', 'tsyu', 'tsyum', 'tsyv', 'tsyy', 'tsyyy', 'tsyyyy', 'tsyyyyy', 'tt', 'tt3', 'tt6', 'tt7', 'ttc', 'ttc7', 'ttc7m', 'ttc7mryv', 'ttc7my', 'ttc7myv', 'ttcm', 'ttcmnyy', 'ttcmry', 'ttcmt', 'ttcmty', 'ttcmy', 'ttcmy3', 'ttcmyl', 'ttcmyv', 'ttg_', 'ttm', 'ttm7u1', 'ttmhqm', 'ttmr', 'ttmry', 'ttmryt', 'ttmryv', 'ttmt', 'ttmtn', 'ttmtt', 'ttmty', 'ttmtyv', 'ttmy', 'ttn', 'ttnsy', 'ttnsysy', 'ttny', 'ttnyy', 'ttr', 'ttsy', 'tty', 'tty1', 'tty3', 'tty7', 'ttyh', 'ttyl', 'ttyt', 'ttytc', 'ttyu', 'ttyv', 'tu', 'tuc', 'tum', 'tum1', 'tuy', 'tuym', 'tv', 'tv1', 'tv6', 'tv7', 'tvc', 'tvey', 'tvh', 'tvm', 'tvm11', 'tvm7', 'tvm7nsy', 'tvm7nsysy', 'tvm7ny', 'tvm7nyy', 'tvm7sy', 'tvm7syp', 'tvm7t', 'tvm7tny', 'tvm7tsyp', 'tvm7ty', 'tvm7ty3', 'tvm7tyg', 'tvm7typ', 'tvm7tyv', 'tvm7tyx', 'tvm7y', 'tvm7y3', 'tvm7yh', 'tvm7yl', 'tvm7yr', 'tvm7yt', 'tvm7yv', 'tvmh', 'tvmhh', 'tvmhhm', 'tvmhhmy', 'tvmhv', 'tvmhv1', 'tvmhvy', 'tvmhvy3', 'tvmhy', 'tvmhyv', 'tvmm', 'tvmr', 'tvmr6w', 'tvmrsy', 'tvmry', 'tvmryl', 'tvmryv', 'tvmy', 'tvmyv', 'tvn', 'tvnpv', 'tvnq', 'tvnsy', 'tvnsysy', 'tvntchnh', 'tvny', 'tvnyy', 'tvph', 'tvq', 'tvr', 'tvrm', 'tvsy', 'tvsy_', 'tvsyh', 'tvsyv', 'tvt', 'tvth', 'tvtm', 'tvtnh', 'tvtnsysy', 'tvtny', 'tvtnyy', 'tvtsy', 'tvty', 'tvty1', 'tvty3', 'tvtyh', 'tvtyl', 'tvtyr', 'tvtysyyyyyyyyyyyyyyyyyyyyyyyyyyyyy', 'tvtyv', 'tvu', 'tvuty', 'tvy', 'tvy1', 'tvy1m', 'tvy3', 'tvy3mm8', 'tvy7', 'tvya', 'tvyac', 'tvyb', 'tvyc', 'tvye', 'tvyg', 'tvyh', 'tvyhm', 'tvyi', 'tvyiyyyj', 'tvyl', 'tvym', 'tvymbm', 'tvymh', 'tvymllmhv', 'tvyms', 'tvyp', 'tvyq', 'tvyr', 'tvysy', 'tvyt', 'tvytm', 'tvytv', 'tvyu', 'tvyumh', 'tvyv', 'tvyv3', 'tw', 'twsy', 'twyy', 'tx', 'ty', 'ty0', 'ty1', 'ty1m', 'ty1mlvy', 'ty1mq', 'ty1mttyv', 'ty3', 'ty3m', 'ty3m11', 'ty3m11nsy', 'ty3m11nsysy', 'ty3m11ny', 'ty3m11nyy', 'ty3m11y', 'ty3my', 'ty3myh', 'ty3myr', 'ty4', 'ty4ctv', 'ty4ctvy', 'ty4ctvy3', 'ty4ctvyt', 'ty4ctvyv', 'ty66y', 'ty6y', 'ty7', 'ty7c', 'ty7ch', 'ty7m', 'ty7mhv', 'ty7mtt', 'ty7mv', 'ty8', 'ty8h', 'ty8m', 'ty9', 'tya', 'tyam', 'tyb', 'tybm', 'tyc', 'tych', 'tych1', 'tychl', 'tychrm', 'tychrml', 'tycp', 'tyct', 'tyctc', 'tyctmr', 'tyctmry', 'tyctmryv', 'tyd', 'tye', 'tyeh', 'tyeq', 'tyet', 'tyev', 'tyg', 'tyg1', 'tyh', 'tyh1', 'tyh1m', 'tyhc', 'tyhc7um', 'tyhm', 'tyhm3tq', 'tyhmbm', 'tyhmhmtt', 'tyi', 'tykc', 'tykcmtv', 'tyl', 'tyl1', 'tylc11', 'tylc11y', 'tylchhv', 'tylm', 'tym', 'tym7', 'tymb', 'tymbm', 'tymbmhy', 'tymh', 'tymhh', 'tymhv', 'tymkc', 'tymllmhv', 'tyms', 'tymt', 'tymth', 'tymttmhv', 'tymtv', 'tyo', 'tyo_', 'typ', 'typh', 'typv', 'tyq', 'tyq1', 'tyqc', 'tyqmhm', 'tyqmvv', 'tyqmvy', 'tyr', 'tyrc', 'tyrcmyv', 'tyrm', 'tyrm1', 'tyrm7', 'tyrmb', 'tyrmbm1', 'tyrmh', 'tyrml', 'tyrmt', 'tyrmth', 'tyrmvm', 'tysy', 'tysy3', 'tysyh', 'tysyt', 'tysyv', 'tyt', 'tyt1', 'tyt7', 'tytc', 'tytc77m', 'tytch', 'tytcll', 'tytcllm', 'tytcu4mhvy', 'tyth', 'tytm', 'tytmh', 'tytmhc', 'tytmhv', 'tytmm7tyv', 'tytmm7yv', 'tytmvyc', 'tytv', 'tytvc', 'tytvcll', 'tytvclly', 'tytvcr', 'tyu', 'tyu1', 'tyuc', 'tyucvy', 'tyum', 'tyum1', 'tyumh', 'tyuml', 'tyummhsy', 'tyummhy', 'tyummhy7', 'tyummhyh', 'tyummhyq', 'tyummhyr', 'tyummhyt', 'tyummhyv', 'tyumq', 'tyumvvm', 'tyumy', 'tyv', 'tyv3', 'tyvc', 'tyvm', 'tyvm11', 'tyvmh', 'tyw', 'tyx', 'tyy', 'tyysy', 'tyyv', 'tyyyyyyyyyy', 'tz', 'tzix', 'u', 'u0', 'u05', 'u1', 'u11y', 'u11yh', 'u11yq', 'u11yumy', 'u11yv', 'u11yvm11y', 'u1m', 'u1m7', 'u1m7nsy', 'u1m7nsysy', 'u1m7ny', 'u1m7nyy', 'u1m7sy', 'u1m7t', 'u1m7tnyy', 'u1m7tsy', 'u1m7ty', 'u1m7ty3', 'u1m7tyl', 'u1m7tyv', 'u1m7y', 'u1m7y3', 'u1m7yh', 'u1m7yl', 'u1m7yv', 'u1mey', 'u1mnsy', 'u1mnsysy', 'u1mny', 'u1mnyy', 'u1msy', 'u1msyl', 'u1msyv', 'u1mt', 'u1mty', 'u1mtyv', 'u1my', 'u1my1', 'u1my3', 'u1my7', 'u1myb', 'u1myc', 'u1myh', 'u1myl', 'u1myq', 'u1myr', 'u1mysy', 'u1myt', 'u1mytv', 'u1myu', 'u1myv', 'u1myvm', 'u2', 'u4mhv', 'u4mhvt', 'u4mhvty', 'u4mhvy', 'u4mhvyv', 'u5', 'u51', 'u6', 'u7', 'u7n', 'u7n1', 'u7nh', 'u7sy', 'u7y', 'u7y1', 'u7y3', 'u7y4ctvy', 'u7y7', 'u7yct', 'u7yh', 'u7yhc', 'u7yl', 'u7yq', 'u7yqmvv', 'u7yr', 'u7yt', 'u7ytc', 'u7ytv', 'u7yv', 'u9', 'u_', 'ua', 'ub', 'ubmsy', 'ubmy', 'ubmy1', 'ubmy7', 'ubmyh', 'ubmyhmbm', 'ubmyl', 'ubmymbm', 'ubmyq', 'ubmyr', 'ubmyt', 'ubmytmmhy', 'ubmytmmhyv', 'ubmyummhy', 'ubmyummhyv', 'ubmyv', 'uc', 'uc1', 'uchr', 'ucl', 'uct', 'uctm', 'uctmy', 'ucv', 'ucvmry', 'ucvmryv', 'ucvmy', 'ucvmyv', 'ucvy', 'ucvyh', 'ucvyv', 'ucycct', 'ue', 'uet', 'uf', 'ug', 'uh', 'ui', 'ui2g', 'uj', 'ul', 'ulcth', 'ulh', 'ult', 'uluh', 'um', 'um1', 'um11', 'umh', 'uml', 'ummhy', 'umnh', 'umr', 'umry', 'umryu', 'umryv', 'umsy', 'umt', 'umty', 'umtyv', 'umv', 'umvvm', 'umy', 'umy3', 'umyh', 'umyl', 'umym', 'umyp', 'umyt', 'umyv', 'un', 'unh', 'unsy', 'unsysy', 'unthht', 'uny', 'unyy', 'uo', 'up', 'upy', 'uq', 'ur', 'ursy', 'ury', 'ury1', 'ury3', 'uryh', 'uryt', 'uryumy', 'uryumy3', 'uryv', 'usy', 'usyc', 'usyp', 'usysy', 'ut', 'utc', 'uthc', 'utm', 'utmhhmy', 'utny', 'utnyy', 'utp', 'utsy', 'utv', 'uty', 'uty1', 'uty3', 'uty7', 'uty7mtt', 'utya', 'utyb', 'utyc', 'utye', 'utyg', 'utyh', 'utyl', 'utym', 'utyp', 'utyq', 'utyr', 'utysy', 'utyt', 'utytv', 'utyu', 'utyv', 'uu', 'uul', 'uum', 'uumlb', 'uut', 'uuy', 'uv', 'uw', 'ux', 'uy', 'uy3', 'uy7', 'uya', 'uyam', 'uybmtvm', 'uyg', 'uyh', 'uyl', 'uyp', 'uyq', 'uyr', 'uyt', 'uytv', 'uyv', 'uyx', 'uyy', 'uz', 'v', 'v1', 'v1m', 'v1mryv', 'v1my', 'v1n', 'v3', 'v5', 'v6', 'v6h', 'v6t', 'v6v', 'v7', 'v7mhv', 'v7mhvsy', 'v7mhvsyp', 'v7mhvty', 'v7mhvy', 'v7mhvyl', 'v7mhvyv', 'v8', 'vb', 'vc', 'vc1', 'vc11', 'vch', 'vchqlh', 'vcmy', 'vcntr', 'vcrm', 'vcrmy', 'vcrmyv', 'vct', 'vctnh', 'vcty', 'vctyg', 'vcv', 'vcvm', 'vcvmsyp', 'vcvmty', 'vcvmy', 'vcvmyl', 've', 'vey', 'vg', 'vh', 'vhm', 'vhmtt', 'vhmtty', 'vhmttyv', 'vhmv', 'vi', 'vi7lh', 'vil', 'vim', 'viy', 'viyf', 'vl', 'vl7', 'vlh', 'vlhmvh', 'vlms', 'vm', 'vm1', 'vm11', 'vm3', 'vm6', 'vm7', 'vm7mhv', 'vm7mhvty', 'vm7mhvy', 'vm7mhvyv', 'vm7ty', 'vm7um', 'vm7y', 'vm8nh', 'vmbm', 'vmc', 'vmey', 'vmh', 'vmhmryu', 'vmhv', 'vmhv1', 'vmhvc', 'vmhvmr', 'vmhvmry', 'vmhvty', 'vmhvy', 'vmhvyv', 'vmhy', 'vmhyv', 'vmm', 'vmn', 'vmn7', 'vmnmrc', 'vmnmrcsy_', 'vmnmrcy', 'vmnqrcy', 'vmnqx', 'vmnsy', 'vmnsysy', 'vmnu', 'vmnum', 'vmny', 'vmnyy', 'vmq', 'vmr', 'vmr1', 'vmrnsy', 'vmrnsysy', 'vmrny', 'vmrnyy', 'vmrnyysysys', 'vmrsy', 'vmrsyp', 'vmrsyv', 'vmry', 'vmry1', 'vmry3', 'vmry7', 'vmry9', 'vmryc', 'vmryh', 'vmryl', 'vmrym', 'vmryo', 'vmrypv', 'vmryq', 'vmryr', 'vmrysy', 'vmryt', 'vmrytm', 'vmryu', 'vmryv', 'vmsvy', 'vmsy', 'vmsyh', 'vmsyl', 'vmsyv', 'vmt', 'vmtnnnsy', 'vmtny', 'vmtnyy', 'vmtsy', 'vmtv', 'vmtvy', 'vmtvybm', 'vmty', 'vmty3', 'vmtyh', 'vmtyl', 'vmtyt', 'vmtyu', 'vmtyv', 'vmu', 'vmy', 'vmy1', 'vmy3', 'vmy7', 'vmy8m', 'vmyb', 'vmyc', 'vmyg', 'vmyh', 'vmyhc7um', 'vmyi', 'vmyl', 'vmym', 'vmyp', 'vmyph', 'vmyq', 'vmyr', 'vmysy', 'vmyt', 'vmytc', 'vmyth', 'vmytmht', 'vmytmhv', 'vmytv', 'vmyu', 'vmyv', 'vmyw', 'vmyx', 'vn', 'vn1htn7', 'vneyy', 'vng', 'vnh', 'vnmrc', 'vnmrcsy', 'vnmrcsy_', 'vnmrcsypcu4mhv', 'vnmrcsysy', 'vnmrcy', 'vnmt8', 'vnnn', 'vnnny', 'vnq', 'vns', 'vnsy', 'vnsyp', 'vnsysy', 'vnsysyc', 'vnsysyo', 'vnsysyp', 'vnsysysy', 'vnsysyx', 'vnt', 'vnu', 'vny', 'vnyp', 'vnysy', 'vnysysy', 'vnyy', 'vnyya', 'vnyyacvy', 'vnyyc', 'vnyyo', 'vnyyp', 'vnyysy', 'vnyysysy', 'vnyyw', 'vnyyx', 'vpmv', 'vr', 'vry', 'vryv', 'vs', 'vsy', 'vsy1', 'vsy1m', 'vsy3', 'vsy7', 'vsy_', 'vsyh', 'vsyl', 'vsyo', 'vsyp', 'vsyq', 'vsyr', 'vsysy', 'vsyt', 'vsyu', 'vsyv', 'vsyx', 'vsyy', 'vsyyy', 'vsyyyy', 'vsyyyyy', 'vt', 'vt5', 'vtcu', 'vtey', 'vth', 'vtm', 'vtm1l', 'vtm1lnyy', 'vtm1ly', 'vtm1lyv', 'vtn', 'vtnsy', 'vtnsysy', 'vtny', 'vtnyy', 'vtqn7', 'vtsy', 'vtsy_', 'vtsyh', 'vtv', 'vtvm', 'vty', 'vty1', 'vty3', 'vty3m', 'vty7', 'vtyb', 'vtyc', 'vtyh', 'vtyl', 'vtyms', 'vtypv', 'vtyq', 'vtyr', 'vtysy', 'vtyt', 'vtytv', 'vtyu', 'vtyv', 'vtyvm', 'vu', 'vutsy', 'vuty', 'vuty1', 'vuty3', 'vuty4ctvy', 'vuty7', 'vutybm', 'vutyc', 'vutyh', 'vutyl', 'vutym', 'vutyq', 'vutyr', 'vutyt', 'vutytv', 'vutyu', 'vutyumh', 'vutyummhy', 'vutyumvvm', 'vutyv', 'vuy', 'vv', 'vv1', 'vv1m', 'vv1ml', 'vv1msy', 'vv1msyp', 'vv1my', 'vv1my3', 'vv1my7', 'vv1myh', 'vv1myq', 'vv1myr', 'vv1myu', 'vv1myv', 'vv7', 'vvl', 'vvm', 'vvm7', 'vvmh', 'vvmhr', 'vvmhv', 'vvmhy', 'vvmhy3', 'vvmhyl', 'vvmhyu', 'vvmhyv', 'vvmm', 'vvmmy', 'vvmr', 'vvmr1', 'vvmry', 'vvmryu', 'vvmryv', 'vvn', 'vvnh', 'vvnmrc', 'vvnmrcy', 'vvnmrcyyy', 'vvt', 'vvtuc', 'vvty', 'vvy', 'vvya', 'vvyp', 'vw', 'vwsysy', 'vwy', 'vwyy', 'vy', 'vy0', 'vy1', 'vy1m', 'vy3', 'vy3m', 'vy3mhvy', 'vy3mu', 'vy3my', 'vy3my3', 'vy3myh', 'vy3myr', 'vy3myt', 'vy4', 'vy4ctv', 'vy4ctvy', 'vy4ctvyr', 'vy4ctvyv', 'vy66y', 'vy6y', 'vy7', 'vy7c1v', 'vy7ch', 'vy7ctvyumy', 'vy7m', 'vy7mhv', 'vy8', 'vy8h', 'vy8m', 'vy8mm', 'vy9', 'vy_', 'vya', 'vyac', 'vyacll', 'vyam', 'vyb', 'vybm', 'vyc', 'vych', 'vych1', 'vychh', 'vychrm', 'vychv', 'vyct', 'vyctc', 'vyctmryv', 'vyctmty', 'vyctmy', 'vyctmyv', 'vye', 'vye7', 'vyev', 'vyg', 'vyg1', 'vyg_o', 'vygmhvm', 'vyh', 'vyh1', 'vyh1m', 'vyhc', 'vyhc7um', 'vyhm', 'vyhmbm', 'vyhmhmtt', 'vyhmmrty', 'vyhmmrtyv', 'vyi', 'vyiy', 'vykc', 'vykcmtv', 'vyl', 'vyl1', 'vym', 'vymb', 'vymbm', 'vymbmhy', 'vymh', 'vymhh', 'vymhv', 'vymkc', 'vyms', 'vyn', 'vyo', 'vyp', 'vyph', 'vypm', 'vypmh', 'vypv', 'vyq', 'vyqc', 'vyqmhm', 'vyqmvty', 'vyqmvv', 'vyqmvy', 'vyqmvyv', 'vyqs', 'vyr', 'vyrm', 'vyrm7', 'vyrmh', 'vyrml', 'vyrmt', 'vyrmth', 'vyrmtm', 'vysy', 'vysy3', 'vysyh', 'vysyt', 'vysyv', 'vysyyyyyyyyyyyyyyyyyyyyyyyyyyyyy7', 'vyt', 'vyt1', 'vyt3', 'vyt7', 'vyt8', 'vytc', 'vytch', 'vyth', 'vytm', 'vytmbm', 'vytmh', 'vytmm7ty', 'vytmm7ty1', 'vytmm7tyv', 'vytmm7yv', 'vytmmy', 'vytv', 'vytvm', 'vyu', 'vyu1', 'vyuc', 'vyucvy', 'vyum', 'vyum1', 'vyumh', 'vyuml', 'vyummhy', 'vyumq', 'vyumvvm', 'vyumy', 'vyumy3', 'vyumy7', 'vyumyh', 'vyumyr', 'vyumyt', 'vyumyv', 'vyv', 'vyv3', 'vyvc', 'vyvm', 'vyw', 'vyx', 'vyy', 'vyysy', 'vyyyyyyyy', 'vyyyyyyyyy', 'w', 'w0', 'w1', 'w2', 'w5', 'w5wa', 'w6', 'w9', 'w_', 'wa', 'wc', 'wd', 'we', 'wemp', 'wesy', 'wf', 'wg', 'wi', 'wj', 'wj6', 'wjc', 'wl', 'wm', 'wn', 'wo', 'wp', 'wq', 'wr', 'wre', 'wret', 'wsy', 'wsy_', 'wsyc', 'wsyohv', 'wsysy', 'wt', 'wu', 'wv', 'ww', 'wwy', 'wx', 'wy', 'wy3', 'wya', 'wyb', 'wyh', 'wyl', 'wyo_yp', 'wyr', 'wyt', 'wyv', 'wyy', 'wz', 'x', 'x0', 'x2', 'x25', 'x25z', 'x5', 'x6', 'x7', 'x9', 'x_', 'x_p', 'x_y', 'xa', 'xc', 'xcqyl', 'xd', 'xe', 'xf', 'xg', 'xi', 'xj', 'xl', 'xlgc', 'xm', 'xmhh', 'xn', 'xnnn2sy', 'xno', 'xnp', 'xny', 'xo', 'xod', 'xodm', 'xoxc', 'xoxoxo', 'xp', 'xpq', 'xpy', 'xq', 'xqo', 'xqy', 'xqybtypgp', 'xqyh', 'xqyr', 'xr', 'xsy', 'xsyc', 'xt', 'xty', 'xu', 'xw', 'xx', 'xxp', 'xy', 'xyg', 'xyh', 'xyo', 'xyoj', 'xyv', 'xyy', 'xz', 'y', 'y0', 'y00', 'y00syoo', 'y00sysy', 'y0i', 'y0isysy', 'y0isyx', 'y0iy', 'y0j', 'y0jj', 'y0jjjy', 'y0jsyoo', 'y0jsysy', 'y0jy', 'y0n', 'y0nsyoo', 'y0nsysy', 'y0ny', 'y0y', 'y1', 'y11', 'y1c', 'y1ch', 'y1chh', 'y1m', 'y1mbm1y', 'y1mhqv', 'y1mlv', 'y1mlvy', 'y1mlvyv', 'y1mq', 'y1mtt', 'y1mttm', 'y1mtty', 'y1mttyv', 'y1mvvm', 'y1mvy', 'y1mvy7my8h', 'y1mvyv', 'y2', 'y3', 'y31t7', 'y3htl', 'y3m', 'y3m11', 'y3m11nyy', 'y3m11y', 'y3m11yv', 'y3m1h', 'y3mhvy', 'y3mhvyv', 'y3mm8', 'y3mm8ty', 'y3mm8y', 'y3msy', 'y3mu', 'y3my', 'y3my3', 'y3my3m', 'y3my7', 'y3my8h', 'y3myh', 'y3myhmmryv', 'y3myl', 'y3myms', 'y3myr', 'y3myt', 'y3myv', 'y4', 'y47', 'y47rlhcumn', 'y4c', 'y4c7', 'y4crqmy', 'y4ctv', 'y4ctvy', 'y4ctvy1', 'y4ctvy3', 'y4ctvy4', 'y4ctvyh', 'y4ctvyl', 'y4ctvyq', 'y4ctvyr', 'y4ctvyt', 'y4ctvyu', 'y4ctvyv', 'y4h', 'y4l', 'y4m', 'y4mkl1', 'y4q', 'y4u', 'y5', 'y5ct', 'y5y', 'y6', 'y66', 'y66sy', 'y66y', 'y66y3', 'y66ysy', 'y66yt', 'y66yv', 'y6j', 'y6y', 'y6y0', 'y6y3', 'y6yc', 'y6yg', 'y6yh', 'y6ym7', 'y6yp', 'y6yv', 'y7', 'y71mml', 'y73', 'y74', 'y77', 'y7c', 'y7c1v', 'y7ch', 'y7ct', 'y7ctvy', 'y7ctvyumy', 'y7cvc', 'y7h', 'y7hh', 'y7m', 'y7m7', 'y7m7um', 'y7mh', 'y7mhv', 'y7mhy', 'y7mmv', 'y7mmvy', 'y7mmvyv', 'y7mnsy', 'y7mnsysy', 'y7mny', 'y7mnyy', 'y7mq', 'y7mr', 'y7msy', 'y7mtt', 'y7mv', 'y7mvm', 'y7my', 'y7my1', 'y7my3', 'y7myv', 'y7ttlhmvh', 'y8', 'y81', 'y87', 'y88m11m', 'y8h', 'y8hm3y', 'y8hm3yv', 'y8m', 'y8m7', 'y8mb', 'y8mm', 'y9', 'y91', 'y9c', 'y9h', 'y9m', 'y9m11m', 'y9p', 'y_', 'y_1', 'y_8', 'y_81', 'y_9', 'y_bm', 'y_cvy_hy', 'y_g', 'y_h1', 'y_hc', 'y_hhmyv', 'y_hmy', 'y_hv', 'y_lyh', 'y_oy', 'y_p', 'y_utm', 'y_v', 'y_vv', 'y_wy', 'ya', 'ya1', 'ya1cmy', 'ya_p6', 'yaapy', 'yac', 'yacll', 'yacvy', 'yacvyv', 'yag', 'yam', 'yam11', 'yam116o', 'yam11yp', 'yamh87', 'yamv', 'yangn', 'yao', 'yap', 'yaqp', 'yb', 'ybm', 'ybm1', 'ybmhr', 'ybmtvmry', 'ybmy', 'ybty', 'yc', 'yc1v', 'yc_', 'ycc', 'ycc1v', 'ycch', 'yccmhh', 'ycct1', 'ycctv', 'ych', 'ych1', 'ych1mtty', 'ych1mttyv', 'ych8h', 'ychh', 'ychl', 'ychrm', 'ychv', 'ychx', 'ycm', 'ycm1u', 'ycm7', 'ycmh', 'ycmq', 'ycmr', 'ycmtt', 'ycmv', 'ycmvm', 'ycny', 'ycp', 'ycp6', 'ycpy', 'ycq', 'ycr', 'yct', 'yctc', 'yctm', 'yctmlc1y', 'yctmr', 'yctmry', 'yctmryl', 'yctmryu', 'yctmryv', 'yctmsy', 'yctmty', 'yctmtyv', 'yctmy', 'yctmy3', 'yctmyl', 'yctmyt', 'yctmyv', 'yctnyy', 'ycty', 'yctyv', 'ycv', 'ycxsyp', 'ycxy', 'yd', 'ye', 'ye0', 'ye1', 'ye3', 'ye7', 'yea', 'yeb', 'yec', 'yeg', 'yeh', 'yei', 'yel', 'yem', 'yeo', 'yep', 'yep8m', 'yeq', 'yer', 'yet', 'yetv', 'yeu', 'yev', 'yew', 'yex', 'yey', 'yf', 'yfg', 'yfh', 'yfi', 'yfm', 'yfv', 'yg', 'yg1', 'yg1m7t', 'yg1mbm1', 'yg_', 'yg_c', 'yg_o', 'yga', 'ygc', 'ygg', 'ygm', 'ygm11c1', 'ygmhv', 'ygmhvm', 'ygnyc', 'ygp', 'ygpyxm', 'ygq', 'ygx', 'ygx6', 'ygxy', 'yh', 'yh1', 'yh1cvh', 'yh1m', 'yh4', 'yh7', 'yh8', 'yhc', 'yhc1v', 'yhc1vc', 'yhc7m', 'yhc7um', 'yhch', 'yhch1m', 'yhctv', 'yhcv', 'yhcvy', 'yhh', 'yhm', 'yhm1mu', 'yhm3m', 'yhm3sy', 'yhm3t', 'yhm3tlh', 'yhm3tq', 'yhm3ty', 'yhm3y', 'yhm3y1', 'yhm3y7', 'yhm3yh', 'yhm3yt', 'yhm3yu', 'yhm3yv', 'yhmbm', 'yhmhmtt', 'yhmht', 'yhmhv', 'yhmhvc', 'yhmhvm', 'yhmmrmryv', 'yhmmrtyv', 'yhmmry', 'yhmmryl', 'yhmmryt', 'yhmmryv', 'yhmq', 'yhmsvy', 'yhmsvyv', 'yhmv3', 'yhmvvm', 'yhr', 'yhrvlb', 'yhrvlt3ntv', 'yht', 'yht7h', 'yhtncvms', 'yhv', 'yi', 'yi0', 'yi0syoo', 'yi0sysy', 'yi0y', 'yi5', 'yi6', 'yii', 'yiisyoo', 'yiisysy', 'yiisysysy', 'yiisyx', 'yiiy', 'yiiyx', 'yij', 'yij0', 'yijj', 'yijsyoo', 'yijsysy', 'yijsysysy', 'yijy', 'yim', 'yin', 'yinj', 'yinsyoo', 'yinsysy', 'yinsyx', 'yiny', 'yisy', 'yitvy', 'yiy', 'yj', 'yj0', 'yj00', 'yji', 'yjj', 'yjn', 'yjnn', 'yjnnn', 'yjy', 'ykc', 'ykcmtv', 'yl', 'yl1', 'yl1c', 'yl1ms', 'ylc', 'ylc11', 'ylc11y', 'ylc1l', 'ylchh', 'ylchhv', 'ylchr', 'ylcvc', 'ylh', 'ylm', 'ylm11', 'ylm3m', 'ylm3sy', 'ylm3y', 'ylm3y7', 'ylm3yh', 'ylm3yq', 'ylm3yr', 'ylm3yv', 'ylm7', 'ylmm1', 'ylmm1y', 'ylmm1yv', 'ylmrm', 'ylv', 'yly', 'ym', 'ym1', 'ym1cv', 'ym1m', 'ym1mhv', 'ym1tmy', 'ym67', 'ym7', 'ym7m', 'ym7u', 'ym_', 'ymb', 'ymbm', 'ymbmhv', 'ymbmhvc', 'ymbmhy', 'ymbmhy3', 'ymbmhyl', 'ymbmhyv', 'ymc', 'ymcu1', 'ymg', 'ymgy', 'ymh', 'ymh1', 'ymh4', 'ymhb', 'ymhh', 'ymhl', 'ymhm', 'ymhq', 'ymhr', 'ymhry', 'ymhryc', 'ymhtc', 'ymhv', 'ymhvm', 'ymkc', 'ymll', 'ymllmhv', 'ymllmhvy', 'ymm', 'ymmh', 'ymmhhypv', 'ymmhqc', 'ymmv', 'ymmvm', 'ymp', 'ymq', 'ymqqm', 'ymr', 'ymrch', 'yms', 'ymsh', 'ymshm', 'ymsm', 'ymsmhcv', 'ymsv', 'ymsvm', 'ymsvmht', 'ymt', 'ymth', 'ymtv', 'ymv', 'ymvh', 'ymvhn', 'ymvhnnn', 'ymvhnsy', 'ymvhnsysy', 'ymvhny', 'ymvhnyy', 'ymvm', 'ymvy', 'yn', 'yn0', 'ynj', 'ynn', 'ynnn', 'ynnnsy', 'ynnny', 'ynsyoo', 'ynsysy', 'ynsyx', 'ynt', 'yny', 'ynyu', 'yo', 'yo_', 'yoch1m', 'yochv', 'yog', 'yom', 'yom3t', 'yom3tq', 'yom3y', 'yom3ycms', 'yom3ypvcr', 'yombm', 'yommry', 'yomv3', 'yomvh', 'yon', 'yongnsyp', 'yoo', 'yop', 'yoq', 'yoqgy', 'yoy', 'yp', 'yp1', 'yp3', 'yp7', 'yp8', 'yp_', 'yp_o', 'ypc', 'ypch', 'ypchh', 'ypchr', 'ypchy', 'ypchyc', 'ypcruc', 'ypctv', 'ypcv', 'ypg', 'ypgp', 'ypgy', 'yph', 'ypm', 'ypm3', 'ypm7', 'ypmb', 'ypmh', 'ypmhc', 'ypmhv', 'ypmq', 'ypmu', 'ypn', 'ypny', 'ypnyx', 'ypp', 'ypq', 'ypv', 'ypvcr', 'ypvm', 'ypvmbmy', 'ypvnyp', 'ypy', 'ypyx', 'yq', 'yq1', 'yq1mhv', 'yq1rlh', 'yq1rlhch', 'yq67', 'yq6c', 'yq7', 'yq_wgo_', 'yqb', 'yqbm', 'yqc', 'yqch', 'yqchty', 'yqchy', 'yqchyh', 'yqchyv', 'yqcmtt', 'yqcmtty', 'yqcmtty3', 'yqcmttyv', 'yqcmtv', 'yqcqmhmna', 'yqg', 'yqh', 'yqhb', 'yqhh', 'yqhq', 'yqhq1', 'yqm', 'yqmh', 'yqmhm', 'yqmulhtn', 'yqmv', 'yqmvsy', 'yqmvty', 'yqmvtyv', 'yqmvv', 'yqmvy', 'yqmvy3', 'yqmvy7', 'yqmvyc', 'yqmvyh', 'yqmvyl', 'yqmvyr', 'yqmvyt', 'yqmvyu', 'yqmvyv', 'yqq', 'yqr', 'yqr7', 'yqs', 'yqt', 'yqu', 'yqv', 'yqvr', 'yr', 'yr3', 'yr6', 'yrc', 'yrc7', 'yrchh', 'yrcmyv', 'yrcv', 'yrh', 'yrm', 'yrm1', 'yrm1v', 'yrm7', 'yrmb', 'yrmbm1', 'yrmh', 'yrmh1', 'yrmht', 'yrml', 'yrmlm', 'yrmlmhry', 'yrmlmht', 'yrmm', 'yrmq', 'yrmt', 'yrmth', 'yrmtm', 'yrmtv', 'yrmu', 'yrmv', 'yrmvm', 'yrmvmhv', 'yrum', 'yrurlc', 'yrv7mr', 'ys', 'ysvm', 'ysy', 'ysy1', 'ysy3', 'ysy3m', 'ysy6', 'ysy7', 'ysy_', 'ysyc', 'ysye', 'ysyg', 'ysyh', 'ysyl', 'ysym', 'ysyo', 'ysyp', 'ysypcu4mhv', 'ysyq', 'ysyr', 'ysysy', 'ysysyp', 'ysysysy', 'ysyt', 'ysytc', 'ysytv', 'ysyu', 'ysyucvy', 'ysyv', 'ysyx', 'ysyy', 'ysyyy', 'ysyyyy', 'ysyyyyy', 'ysyyyyyy', 'ysyyyyyyyyyyy', 'yt', 'yt1', 'yt1hijn', 'yt1mm', 'yt3', 'yt3m', 'yt7', 'yt7ul', 'yt8', 'ytc', 'ytc77', 'ytch', 'ytcll', 'ytcllm', 'ytcmtv', 'ytcqqmtv', 'ytcqqmtvy', 'ytcqqmtvyv', 'ytct', 'ytcu4mhv', 'ytcu4mhvy', 'ytcu4mhvyv', 'ytcu7', 'ytcuth', 'ytcutv', 'yth', 'ythm', 'ytkc', 'ytm', 'ytm11', 'ytm11y', 'ytm11yv', 'ytm1l6', 'ytm1mhv', 'ytm7', 'ytmbm', 'ytmh', 'ytmhc', 'ytmhr', 'ytmhry', 'ytmhryv', 'ytmht', 'ytmhtmy', 'ytmhv', 'ytmhvy', 'ytmm', 'ytmm7tyv', 'ytmm7yv', 'ytmmhy', 'ytmmhyv', 'ytmmsy', 'ytmmy', 'ytmmy3', 'ytmmyh', 'ytmmyt', 'ytmmyv', 'ytms', 'ytmsc', 'ytmsy', 'ytmtt', 'ytmv', 'ytmvc', 'ytmvty', 'ytmvv', 'ytmvy', 'ytmvyc', 'ytmvyv', 'ytq', 'ytv', 'ytvc', 'ytvcll', 'ytvclly', 'ytvcr', 'ytvm', 'ytvmbm', 'ytvmbm6ul', 'ytvmm', 'yu', 'yu1', 'yu3', 'yu7', 'yuc', 'yuc7', 'yuchh', 'yucllm', 'yucqy', 'yuct', 'yucty', 'yucv', 'yucvsy', 'yucvsyv', 'yucvv', 'yucvy', 'yucvy1', 'yucvy3', 'yucvy3my', 'yucvy7', 'yucvyh', 'yucvyl', 'yucvyq', 'yucvyr', 'yucvysy', 'yucvyt', 'yucvyu', 'yucvyumh', 'yucvyv', 'yuh', 'yul', 'yum', 'yum1', 'yum1m', 'yumh', 'yumhh', 'yumhml', 'yuml', 'yumm', 'yummhy', 'yummhy3', 'yummhyv', 'yumq', 'yumsy', 'yumsyh', 'yumt', 'yumtvy', 'yumv3mmhy', 'yumv3mmhyv', 'yumvvm', 'yumvyv', 'yumy', 'yumy1', 'yumy3', 'yumy7', 'yumy8m', 'yumyb', 'yumybm', 'yumyctmry', 'yumyh', 'yumyl', 'yumyq', 'yumyr', 'yumysy', 'yumyt', 'yumytc', 'yumytv', 'yumyu', 'yumyumvvm', 'yumyv', 'yun', 'yuq', 'yut', 'yut8mhr', 'yuu', 'yuv', 'yv', 'yv3', 'yvc', 'yvh1', 'yvm', 'yvm11', 'yvm11y', 'yvm11yv', 'yvm1m', 'yvm1mb', 'yvm7', 'yvmh', 'yvmhryv', 'yvmr3', 'yvmsvy', 'yvmtv', 'yvmtvy', 'yw', 'yw1', 'yw_', 'ywa', 'ywchr', 'ywm', 'ywmrm', 'ywp', 'yx', 'yx_', 'yx_p', 'yx_py', 'yxc', 'yxc7umtvy', 'yxc8my', 'yxg', 'yxg6', 'yxm', 'yxmb', 'yxmbm1', 'yxmhh', 'yxmt', 'yxmv', 'yxp', 'yxq', 'yxy', 'yy', 'yy0', 'yy0yy', 'yy1', 'yy3', 'yy4', 'yy66y', 'yy7', 'yy9', 'yy_', 'yya', 'yyacvy', 'yyacvyv', 'yyamh', 'yyc', 'yye', 'yyf', 'yyg', 'yyggy', 'yyh', 'yyi', 'yyiyy', 'yyj', 'yyjn', 'yyjn0', 'yyjni', 'yyjnn', 'yyjyy', 'yyl', 'yyly', 'yym', 'yymm', 'yyn', 'yyo', 'yyp', 'yypc', 'yypm', 'yypmh', 'yypv', 'yyq', 'yyr', 'yys', 'yysy', 'yysy3', 'yysysy', 'yysyv', 'yyt', 'yytv', 'yyu', 'yyv', 'yyw', 'yyx', 'yyxmmyxmm', 'yyy', 'yyy3', 'yyy7', 'yyya', 'yyyc', 'yyye', 'yyyg', 'yyyh', 'yyyi', 'yyyj', 'yyym', 'yyyo', 'yyyp', 'yyyr', 'yyysy', 'yyyv', 'yyyw', 'yyyx', 'yyyy', 'yyyy3', 'yyyy5', 'yyyy7', 'yyyyc', 'yyyydsy', 'yyyye', 'yyyyg', 'yyyyh', 'yyyyi', 'yyyyl', 'yyyym', 'yyyyn', 'yyyyo', 'yyyyp', 'yyyyr', 'yyyysy', 'yyyyt', 'yyyytv', 'yyyyu', 'yyyyv', 'yyyyw', 'yyyyx', 'yyyyy', 'yyyyy3', 'yyyyyc', 'yyyyycpnyc', 'yyyyyh', 'yyyyyl', 'yyyyyp', 'yyyyysy', 'yyyyyt', 'yyyyyu', 'yyyyyv', 'yyyyyx', 'yyyyyy', 'yyyyyy3', 'yyyyyy6yi', 'yyyyyy7', 'yyyyyyc', 'yyyyyye', 'yyyyyyh', 'yyyyyyt', 'yyyyyyv', 'yyyyyyx', 'yyyyyyy', 'yyyyyyyi', 'yyyyyyyp', 'yyyyyyyv', 'yyyyyyyy', 'yyyyyyyyei', 'yyyyyyyyy', 'yyyyyyyyyy', 'yyyyyyyyyyy', 'yyyyyyyyyyyy', 'yyyyyyyyyyyyy', 'yyyyyyyyyyyyyy', 'yyyyyyyyyyyyyyy', 'yyyyyyyyyyyyyyyy', 'yyyyyyyyyyyyyyyyy', 'yyyyyyyyyyyyyyyyyy', 'yyyyyyyyyyyyyyyyyyy', 'yyyyyyyyyyyyyyyyyyyy', 'yyyyyyyyyyyyyyyyyyyyy', 'yyyyyyyyyyyyyyyyyyyyyy', 'yyyyyyyyyyyyyyyyyyyyyyy', 'yyyyyyyyyyyyyyyyyyyyyyyy', 'yyyyyyyyyyyyyyyyyyyyyyyyy', 'yyyyyyyyyyyyyyyyyyyyyyyyyy', 'yyyyyyyyyyyyyyyyyyyyyyyyyyy', 'yyyyyyyyyyyyyyyyyyyyyyyyyyyy', 'yyyyyyyyyyyyyyyyyyyyyyyyyyyyyy', 'yyyyyyyyyyyyyyyyyyyyyyyyyyyyyyy', 'yyyyyyyyyyyyyyyyyyyyyyyyyyyyyyyy', 'yyyyyyyyyyyyyyyyyyyyyyyyyyyyyyyyy', 'yz', 'yzy', 'yzyg', 'yzym1', 'yzyp', 'yzz', 'z', 'z0', 'z2', 'z5', 'z5e', 'z6', 'z6z', 'z9', 'z_', 'za', 'zc', 'zcy', 'zd', 'ze', 'zf', 'zfwr', 'zg', 'zi', 'zix', 'ziz', 'zj', 'zj6', 'zjc', 'zl', 'zm', 'zn', 'zo', 'zp', 'zq', 'zr', 'zremp', 'zsyc', 'zt', 'zu', 'zui', 'zui2g', 'zusyc', 'zuz', 'zw', 'zx', 'zy', 'zyvryysyyyyyyyyy', 'zz', 'zz2']\n"
     ]
    }
   ],
   "source": [
    "print(word_vec.get_feature_names())"
   ]
  },
  {
   "cell_type": "code",
   "execution_count": 17,
   "id": "previous-variable",
   "metadata": {},
   "outputs": [
    {
     "name": "stdout",
     "output_type": "stream",
     "text": [
      "{'w': 7862, 'hv': 3337, 'hhmhvy': 2431, 'sypcu4mhv': 6340, 'y': 7976, 'm': 4189, 'vyr': 7802, 'yoch1m': 8520, 'yp': 8540, 'hqy': 2884, '3m': 633, 'tyr': 7030, 'sy_': 6272, 'q': 5694, 'h': 2191, 'i': 3656, 'v': 7346, 'hmt': 2603, 'y0': 7977, 'syx': 6413, 'tv': 6803, 'ucv': 7216, 'y3': 8017, '1rsyoo': 393, 'm6m': 4293, 'hq6': 2791, 'r': 5910, 'nl': 5349, 'rt': 6117, 'sysy': 6351, 'hy': 3430, 'er': 2058, 'n': 5249, 'yt3': 8712, '18m': 187, 'ij': 3690, 'h6': 2237, 'j6': 3783, 'vmt': 7485, 'sy': 6249, 'ysy': 8674, 'yr': 8637, 'huvy8h': 3311, '3y3': 684, 'myv': 5222, 'tvyv': 6919, 'tykcmtv': 6997, 'hyt': 3589, 'yl': 8402, 'qc': 5712, 'mryv': 4710, 'vsy': 7574, 'yv': 8861, 'tyu': 7070, 'ry3': 6149, 'c1ryumy7': 1583, 'tvy': 6888, 'vmnsy': 7445, 'ty3': 6932, 'hrm': 3000, 'u': 7103, 'cvyv': 1949, 'tmy7': 6655, 'tt': 6747, 'bmyh': 1455, 'hh': 2404, 'tyv': 7089, 'mymbm': 5085, 'mtmhvy': 4795, 'yt': 8708, 'vmtny': 7487, 'y1': 7996, '8y1': 1219, '8myh': 1171, 'tsy': 6725, 'vy': 7705, 'bmyummhy': 1489, 'mry': 4685, 'hyv': 3629, 'my7': 4968, 'mty': 4867, 'y8h': 8132, 'vyv': 7852, 'msy': 4716, 'hvc': 3339, '1y': 478, 'c': 1515, 'tmy': 6650, 'lyv': 4174, 'tmyv': 6677, 'hqty': 2865, 'ny': 5476, 'myh': 5034, '11mrsy': 89, 'my': 4937, 'yh': 8303, 'vm': 7408, 'ytv': 8776, 'htyr': 3280, 'mhv1': 4468, '7yv': 1094, 'yctmyv': 8243, 'yqmhm': 8612, 'vmy': 7501, 'vny': 7555, 'vy3': 7709, 'y4ctvy': 8052, 'ty': 6925, 'hbmhv': 2366, '1ytv': 548, 'hryv': 3151, 'mtc1v': 4751, '7yr': 1083, 'bmtyv': 1431, 'myvc': 5224, 'hmtnsysy': 2609, 'hqyv': 2974, 'myctmryv': 5016, '1yv': 553, 'mytvm': 5201, '7y': 1042, 'hry': 3051, 'mh': 4370, 'syv': 6410, 'hcmyv': 2387, 't': 6472, 'tvm7ty': 6822, 'n0': 5250, 'yw': 8878, 'll': 3960, 'yyya': 8960, 's': 6209, 'yqv': 8635, 'rm': 5972, 'bm': 1367, 'tyl': 6998, 'ysy_': 8680, 'yo': 8518, 'hg': 2402, '6om3t': 789, 'oyxbm': 5599, 'hyiniympn2syp': 3505, 'cy': 1954, 'qv': 5882, 'm11': 4192, 'nsysy': 5429, 'yyyyyy': 9010, 'tmry': 6620, 'yb': 8186, 'ryh': 6162, 'jjjyv': 3816, 'cmyh': 1735, 'yyyyyyh': 9016, 'b': 1363, 'rmy': 6042, 'cvyi': 1933, 'mykcmtv': 5068, 'huvyl': 3318, 'hrsy': 3024, 'yyyyyyv': 9018, 'mt': 4748, 'hr': 2982, 'hqyr': 2948, '3ty': 669, 'niy': 5337, '7yh': 1064, '8sy': 1199, 'iny': 3737, '8tyl': 1209, 'hmy': 2650, 'yucvy': 8800, 'h8y': 2339, '11yumsy': 169, 'ly': 4068, 'nyp': 5494, '1m': 256, 'tmyvm11y7my3': 6679, 'mv': 4905, 'ytch': 8719, 'h8ty': 2326, 'rb': 5926, '7yt': 1086, 'nyc': 5485, 'hyr': 3576, 'tyh': 6986, 'vyi': 7772, 'myt': 5171, '7my': 941, 'hmyh': 2668, 'c1ry': 1548, 'ht3m': 3201, 'y7': 8090, 'ykcmtv': 8401, 'mbm': 4342, 'yy0': 8905, 'yyc': 8918, 'm1y': 4235, 'hn': 2707, 'q5': 5703, 'lh': 3937, 'yqm': 8610, 'htvm': 3254, '8n': 1189, 'h63': 2239, 'ry': 6147, 'tt3': 6748, 'yxm': 8895, 'v7mhvy': 7363, 'lyg': 4108, 'cvm': 1896, 'yph': 8559, 'mhhm': 4387, 'yqhq1': 8609, 'hrsyp': 3029, 'hmy8h': 2656, '3y': 682, 'nmny': 5357, '11y': 120, 'rchmy': 5935, '11syumy': 111, 'chh': 1646, 'tq': 6718, 'hsysy': 3183, 'hvmryv': 3378, 'yel': 8262, 'vy7': 7725, 'mytmhc': 5189, 'tmym7': 6666, '1y7my': 489, 'ty3m11y': 6939, 'tn': 6680, 'j0j': 3773, 'il': 3699, 'mht': 4456, '7mtyx': 935, 'cq1': 1756, 'mhh': 4386, 'yx': 8886, 'h8yv': 2360, 'yc': 8193, 'chy': 1709, 'ty1': 6927, '8my7': 1165, 'mtvm': 4853, 'hqv': 2880, 'yct': 8227, 'syp': 6338, 'h1myfi': 2215, 'ni': 5328, '0n': 30, '1nrtmqnv': 371, 'nh': 5307, 'hlt8hr': 2513, 'bnrtmqnv': 1505, '7sysysy': 1007, 'pm': 5633, 'ct1': 1789, 'nyy': 5505, 'llm': 3964, 'mhhmy': 4403, 'lmv': 3998, 'mb': 4340, '1bm': 200, 'hvm11mhvc': 3347, 'ybm': 8187, 'nsy': 5419, 'qh': 5732, 'hqytv': 2964, 'bmy': 1434, '11yv': 181, 'yu': 8785, 'tmtyv': 6646, 'cv': 1889, 'tyq': 7024, 'cyqmvy': 1990, 'tl': 6569, '1y3': 482, 'msyv': 4740, 'qqm': 5862, 'mtyh': 4875, 'vyh': 7762, '77m': 824, '8my': 1162, 'hqt': 2857, 'jj': 3807, 'h8': 2274, 'mkc': 4527, 'mtyv': 4889, 'myt1': 5172, 'yqmvyv': 8628, 'hnsysy': 2748, 'hc': 2369, '1yt': 543, 'y8': 8128, 'o': 5535, 'p': 5603, '5q': 743, 'rsy_': 6104, 'yomv3': 8531, '8yc': 1226, 'qm7mhvy': 5768, 'hhnsyx': 2477, 'h1myfg': 2213, 'vmnmrc': 7440, 'yth': 8733, 'cll': 1722, 'vmnmrcy': 7442, 'a': 1317, 'h1myf': 2209, 'rn': 6058, 'ow': 5580, 'yum1': 8817, 'mbmyv': 4358, 'ryv': 6201, 'vmryv': 7479, '6u': 808, 'vyq': 7794, 'yxc': 8890, 'myu': 5202, '06u': 5, 'yq': 8581, 'myi': 5065, 'rr': 6091, 'mtt': 4828, 'hqy1': 2886, 'nyyw': 5527, 'ttnyy': 6784, '3hy': 615, 'mtmy': 4799, '9y': 1271, '7y1': 1044, 'vyl': 7776, 'yms': 8484, 'hv1': 3338, 'hnsy': 2746, 'm1m': 4209, 'tmyr': 6670, 'tnyy': 6710, 'rsy': 6103, 'hcl': 2383, 't8yv': 6518, 'm7y': 4323, 'rytc': 6187, 'vtyv': 7633, 'cmy': 1734, 'xc': 7928, '_v': 1306, '7yct': 1060, 'hqsy': 2838, 'hmy3': 2652, 'yx_py': 8889, '1t': 435, 'ypgp': 8557, 'y9': 8139, 'ry7': 6151, 'yctc': 8228, 'yuc': 8789, 'rtyt': 6135, 'bmyv': 1498, 'u1m7yl': 7130, 'smry': 6224, 'cvyv3': 1950, 'ya': 8166, 'huvytmmyv': 3328, 'u1m7y3': 7128, '8m': 1121, 'ytmmyv': 8763, 'tyt': 7048, '7mv': 937, 'tyrmt': 7040, 'hvmhv': 3360, 'nsysyp': 5439, 'c1rytmm7yv': 1572, 'ymh': 8455, 'hhmyv': 2471, 'myrmt': 5154, 'qhy': 5749, 'l': 3898, '7y0': 1043, 'sy3': 6256, 'hyc': 3470, 'vmyv': 7526, 'ryu': 6193, 'u7yt': 7185, 'yy': 8904, 'ytmm7tyv': 8754, 'yumy': 8836, 'lly': 3974, '1myl': 341, 'snyy': 6241, 'hy7': 3447, 'myl': 5069, 'vmryh': 7468, 'hqy3': 2887, 'u1my7': 7146, 'ry1': 6148, 'cvyc': 1927, 'vmnyy': 7450, 'vyt': 7816, '1mnsy': 284, 'y3m': 8020, 'c1ryumyh': 1586, 'cty': 1841, 'tnsysy': 6700, 'cy7': 1960, 'vy1': 7707, '8y': 1218, 'hhmry': 2439, 'hvmq': 3369, 'mtm': 4785, 'sy7': 6264, 'rnyy': 6073, 'vty': 7616, 'myq': 5133, 'u1mnyy': 7136, '1myh': 340, 'hl': 2487, '7mryv': 908, 'vtyu': 7632, '11mryv': 97, 'm7': 4297, 'bmsyv': 1417, 'hymkc': 3529, '1mhvy': 272, 'hty': 3261, 'hyg': 3487, '1yu': 549, '3yv': 710, 'vmyu': 7525, 'cq': 1755, 'tmry3': 6621, 'vnyy': 7559, 'u7sy': 7172, 'vvm7': 7674, 'my1': 4940, '1yrm': 536, 'ryl': 6167, 'rm1yhc7um': 5980, 'x': 7915, 'tya': 6962, '0nyy': 41, 'cyh': 1973, 'hyh': 3493, 'ctmy': 1807, '3nsysy': 652, 'yyyyyyyyyyyyyyyyyyyy': 9037, 'jn': 3834, 'njj': 5342, 'sysy66ysy': 6355, 'ms': 4712, 'y4': 8045, 'ulh': 7235, 'k': 3889, 'cnh': 1740, 'knh': 3896, 'h8mvy': 2302, 'mtsy_': 4824, 'yg': 8282, 'nsyp': 5427, 'yi': 8360, 'nhtnc': 5324, '0jn': 23, 'l3': 3904, '1mhy': 275, 'ctv': 1829, 'hya': 3465, '17m': 184, 'ycmtt': 8218, 'qm6': 5766, 'yfi': 8279, 'synnnsy': 6332, 'lyh': 4112, 'h1my': 2207, 'tvm7': 6812, 'nnnsy': 5384, '7m': 870, 'ym7': 8439, 'lvyg': 4060, 'c1t': 1595, 'tvm7yl': 6831, 'vm11': 7410, '7r': 993, '1nh': 365, 'tm': 6576, 'p_': 5612, '_o': 1295, 'ym1m': 8435, 'twsy': 6922, '1yg': 504, 'ypchh': 8549, '1myg': 339, 'ymbm': 8444, 'hmny': 2572, 'y4ctvy3': 8054, 'mrchv': 4670, 'hyw': 3638, '11syv': 112, 'myhc': 5038, 'qy3': 5889, 'y7m': 8104, 'my3': 4950, '7y7m': 1050, 'bmyt': 1474, 'bmry': 1406, 'y1mvvm': 8012, 'hyl1': 3511, 'hry3': 3056, '11yh': 139, 'mhy': 4500, 'yqmvyu': 8627, 'h8sy': 2317, 'chvy': 1706, 'mylcvc': 5075, 'tmy3': 6653, 'myhmv3': 5062, 'mttyv': 4850, 'ru': 6138, 'mychv': 5007, 'mhny': 4436, 'cy3': 1957, 'hvyv': 3424, 'pyc': 5675, 'hyumyh': 3623, 'hvmry': 3374, 'xqy': 7955, 'pp': 5641, 'syij': 6319, 'n4': 5263, 'cnmrcy': 1745, 'rye': 6160, 'vv1my': 7663, 'hsyohv': 3177, '6m': 782, 'm1h': 4208, 'ycmr': 8217, '1yp': 524, 'y0isysy': 7982, 'l7': 3911, '7t': 1012, 'hq': 2780, 'mlhtnc7rnmrcy': 4549, 'g': 2122, 'mo': 4644, '11m': 73, 'mye': 5018, 'myum': 5209, 'hvy': 3405, 'u1my': 7143, 'ht': 3199, 'mryu': 4707, 'c1ry7': 1553, '8myr': 1179, 'ht1': 3200, 'th': 6536, 'umty': 7251, '1my': 330, 'hvm': 3343, 'hryh': 3084, 'vy3m': 7710, 'myqmvv': 5141, 'mhy3': 4502, 'cvy': 1920, 'tyummhyh': 7081, 'vmry': 7462, 'myeh': 5023, 'eyv': 2085, 'mvv': 4922, 'mhc': 4382, 'mhvy': 4485, 'mu': 4890, '1rybm': 405, 'htyt': 3282, '3tyv': 679, 'hyl': 3510, 'hvyh': 3414, 'lyt': 4158, 'c1rhuvyumy': 1542, 'vytc': 7821, 'hqry': 2835, '1my3': 332, 'mbmy': 4354, 'yvmsvy': 8875, 'ty7': 6951, 'hhm': 2424, '8m1': 1122, '8mtyt': 1156, 'htyv': 3290, '8myq': 1178, 'mtnsysy': 4819, 'm11yh': 4203, 'rymh': 6172, 'u1my3': 7145, 'htv': 3253, 'jjy': 3819, 'lvm': 4048, 'myvmsvy': 5228, 'ly7m': 4081, 'hvty': 3398, 'm6': 4288, '8myv': 1186, 'rytm': 6190, 'hvmhrmryl': 3355, 'c1ryh': 1557, 'qm': 5761, 'imy': 3719, 'htyl': 3273, 'hyumy': 3620, '77n7': 838, 'vnh': 7533, 'xmhh': 7939, 'tvyp': 6910, 'hm3': 2523, 'syohv': 6334, 'nini': 5335, 'hmyv': 2698, '7myv': 977, 'mhc1': 4383, 'tvyt': 6914, '1msm': 298, 'ypm': 8560, 'by': 1513, 'qmryl': 5792, '8mnsy': 1136, 'ymb': 8443, 'rmhhmyv': 5996, 'ytc': 8717, 'tyh1': 6987, 'qmry': 5790, 'mryg': 4694, '1ry': 398, '7y3': 1046, 'rmy3': 6044, 'mhyt': 4519, 'hmyt': 2690, 'vvmryv': 7689, 'hqyl': 2923, 'qmyt': 5835, 'hmry': 2583, 'qmy': 5819, 'rmhh': 5989, 'syc': 6276, 'hryc': 3076, '1mym': 342, 'syph': 6341, '7llhmhvm': 864, 'hmnh': 2567, '7yw': 1095, 'tvsy': 6866, 'h1m6': 2195, 'nxn': 5475, 'msy_': 4720, 'ygmhvm': 8295, 'hmyp': 2682, 'lv3': 4046, 'hhnsyp': 2476, 'syoo': 6336, 'jn0': 3835, 'tk1n': 6567, 'gmy': 2154, 'mym': 5079, 'iiy': 3688, 'c1ryumyr': 1589, 'bmhyl': 1392, 'tvnsy': 6857, 'bmyq': 1468, '7hy': 860, 'uu': 7319, 'hyqc': 3564, 'mh8': 4373, 'hsy': 3162, 'vy1m': 7708, 'vnsysyc': 7548, 'hvy3': 3407, 'syucvyv': 6405, 'tvnyy': 6861, 'hyrmt': 3582, 'qhmryv': 5741, 'yumsy': 8828, 'vyn': 7787, 'yumh': 8819, 'j7': 3790, 'ctmsy': 1802, 'yt1': 8709, 'v1': 7347, 'y7ch': 8097, 'sy1': 6253, 'ymhq': 8462, 'hmnyy': 2573, 'vuty3': 7639, 'myp': 5119, '_y': 1310, 'ty66y': 6949, 'mryl': 4696, 'hy3': 3437, 'mycctv': 5003, 'tymttmhv': 7017, 'qy': 5887, 'tvyh': 6900, 'htnsy': 3234, 'mhhmy3': 4404, 'hqy66y': 2890, 'syu': 6401, 'mshm': 4713, 'cu': 1860, 'hb': 2362, 'tvmm': 6845, 'ryr': 6181, 'hrytv': 3140, 'rmkc': 6012, 'nyyp': 5521, 'mtvy': 4860, 'lsyv': 4027, 'vyc': 7743, 'h8mryv': 2296, 'myms': 5105, '1myumh': 357, 'ctmyv': 1818, 'mmry': 4598, 'hsy7': 3166, 'hrnyy': 3022, 'rhuvy': 5954, 'yumyv': 8854, 'bmyummhyv': 1497, 'my7ch': 4971, 'syh': 6312, 'lytmbm': 4165, 'cr': 1771, 'mmrnyy': 4593, 'ylm3yv': 8424, 'hqtyv': 2876, 'y8mm': 8138, 'hhmy': 2458, 'cyu': 2002, 'nyyc': 5513, 'hy8h': 3456, '31mrqmy': 592, 'r7': 5924, 'vvmr1': 7686, 'ytmh': 8744, 'hr6': 2990, 'mbmsyv': 4351, 'cm': 1724, 'yumvvm': 8834, 'rtyh': 6132, 'yrmt': 8661, 'hh1crmy': 2414, '8mtyv': 1157, 'mr': 4659, 'u1myv': 7157, 'py': 5670, 'tnsy': 6698, 'nyo': 5493, 'lyqc': 4149, 'hnyyc': 2771, 'hmty': 2625, 'mmry1': 4599, 'mhuvy': 4464, 'cv6': 1892, 'ly7': 4078, 'y7myv': 8126, 'hq1': 2781, 'ytct': 8726, '3hm': 604, 'hm': 2516, 'c1ryumy3': 1582, 'hqnyyp': 2832, '1msy': 299, 'mhvyl': 4493, '3hy1': 616, 'bmtnsysy': 1420, 'h1': 2193, '_lyh': 1291, 'tmyh': 6662, 'mmr': 4591, 'rnyyp': 6075, 't6': 6481, '11mq': 82, 'v6t': 7356, 'neyy': 5300, 'hry7': 3063, 'rmyc': 6047, 'cyv': 2006, 'h8yt': 2356, 'cytc': 1997, 'myr': 5144, 'huvy': 3305, 'vvmhv': 7677, '7yl': 1069, '7s': 996, 'yvmr3': 8874, 'rlhtnh': 5970, 'hm11nmrcy': 2520, 'qr3': 5869, 'ryx': 6205, 'mr2yw': 4661, 'ubmyl': 7199, 'chryv': 1689, 'mytmh': 5188, 'hm11y': 2521, 'sysysy': 6374, 'mryp': 4699, 'yyq': 8943, '7mty': 923, 'mytm': 5184, 'bmyv3': 1499, 'htym': 3274, 'vtsy': 7611, 'mmyr': 4618, 'vutyc': 7643, 'syq': 6344, 'tyctmry': 6976, 'm1': 4191, 'mm': 4561, 'sy6': 6260, '1mhv': 271, 'hqnyy': 2829, 'chty': 1693, 'hyv3': 3630, 'vutsy': 7636, '6q': 796, 'qnrmy': 5844, 'cum': 1877, 'lvy': 4058, 'hqsyp': 2846, 'yijsysy': 8378, 'sysyr': 6372, 'htyh': 3271, 'ctmryu': 1800, 'myrmbm1': 5149, 'ly1': 4071, '1bmr': 202, 'u7': 7168, 'ncty': 5293, 'uy': 7328, 'yommry': 8530, 'hmyl': 2672, 'hvmryl': 3376, '8myt': 1181, 'wsyohv': 7895, '1myq': 348, 'hyp': 3549, 'y00sysy': 7980, 'yhmmryt': 8346, 'hqyt': 2956, 'y7my': 8123, 'h4': 2232, '11yumyv': 180, 'ubmyv': 7208, '8mhy': 1127, 'rmsy': 6030, 'myu1': 5203, 'mu11yumy': 4892, 'ysyl': 8685, 'yuc7': 8790, 'rty': 6128, 'myc': 4999, '1v': 463, 'hryl': 3093, 'yt7': 8714, 'u1m7': 7114, 'yucvy3': 8802, 'yuml': 8822, 'my3myq': 4956, 'yyy': 8957, 'cvyu': 1946, 'ubmy': 7194, 'c1ry1': 1549, 'c1rm': 1544, 'mhv': 4467, 'my1m': 4942, '1syt': 429, '1tyl': 454, 'yx_': 8887, '_yw': 1314, 'wwy': 7901, 'bmyms': 1465, 'mhhmyl': 4408, 'vsyt': 7587, '11yumy': 170, 'h8t': 2319, 'vyyyyyyyy': 7860, 'j': 3769, 'ycctv': 8201, 'ctvm': 1830, 'snh': 6234, '3yr': 701, 'xy': 7968, 'ym': 8432, 'hhmtty': 2451, 'gsyp': 2172, 'lc1vun': 3925, 'thn': 6546, 'vnmrc': 7534, 'vnmrcy': 7539, 'yhmmryv': 8347, 'utsy': 7296, 'myqm': 5138, 'mya': 4991, '_p': 1299, 'yucvsy': 8797, 'cuvyv': 1887, 'vuty': 7637, 'vutyr': 7648, 'vyumyt': 7850, 'yucvyv': 8813, 'xqyh': 7957, 'utyv': 7318, 'rhuvyh': 5959, '7my3': 943, 'ttc7': 6752, 'bmy3': 1436, 'vv': 7657, 'sysyp': 6369, 't8ty': 6509, '7myl': 958, '_cy': 1280, 'tc': 6523, 'mtty': 4842, 'jjj': 3810, 'ynnny': 8511, 'ytmm': 8753, 'lyr': 4153, '7mtyv': 934, 'mytm1mhv': 5185, 'csyh': 1783, 'hymhvm': 3528, 'm7y7': 4326, 'r6': 5921, '8myp': 1176, '8mnsysy': 1137, 'xqyr': 7958, 'bmtyh': 1427, 'vvmry': 7687, 'hryt': 3126, 'msyr': 4733, 't7y': 6491, 'vtm1l': 7601, 'm1mb': 4210, 'hryq': 3112, '8myph': 1177, 'yyyyyyy': 9020, 'lg': 3936, 'cpm': 1752, 'lt': 4032, '1l': 246, 'htcnucll': 3211, 'nmrcy': 5369, 'asyp': 1354, 'tych1': 6968, 'mytvclly': 5199, 'lsyh': 4024, 'v7': 7358, 'tvmy': 6852, '7myt': 968, 'hhmyi': 2464, 'ytm': 8736, 'hmyb': 2661, 'lyl': 4122, 'htvyv': 3260, 'myg': 5029, '8mty': 1152, 'vv1my7': 7665, '8yv': 1239, 'tsyv': 6742, '7mnyy': 899, 'mymsv': 5107, 'mm1ty': 4563, 'huty': 3299, 'hmsy': 2593, '7myu': 973, 'h8y3': 2341, 'mmy': 4613, 'hnyy': 2767, 'vsy3': 7577, 'thuvy': 6553, 'vytv': 7832, '11y3': 123, 'tytv': 7065, 'hqsyq': 2847, '1vmhrm': 468, 'r3': 5916, 'cmtr': 1731, 'vmry3': 7464, '1h': 241, 'llt': 3972, 'hsyv': 3190, 'um': 7238, 'c8y': 1627, 'tvtnyy': 6876, '1yhc7um': 508, 'yv3': 8862, '1yth': 545, 'mry3': 4687, 'mhyv': 4522, '1myv': 358, 'ch8y': 1644, 'ttmryv': 6773, 'hqy9': 2900, 'hmryh': 2586, 'yumyt': 8849, 'syt': 6395, 'vyu': 7834, 'kcmy': 3894, 'hym': 3515, 'vvm': 7673, 'hrya': 3073, 'ryv3': 6202, 'tyth': 7057, 'm1mtt': 4214, 'lsy': 4018, 'myv3': 5223, 'ryt': 6186, 'ht8': 3205, 'yqmvsy': 8615, 'ly_': 4088, 'hryg': 3083, 'mrsyv': 4683, 'ytmhr': 8746, '7my7m': 946, 'hnyyp': 2774, 'hyu': 3608, 'hryp': 3107, 'hcvmy': 2396, 'yvm': 8865, '7tyl': 1028, 'hbm': 2364, 'mlm': 4554, 'uyp': 7337, '77mhvt': 830, 'yyp': 8938, 'uty': 7298, 'hqych': 2906, 'ttmry': 6771, 'yucvyh': 8805, 'bm1y': 1370, 'huvyv': 3335, 'ubmymbm': 7200, 'cry': 1775, 'mtyq': 4880, 'm7m7um': 4301, '7mt': 915, 'nyyx': 5528, 'cqya': 1767, 'rqm': 6079, 'tvq': 6863, 'm3': 4249, 'c8': 1624, 'ymbmhyv': 8450, 'tsy7': 6728, 'imyv': 3724, 'rytv': 6192, 'hryr': 3118, 'cvy3': 1923, 'sy3m': 6257, 'cvyuml': 1948, 't8mry': 6498, '3yu': 707, 'mvm': 4910, 'm3m': 4254, 'mthuvyt': 4782, 'vychrm': 7747, 'ny3': 5478, 'cvt': 1911, 'ww': 7900, 'yyl': 8932, 'tvm': 6810, 'nyye': 5514, 'y1m': 8001, 'yt8': 8716, 'hms': 2592, '8mvy': 1159, 'vtsy_': 7612, 'mllm': 4551, 'tsyp': 6735, 'ylm': 8415, 'tnh': 6688, '7sy_': 999, '8mry': 1142, 'yqmvv': 8618, '11mry': 90, 'mych': 5004, '1ctyt': 231, 'yucvyt': 8810, 'ych': 8202, 'vytmm7yv': 7830, 'hyo': 3547, 'mhhmty3': 4400, 'c1ryumy': 1580, '77mhvyv': 833, 'vtnyy': 7609, 'tv6': 6805, 'qmvy3': 5817, '7ykc': 1068, 'mthuvy': 4772, '11yhmbm': 142, 'bmsy': 1412, 'h1mty': 2205, 'y4ctvyh': 8056, 'huvsy': 3303, 'ctvyv': 1840, 'mykc': 5067, 'tyms': 7014, 'mhhmnsy': 4388, '66ysy': 763, 'vm1': 7409, 'u7yq': 7182, 'bmyl': 1460, 'hny': 2760, '11mryu': 96, 'myw': 5230, 'ryq': 6179, 'h8c': 2281, 'tysy': 7043, 'rmhv': 5998, '18mryv': 190, '7msy': 909, 'ty4ctvy': 6945, 'myp7': 5120, 'ym1mhv': 8436, 'ymcu1': 8452, 'cn': 1738, 'bmryv': 1411, 'gy': 2178, 'h8m': 2287, 'hvy7myv': 3410, 'gyv': 2185, 'rc': 5929, '1sy': 419, 'm1mhv': 4212, 'hmhvty': 2551, 't3': 6477, 'vh': 7391, 'vt': 7595, 'htl': 3216, 'nnnsysy': 5386, 'u1mty': 7141, 'my3my': 4954, 'hypv': 3559, 'mmv': 4610, 'ypv': 8574, 'hrysy': 3123, '11ypv': 152, '0y': 57, 'ii': 3682, '3mbm': 637, 'muty': 4897, 'm3yc': 4274, 'yrm1': 8647, 'nsysyg': 5436, 'rbmhvc': 5928, 'yam': 8176, 'yqc': 8592, '7mhvy': 885, 'ph': 5628, 'ypvcr': 8575, 'lyc': 4095, 'hsy_': 3168, 'htsyp': 3246, 'vyg': 7758, 'mg': 4368, '1g': 240, 'vi': 7397, 'nch': 5288, 'mym1': 5080, 'htsy_': 3243, 'nsyoo': 5426, 'in0': 3726, 'oo': 5563, 'hhm1m': 2427, 'vmryu': 7478, 'cay': 1631, 'oxy': 5588, 'ye': 8251, '11yuc': 165, 'hmnsy': 2570, 'cmyv': 1737, 'wsy': 7892, 'mhy3my': 4504, 'rchv': 5937, 'u1': 7106, 'mvy': 4925, 'cvv': 1916, 'rny': 6072, 'rty3': 6130, 'h81': 2275, '_hmy': 1286, 'rryv': 6101, 'hrctv': 2996, 'hqyumvvm': 2973, '3sy': 660, 'mryc': 4693, 'yrmh': 8652, 'umh': 7241, 'u1m': 7113, 'ytmmyt': 8762, '3hyv': 627, 'bmhuvy': 1384, 'hmryv': 2591, 'y4ctvyq': 8058, 'bmyc': 1448, 'hqyh': 2916, 'yhc': 8310, 'mhvyt': 4496, 'tvm7y': 6828, 'qymh': 5897, 'hqy7': 2891, '60y': 756, 'hhmyr': 2468, 'chrm': 1665, 'hcs': 2388, 'vymh': 7782, 'yumy3': 8838, '1mny': 286, 'msyl': 4727, 'tvymh': 6907, '8msy': 1148, 'jjjyh': 3815, 'rtsy': 6124, 'hmnsysy': 2571, '6l': 780, 'tvyq': 6911, 'htyu': 3284, 'yhm3sy': 8324, 'gm': 2153, 'huvy1': 3306, 'mhy7': 4506, 'rchvty': 5939, '8mv': 1158, 'wyy': 7913, 'ubmyr': 7202, 'yhmmry': 8344, 'ey7': 2077, 't8y': 6511, 'ay': 1359, 'ny_': 5480, 'hq1m': 2782, 'yr6': 8639, 'hl8': 2493, 'y_': 8146, 'iyyy': 3764, 'yyyyy': 8998, 'myph': 5128, '11t': 113, 'ctvsy': 1831, 'iy': 3755, 'myomv': 5117, 'tye': 6979, 'pcu4mhv': 5618, 'wy': 7903, 'rnmrcy': 6065, 'hy9': 3459, '1rsy_': 392, '1ysy': 542, 'u1m7ty3': 7124, 'mtmy3m': 4802, 'hmym1tmy3': 2677, 'tvy7': 6893, 'myrmv': 5158, '1tyt': 457, 'u7ytc': 7186, 'yom3t': 8524, 'h4c': 2233, '1r1': 381, '1ypvcr': 529, 'qp': 5855, '11yg': 137, 'mq': 4649, 'rhm': 5952, 'n7': 5269, 'hqsy_': 2842, 'ctmvvty': 1806, 'vcvmy': 7386, 'mtv': 4852, 'vnmrcsysy': 7538, 'qhctn': 5735, 'htn': 3228, '6tv': 806, 'mytcu4mhvy': 5181, 'ykc': 8400, 'vmtnyy': 7488, 'cty3': 1843, 'th1': 6537, 'mm1yr': 4565, 'hvnyy': 3388, 'yumyh': 8844, 'tm1lsy': 6584, 'cyr': 1992, 'vmhv': 7427, 'mm1y': 4564, '4mhvy': 717, 'tyummhsy': 7078, 'pyh': 5677, 'mhnyy': 4437, 'tmsy': 6631, 'rc1': 5930, 'nyyy': 5529, 'mhrm': 4442, '3ty3': 671, 'yyx': 8955, 'cuvy': 1886, 'vnsy': 7545, 'ruty': 6139, 'hvtsy': 3397, '5w': 749, 'ryumh': 6196, 'qmsy': 5799, 'myqmhm': 5140, 'cu1': 1861, 'hnyyx': 2778, 'tm1ly': 6585, 'um1': 7239, '11yl': 144, 'lm': 3983, 'vnsysysy': 7551, 'htmhtcty': 3221, 'yeh': 8260, 'mhmty': 4428, 'chvc': 1697, 'hry3m': 3057, 'h1m': 2194, 'ryrmh': 6183, 'mhrmhvy': 4445, 'hysy': 3585, 'nyysysy': 5525, '11yt': 158, '1r': 380, '0yb': 59, 'mhr': 4440, 'hqyu': 2965, 'qy7': 5890, 'hqyc': 2905, 'y0n': 7991, 'hmty3': 2627, '11sy': 107, '77mr': 834, 'ml': 4536, 'syr': 6347, '1c7my': 214, 'nysysy': 5501, 'tqc': 6719, 'tmr': 6613, 'vyhm': 7767, 'rchmyv': 5936, '11ysy': 157, 'mbmy3': 4355, 'cy1': 1955, 'myvm7': 5226, 'eyl': 2080, 'yl1': 8403, 'yys': 8945, '1mty': 314, 'msyp': 4731, 'mhhmttmmyx': 4398, 'hqyqrch': 2947, 'nmrc': 5360, 'rtnch': 6118, 'ctm': 1795, 'y_wy': 8165, '5i': 731, 'vysy': 7810, 'tykc': 6996, 'ssy': 6244, 'rrmry': 6097, 'vym': 7778, 'yrm': 8646, 'lysy': 4156, 'kc': 3890, 'tyum': 7074, '1mt': 303, '1mytv': 353, 'qmnyy': 5788, 'myt7': 5174, '11ytv': 163, 'lykc': 4120, 'rrmryv': 6098, 'qmytv': 5836, 'htc7m': 3210, 'qmyv': 5838, '1yh': 506, 'rnsy': 6068, 'vy4': 7718, '77mhv': 829, 'umryv': 7248, '1mtyv': 322, 'bm1': 1368, 'rmtyv': 6040, 'msy7': 4719, 'smtyv': 6228, 'vutyh': 7644, 'mhvyv': 4499, 'smt': 6226, 'symbm': 6327, 'bny': 1507, 'nypm': 5496, 'sym': 6324, 'ct': 1788, 'bmy7my': 1440, 'c1v': 1597, 'lhtnh7cnmrcy': 3953, 'mrmtv': 4675, 'hmq': 2575, 'mycm11': 5009, 'hsyp': 3178, 'h1myfc': 2212, 'nni': 5378, 'cvqm': 1906, 'tnmrc': 6690, 'pvm': 5658, 'nyg': 5487, 'nj': 5338, 'ml7': 4541, 'nmrcy3': 5370, 'mmy3': 4614, 'ry8h': 6152, 'my8h': 4985, 'yctnyy': 8244, 'hqmsy': 2810, 'mhtyv': 4463, '11y7': 126, '8mye': 1169, 'lvmhy': 4050, 'qc7mhvty': 5714, '11nyy': 105, 'myum1': 5210, 'tytcu4mhvy': 7056, 'hhc': 2419, 'lmsy': 3995, 'mhmhv1': 4422, 'rutyms': 6143, '1mvm1': 326, '3h': 601, 'rty1': 6129, 'hrye': 3082, 'hey': 2399, 'mhvy3': 4487, 'yrmth': 8662, 'myumq': 5215, 'bmty': 1425, 'vy8h': 7732, 'bmye': 1453, 'htnyy': 3238, 'sychrm': 6290, 'c1ryt': 1570, 'u1myl': 7150, 'yctyv': 8246, 'ychrm': 8209, 'syl': 6323, 'hvty3': 3399, 'rutyh': 6141, 'tmnsysy': 6608, 'lbm1': 3921, 'hrnmrcy': 3014, 'hqty3': 2867, 'npn': 5400, 'jsyoo': 3858, 'ybm1': 8188, 'cbm': 1633, 'hng': 2727, '11mhv': 78, 'hyx': 3642, 'hhy': 2481, 'myumtvy': 5217, 'hycc': 3471, 'y6y': 8081, '7ybm': 1057, 'rmr': 6021, 'hryx': 3156, 'hytc': 3592, 'myo': 5113, 'yg1': 8283, 'vyx': 7857, 'vsysy': 7586, '77mhvy': 832, '7m1': 871, 'csy': 1778, 'ut': 7288, '1cvm1': 234, 'ytvc': 8777, 'rmyl': 6050, 'ypvnyp': 8578, 'rmyv': 6056, 'tyqc': 7026, 'rmnyy': 6020, 'hyq': 3562, 'yum': 8816, 'vch': 7371, 'tyvm': 7092, 'chvyv': 1708, 'hyxmv': 3644, 'hhmsy': 2444, 'm7nsysy': 4313, 'cyl': 1980, 'yya': 8914, 'ryh1': 6163, 'hvt': 3392, '6iy': 777, 'chry': 1678, 'h8mry': 2291, 'chryu': 1688, 'syvm': 6411, '7tyv': 1033, 'y1mttyv': 8011, 'hmyvm': 2699, 'bmr': 1403, 'u7yh': 7179, '8mh': 1126, 'hvtyv': 3404, 'mymhry': 5094, 'tytm': 7058, '1um': 461, 'sys': 6350, 'lth': 4035, 'ng_cy': 5305, 'qb': 5710, 'chv': 1696, 'tycp': 6972, 'ytmht': 8749, 'n0i': 5253, '0ni': 34, 'syysy': 6424, '0n0': 31, 'mmrnh': 4592, 'mhl': 4418, 'chr': 1664, 'rbm': 5927, 'ycp': 8222, 'e': 2024, 'vc': 7368, 'mty1': 4868, 'hqm': 2803, 'yhc7um': 8314, 'hqtyc': 2870, 'm67': 4291, 'rmyt': 6053, 'ypmq': 8567, 'hy6y': 3445, 'vyp': 7789, 'hytv': 3604, 'qa': 5709, 'ym67': 8438, 'tnch': 6686, 'nnnnn': 5382, 'nmrcsy': 5363, '6v': 810, 'nqx': 5408, 'uty7mtt': 7302, 'yj0': 8392, 'lym': 4125, 'hmsyp': 2598, 'ubmyq': 7201, 'tnyyc': 6711, 'mhrsy': 4446, 'c11': 1518, 'myth': 5183, '0sy': 47, 'mtsy': 4823, 'mryh': 4695, '7uc': 1036, 'll7': 3963, 'mhyg': 4509, 'lyp': 4142, 'hqm1mt': 2805, 'hqyv3': 2975, 'yi0': 8361, 'hy1': 3433, 'hmytv': 2694, 'uty7': 7301, 't8': 6495, 't1': 6474, '11yg1': 138, 'y4m': 8065, 'y5ct': 8070, 'h5': 2235, 'hm11nmrc': 2519, 'lyhc': 4114, 'om': 5556, 'yumy7': 8839, 'vmr': 7452, 'hhct': 2420, 'htvy': 3257, 'yev': 8272, 'rey': 5946, 'tmyv3': 6678, 'vmr1': 7453, 'm11y': 4200, 'mlctmryv': 4545, 'cqmy': 1760, '7tm1ly': 1015, 'ey': 2075, 'tyqmhm': 7027, 'en': 2048, '7mu': 936, 'lc11': 3924, 'cnsy': 1746, '3nsy': 651, 'ttc': 6751, 'mr1': 4660, 'hyms': 3536, 'rtyv': 6137, 'vsyq': 7584, 'tm1': 6577, 'hlm': 2503, 'tmsyv': 6635, 'ysysy': 8692, 'ryo': 6174, '1nyy': 377, 'c1r': 1534, 'cyt': 1996, 'myuc': 5204, 'rmhy': 6011, 'vyms': 7786, 'mym7': 5082, 'n1m': 5260, 'hnh': 2728, 'nq': 5403, 'mrmt': 4674, 'cpy': 1753, 'oq': 5570, 'pyin': 5678, 'ypm3': 8561, 'hmypv': 2685, 'tyg': 6984, '1yc': 498, 'h1my3': 2208, 'r1': 5912, 'bmny': 1401, 'vty3': 7618, 'my4': 4958, 'syumy': 6409, 'vmryt': 7476, 'tvtyv': 6885, 'vy7ch': 7727, 'sy7m': 6266, '1ykcmtv': 513, 'hh1cr': 2406, 'hqyms': 2939, '7myo': 962, 'msyh': 4726, 'hqyh1': 2917, 'ctt': 1825, 'hsyc': 3169, 'hryct': 3079, '1m7mhvyv': 262, 'm3mry': 4255, 'ctyh': 1847, 'vmtsy': 7489, 'mmyh': 4616, 'vmq': 7451, 'mtyu': 4886, 'tvnsysy': 6858, 'tvy3': 6891, 'hlctmry': 2498, 'mny': 4638, 'utyu': 7317, 'mttsy': 4841, '18mry': 189, 'ctmy3': 1808, 'y7mr': 8118, 'c7': 1612, '7ty': 1024, 'tsyl': 6733, 'syg': 6311, 'htmyv': 3227, 'qhy3': 5750, 'ye7': 8255, 'vsyv': 7589, 'tvey': 6808, 'typ': 7021, 'umyv': 7262, 'htsy': 3241, 'mty7': 4872, 'c1ryq': 1565, 'yumyl': 8845, 'qmv': 5813, 'uny': 7268, 'hsy3': 3164, 'h1myh': 2221, 'rm1': 5973, 'yhh': 8320, 'vvnmrcy': 7693, 'mmryc': 4602, 'l4': 3905, 'ch': 1640, 'sn': 6229, 'hln4': 2507, 'cnmrc': 1742, 'mty3': 4869, 'mymhvm': 5096, 'ctnyy': 1822, 'mly': 4559, 'myuc11': 5205, 'mhyl': 4512, 'ylm3y7': 8420, 'sysyyy': 6389, '7msyv': 914, 'ym1': 8433, '1syyy': 432, 'chhm': 1647, 'yrmv': 8666, '1mryu': 295, '1ytc': 544, 'mtyl': 4876, 'yqr': 8630, 'lcs': 3933, 'nht': 5321, 'nc': 5280, 'chnmrcy': 1659, 'hi': 2483, 'jy3': 3871, 'hyun': 3628, 'yqmvy': 8619, 'mnsy': 4635, 'ysyv': 8700, 'vnsysy': 7547, 'yh1m': 8306, 'jnyy': 3848, 'mrytv': 4706, 'rhuvyv': 5962, '1ryq': 413, 'tymh': 7009, 'huvy3': 3307, 'hmyr': 2687, 'h8syv': 2318, 'hr1': 2983, 'h8tyl': 2331, 'rmyr': 6051, 'iz': 3767, 'z': 9056, 'i6': 3669, '6i': 774, 'fi': 2100, 'hvl': 3342, 'he': 2397, 'hmvsyp': 2644, 'ys': 8672, 'vlms': 7407, 'n1htn7': 5259, 'mtmyr': 4810, 'syyyyyyyyy': 6460, 'yyyyyyyyyyyyyyyyyyyyy': 9038, '1yy': 558, 'vutyq': 7647, 'n06': 5252, 'vns': 7544, 'ltq': 4037, 'eyc': 2078, 'tsyohv': 6734, 'n3': 5262, 'rntq': 6070, 'yi0sysy': 8363, 'hhmttnr': 2449, 'qmsnhmv': 5796, 'qmsnh': 5795, 'ummhy': 7243, 'vutyv': 7655, 'mhhmyumv3mmhyv': 4411, 'vm3': 7411, '7yyyyyyyyyyy': 1106, 'j6i': 3785, 'vchqlh': 7372, 'hmvnh': 2641, '1ncty': 363, 'hrn': 3010, 'unh': 7264, '9mhhmv': 1251, 'twyy': 6923, 'hmtv': 2621, 'imrsy': 3708, 'uctm': 7214, 'mysy': 5159, '7mr': 900, '1yms': 522, 'm7mhvy': 4305, 'hyrmh': 3581, 'ryc': 6158, 'my7mr': 4980, 'o_': 5541, 'my3m': 4951, 'hq1my': 2784, 'tyummhy': 7079, 'bmnyy': 1402, 'ogp': 5552, 'aml': 1344, '8yq': 1234, 'h7mhvy': 2265, 'tvtsy': 6877, 'vyqmvv': 7798, '3ym': 696, '8yh': 1230, 't1m': 6475, 'm7tm1bmtnyy': 4319, 'cvh': 1894, 'my9': 4988, 'tyb': 6964, 'mth': 4769, 'syy': 6415, '1mhhm': 266, 'yyyyyyyyyyyyyyyy': 9033, 't8y7my': 6513, 'vvy': 7698, 'vvmhyu': 7681, 'hsyyy': 3194, 'tyc': 6966, 'hy7mr': 3452, 'nsyyy': 5454, 'hyvm': 3632, 'vtyh': 7623, 'lvmhyv': 4054, '7myh1': 955, 'tmyl': 6663, 'mhrty3': 4449, 'syyyv': 6436, 'hqty1': 2866, 'y4ctvyr': 8059, '1cmy': 222, 'ytcqqmtv': 8723, 'hqmyv': 2820, 'mnyy': 4641, 'syyy': 6427, 'mtvmry': 4855, 'li': 3956, 'nv': 5471, 'pv': 5657, 'nct': 5292, 'hc1v': 2371, 'cyq': 1988, 'tymbm': 7007, '1vm': 466, 'u1m7nyy': 7118, 'ymll': 8470, 'h6v': 2256, 'mym1mhv': 5081, 'lvmh': 4049, 'chvty': 1704, 'tty': 6787, 'm1r': 4220, 'hqnsysy': 2825, 'mytv': 5197, 'hvmrsy': 3372, 'mhhmt': 4395, 'hmy7': 2655, 'yly': 8431, 'nmrcyycvi': 5373, 'mll': 4550, 'csy_': 1781, 'tu': 6797, 'ttr': 6785, 'hn33hnmrcy': 2709, 'oyp': 5595, '8yt': 1237, 'mtcty3': 4761, 'tym': 7004, 'ctyl': 1848, 'ty4ctvyt': 6947, '1vsy': 471, 'llyv': 3982, 'hty3': 3264, '3tnyy': 666, 'c1rysy': 1569, 'ym7u': 8441, 'mtyr': 4881, 'msyo': 4730, '1myr': 349, 'c1rhuvy': 1536, 'yvm11y': 8867, 'yymm': 8935, 'v1m': 7348, 'cvyo': 1937, 'mrsy': 4682, 'cvyt': 1943, 'hqtnsysy': 2859, 'hry8m': 3068, 'hqysy': 2952, 'ryummhy': 6198, '11y7my': 128, 'rysy': 6184, '1mry': 291, 'u1myt': 7154, 'yacvy': 8173, 'mthuvyms': 4779, 'hm1': 2517, 'huvyctmy': 3313, 'mhmy': 4430, 'lymb': 4128, 'rmhhm': 5990, 'utm': 7291, 'y1ch': 7999, 'hymhv': 3527, 'hyumyr': 3625, 'hc1': 2370, 'mhq': 4438, 'ty9': 6961, 'hrty': 3042, 'lyms': 4134, '1myum': 355, 'htnsysy': 3235, 'ry9': 6153, 'ub': 7192, 'my7ctvy': 4972, 'y3my': 8033, 'c1my': 1531, 'cvy1': 1922, 'y7mhv': 8108, 'bmhy': 1389, 'rnsysy': 6069, 'hrym1tm3': 3096, 'hy0': 3431, 'c1ryr': 1568, 'ylc1l': 8409, 'ytm1mhv': 8741, 'bmyr': 1469, 'hyum': 3613, '1ly': 254, 'vvmhy': 7678, 'hytch': 3594, '7ct': 855, 'tvmryv': 6851, 'unsysy': 7266, 'bmy7': 1437, '7mhv': 878, 'yhmsvyv': 8350, '11yctmy': 136, 'ytmbm': 8743, '77mhry': 827, 'mybm': 4997, 'ychh': 8207, 'nc3': 5281, 'nmrcn': 5361, 'vvyp': 7700, '3t8': 663, 'r1m': 5913, 'm1vm': 4233, 'cvsy': 1908, '7l': 862, 'y7my3': 8125, 'hqyg': 2913, 'hyh1m': 3495, 'hqey': 2797, 'mtyt': 4883, '7tnsy': 1017, 'hycct1': 3472, 'c1m': 1526, 'c1ryv': 1594, 'mypm': 5129, 'ruty3': 6140, 't8y3': 6512, 'mymv': 5111, 'c1ryumyt': 1590, 'yumy1': 8837, 'my8': 4984, 'ly8': 4084, 'ml1mhvyv': 4540, 'vcrmy': 7376, 'my4ctvy': 4962, '1mty3': 316, 'hhmtv': 2454, 'tsyh': 6732, 'vmryl': 7469, '7yg': 1062, '7nyy': 992, 'vytmm7tyv': 7829, 'vvl': 7672, 'cs': 1777, 'yumq': 8827, 'rnhtnbvnmrcy': 6061, 'zp': 9083, 'mhhmyxm': 4413, 'v7mhv': 7359, 'ya1': 8167, 'h8tuc': 2325, '1ty': 448, 'ly7m7': 4082, '7myb': 948, '8yl': 1231, 'y7m7': 8105, 'ymg': 8453, 'hmyms': 2680, 'tsy1': 6726, 'htm': 3219, '6a': 766, 'nm': 5352, 'tcnmrcy': 6528, 'pm1': 5634, 'mttyg': 4845, 'jijilrutvcin': 3804, 'invc6utnrmy': 3736, 'amhmr': 1343, '8vy': 1217, 'tmh': 6594, 'i0': 3657, 'jl7': 3831, 'nhhn7': 5314, 'hml': 2554, '7mhy': 891, 'c1ty': 1596, '7tyt': 1031, 'y7ctvy': 8099, 'bmyhmbm': 1457, 'lytch': 4162, '7myg': 953, '7mym': 959, '7tnyy': 1020, 'hlct': 2497, 'tytc': 7051, 'tmryv': 6629, 'hvyb': 3411, 'm3y': 4272, 'yhmbm': 8336, 'y1mvyv': 8015, 'lymbm': 4129, 'lmny': 3992, 'hrmmr': 3004, '3syv': 661, 'm7yl': 4329, 'mm1': 4562, 'ty3m': 6933, 'm7y3': 4325, 'hryb': 3074, '8mny': 1138, 'ymh4': 8457, 'hs': 3161, 'tvyb': 6896, 'tvsyh': 6868, 'tyrm': 7033, 'hvmryu': 3377, 'lyum': 4172, 'mttmr': 4832, 'hqryv': 2836, 'rmhv1': 5999, 'ym7m': 8440, 'bmycty': 1452, 'vmyl': 7512, '7yc': 1058, 'nya': 5481, 'c1rhuvyh': 1539, 'syb': 6274, 'hrsyv': 3033, 'hqysyh': 2954, 'yyyyyyyyyyyyyyy': 9032, 'yhmq': 8348, 'j0': 3770, 'nny': 5392, 'tm6': 6588, 'c17': 1522, 'hnmrcy': 2737, 'tmsc': 6630, 'hnmrcsy_': 2735, 'hym67': 3518, 'hmr': 2576, 'huv': 3301, 'lye': 4105, 'mn': 4623, 'mhhmyv': 4412, 'hvmsvy': 3381, '1yum': 550, 'hyqmhm': 3569, 'ctnsy': 1820, 'ylmm1yv': 8428, 'tyumh': 7076, 'y7mh': 8107, 'tybm': 6965, '11nsysy': 103, 'sya': 6273, 'y74': 8093, 'u7nh': 7171, '7yy': 1098, 'm1ym': 4242, '7sy': 997, 'lbhmvn': 3920, 'nym': 5492, 'hqtv': 2864, 'sy9m': 6270, '6t': 802, 'hrlgpng': 2998, 'vmnqx': 7444, 'cuum': 1884, '8ybm': 1225, 'y3m11y': 8023, 'cqy': 1765, '4mhv': 714, 'yhm': 8321, 'mmrty': 4597, 'hyh1': 3494, 'myb': 4996, 'yrc': 8640, 'hvmhvy': 3364, 'lyrm': 4154, 'hry1': 3053, 'msyq': 4732, 'yctmy': 8239, 'u1m7tnyy': 7121, 'y3m11yv': 8024, '7yumh': 1093, 'qq': 5861, 'vmyr': 7517, 'qmyr': 5833, 'hmyu': 2695, 'my7c1v': 4970, 'hty7': 3267, 'myrm': 5145, 'ytvm': 8781, 'l4c': 3906, '1mr': 290, 'y4c': 8048, 'hyiniymp': 3504, '2syp': 582, 'yeq': 8267, 'hney': 2725, 'hhmny': 2436, '7yum': 1092, 'hmsyh': 2596, 'sysy4': 6353, 'd': 2008, 'fa': 2095, 'iji': 3694, 'hnum': 2758, 'yf': 8276, 'pq': 5645, 'q7': 5705, 'n8': 5272, 'ypvm': 8576, '7uty7mtt': 1039, 'yji': 8394, '0ny': 40, '9mhy': 1253, 'myucvv': 5208, 'hr1m': 2984, 'u4mhv': 7160, 'yyyv': 8972, 'mhyh': 4510, 'mye3': 5020, 'vmbm': 7422, 'hqsysy': 2849, '8mym': 1174, 'vy4ctvyv': 7722, 'myhm3y': 5046, 'u7y': 7173, 'myumh': 5211, 'ctmy7': 1810, 'mvc': 4907, 'mtty3': 4843, 'ng': 5302, 'qmty': 5808, 'hr5': 2989, 'm3nh7cnmrc': 4257, 'yysy': 8946, 'y3m11': 8021, 'bmy1': 1435, 'm7nyy': 4315, 'm7yu': 4332, 'bmt': 1418, 'yyv': 8953, 'yu1': 8786, 'hmtt': 2614, 'ucvyh': 7222, 'hyvc': 3631, 'vmsy': 7481, 'yvc': 8863, 'vyucvy': 7837, 'yvmtvy': 8877, 'm1yp': 4243, 'eyr': 2082, 'cychrm': 1968, 'hyfi': 3486, 'nij': 5333, 'umv': 7253, 'hyhm': 3498, 'ytmmy': 8759, 'ythm': 8734, 'tmrnyy': 6617, 'qppy': 5858, 'hyth': 3595, 'yrmb': 8650, 'lly3': 3975, 'mhuvyq': 4465, 'mhsy': 4454, 'mvy7': 4927, '7mhvyl': 889, 'hyu1': 3609, 'hrsyh': 3027, '1uty': 462, 'mbmhvy': 4345, 'qt': 5876, 'tyuc': 7072, 'myep': 5025, 'cmry': 1730, 'syo': 6333, 'hmymbm': 2679, '7y7': 1049, 'tvc': 6807, 'hytvcr': 3606, 'vyumvvm': 7844, '3yh': 693, 'cqty': 1764, 'htyuml': 3288, 'm3ty3': 4267, 'ym1tmy': 8437, '7mtnsy': 917, 'vytmmy': 7831, 'ycct1': 8200, 'm3ty': 4266, 'bmymbm': 1463, 'tvmhhmy': 6838, 'ap': 1350, 'hkc': 2485, 'hvmsvnyy': 3380, 'llmht': 3965, 'y6': 8072, '11yr': 156, 'ttmtn': 6775, 'yrm7': 8649, 'hlrmt': 2510, 'mn3': 4625, 'nsy_': 5421, 'yinsysy': 8385, 'nn': 5374, 'g1': 2124, 'llyl': 3978, 'hy4': 3441, '11nsy': 102, '18y': 196, 'hmyc': 2663, 'vytmm7ty': 7827, 'vty3m': 7619, '77ch': 823, 'h8yq': 2353, '8ty1': 1207, 'mttc': 4829, 'mutyh': 4900, 'ybmtvmry': 8190, '00n': 0, 'vtn': 7605, 'nnnn': 5381, 'nmrcsy_': 5364, 'mhttm1': 4459, 'vmh': 7425, 'vcvm': 7383, 'mytvc': 5198, 'tvyl': 6904, 'hnnn': 2738, 'huvyum1': 3333, 'cvsy3': 1909, 'y4u': 8068, 'ul': 7233, 'qmsnhmvy': 5798, 'bmhyv': 1394, 'mypc': 5123, 'bmhsy': 1383, 'hyy': 3645, 'mlc11': 4542, 'yyh': 8923, 'ymsv': 8489, 'ycc': 8196, 'cytmm7yv': 1999, 'cvyq': 1939, 'hqytc': 2959, 'hqymb': 2933, 'ac': 1330, '1yl': 514, 'hr1myv': 2987, 'm6u': 4295, 'hryqmvy': 3116, 'myy': 5241, 'cvv1my7': 1918, 'c1ryuc': 1575, 'myqs': 5143, 'cubmy': 1873, 'yhm3y': 8329, 'my7m': 4974, 'hhmry7': 2440, 'mthuvytmm7yv': 4783, 'yhmmryl': 8345, 'chnmrcsy': 1658, 'ucvmryv': 7218, '1s': 418, 'wx': 7902, 'sr': 6243, 'qmhv': 5779, 'yochv': 8521, 'ctybininiri': 1845, '0nn': 37, 'yqs': 8632, 'yj': 8391, 'hmtyv': 2635, 'sysysyp': 6378, 'tsysy': 6738, 'yijy': 8380, 'yi0y': 8364, 'y7h': 8102, 'hqvl': 2881, 'tch': 6525, 'ncq': 5291, 'm1yg': 4239, 'mhtsyp': 4458, 'u1myr': 7152, '6yyc': 819, 'yyyy': 8975, '6yy': 818, 'hvm11': 3345, 'qmhhmym': 5776, 'yyyyyyyyyyyyyy': 9031, '06j': 4, 'j06': 3772, 'nyyyyy': 5531, 'vmc': 7423, 'yyf': 8920, '18ty': 193, 'hqsyv': 2851, 'qmtyv': 5812, 'tymb': 7006, 'm7yc': 4327, 'vmey': 7424, 'ubmyh': 7197, 'yij': 8374, 'yii': 8367, 'yn': 8505, '2s': 577, 'nt': 5459, '3tyo': 675, 'pqy': 5647, 'rm7': 5983, 'hmtsyp': 2613, 'ox_': 5583, 'vmrny': 7456, 'ymshm': 8486, '7mykcmtv': 957, 'acy': 1334, 'hvm1': 3344, 'hmvy': 2645, 'yyr': 8944, '1mnh': 280, '3y1': 683, 'cyp': 1986, 'yij0': 8375, 'hqyl1': 2924, '6l1': 781, 'huvy7': 3308, 'hym1mhv': 3517, 'sysyh': 6364, 'mkcmtv': 4530, 'bmytmmhy': 1480, 'myp8': 5121, 'yyyyyyyy': 9024, 'lr': 4017, 'yop': 8536, '7nq': 986, 'ycq': 8225, 'wsy_': 7893, 'vnq': 7543, 'nmrcsysy': 5368, '1myt': 351, '1rm': 383, 'tny': 6704, 'sysyw': 6385, 'jy': 3869, 'cty7': 1844, 'jt': 3862, '7mtnsysy': 918, 'sysym': 6366, 'jny': 3846, 'tyhmbm': 6993, 'mqc1': 4651, 'ch81': 1642, 'bmryl': 1409, '7syv': 1008, 'myl1': 5070, 'c1ry1m': 1550, 'vty1': 7617, '8mry1': 1143, 'c1ryumyv': 1593, 'nyx': 5504, 'rmy7': 6045, 'yyyyysy': 9005, 'hmv': 2639, 'nmrcyy': 5372, 'cl': 1719, '11mqmy': 85, 'lyph': 4143, 'mhhmtsyp': 4396, '7lqhbn': 866, 'hqnsy': 2824, 'vnysy': 7557, 'hnyo': 2763, '9a': 1242, '3yt': 703, '8myc': 1168, 'eyt': 2083, 'myg1': 5030, 'nsysyyy': 5445, 'hrytmmy': 3136, 'yy_': 8913, 'msyyy': 4744, 'cykc': 1979, 'vmyt': 7519, 'tmty': 6642, 'ctmny': 1797, 'htvsy': 3256, 'hryrm': 3119, '1cv': 233, '7ym': 1071, 'ly3': 4072, 'hytmh': 3600, 'ypc': 8547, 'hymh': 3523, 'm7ny': 4314, '7mnsy': 896, 'cny': 1748, 'utv': 7297, 'yyg': 8921, 'ymhh': 8459, 'qmyh': 5826, '1tny': 441, 'lmy': 3999, 'tytvc': 7066, 'tyqmvv': 7028, 'lmtt': 3996, 'y8m': 8135, 'lhh': 3941, '1vmh': 467, '9m': 1249, 'hyph': 3556, 'yeg': 8259, 'yfm': 8280, 'tvt': 6870, 'rmh': 5988, 'ycny': 8221, 'vcv': 7382, 'h8mry3': 2292, '8mrsy': 1141, 'yrml': 8655, 'thuvyv': 6562, 'tytcll': 7054, 'cm1y': 1727, 'hqyum': 2970, 'c1ryumybm': 1585, 'tmysy': 6671, '11y3m': 124, '3mryv': 643, 'hqty3m': 2868, 'cm1': 1725, 'h1mtt': 2202, 'vyum': 7838, 'yumv3mmhy': 8832, 'mmhy': 4583, 'yom3y': 8526, 'hyf': 3484, 'tvh': 6809, 't7nq': 6484, 'vvnh': 7691, 'hrym': 3095, 'cu5': 1872, 'h53': 2236, 'qmvy': 5816, 'lv': 4045, '5r': 744, 'hmm': 2560, 'ymmvm': 8478, 'y0y': 7995, 'xty': 7963, 'yuh': 8814, 'yao': 8183, 'inj': 3729, 'y9c': 8141, 'yi5': 8365, 'ycty': 8245, 'hhmhv': 2429, '1y7': 485, 'pgp': 5626, '6g': 771, 'xyg': 7969, 'vmrsy': 7459, '7msy3': 910, 'u1m7t': 7120, 'hhmyu': 2470, 'mytc': 5176, 'rmryv': 6029, 'nyw': 5503, 'myhmsvy': 5058, 'rsyh': 6106, 'hryv3': 3152, 'hyumyl': 3624, 'chrsy': 1672, 'htytv': 3283, 'hq5': 2789, 'mrchmyv': 4668, 'lsyt': 4026, 'cyhmmry': 1976, 'u1myh': 7149, 't8sy': 6506, 'mlc1y': 4543, 'rhuvy3': 5956, 'rr1my': 6093, 'u1mny': 7135, 'ryb': 6156, 'mthuvy3': 4774, 'vsyr': 7585, 'qmr': 5789, 'mh8yv': 4381, 'vmtyl': 7496, 'htc7': 3209, '1cqqmry': 225, 'tsyr': 6737, 'c1ry3': 1551, 'myvm': 5225, 'hvny': 3387, 'tyucvy': 7073, 'mypgp': 5127, 'yhrvlt3ntv': 8355, 'vctnh': 7379, 'gnyxny': 2158, 'vctyg': 7381, 'jsyx': 3861, 'h8mvnt3ntv': 2299, '7sysy': 1006, 'tvyu': 6917, 'vyv3': 7853, 'hy3m': 3438, 'ttny': 6783, 'hryu': 3142, 'uv': 7325, 'ygg': 8291, 'ttn': 6780, 'imhy': 3705, 'ttcmry': 6759, 'vyb': 7741, 'mtsyv': 4827, '3hyu': 626, '3hnsysy': 609, 'hyev': 3483, 'vey': 7389, 'ych1mtty': 8204, 'qmyx': 5839, 'thuvy3': 6554, '3ht': 613, 'cyhmbm': 1975, '11yumyh': 174, '3hyl': 621, '7myh': 954, '11yq': 154, 'bmyummhsy': 1488, 'ysyh': 8684, 'yoq': 8537, 'hvtnsysy': 3394, '7yyy66': 1100, 'cyum1': 2004, 'yhrvlb': 8354, 'tntv': 6702, '7yyyyyyyy3': 1104, 'hbmtv': 2368, 'tuym': 6802, 'h8mvnnnsys': 2298, 'm3t': 4263, '1msy_': 301, 'h61': 2238, 'vmty': 7493, 'huvyctmyv': 3314, 'vv1m': 7659, 'hybm': 3469, 'ytm11y': 8738, 'vypmh': 7792, 'hvsyv': 3391, 'sym67': 6325, 'y3myhmmryv': 8039, 'myh1': 5035, 'ytmhc': 8745, 'yp3': 8542, 'nc8': 5282, '1lqv': 253, 'hmyvm11y7my': 2700, 'chsy': 1690, 'mmh': 4575, 'try': 6723, 'ynyu': 8517, '1mtnyy': 309, '3yl': 695, 'hhm1y': 2428, 'yqcmtty': 8599, 'syum1': 6407, 'jjjy': 3813, '7mykc': 956, '3tyh': 673, '1q': 378, 'sy66ysy': 6262, 'c7mhvty': 1616, 'ij0': 3691, 'hlc': 2495, 'snmhhnc': 6237, '8h': 1114, '7mtymnyg': 930, 'hqsyohv': 2845, 'yqhq': 8608, 'ly_81': 4089, 'y_9': 8150, 'nhhn': 5313, 'rcmnmrc': 5941, 'rcmnmrcy': 5942, 'tmyq': 6669, 'ln': 4004, 'cvyct': 1928, 'hnyg': 2762, 'mh8y': 4378, 'cvnsysy': 1903, '0j': 18, 'ry4': 6150, 'uyl': 7336, 'vuty4ctvy': 7640, '1ym': 518, 'h1mttyv': 2204, 'mbmsy': 4350, 'qhmryl': 5739, 'ylm3y': 8419, '11ytc': 159, 'ttyv': 6796, 'mbmry': 4348, 'jut': 3865, 'tvyc': 6897, 'y4ctvyv': 8062, 'ysyg': 8683, 'yyyyg': 8982, 'hymhq': 3526, '11tyl': 116, 'ayv': 1361, 'ywm': 8883, '1mtsy': 310, 'ypmh': 8564, 'hmhvy': 2552, 'ty1mttyv': 6931, 'rmt': 6033, '11mqm': 83, 'chrty': 1674, 'm7sy': 4317, 'qyt': 5903, 'ttmt': 6774, 'tty1': 6788, 'yy3': 8908, 'mnysysy': 4640, 'sysya': 6360, 'msyt': 4736, 'ury1': 7277, '8myi': 1172, 'jyl': 3876, 'q1c': 5697, 'cqo': 1761, 'yg_': 8286, 'pxyp': 5669, 'oy': 5590, 'ymp': 8479, 'lyqhq': 4150, 'mryph': 4700, 'lc': 3922, 'vcntr': 7374, 'yrurlc': 8670, '7mh': 874, 'hy8': 3455, 'hytm': 3597, 'hnsys': 2747, 'ytvmbm6ul': 8783, 'pvmbmya': 5661, 'bmsy_': 1414, 'hhmtty_h1': 2452, 'hmyg': 2667, 'mmhum1v': 4582, 'ycxy': 8249, 'ttyl': 6792, 'huvyt': 3324, 'chryl': 1685, 'yvmh': 8872, 'py7': 5673, 'c1rsy': 1545, 'mtc1vy': 4755, 'tvyr': 6912, 'hc1vyv': 2375, '1rntvrnh': 387, 'yxc7umtvy': 8891, '7msy_': 911, '1rymcu1': 410, 'yq1': 8582, 'mhmbm': 4421, 'cu1my': 1866, '1m7': 258, '7syp': 1003, 'yhm3tq': 8327, 'vv1myv': 7670, 'rlh': 5967, 'yrmvmhv': 8668, 'yxq': 8902, 'qg': 5730, 'hhmt': 2446, 'in': 3725, 'hqym7': 2932, 'vvmryu': 7688, 'hvmhh': 3352, 'inyy': 3738, 'ryuml': 6197, 'mysyh': 5163, 'mhm': 4419, 'msy1': 4717, 'vmy7': 7504, 'cnyy': 1749, 'mkcmhh': 4528, 'ty8m': 6960, 'qmy7': 5822, 'hhmsyv': 2445, 'bmyb': 1446, 'ynnnsy': 8510, 'cyqmvyv': 1991, 'nmrcsypcu4mhv': 5366, 'rmhvt': 6002, '0sysysy': 52, '7n': 979, 'nhmvy': 5320, 'chhmyv': 1652, 'yyyy3': 8976, 'nysy': 5500, 'u1m7y': 7127, 'bmey': 1379, 'my1ch': 4941, 'ymhb': 8458, 'y4ctvy1': 8053, 'hrmry': 3008, 'mrnyy': 4680, 'h8ya': 2345, 'ubmsy': 7193, 'lyvmh': 4177, 'mtyum': 4887, 'hqyrmbm1': 2951, 'imty': 3717, 'vymhh': 7783, 'y6y3': 8083, 'qmy3': 5821, 'yac': 8171, 'h8mvty': 2301, 'ypch': 8548, 'ctvy3': 1834, 'myumy': 5221, '7my1': 942, 'sytv': 6400, 'vtyl': 7624, 'hyyy': 3648, 'mlctmtyv': 4546, 'syyyyyyyyyyyyyyyyy': 6466, 'mmy7': 4615, 'qmhh': 5773, 'hmn': 2564, 'g_n': 2139, 'uumlb': 7322, 'q9ng_cy': 5707, 'vyam': 7740, 'y0i': 7981, 'cc': 1634, 'mthuvyv': 4784, 'tytcllm': 7055, 'vuty7': 7641, 'hqtnsy': 2858, '7h': 859, 'vmhvy': 7433, 'mhvyq': 4494, 'tyeq': 6981, 'my4ctvyh': 4963, 'vmyp': 7514, 'uyam': 7332, 'c1rytv': 1573, 'h8yc': 2346, 'vytm': 7824, 'rhuvyt': 5961, 'chryh': 1683, 'yhv': 8359, 'c1': 1517, 'cl7': 1720, 'tkc': 6568, 'lyw1': 4179, 'vnsyp': 7546, 'bmyg': 1454, 'hvmtvy': 3383, 'itvy': 3750, 'h8ym': 2350, 'hqyo': 2940, 'wsyc': 7894, '7yp': 1077, 'mypmh': 5130, 'hqyp': 2941, 'hyg1': 3488, '1mvy': 328, 'lyo': 4139, 'vmrytm': 7477, 'hmyo': 2681, '7u': 1034, 'tytmh': 7059, 'ytmmyh': 8761, 'vytmh': 7826, 'ubmyt': 7203, 'vy4ctvy': 7720, 'mvnyy': 4916, '1yh1': 507, 'hmybm': 2662, 'vmy3': 7503, 'my8m': 4986, 'mymth': 5108, 'ubmy7': 7196, 'ttmr': 6770, 'imr': 3707, 'ymth': 8493, '77mry': 835, '1bmty': 206, 'mvy8m': 4928, 'ty8h': 6959, 'ty3m11': 6934, 'yh1': 8304, 'c1rhuvsy': 1535, '3lc11': 630, 'rqmyc': 6090, 'yj00': 8393, 'sy4': 6258, 'yh4': 8307, 'tl7': 6570, 'tsy_': 6730, 'u1m7tyl': 7125, 'qyu': 5904, 'smty': 6227, '6c': 768, 'vmty3': 7494, 'yucvv': 8799, 'sny': 6240, 'sy7ch': 6265, '7mny': 898, '7ch': 850, 'mtmyt': 4811, 'h3': 2230, 'bmy7myt': 1441, 'mnmrcy': 4630, 'hyam': 3467, '11mqmsyp': 84, 'umy': 7255, 'h8mmty': 2289, 'hye': 3482, 'msytv': 4738, 'tvym': 6905, '77mhvty': 831, 'mtmyv3': 4815, 'nyam': 5484, 'ury3': 7278, '18yv': 198, 'hmytc': 2691, 'tmu': 6647, 'hl1': 2488, 'bsy': 1509, '0a': 6, '3m11': 634, 'ysy6': 8678, 'rmty3': 6038, 'y3myr': 8042, 'mhrty': 4448, 'chyv': 1715, 'huvyr': 3322, 'mury': 4895, 'hqtyr': 2873, 'cyhmmryv': 1977, 'hlu': 2514, 'nhhnu': 5318, 'tnmrcy': 6693, 'u1msy': 7137, 'tnmrcsy_': 6691, 'hmtty': 2618, 'mrybm': 4692, 'hyqhq1': 3566, 'hty3m': 3265, 'vvmhr': 7676, 'mttyh': 4846, '1mhvyv': 274, 'vya': 7737, 'hry8mm': 3069, 'mvyt': 4932, 'ctyv': 1858, 'yyyyyyyv': 9023, '66y': 762, 'hry0': 3052, 'tyx': 7096, 'syw': 6412, 'c1yg': 1604, '1yqkc': 533, '7mhvyg': 887, 'hsy9m': 3167, 'sysyc': 6361, 'c1y': 1602, '8tv': 1205, 'jjy3': 3820, 'y6y0': 8082, 'hhmhvmryv': 2430, 'hnyp': 2764, 'ayh': 1360, 'ytmvyv': 8774, 'ly0': 4069, 'hrmmry': 3005, 'rmty': 6037, 'uryumy': 7281, 'isyoo': 3746, 'ymhvm': 8468, 'vnmrcsy': 7535, 'u7yv': 7188, 'l5': 3908, 'rqmvy': 6087, 'u7yr': 7184, 'mthuvy7': 4775, 'chry3': 1680, 'h8q': 2315, '2n': 571, 'yz': 9050, 'yqh': 8605, 'mhty': 4460, 'yqmvy3': 8620, 'vmy1': 7502, 'hmtnyy': 2611, '3tyc': 672, 'y6yh': 8086, 'vutybm': 7642, 'mychrm': 5006, 'mbmyl': 4356, 'nsysym': 5437, 'vyumyh': 7848, 'ctyp': 1851, 'llmhtm': 3966, 'vmu': 7500, '8ty': 1206, 'hqs': 2837, '7mhr7mhvy': 876, 'c1rytc': 1571, 'yhch1m': 8316, '1y3m': 483, 'hryhm': 3088, 't5': 6478, 'ymbmhy3': 8448, 'bmytch': 1476, 'npny': 5401, 'vmhvty': 7432, 'lyhm': 4115, 'jyv': 3883, 'syn': 6331, 'vmhyv': 7436, 'ctvy': 1832, 'ly3myh': 4075, 'vymbmhy': 7781, 'hy8mm': 3458, 'hqy3m': 2888, 'qmhvty': 5781, 'hmyq': 2686, '6h': 773, 'hmyumh': 2697, 'tyl1': 6999, '1ye': 502, 'qmh': 5772, '1b': 199, 'hqny': 2826, '1ryu': 416, '7mhy3': 892, 'ursy': 7275, 'umyt': 7261, 'c1ryl': 1561, 'hqyvmh': 2977, 'kcmt': 3892, 'yqmvyt': 8626, 'lhtnc': 3951, 'mp': 4645, 'vsy_': 7579, 'isyx': 3748, 'hnmrcsysy': 2736, 'rtnsysy': 6121, 'chryt': 1687, 'tvm7y3': 6829, 'tyrmbm1': 7037, 'rtny': 6122, 'yhm3yu': 8334, 'uyt': 7340, 'c7y': 1620, 'lyb': 4093, 'mtny': 4820, 'hrtyv': 3048, 'mhvyh': 4492, 'yrmbm1': 8651, 'vyuc': 7836, '1rty': 396, 'uh': 7229, '1yq': 530, '3v': 681, 'vty7': 7620, '1ryl': 409, 'myrml': 5151, 'mytmht': 5190, 'ty7m': 6954, 'htsyv': 3248, 'hvnsy': 3385, 'tvy1': 6889, 'hmy1': 2651, '11tsy': 114, 'hyumh': 3615, 'hhmy3': 2460, 'mryt': 4705, '7c1': 844, 'tmyt': 6672, 'hnmrc': 2732, '8mlq': 1133, 'bnuhnh': 1506, 'tvya': 6894, 'tvm7tyg': 6824, 'ynsysy': 8513, 'ic': 3676, 'yam11': 8177, '1mypvm': 347, 'nn6i': 5376, 'rya': 6155, 'tmsy_': 6633, 'nyph': 5495, 'psyp': 5652, 'hyfg': 3485, 'pj': 5630, 'chnmrc': 1657, '1mryl': 293, 'tvmry': 6849, 'yyn': 8936, '8tyq': 1210, 'muty7': 4899, 'q1': 5696, 'tyi': 6995, 'tyt1': 7049, 'qmnsy': 5785, 'iy3': 3757, 'nyym': 5517, '7my7': 945, '3mtvy': 646, 'tvyv3': 6920, 'utyl': 7309, 'thuvsy': 6552, 'qmt': 5801, 'hyi': 3501, 'jsy': 3854, 'syi': 6316, 'sypm': 6342, 'qcmy': 5723, 'vyumy': 7845, 'vu': 7635, 'nypvm': 5498, 'mryq': 4701, '8y3': 1220, 'ymt': 8492, 'uc': 7209, '11s': 106, 'lic7': 3957, 'ensy': 2049, '1rsyp': 394, 'n_': 5276, 'uyh': 7335, 'myqmh': 5139, 'ly0n': 4070, 'hqysyv': 2955, 'rmny': 6019, 'vyqmvy': 7799, 'ysy3': 8676, 'chmyi': 1656, 'r4': 5917, 'hvyr': 3419, '3hny': 610, 'mrty': 4684, 'ci': 1716, 'hhmtt': 2448, 'hmryl': 2587, '7mryu': 907, 'hrtyh': 3046, '1myu': 354, 'llyu': 3981, 'syyyyv': 6441, 'imryv': 3715, 'ctyum1': 1857, 'mlty': 4557, 'mycct1': 5002, '7ty3': 1026, 'rmry': 6024, 'qmyhc7um': 5827, 'nsysyyyy': 5446, 'syyyy': 6437, 'hhmyl': 2465, 'mhytv': 4520, 'umt': 7250, 'ly9': 4087, 'ttm': 6767, 'cqctv': 1757, 'hryuc': 3144, 'hmryr': 2588, 'ryrm': 6182, 'hryrmtv': 3122, 'mlct': 4544, 'yqt': 8633, 'hc7mhv': 2377, 'htysy': 3281, 'huc1': 3296, 'nsysye': 5435, 'sysyy': 6388, 'msyy': 4743, 'hhmty': 2455, 'tyrmth': 7041, 'umryu': 7247, 'qhyv': 5754, 'qmryu': 5793, 'ysyy': 8702, 'ly7c': 4079, 'hrymsv': 3105, 'hhv': 2480, 'hymbm': 3522, 'rmhvy': 6004, '1ryc': 406, 'hsyy': 3193, 'hc7mhvt': 2378, 'bmyo': 1466, '1myo': 344, 'ypmhv': 8566, 'nsyyyyyyyyy': 5458, 'jyu': 3882, 'lycm': 4099, 'cmv': 1733, 'ur': 7274, 'hmvsy': 2642, 'am': 1341, 'vmhy': 7435, 'msyc': 4723, 'p1': 5605, 't7': 6482, 'lypm': 4144, 'lya': 4091, 'iq': 3741, 'sycc': 6285, 'bh': 1365, 'a1': 1319, 'ycm': 8212, '1mtyl': 320, 'sysy9': 6357, 'hqsy3': 2840, 'yysy3': 8947, 'y9m': 8143, 'hry7c': 3064, 'sysyo': 6368, 'mry7': 4688, 'lyomu': 4141, 'hm7': 2529, 'h8mryu': 2295, 'hsysyyyyyyyyyyyyyyyyyyyyyyyyyyyyu': 3185, 'ttmtyv': 6778, 'vysyyyyyyyyyyyyyyyyyyyyyyyyyyyyy7': 7815, 'lymth': 4137, '8tysyyyyyyyyyyyyyyyyyyyyyyyyyyyyy': 1211, 'hmmrmry': 2562, 'lymsvm': 4136, 'hnusyyyyyyyyyyyyyyyyyyyyyyyyyyyyyyyyyyyyyyyyyyyyyyyyyyy': 2759, 'hcty': 2391, 'hy6yi': 3446, 'syyyyyyyyyyyyyyyyyyyyyyyyyyyyu': 6470, 'tvtysyyyyyyyyyyyyyyyyyyyyyyyyyyyyy': 6884, 'c1nuy': 1533, '8ycm18': 1228, 'sysys': 6373, 'tvm7t': 6819, '1myw': 360, 'bsysy': 1512, 'yucvy7': 8804, 'cty1': 1842, 'hyrm': 3578, '1bmry3': 204, 'vnsysyo': 7549, 'hqymh': 2935, 'u1mtyv': 7142, 'hqy0': 2885, 'ttc7myv': 6756, 'myct': 5012, 'msyb': 4722, 'cvr': 1907, 'u1m7yh': 7129, 'qmhm': 5777, 'u1m7ty': 7123, '1cmyv': 224, 'y7mnsysy': 8114, '18y3': 197, 'lsy3': 4020, '1mnyy': 287, '77mhryv': 828, 'huvsyv': 3304, 'm7tm1bmty': 4320, '1lhmvh': 249, '7nh': 984, 'tv1': 6804, 'c1ya': 1603, '7m3': 872, 'tvny': 6860, '1y8m': 492, 'hymshm11mhvy': 3539, 'sysyyyyy': 6391, 'thctt': 6540, 'syyyyy': 6442, 'hnyc': 2761, 'lchr': 3930, 'mylchr': 5074, 'hsyyyyy': 3197, '1syyyyy': 434, 'cv3m': 1891, 'myhmbm': 5048, 'vyl1': 7777, 'mtyc': 4873, 'nsysyw': 5442, 'w_': 7870, '1bmtyv': 207, 'mm7mhvy': 4569, '1mnsysy': 285, '1y_': 494, 'q_': 5708, 'tmtsy': 6640, 'msyyyyy': 4746, 'yrmh1': 8653, 'vmhvmry': 7431, 'rmu': 6041, 'ymhr': 8463, 'rmyh': 6049, 'vyumh': 7840, '7mtyt': 932, '1m1': 257, 'ty7ch': 6953, 'yrmu': 8665, 'vtny': 7608, 'yijj': 8376, '1r3': 382, 'y7c': 8095, 'ychl': 8208, 'qyr': 5901, 'mypv': 5132, '7mhr7mhv': 875, 'cy8h': 1964, 'hym7': 3519, 'mmyv': 4622, 'lsyyyyy': 4030, 'c1ryumyl': 1587, 'bmhv': 1388, 'nsyyyyy': 5456, 'y7c1v': 8096, 'mmt': 4606, 't8nsysy': 6504, 'hyzy': 3655, '1chv': 216, 'mhsyv': 4455, 'hmrc': 2577, 'hqtsy': 2862, 'hqtny': 2860, 'sym7': 6326, '3hty': 614, 'tyvmh': 7094, 'tsyyyyy': 6746, 'hvtny': 3395, 'hykc': 3508, 'yumyr': 8847, 'ttcmy': 6762, 'vcvmty': 7385, 'hvn': 3384, 'huvyh': 3315, 'yrmtv': 8664, 'myvmh': 5227, 'hqym': 2928, 'vsyu': 7588, '7ty1': 1025, 'vvty': 7697, 'vy4ctv': 7719, 'tymbmhy': 7008, 'm7myh': 4309, 'tmt': 6636, 'mtmhvmry': 4791, 'hmtyl': 2632, 'rr1myq': 6094, 'chrny': 1670, 'hqsyyyyy': 2856, 'vyrml': 7806, 'hmryu': 2590, 'lyhmhmtt': 4117, '1ny': 376, 'y1mq': 8007, 'tyctc': 6974, 'myhc7um': 5040, 'lym7': 4127, 'mmty': 4607, 'mmty3': 4608, '3ny': 654, 'ylm3m': 8417, 'ctvy1': 1833, 'hy66y': 3443, 'nsysyyyyy': 5447, 'ly3myr': 4076, 'vmhvyv': 7434, '7myc': 950, '3hmry': 605, 'umyl': 7258, 'vsyyyyy': 7594, 'ytcu7': 8730, 'vmyh': 7509, 'yo_': 8519, 'ylchr': 8412, 'tymhv': 7011, 'le': 3934, 'cym': 1983, 'bmryu': 1410, 'hvmhvyv': 3365, 'qc7mhv': 5713, 'vnyp': 7556, 'bme': 1378, 'mc': 4360, 'yqchy': 8595, '7my8': 947, 'h7mhv': 2258, '1yr': 535, 'acvy': 1331, 'u11y': 7107, 'ynnn': 8509, 'ygmhv': 8294, '9syp': 1266, 'isysy': 3747, 'i0ni': 3663, 'ijn': 3696, 'hql': 2800, 'hqnh': 2822, '7myth': 970, 'rym': 6169, 'ug': 7228, '1c7u': 215, 'hmry3': 2584, '3yc': 690, 'vmrnyy': 7457, '7myms': 961, 'hrymbmhvc': 3100, 'hsyh': 3171, 'ctyu': 1856, 'lyu': 4168, 'mnsysy': 4637, 'ubmyhmbm': 7198, 'hmyum': 2696, '1sy1': 420, 'lmnyy': 3993, 'hmttyv': 2620, 'tsyu': 6740, 'sysyi': 6365, 'hvyl': 3415, 'syyyy7': 6438, 'yrmvm': 8667, 'ymhtc': 8466, 'msy3': 4718, 'c1ryumyu': 1591, '7mry': 903, 'c1rymbm': 1563, 'yqmvtyv': 8617, 'vyumyv': 7851, 'vmnsysy': 7446, 'yl1c': 8404, 'enyy': 2052, '1mhc1': 265, 'tmyu': 6676, 'ctmyt': 1816, 'hqm1': 2804, 'm7yh': 4328, 'vsyl': 7581, 'ctyc': 1846, 'sysyyyy': 6390, 'hych': 3473, '11mh': 75, '3y7ch': 687, 'tmym67': 6665, 'yyyyyyyyyyyyyyyyy': 9034, 'sysyu': 6383, 'h8y7': 2343, 'tyhm': 6991, 'mtnyy': 4821, '8mnyy': 1139, 'y3myt': 8043, 'eyu': 2084, '8t': 1201, 'msytc': 4737, 'tnyw': 6708, 'y3myh': 8038, 'tmbm': 6590, 'utyh': 7308, 'hr7mhvty': 2992, 'tvuty': 6887, 'vy3my': 7713, 'te': 6530, 'tm1bmty': 6578, 'cytv': 2001, 'hqy7m': 2893, 'tvtyr': 6883, '7i': 861, '7tyr': 1030, 'h8ysy': 2355, '4ctvy': 712, 'chqy': 1663, 'ct7': 1790, '3mry': 640, '1my1': 331, 'y3mm8': 8028, '1y1': 480, 'mtmyu': 4813, 'hw': 3426, 'bmyumh': 1487, 'mhvt': 4480, 'hhn': 2472, 'ysvm': 8673, 'yyyyyyyyyyyyyyyyyyy': 9036, 'yyyyyyyyyy': 9027, 'v1my': 7350, '3yg': 692, 'yyyyyu': 9007, 'yyyyyy3': 9011, '3y7myv': 689, 'cnsysy': 1747, 'hqmy': 2816, 'ymr': 8482, '3y7': 686, 'tyhc7um': 6990, 'y1mlv': 8004, 'yhmhvm': 8341, '3hyh': 620, 'hmyh1': 2669, 'sysyv': 6384, 'm7yv': 4333, '8yu': 1238, 'vyw': 7856, 'sysyyyyyyyyy': 6394, 'yyy3': 8958, '1m7mhvy': 261, 'hvmsv': 3379, 'ylchh': 8410, 'dsy': 2021, 'y_lyh': 8159, 'tmn': 6605, 'yd': 8250, 'ymllmhv': 8471, 'wc': 7872, 'tvsy_': 6867, 'mhyp': 4515, 'hvctn': 3340, '1mlh': 277, 'qya': 5891, 'lycty': 4103, '1vyv': 477, 'lyi': 4118, 'hqyi': 2920, 'cybm': 1966, 'vmrysy': 7475, '11y8': 129, 'bmykc': 1458, 'umy3': 7256, 'jy7': 3872, 'qsy': 5872, 'yyyc': 8961, 'lh1mbm1': 3938, 'yyyye': 8981, 'hrlmhvm': 2999, 'tmnu': 6610, 'yhmhv': 8339, 'yamv': 8181, '1yph': 526, 'yinsyx': 8386, 'rnmrcsysy': 6064, '7syy': 1010, 'yctmryl': 8233, '7myr': 966, 'mytcu4mhv': 5180, 'rnmrcs': 6063, 'ryg': 6161, '1mtvm': 313, 'jc': 3796, 'ttmtt': 6776, 't8yl': 6515, 'xpy': 7952, 'jsysy': 3859, 'y7ctvyumy': 8100, 'tyum1': 7075, '1tnsysy': 440, 'hq6vm': 2792, 'tvm7tyx': 6827, 'hsyr': 3181, 'jn6': 3838, 'mi': 4523, 'ypm7': 8562, 'vnnny': 7542, 'vvtuc': 7696, '0sysy': 51, 'nj0': 5339, '0l': 27, 'oa': 5543, 'c1ryqmvyv': 1567, 'vutyu': 7651, 'cvyum': 1947, 'm7m1': 4300, 'llnyy': 3970, 'mvi8': 4909, 'hymshm': 3538, 'hryph': 3108, 'pyv': 5688, 'cvnsy': 1902, 'hytmmy': 3602, 'vmyc': 7507, 'yrchh': 8642, 'mnnn': 4631, 'csysy': 1785, 'cu1myh': 1868, 'ycp6': 8223, '3t': 662, 'u7yct': 7178, '1yb': 496, 'cmtt': 1732, 'nnn': 5380, 'my7mtt': 4981, 'vm7y': 7420, 'ymgy': 8454, '11m1y': 74, 'yom3ycms': 8527, 'hyn': 3545, 'hmtny': 2610, 'mtmsy': 4798, 'bmyu': 1483, 'u11yumy': 7110, 'yt1mm': 8711, 'y_vv': 8164, 'hvytv': 3422, 'tytvclly': 7068, 'ttmty': 6777, 'hyhc': 3496, 'vtnsy': 7606, 'mtc1vty': 4753, '1ypc': 525, 'y_hv': 8158, 'lyom3y': 4140, 'cna': 1739, 'mhmhvy': 4423, 'tns': 6697, 'hrnw': 3020, 'mmhmvnqrcy': 4579, 'yx_p': 8888, 'yg1mbm1': 8285, 'htnh3': 3231, 'cnmrcsysysy': 1744, 'mhry': 4450, '8mryc': 1145, 'cu1mt': 1865, 'tyct': 6973, 'myt3': 5173, 'mryr': 4702, 'yuchh': 8791, 'nhm': 5319, 'hy_': 3463, 'ygq': 8299, '7rmml4': 994, 'ctmh8': 1796, 'cnhtn4': 1741, 'vmtnnnsy': 7486, 'tyrcmyv': 7032, 'chvm': 1698, 'mvh': 4908, 'tmrsy': 6618, 'cy7m': 1962, 'cy3m': 1958, 'hhmyp': 2467, 'tyet': 6982, 'tchrm': 6526, 'y6yv': 8089, 'vmrypv': 7472, 'vmtyv': 7499, 'y4ctv': 8051, '1ryh': 408, 'ytmhryv': 8748, 'myel': 5024, 'lyct': 4101, 'tsy3': 6727, 'hm6': 2525, 'mymhv': 5095, 'mtmhv': 4789, 'vyrmt': 7807, 'vmsyv': 7484, 'my1mbm1y': 4943, 'hyrmb': 3579, 'tyrmb': 7036, 'myhm3t': 5043, 'yiisysy': 8369, 'insy': 3734, 'hrykc': 3091, 'hlv': 2515, 'yyyyyyyyyyyyyyyyyyyyyy': 9039, 'lvnh': 4055, '11mhqmyv': 77, 'lvytc': 4064, 'tnsy_': 6699, 'hsyx': 3192, 'vwy': 7703, 'lyctm': 4102, '8myw': 1187, 'ysyr': 8691, 'mhr1': 4441, 'hrsyl': 3028, 'rmysy': 6052, 'mhhmsyp': 4394, 'h1myu': 2226, '1myp': 345, 'mhmryv': 4426, 'yctmry': 8232, 'vn1htn7': 7530, 'inn0': 3731, 'mvty3': 4920, '3hnmrcy': 608, '7yph': 1079, 'hrnmrc': 3013, 'ty0': 6926, '7mhvty': 884, 'my_': 4989, 'c7sy': 1618, 'mutyq': 4901, 'tyev': 6983, '7lh': 863, 'myx': 5235, 'clb7': 1721, 'nhhnhrnmrc': 5317, '0jni': 24, 'nh1': 5308, '7syc': 1000, 'jjyv': 3828, '8myu': 1185, 'wyv': 7912, '11yhm': 141, 'yumyumvvm': 8853, '0yu': 63, 'tuy': 6801, 'ppyv': 5644, 'qqt': 5866, '7yu': 1091, '7nsysy': 988, 'ylc11y': 8408, '7nsy': 987, 'h8h': 2283, 'mmnyy': 4588, 'sv': 6248, '0yq': 61, 'ly4': 4077, 'uybmtvm': 7333, '8yp': 1233, 'ycmq': 8216, '3nh': 650, 'lhmvhm3tnc': 3947, 'mhhnmrc': 4414, 'hntm': 2755, 'tnc': 6685, 'mhhnmrcy': 4416, '1rsy': 391, '1myc': 337, '7myp': 963, 'myqc': 5136, 'sysy_': 6358, 'cubmyq': 1874, 'syh1m': 6314, '77y': 842, 'vwsysy': 7702, 'hsysys': 3184, 'qo': 5850, 'tr': 6721, 'myam': 4995, 'p6': 5608, 'vmyq': 7516, 'yyyyyyyyyyyyy': 9030, 'i5': 3667, 'nnsy': 5390, '7yyyyyyy': 1103, 'yyyyyyyyyyyy': 9029, 'h8nsy': 2310, '7yi': 1067, 'nisy': 5336, 'yyyyyp': 9004, 'kcm': 3891, 'tmyms': 6667, 'qqmtvy': 5865, 'ei': 2039, 'h8yu': 2359, 'tvye': 6898, 'hhmyh': 2463, 'vtyt': 7630, 'lmyv': 4003, 'myhm': 5041, 'vyt7': 7819, 'hhmyt': 2469, 'mymhq': 5092, '7yms': 1074, 'yucvyr': 8808, 'tvty': 6878, 'vtyb': 7621, 'hrsyr': 3031, 'cvty': 1913, 'vykc': 7774, 'hmsyt': 2601, 'c7mhvt': 1615, 'nrqnh': 5414, '6sy': 799, 'ywmrm': 8884, 'yyyyv': 8995, 'yctmyl': 8241, 'm6sy': 4294, 'mywmrm': 5234, 'h7mhvyt': 2271, 'c1ryumy7ch': 1584, '7mytch': 969, 'r1mtty': 5914, 'mthuvyq': 4780, 'y4ctvyt': 8060, 'c1ry4ctvy': 1552, 'viy': 7401, 'yin': 8382, 'lyn': 4138, 'llty': 3973, 'nsysyy': 5444, 'h8mv': 2297, 'yzy': 9051, '7mtyu': 933, 'rh': 5950, 'yhmv3': 8351, 'l1': 3900, 'syyp': 6422, '5m': 734, '9o': 1257, 'u1mt': 7140, '9p': 1260, 'hypc': 3551, 'vm7um': 7419, 'ybty': 8192, 'sy0': 6250, 'syj': 6321, '1y0': 479, 'yyyyyy6yi': 9012, '0jy': 26, 'hyyyyyyy': 3652, '6y': 815, '6yi': 817, 'yyi': 8924, 'iyp': 3759, 'yyly': 8933, 'vl': 7403, 'bm7um': 1377, '6y0': 816, 'c8mmy': 1626, 'hyyyyy': 3650, '0i': 11, '0j6i': 20, 'y0j': 7985, 'nsysyc': 5434, 'j60': 3784, 'yiy': 8390, 'i6i': 3671, 'yrcmyv': 8643, 'mrc1mryl': 4665, 'njy': 5347, '6ij': 776, 'n6': 5266, 'jjyh': 3823, '7mty1': 924, 'ag': 1337, 'tmryu': 6628, 'ypn': 8569, 'ny9': 5479, 'ytcuth': 8731, '1mn': 278, 'tytvcll': 7067, 'my6y': 4967, '11tyv': 117, 'nhtncq': 5326, 'y1c': 7998, 'yp_o': 8546, 'tm1lnsy': 6580, 'mymhm7': 5091, 'hrsyyyy': 3035, 'hqyev': 2912, 'tvm7tny': 6820, 'rtsy_': 6125, 'n00': 5251, 'y8mb': 8137, 'hvm1nh': 3348, '9mb': 1250, 'htyum1': 3286, '7mhvy3': 886, 'ytvcll': 8778, 'ytcllm': 8721, 'c1mty': 1529, 'hvy7': 3408, '3yumvvm': 709, 'ymbmhvc': 8446, 'hy1m': 3434, 'qmvv': 5815, 'y1mtt': 8008, 'mhhmnsysy': 4389, 'vye': 7755, '3hyq': 623, 'ytcqqmtvyv': 8725, 'tysyv': 7047, 'lycty3': 4104, '1bmry': 203, 'bmyvm': 1500, 'htmkcmhhmty': 3223, 'ysyt': 8695, 'mbmryv': 4349, 'mtcty': 4760, 'myq1': 5134, 'xp': 7950, 'ytmsc': 8765, 'tmty1': 6643, 'hryvm': 3154, 'vyctc': 7750, 'lmtv': 3997, 'bmhmtty': 1381, 'hm7mhvy': 2531, 'msv': 4715, 'hm7mhvyl': 2532, 'pyg': 5676, 'myhmhv': 5050, 'm1nyy': 4219, 'lmhvyt': 3990, '7uy': 1040, 'mtcty7': 4762, 'rmnsysy': 6018, 'tmtnyy': 6639, 'mtctyg': 4763, 'tyuml': 7077, 'nyymm': 5519, 'h6r': 2253, 'mtctsy': 4759, 'umyh': 7257, 'yrmm': 8659, 'syucvy': 6403, 'hrytch': 3130, 'bm7mhvy': 1376, 'my3myv': 4957, '11yms': 148, 'yyyyyyyyyyyyyyyyyyyyyyyy': 9041, 'htyms': 3275, '7yyyyyy': 1102, 'lc1y': 3926, 'yyyyyyyyyyyyyyyyyy': 9035, 'tsyyyy': 6745, 'yog': 8522, 'syyyyyyy': 6457, 'hqlhmvh': 2801, 'y5y': 8071, 'yomvh': 8532, '7y_h1': 1054, 'htypm': 3278, 'jn60': 3839, 'jy1': 3870, 'yqcmtv': 8602, 'hnhiy': 2729, 'myhm3tq': 5044, 'myysy': 5242, 'bmytmmhyv': 1481, 'cvyl': 1934, 'mytch': 5179, 'bmytv': 1482, 'vmry1': 7463, '3hy7': 618, 'hnsysyc': 2750, 'lyx': 4180, '7mtyc': 927, 'yumyu': 8852, '1y7m': 486, 'yyyyyyyyyyyyyyyyyyyyyyyyyy': 9043, 'myyyy': 5245, 'hym1': 3516, 'hmyy': 2706, '1vn': 469, 'vmyph': 7515, 'm3l': 4252, 'm3yph': 4278, 'nrmhnh': 5411, 'qhmr': 5737, 'mygmhv': 5032, 'qh7mhvy': 5733, 'uml': 7242, 'my_vv': 4990, 'q1m': 5698, 'myhmhvc': 5051, 'g_cy': 2137, 'm1mh': 4211, '7yx': 1096, 'hyyyyyy': 3651, 'y0ny': 7994, 'mylc11': 5071, 'vychv': 7748, '8tyv': 1214, 'ytmhtmy': 8750, 'hn1': 2708, 'ssy_': 6245, 'y0jsysy': 7989, 'h1myf0': 2210, 'ng_c': 5304, '0ij': 14, 'h1mnh': 2198, 'y4ctvyu': 8061, 'vutyl': 7645, '1my7': 335, '1mtyh': 319, 'xyo': 7971, '11y1m': 122, 'hmvn': 2640, 'uthc': 7290, 'mhvy7': 4488, 'yim': 8381, 'u1m7ny': 7117, 'mrny': 4679, '1ryv': 417, 'ygx': 8300, 'qs': 5871, '77mhr': 825, 'mnsy_': 4636, 'tvyg': 6899, 'im': 3701, 'v6v': 7357, 'm1sy': 4229, '8mr': 1140, 'luh': 4044, 'h8tsy': 2323, 'yam116o': 8178, 'tvytm': 6915, 'h8yg': 2347, 'tyhc': 6989, 'yam11yp': 8179, 'sysysysy': 6380, 'yhm3yv': 8335, 'yumtvy': 8831, 'nsyyyyyy': 5457, '0inj': 17, '6th': 803, 'cvyh': 1932, 'tychrm': 6970, '1ty3': 450, 'cvytv': 1945, 'm17': 4206, 'ysyq': 8690, 'htuy': 3252, 'hhmnsysy': 2435, 'mtvmr': 4854, '_oy': 1298, 'yyysy': 8971, 'ymv': 8495, 'rl': 5966, 'hnmrcsy': 2734, 'v8': 7366, '8y7': 1222, '2y': 587, 'syyyyh': 6440, 'hqy7ch': 2892, 'lyq': 4146, 'ymhm': 8461, 'lq': 4014, 'hr3': 2988, 'rnqx': 6067, 'yga': 8289, 'hvyt': 3421, 'mrch': 4667, 'h6h': 2248, 'h8mvyv': 2305, 'hh1': 2405, 'cu11y': 1862, '11yumyl': 175, 'htmy': 3226, 'ntv': 5464, 'qpy': 5860, 'ycr': 8226, 'syqs': 6346, 'ty4ctvyv': 6948, 'hqyx': 2979, 'c1rym': 1562, 'qmtvy': 5807, 'ly3my': 4074, 'c7y3': 1621, 'ynj': 8507, '_yt': 1313, 'cvymbm': 1936, 'uty3': 7300, 'hyqmvy': 3571, 'm1rm': 4221, 'qmhvy': 5782, 'wm': 7884, 'ychx': 8211, 'h8yl': 2349, 'pyq': 5684, 'eg': 2037, 'hqy_': 2901, 'hq1mty': 2783, 'vymbm': 7780, 'chq': 1660, 'mqqy': 4656, 'ns': 5417, 'nhh': 5312, 'y0jjjy': 7987, 'hy3myt': 3440, 'vsyp': 7583, 'sysyx': 6386, 'nin': 5334, 'cyms': 1985, '8mt': 1150, 'rmhhmy': 5993, 'hvsy': 3390, 'mytmbm': 5186, 'syms': 6329, 'htny': 3236, 'mymshm': 5106, 'tyumy': 7088, 'hrty3': 3043, '11syh': 108, '7msyh': 912, 'hh1ct': 2417, 'rm1y': 5979, 'm7mhr': 4302, 'tvty3': 6880, 'lymsv': 4135, 'sypv': 6343, 'nw': 5472, '7sys': 1005, 'h8yph': 2352, 'hnc8': 2716, 'hnc8y': 2719, 'vyhmhmtt': 7769, 'mymr': 5103, 'hymr': 3534, '11y1': 121, 'lyq1': 4147, '3mr': 638, 'cury': 1881, 'rmy1': 6043, 'uct': 7213, 'hnsysysy': 2753, 'qc7mhvy3': 5716, 'y1mtty': 8010, 'lvyr': 4063, '7sypcu4mhv': 1004, 'ytcmtv': 8722, '1n': 361, 'tyrml': 7039, 'vm7mhvy': 7416, 'cmnyy': 1729, 'gyh': 2181, 'vsy1m': 7576, '1rtyv': 397, '8m3': 1124, 'ty3m11nsy': 6935, 'tymkc': 7012, '8lkc': 1119, '1mn8': 279, 'qnqx': 5843, 'hhmy7': 2461, 'vtm1ly': 7603, 'mhryv': 4453, 'm3y3': 4273, 'mhhmty': 4399, 'ttcmnyy': 6758, 'vnyysysy': 7566, 'xyv': 7973, 'nnny': 5388, 'yctmryv': 8235, 'mmry3': 4600, 'hmysy': 2689, 'nsysy_': 5432, 'hmyw': 2702, 'hqmry': 2808, 'cvmyv': 1899, '1tsy_': 444, 'mbm1': 4343, 'xq': 7953, 'tvyhm': 6901, 'mymh': 5088, 'myom3y': 5116, 'myumtvyv': 5219, 'cvym': 1935, '8nsy': 1193, '18ty3': 194, 'tmcr': 6592, 'mrn': 4676, 'tsy9m': 6729, 'ky': 3897, 'hmsy_': 2595, 'mtsyp': 4826, 'ncvt': 5295, 'jnn': 3843, 'cu1myv': 1871, '66sy': 761, 'yyw': 8954, 'myhmvy': 5064, '8nh': 1192, 'htvm11': 3255, 'mylchhv': 5073, 'y3my3': 8034, 'hmh': 2541, 'cvv1my': 1917, '1mryv': 296, '1yctm': 500, 'tyummhyt': 7084, 'ylchhv': 8411, 'ucvmry': 7217, 'mrchr': 4669, 'hylchhv': 3512, 'm7mhv': 4303, 'bm7mhv': 1374, 'mtysy': 4882, '_5p': 1273, 'ypp': 8572, 'h7mhvt': 2263, 'mhvty': 4482, '1tnyy': 442, 'tvm7yh': 6830, 'mtmyv': 4814, 't8t': 6507, 'ysytv': 8697, 'myhmmryv': 5056, 'ytvcr': 8780, 'h7mhvty': 2264, '1yctmy': 501, 'tvtyh': 6881, 'tmyp': 6668, 'hymhb': 3524, 'vsy7': 7578, '16v': 183, 'myeu': 5027, '8mvyl': 1160, 'lyt7': 4160, 'hryt7': 3128, 'vsyh': 7580, 'hryqmvv': 3115, 'y3msy': 8031, 'hry3myh': 3060, 'vm7': 7413, 'ryms': 6173, '5u': 748, 'hrsyt': 3032, 'ctmty': 1804, 'g0': 2123, 'lhm3tntm': 3945, 'hmnch': 2566, 'yvh1': 8864, 'h8l': 2285, 'hnch': 2720, '7yg1': 1063, '7mnsysy': 897, 'yec': 8258, 'vvmh': 7675, '7y7m7': 1051, 'h6o': 2251, '11mryc': 93, 'myh1m': 5037, 'hcmry': 2384, 'hychv': 3476, 'ctyq': 1852, 'vhm': 7392, 'lmhq': 3985, 'n1': 5258, 'vmryq': 7473, 'myac': 4993, 'ht7': 3204, '7yq': 1080, 'ymvh': 8496, 'ttnsysy': 6782, 'huvytmmy3': 3327, 'c1rhuvy3': 1537, 'yrmq': 8660, 'tytc77m': 7052, 'vmry7': 7465, 'vtm1lnyy': 7602, 'nyyg': 5515, '8mryv': 1147, 'mh8y3': 4379, 'tvmryl': 6850, 'ryw': 6204, 'vmyi': 7511, 'cu1my3': 1867, 'ubmyummhy': 7206, 'ty3m11nyy': 6938, 'j5': 3776, 'uryumy3': 7282, 'vv1myu': 7669, '8tyu': 1213, 'rybm': 6157, 'hqye': 2911, '8my7my': 1166, 'ht5': 3202, 'l8': 3914, 'f': 2088, '0yy': 64, '5y': 751, 'u1myc': 7148, 'lb': 3918, '1u': 460, 'yp_': 8545, 'tmryh': 6624, 'ylm3yq': 8422, '8ysy': 1236, 'vy8': 7731, 'yhmmrmryv': 8342, 'hry8': 3066, 'iyr': 3760, 'chry1': 1679, 'thuvyt': 6560, 'huvytmmy': 3326, 'hn4': 2710, 'vy7m': 7729, 'jnsy': 3844, 'lch': 3929, '3tyu': 678, 'rv': 6144, 'mhhmy7': 4405, 'bmy7myv': 1442, 'tn7t63': 6684, '3tn': 664, 'mtn': 4816, 'tyw': 7095, '_yg': 1312, '1tv': 446, 'qmtyh': 5810, 'htyy': 3293, 'rmn': 6015, 'hvmhrmry': 3354, 'yyt': 8950, 'hryyv': 3160, 'hqyyv': 2981, 'mhvnsysy': 4476, 'yym': 8934, 'tvph': 6862, 'u1mnsysy': 7134, 'yyyyyyx': 9019, 'u7y3': 7175, 'qmyl': 5829, 'hvmhrmryv': 3356, 'sm1y': 6223, 'vmhvc': 7429, 'hvmqm': 3370, 'tyy': 7097, 'yyyyyyc': 9014, 'yeu': 8271, 'qmtyl': 5811, 'qmtnyy': 5804, 'yyyyyl': 9003, 'vmn': 7438, 'hqychrm': 2907, 'ycpy': 8224, 'myyv': 5244, 'yea': 8256, 'mw': 4934, 'yyyyyx': 9009, 'ow_': 5581, 'eyy': 2086, 'lyy': 4184, 'yyyyyv': 9008, 'ymhv': 8467, '3tsy': 667, 'at': 1355, 'lyyv': 4186, 'qmyu': 5837, 'tyrmvm': 7042, 'yytv': 8951, 'yyyyy3': 8999, 'qyw': 5906, 'vvmhyv': 7682, 'hh1crm': 2407, 'vy0': 7706, 'hqyy': 2980, 'hyyv': 3647, 'yyyyyh': 9002, '1hc1': 242, 'm1ry': 4227, 'vyy': 7858, 'umtyv': 7252, 'rtyl': 6133, 'qhmry': 5738, 'yul': 8815, 'tyyv': 7099, '1ctyv': 232, 'lymhv': 4132, 'hychh': 3474, 'ryy': 6206, 'syyyyyl': 6448, 'myyt': 5243, '1ct': 229, 'vg': 7390, 'tyctmryv': 6977, 'qmy1': 5820, 'syyyyyi': 6447, 'mttmry': 4833, 'yyyx': 8974, 'ytmmhy': 8756, 'qmty3': 5809, 'm1ryv': 4228, 'm1rty': 4226, 'syyyyyh': 6446, 'mtmyl': 4807, 'tyhmhmtt': 6994, 'myctmry': 5015, '0yh': 60, 'nsysysysy': 5441, 'qu': 5880, 'yctmr': 8231, 'yye': 8919, 'ucvmyv': 7220, 'qyx': 5907, 'rsysy': 6109, 'mmyu': 4621, 'cvyx': 1951, 'hc7mhvy': 2380, 'ne': 5296, '3m11nmrcy': 635, '_py': 1300, 'mhvnyy': 4478, 'tmy1mvy7my8h': 6652, 'y00': 7978, 'mhhmry': 4392, 'qcmyv': 5726, '8s': 1198, 'h8nh': 2309, 'vmnum': 7448, '8m1m': 1123, 'yyyi': 8965, '_c': 1277, 'yyyh': 8964, 'hqyuct': 2968, '1mv': 324, '1cqy': 227, 'mhvm': 4471, 'mkcmhv1': 4529, '7mryl': 906, 'cvn': 1900, 'tmhmvy': 6598, 'ty4': 6943, 'rmryu': 6028, 'ych1mttyv': 8205, 'nj0n': 5340, 'hvmhv6': 3361, 'htlm': 3218, 'ni0': 5329, 'lhch': 3940, 'sunhhnh': 6247, 'y66yt': 8078, 'nx': 5474, 'mh8mryv': 4377, 'htyw': 3291, 'nyym1m': 5518, '1nsy': 372, 'wyh': 7907, 'vng': 7532, 'hqc': 2794, '3nyy': 655, 'yqcmttyv': 8601, '7ny': 991, 'hsyt': 3186, 'u1my1': 7144, 'lp': 4013, 'pnpv': 5637, 'mm7': 4568, 'hyqs': 3575, 'yypv': 8942, 'nsyx': 5451, '0nj': 35, 'hb7nc': 2363, 'viyf': 7402, 'n0j': 5254, 'tvnpv': 6855, 'hy1mq': 3436, 'hc7tv': 2381, 'hvnsysy': 3386, 'ly3m': 4073, 'lyuct': 4171, 'yyo': 8937, 'my1mq': 4947, 'lyeh': 4106, 'nsysy6': 5430, 'yzym1': 9053, 'cht': 1691, 'vtqn7': 7610, 'bmyx': 1502, '1yw': 556, 'mhry7': 4452, '8mtyh': 1154, 'tm1l': 6579, 'hyuc': 3610, 'm7nyyp': 4316, 'ctyt': 1854, 'vvmhy3': 7679, 'qw': 5883, '7ymbm': 1072, 'hr7': 2991, 'yyu': 8952, 'jsyohv': 3857, '0ini': 16, 'nn0': 5375, 'ypmb': 8563, 'm17mvy': 4207, 'hyyyyyyyy': 3653, 'yqmvty': 8616, '7ye': 1061, 'rnh': 6060, 'yucvyl': 8806, 'y87': 8130, '3hyc': 619, 'op': 5565, 'tyo': 7019, 'hryth': 3131, 'msyu': 4739, 'hvm1y': 3349, 'tnrvnh': 6696, 'h8yx': 2361, 'mtr': 4822, 'ycxsyp': 8248, 'ylm3yh': 8421, 'mhn7': 4432, 'h1mt': 2201, 'bmvl': 1433, 'h1mtty': 2203, '1bmy': 208, 'mhmr': 4424, '7um': 1037, '8mytv': 1184, 'tyrmh': 7038, 'ymbmhy': 8447, '3yum': 708, 'lytv': 4167, 'h8tyh': 2330, 'hyqmvv': 3570, 'hqyq': 2946, 'rchvy': 5940, 'yu3': 8787, 'qhyl': 5753, 'hmym1tm': 2674, 'tvmhyv': 6844, '11yu': 164, 'u1msyv': 7139, 'hryumy': 3150, 'ytmmy3': 8760, 'hmsy3': 2594, 'ymqqm': 8481, 't7sy': 6488, 'vnmrcsy_': 7536, '1hyp': 244, 'isy': 3743, 'n0jj': 5255, 'rnmrc': 6062, 'hu': 3294, 'opng': 5567, 'nqrc': 5405, '7lmhr': 865, 'ncch': 5286, 'c4': 1609, 'ey3': 2076, 'ty8': 6958, '7mtnyy': 919, 'mgy': 4369, 'eyh': 2079, 'y3myv': 8044, 'nsyy': 5452, 'my1mlvy': 4946, 'ytmv': 8768, 'yqmulhtn': 8613, 'lmyh': 4001, 'tyummhyv': 7085, 'vwyy': 7704, 'htsyl': 3244, 'ychv': 8210, 'h8tyyo': 2334, 'myyyyyy': 5247, 'yep8m': 8266, 'hvm11mhv': 3346, 'hrsyqmulh': 3030, 'mnrt1n': 4634, 'vvnmrcyyy': 7694, '7mlc1yv': 894, 'hneysy6666666666666666666666666666666666666666666666666666666666666666666666666666s': 2726, 'qx': 5884, 'xw': 7965, 'ymc': 8451, 'rcmy': 5943, '8syp': 1200, 'u7y1': 7174, 'yuq': 8856, 'yc_': 8195, 'jsy_': 3855, 'yqb': 8590, 'ini': 3728, 'cy4ctvy': 1959, 'cuu': 1883, 'chrnsy': 1668, 'tvmhy': 6843, 'hcvmty': 2394, 'utyc': 7305, 'hytmmyv': 3603, 'umvvm': 7254, 'yysysy': 8948, 'bmyth': 1477, 'hmyth': 2692, 'vtytv': 7631, '0x': 56, 'jn5': 3837, 'sysy7': 6356, 'hmtmy': 2606, 'rtnyy': 6123, 'ytmm7yv': 8755, 'cvny': 1904, '8ny': 1196, '1lyv': 255, 'hvmht': 3359, 'vutyumvvm': 7654, 'syyyyyy': 6455, '1tsy': 443, 'hsys': 3182, '8yg': 1229, '1ry3': 400, '1rnsysy': 386, 'm11yv': 4205, 'ymm': 8473, '_cq': 1278, 'sysyg': 6363, 'sytc': 6397, 'nyy_hyv': 5508, 'hqyb': 2903, 'cvy0': 1921, 'sysym1m': 6367, 'ma': 4339, '11mrye': 94, 'hh1crmry3': 2410, 'vcty': 7380, 'mt1m': 4749, 'mm3': 4566, '1tl': 436, 'n7h': 5270, '7n7hq': 981, 'mbmhy': 4347, 'uyv': 7342, 'yucllm': 8792, 'hsym': 3174, '3r': 656, 'nu': 5465, '3mtvm': 645, 'vim': 7400, 'hqya': 2902, 'ijni': 3697, '8nch': 1191, 'jl': 3830, 'hvmr': 3371, 'uy3': 7329, 'lyqmvv': 4152, 'mhysy': 4518, 'cqt': 1763, '1ryr': 414, 'rtyr': 6134, 'mhyq': 4516, 'hhmnyy': 2437, 'pu': 5655, '1cmty': 220, 'hmht': 2544, 'hnyyg': 2772, '1m7mhv': 259, 'u1myq': 7151, 'tmryl': 6625, 'vryv': 7572, 'hth': 3215, 'bmykcmtv': 1459, 'imry': 3709, 'hc1vy': 2373, 'myhmhmtt': 5049, '1ms': 297, '8mhyu': 1130, 'vyo': 7788, 'myop': 5118, 'mhqv': 4439, 'mhy3myh': 4505, 'hyctmyv': 3481, 'lmy3': 4000, 'y3my7': 8036, 'hmym': 2673, 'htc1v': 3208, 'jj6': 3809, 'bmtm': 1419, '1hvimn3': 243, 'ytq': 8775, 'm3yv': 4279, 'hqtnyy': 2861, 'tm1lnyy': 6583, 'tmy1': 6651, 'c1ry8h': 1555, 'tvmyv': 6853, 'chrtyv': 1676, 'y7my1': 8124, '1nsysy': 373, '6tm7': 805, 'h8tyv': 2333, 'm3tyl': 4269, 'm7tm1bmt': 4318, 'yucvyu': 8811, 'ytmvy': 8772, 'hns': 2745, 'hvmrsy_': 3373, 'ygpyxm': 8298, 'hqc1': 2795, 'rmyu': 6055, 'y1mvy': 8013, 'tmyb': 6657, 'yq67': 8586, 'i0y': 3664, '7syoo': 1002, 'rqmvyv': 6088, 'rqmvt': 6085, 'yumhml': 8821, 'yctmy3': 8240, 'cu11yl': 1863, 'gyp': 2182, '2sy_': 579, 'h1myfii': 2216, 'mqm': 4654, 'luc': 4042, 'nucnmrcy': 5466, 'vmrnsy': 7454, 'hqnyp': 2828, 'unsy': 7265, '_hyv': 1287, '7ya': 1055, 'mqq': 4655, 'vmsyl': 7483, 'hqy7my': 2896, 'tmvy': 6649, 'csyt': 1786, '11nmrc': 100, 'mrysy': 4704, 'm4mhv': 4282, 'mtmy1': 4800, 'bmty3': 1426, 'u1mnsy': 7133, 'hqns': 2823, 'vyg1': 7759, 'hl7': 2492, 'ilh': 3700, 'vnu': 7554, 'yyyg': 8963, 'yyyp': 8969, 'ysyu': 8698, 'nth': 5461, 'lm1': 3984, 'hqn': 2821, 'syy3': 6416, 'h8ng_cy': 2308, '1mtv': 312, 'ymmv': 8477, '1c7': 211, 'ip': 3740, 'h8ng_c': 2307, 'mtmhhmy': 4788, 'vsyo': 7582, 'imhty': 3703, 'y66y': 8075, 'hy9m': 3461, 'hysyh': 3587, 'mhvybm': 4491, 'hyinin': 3503, 'lyh1': 4113, 'bsypcu4mhv': 1511, 'myev': 5028, 'uchr': 7211, 'lsyy': 4028, 'yumt': 8830, 'lmhv': 3986, 'my1mvvm': 4949, '11yth': 160, 'm1yv': 4245, 'vyth': 7823, 'vhmttyv': 7395, 'hqsyl': 2844, 'c1ryms': 1564, 'sy1m': 6254, 'mryb': 4691, 'ymvhn': 8497, '1yvm': 554, 'htey': 3214, 'rsyv': 6110, 'mte': 4767, 'hqr': 2834, 'bmh': 1380, '3hy3': 617, '1syh': 424, 'hc7mhvty': 2379, 'vhmtt': 7393, 'yvm11yv': 8868, 'ucvyv': 7223, 'tmmy': 6603, 'yqmvy7': 8621, 'cylmm1yv': 1982, 'nyyo': 5520, 'tsyt': 6739, 'mty6y': 4871, '8mhyl': 1129, 'vmtvy': 7491, '1yum1': 551, 'csy3': 1779, 'mye7': 5021, 'y7mhy': 8109, 'imyl': 3722, 'h1mnyy': 2199, 'mhmry': 4425, 'lsy7': 4021, 'hvm7': 3350, 'trntq': 6722, 'yummhy': 8824, 'sypc77': 6339, '7ytv': 1090, 'vuy': 7656, 'yctmty': 8237, '3h1': 602, '8ty3': 1208, 'sysypm': 6370, 'hmsyr': 2599, 'hsyl': 3173, 'yqmvyr': 8625, 'yumsyh': 8829, 'hhmhvyv': 2432, 'hcvmt': 2393, 'mvym': 4931, 'nii': 5331, 'ytmvv': 8771, '7mtv': 922, '3ymhl': 698, 'jjsy': 3818, 'hqy8': 2898, 'y3mu': 8032, 'qyv': 5905, 'gt': 2173, 'syyc': 6418, 'myqhq': 5137, 'c7mhv': 1614, 'tt7': 6750, 'hl3': 2491, 'u11yv': 7111, 'mysy7': 5162, 'my4c7': 4960, 'rm7ty': 5985, '11mry7': 92, 'ury': 7276, 'huvyqmvy': 3321, 'hlr': 2509, 'hyac': 3466, 'hsyg': 3170, 'm1rsy': 4224, '7m6': 873, 'nuh': 5467, '7mtsy': 920, 'hy_hv': 3464, 'yqch': 8593, 'hrytm': 3132, '1ry1': 399, 'u0': 7104, '1mysy': 350, '8msyv': 1149, '8mytc': 1182, 't8yt': 6517, '7mytm': 971, 'yyyyyyyyy': 9026, 'yi0syoo': 8362, 'm3nh7cnmrcsy': 4258, 'ucvy': 7221, 'mymrqmy': 5104, 'mymmhqc': 5102, 'nh3': 5309, '77ty': 840, 'lu': 4040, 'tmytmhry': 6674, '7myq': 964, 'mhhmtyv': 4402, 'tnyyp': 6713, 'hymsv': 3541, 'ymsvmht': 8491, 'bmsyh': 1415, '1yqhq': 532, 'hry8h': 3067, 'syucvyh': 6404, 'wya': 7905, 'opy': 5568, 'og': 5551, 'gyq': 2183, 'tcb7n': 6524, 'tcnmrc': 6527, 'hryl1': 3094, '7mtyh': 928, 'tyu1': 7071, 'mtytv': 4885, 'h7mhvyr': 2270, 'sysysyc': 6376, 'rhuvy8h': 5958, 'vypv': 7793, 'vyh1m': 7764, 'lykcmtv': 4121, 'hmyct': 2665, 'hyrmv': 3583, 'vnyyc': 7562, 'sy8': 6267, 'vyqs': 7801, 'myact': 4994, 'acvyv': 1333, 'nyg1': 5488, 'hry3my': 3059, 'myumvvm': 5220, 'h8uty': 2336, 'mu11y': 4891, 'yyye': 8962, 'hymb': 3521, 'mnyyo': 4642, 'lyth': 4163, 'uryh': 7279, 'cvytch': 1944, 'ctytm': 1855, 'qyoq': 5898, 'huvytv': 3329, 'utyr': 7313, 'mrr': 4681, 'nsysysy': 5440, '3yq': 700, 'yumm': 8823, 'tyvm11': 7093, 'hylm': 3513, 'tvm7typ': 6825, 'usyp': 7286, 'myeq': 5026, 'cvnyy': 1905, 'hyqmvyv': 3572, 'ex': 2072, 'huvyumy': 3334, 'huvyh1': 3316, 'hqyumh': 2971, 'chrnyy': 1671, 'hyumy7': 3621, 'bmysy': 1472, 'thuvyr': 6559, 'js': 3853, 'c1vy': 1599, 'ysy1': 8675, '3tyl': 674, 'yhm3m': 8323, 'hyin': 3502, '1bmyv': 209, '7mybm': 949, 'lyw': 4178, 'nji': 5341, 'lhtnh': 3952, 'h1myv': 2227, 'tmnsy': 6607, 'mmrsy': 4594, 'll6': 3962, 'y8hm3y': 8133, 'c1ryqmvy': 1566, 'ytmmhyv': 8757, 'ttmhqm': 6769, 'my1mtt': 4948, 'msye': 4724, 'mtey': 4768, 'u7y4ctvy': 7176, 'syyyyyyyyyyyyyyyyyyyyyyyyyy': 6468, 'm8v': 4335, 'mr7': 4663, 'yrv7mr': 8671, 'hlh': 2499, 'vmnu': 7447, 'bmycmr': 1450, 'chvtb': 1703, '11my': 98, '1cqty': 226, 'y1mvy7my8h': 8014, 'hymshm11mhvyh': 3540, 'mthuvy8h': 4777, '6ii': 775, '7syyy': 1011, 'wu': 7898, 'yqbm': 8591, 'chry7': 1681, 'hqluh': 2802, 'chrnsysy': 1669, 'mhyct': 4508, 'v7mhvsy': 7360, 'yyyyyyt': 9017, 'zy': 9096, 'mmvm': 4611, '5g': 728, 'ynsyx': 8514, 'ytvclly': 8779, 'yucvyumh': 8812, 'yw1': 8879, 'hmrnyy': 2581, 'hmhtmy': 2546, '7mryh': 905, 'mhrt': 4447, '00ni': 1, 'hbmsnh': 2367, 'lyuc': 4170, 'mvy3': 4926, 'rm6': 5982, '1cmyl': 223, '8nyy': 1197, '8myl': 1173, 'vyumy3': 7846, 'hrytmmy3': 3137, 'vyumy7': 7847, '8yb': 1224, 'myrm1': 5146, 'mutsy': 4896, 'ctmyu': 1817, '8l': 1116, '1syyyy': 433, 'hlhh': 2500, 'gp': 2161, 'lhtn': 3950, 'my0hry': 4939, 'hryum': 3145, 'h8nsysy': 2311, 'juty': 3866, 'nmrcs': 5362, 'ypq': 8573, 'psy_': 5650, '11v': 119, '1y1m': 481, '6o': 786, 'yyyyyyyyyyyyyyyyyyyyyyyyy': 9042, 'nyya': 5510, 'q6': 5704, '8mya': 1167, 'yyyyyyyyyyyyyyyyyyyyyyyyyyyyyyyy': 9048, 'b1': 1364, 'syyi': 6421, 'yyyyyyyyyyyyyyyyyyyyyyyyyyyy': 9045, '1mhhy': 269, 'pvmbmy': 5660, 'yyyyyyyyyyyyyyyyyyyyyyyyyyyyyyyyy': 9049, '11ya': 132, 'yyyyyyyyyyy': 9028, 'pvmbmyp': 5662, 'yp7': 8543, 'mvvy': 4924, 'tyyyyyyyyyy': 7100, 'h6a': 2244, 'uyg': 7334, '6p': 792, 'hyyyyyyyyy': 3654, 'h6g': 2247, 'hrtv': 3041, 'mc3mhr': 4361, 'iyy': 3762, 'jyy': 3884, 'vb': 7367, 'nnyy': 5393, 'hrt': 3037, 'hm11': 2518, 'vyyyyyyyyy': 7861, '1ya': 495, 'v6': 7354, '7y_': 1053, 'bmya': 1445, 'bmym': 1461, '6om3ty': 791, 'yhtncvms': 8358, 'tmtyl': 6645, 'htvyh': 3258, 'utyt': 7315, 'hlmhv': 2504, 'hqsyt': 2850, '1mvmy': 327, 'ctmry': 1799, '1ey': 239, 'utmhhmy': 7292, 'tcty': 6529, 'tyqmvy': 7029, 'mhvsy': 4479, 'cvy7': 1924, 'gc': 2141, 'tuc': 6798, 'yiisyx': 8371, 'vs': 7573, 't8tyh': 6510, 'm5t': 4287, 'qny': 5848, 'vv7': 7671, 'h8tsysy': 2324, 'hhtnltcnmrcy': 2479, 'bmyummhyl': 1494, '18n': 191, 'mtvnyy': 4857, 'h6u': 2255, 'qc7mhvyv': 5718, 'hqyhm': 2919, '1syu': 430, 'cyrmh': 1993, 'mytmbmhv': 5187, '6r': 797, 'm7mhvty': 4304, 'm3tyv': 4271, 'h3m': 2231, 'hvtyi': 3401, 'hqyucvy': 2969, 'snhtnrcnmrcy': 6236, 'lyxmhbm': 4183, 'hrytc': 3129, 'qllt': 5759, 'nrmt': 5412, 'nrmy': 5413, '76a': 822, '7tny': 1019, '8mymbm': 1175, 'y3myl': 8040, 'mrhmtr': 4672, 'esysy': 2062, 'hyb': 3468, 'osy': 5576, 'pyp': 5682, 'm6h': 4292, 'lyl1': 4123, 'thy': 6563, '3ytm': 705, 'ttm7u1': 6768, '7y9': 1052, 'hcmtyv': 2385, 'mylmrm': 5078, 'hryw': 3155, 'hymtv': 3543, 'vyummhy': 7842, 'mrnsy': 4677, '1bmryv': 205, 'mymttmhv': 5109, 'h7mhvyv': 2272, 'hry9': 3070, 'tsyq': 6736, 'h8y1': 2340, 'jyh': 3875, 'vybm': 7742, 'rmhvy3': 6005, 'symh': 6328, 'tmhcv': 6596, 'hqyu1': 2966, 'myhmsvyv': 5060, 'hmbm': 2536, 'rypm': 6176, 'hyhmmry': 3500, 'c1rhuvyl': 1540, 'htyg': 3270, 'hru': 3049, 'ytc77': 8718, 'yy1': 8907, 'ryp': 6175, 'g_': 2135, 'tyo_': 7020, 'rn7': 6059, 'om3tq': 5559, 'cun': 1878, 'tyt7': 7050, 'hqy4': 2889, '11mr': 88, 'y7mnsy': 8113, 'mhvytv': 4497, 'bmyummhyh': 1493, 'mywa': 5232, 'mrym': 4697, '1myms': 343, 'mmyl': 4617, 'x_y': 7926, 'hrnbhmvn': 3011, 'ycch': 8198, 'tmr1': 6614, '2sy': 578, 'h8v': 2337, 'vyct': 7749, 'mhyms': 4514, 'hrmryv': 3009, 'tnysy': 6706, 'hypg': 3555, 'hry7m': 3065, 'pgy': 5627, 'yhctv': 8317, 'c5': 1610, 'tyrm7': 7035, 'x_': 7924, '5p': 741, 'h8r': 2316, 'nsysyo': 5438, 'lyqmhm': 4151, 'nyacvy': 5482, 'h8tyc': 2329, 'my0': 4938, 'uya': 7331, 'hhnsy': 2475, '7mtsy_': 921, 'hrnpv': 3015, 'yxp': 8901, 'tvmhvy': 6841, '1ypm': 527, 'yh1cvh': 8305, 'hvtnsy': 3393, 'yyyyyy7': 9013, 'hrtnyy': 3039, 'yqmvyl': 8624, 'tvu': 6886, 'vnnn': 7541, 'tmty3': 6644, 'hhmttyv': 2453, 'ty3m11nsysy': 6936, 'ylv': 8430, 'nypv': 5497, 'mthuvyh': 4778, 'chhm7mhvy': 1648, 'hrytz': 3141, 'yamh87': 8180, '7syx': 1009, 'qn': 5840, 'h7': 2257, 'rlh1': 5968, 'ttc7m': 6753, 'tytmhc': 7060, 'mymhh': 5090, 'hy8m': 3457, 'vymhv': 7784, '8mhyv': 1131, 'lmhv1': 3987, 'lymhh': 4131, 'hmtvy': 2624, 'lytc': 4161, 'vnysysy': 7558, 'mhvc': 4469, 'cqyrm': 1769, 'hy7ch': 3448, 'hbmh': 2365, 'hrnsy': 3016, 'cv1': 1890, 'vvya': 7699, 'rrm': 6095, 'ubmytmmhy': 7204, '4mhvty': 716, 'hrytmbm': 3133, 'yei': 8261, 'qmym': 5830, 'yyyyi': 8984, '6n': 784, 'j6n': 3787, 'yq6c': 8587, 'yq1mhv': 8583, 'lyq1mhv': 4148, 'ubmyummhyv': 7207, 'c1ryum': 1576, 'y_h1': 8154, 'hyumv3mmhy': 3618, 'tvth': 6871, 'tjijulc': 6566, 'yom3ypvcr': 8528, 'y_cvy_hy': 8152, 'hmhv': 2547, 'qmsy_': 5800, '7c1ctn': 845, '1tvm': 447, 'tqctv': 6720, 'y66ysy': 8077, 'yaapy': 8170, 'vutyt': 7649, 'hy7m': 3449, 'cy7ctvy': 1961, 'vnsysyx': 7552, 'pg': 5625, 'rmyw': 6057, '0nlb7h7tnhtc': 36, 'ygp': 8297, 'm1rnh': 4222, '7yxmy': 1097, 'aa': 1329, 'h8ey': 2282, 'ymllmhvy': 8472, 'hq1myh': 2785, 'u1m7nsy': 7115, 'lych': 4097, 'hrychrm': 3078, 'huvychrm': 3312, 'huvy8': 3310, 'hytmbm': 3599, 'yqchyh': 8596, 'yhmmrtyv': 8343, 'hhmryv': 2442, 'ttc7mryv': 6754, 'mhvtsy': 4481, 'yucvy1': 8801, 'ctsy': 1823, '7mvm': 939, 'hmye': 2666, 'vv1myq': 7667, 'chyu': 1714, 'mtty7': 4844, '1mhhmy': 268, 'kcmy3': 3895, '1tmy': 438, '1c': 210, '18tyv': 195, 'vnyyp': 7564, 'huvy7m': 3309, 'mymllmhv': 5099, 'hmllmhv': 2558, 'c1ryumh': 1578, 'eu': 2069, 'ytcqqmtvy': 8724, 'yqchyv': 8597, 'mygmhvm': 5033, 'hrqchy': 3023, 'tmyg': 6661, 'mygm': 5031, '1yx': 557, 'vyiy': 7773, '68m': 765, '7yth': 1088, 'hhmttsy': 2450, 'yqchty': 8594, 'y0jj': 7986, 'hryi': 3090, 'rmhvty': 6003, '5n': 735, '0jj': 22, 'chyh': 1712, 'mwsy': 4935, 'mycmtt': 5010, '18t': 192, 'qyg': 5893, 'mtmhv1': 4790, 'rty3m': 6131, 'vy9': 7735, 'mtmyh': 4805, 'mhyr': 4517, 'hmhvyh': 2553, 'tytch': 7053, 'mhvtyv': 4484, 'vyrmh': 7805, 'tmrsyv': 6619, 'c1rhuvyv': 1543, 'wsysy': 7896, 'tn1': 6681, 'hryo': 3106, 'myctmy': 5017, 'vy8m': 7733, 'mhmt': 4427, 'vyu1': 7835, 'mthuvsy': 4771, 'tymhh': 7010, 'mytmtt': 5195, 'qmhvtnyy': 5780, 'y7mtt': 8120, 'tyummhyr': 7083, 'htye': 3269, 'hyqhq': 3565, 'chvmry': 1699, 'rrty': 6099, 'yyyy7': 8978, 'v3': 7352, 'ycv': 8247, 'chrty1': 1675, 'vneyy': 7531, 'hqyvm': 2976, 'hmtyg': 2630, 'qhn': 5744, 'yfh': 8278, 'rtt': 6126, '1yi': 511, 'vmrnsysy': 7455, 'tmsy3': 6632, 'tm1lnsysy': 6581, 'vmryo': 7471, 'mhhmyu': 4409, 'ymsm': 8487, 'yhc1vc': 8312, 'myhmmryl': 5055, 'ymhry': 8464, 'hy7m7um': 3451, 'vm7mhvty': 7415, 'hyumsy': 3617, 'bmtyt': 1430, 'hryt1': 3127, 't7yv': 6494, 'lc1': 3923, 'hkcm': 2486, 'ymtv': 8494, 'jjjsy': 3812, 'nsysyx': 5443, 'hvmhryv': 3358, 'cy7mhv': 1963, 'tymtv': 7018, 'vyumq': 7843, 'qmhr': 5778, 'hhmtyv': 2456, 'mtvya': 4862, 'm4mhvmry': 4283, 'nony': 5397, 'hhms': 2443, 'm7nsy': 4312, '1m7y': 263, 'hmlc11': 2556, 'imht': 3702, 'cyh1': 1974, 'lyvm': 4176, 'mtsyh': 4825, 'bmychrm': 1449, 'ytm1l6': 8740, 'hymv': 3544, 'qcmyl': 5725, 'hyrc': 3577, 'mychh': 5005, 'mtmhvtyv': 4794, 'usy': 7284, 'hyucvy': 3612, 'huvytmm7yv': 3325, 'yuct': 8794, 'ymrch': 8483, 'hqtyu': 2875, '_h1': 1285, '7tnsysy': 1018, '1tyv': 459, 'ytcutv': 8732, '1yrml': 539, 'm1yt': 4244, 'mymtv': 5110, 'm11y3': 4201, 'm1y3': 4236, 'ttyh': 6791, 'm1ny': 4218, 'yhc1v': 8311, 'myrmh': 5150, 'm3tsy': 4265, 'h7mhvsy': 2262, 'ymkc': 8469, 'y7m7um': 8106, 'my7m7um': 4976, '1ymb': 520, 'tmryc': 6623, 'tvm7nsysy': 6814, 'tvytv': 6916, 'vm7mhv': 7414, 'hnyysysy': 2776, 'hvtnyy': 3396, 'mh1': 4371, 'vmym': 7513, 'ty6y': 6950, 'tymt': 7015, 'mtvy3': 4861, 'htyumv3mmhy': 3289, 'tvm7sy': 6817, 'rchmry': 5933, 'mhvnsy': 4475, 'bm7mhvty': 1375, 'chrmry': 1666, 'ctyr': 1853, '7mrsy': 902, 'c1rhuvyms': 1541, 'mhmv': 4429, 'myt8': 5175, 'rycny': 6159, '1vyp': 475, 'ch8': 1641, 'pnyy': 5639, 'hqnyyc': 2830, '11ty': 115, 't1mm': 6476, 'u11yh': 7108, 'mycmvty': 5011, 'hy0y': 3432, 'vvnmrc': 7692, 'cp': 1751, 'thm': 6544, 'syyyye': 6439, 'ytvmbm': 8782, 'th6u': 6538, 'hyt7': 3591, '6j': 778, 'hyhmbm': 3499, 'cmyl': 1736, 'qqmry': 5864, 'ytmmsy': 8758, 'vc1': 7369, 'hqyth': 2961, 'hqytm': 2962, 'cvyr': 1940, 'wv': 7899, 'syyv': 6426, 'hvym': 3416, 'qy1': 5888, 'nyh': 5490, 'yucty': 8795, 'vmtv': 7490, 'hvyg': 3413, 'hypcv': 3554, 'hryrmh': 3121, 'rmrsy': 6023, 'vy66y': 7723, 'cvsyv': 1910, 'm3yh': 4276, 'mm8y': 4572, 'h86': 2278, 'hqeyv': 2799, 'c1rsyh': 1546, 'mm8': 4570, 'ych8h': 8206, 'rmhvnyy': 6001, 'pxy': 5668, 'm4cr': 4281, 'tylc11': 7000, 'ttcmty': 6761, 'lv6r': 4047, 'lhuhm3t4nhun': 3954, '1mtn': 305, 'rchmryu': 5934, 'vvt': 7695, 'cvmy': 1898, 'yucv': 8796, 'qyc': 5892, 'huvyu1': 3331, 'hrytmh': 3134, 'tvm7syp': 6818, '7tm': 1013, 'nhtn1': 5323, '11yumy3': 172, 'myw1': 5231, 'bs': 1508, '1lm': 250, 'jni': 3841, 'ytcu4mhvyv': 8729, 'ctmy3my': 1809, '11y8h': 130, '3ysy': 702, 'mtmhvyv': 4796, 'jty': 3863, 'msyg': 4725, 'syum': 6406, 'hqyuml': 2972, 'mypchr': 5125, 'syh1': 6313, 'ylm11': 8416, 'c1ryu': 1574, 't8mryl': 6499, 'thuvyl': 6557, 'hqmt': 2811, 'chhvc': 1653, 'mymb': 5084, 'hvh': 3341, 'mbllu': 4341, 'mttm1': 4831, 'y_hhmyv': 8156, 'mtvygmhvm': 4863, '7lt': 868, 'y7mv': 8121, 'uuy': 7324, 'lyrmh': 4155, 'lychrm': 4098, 'v6h': 7355, 'mhtmy': 4457, 'hqytmh': 2963, 'hsy66ysy': 3165, 'm1n': 4216, '8y6y': 1221, 'ttmy': 6779, 'hn7unh': 2712, 'u7y7': 7177, 'cvtyl': 1914, 'yyyw': 8973, '0nsy': 39, 'htyi': 3272, 'vct': 7378, 'cvysy': 1941, 'yem': 8263, 'yyjyy': 8931, 'hk7': 2484, 'hrnu': 3019, 'myyyyy': 5246, 'px': 5667, 'gqy': 2168, 'yw_': 8880, 'ppy': 5643, 'mmp': 4589, '_opy': 1297, 'jm': 3833, 'xl': 7936, 'ox': 5582, 'a_n': 1326, 'a_nw': 1327, 'yht7h': 8357, '6om3t6': 790, 'cpyoq': 1754, 'pyin0': 5679, 'y_8': 8148, '1ryg': 407, 'sye': 6309, '1cty': 230, 'lvyh': 4061, 'hrny': 3021, 'ym1cv': 8434, 'tvm7tyv': 6826, '7ey': 857, 'nmrcy66y': 5371, 'y4ctvy4': 8055, 'qj': 5756, '31m': 590, 'r4ctv': 5918, 'vyvc': 7854, 'bmy8h': 1443, 'lc8n': 3928, 'y0nsyoo': 7992, 'syxm': 6414, 'm11nyy': 4198, '3n': 649, 'h8yp': 2351, 'vmyth': 7521, 'nesy': 5297, 'un': 7263, 'hy3my': 3439, '7myqc': 965, 'hnsysya': 2749, 'cnmrcsysy': 1743, 've': 7388, 'ctn': 1819, 'nrm': 5410, 'h8lxji0p': 2286, 'nncch': 5377, 'h8y_ux3': 2344, 'tvymbm': 6906, 'utc': 7289, '1cm': 218, 'yhmhmtt': 8337, 'ytcu4mhv': 8727, 'ymbmhv': 8445, '11mhqmy': 76, 'bmyummhy7': 1492, 'bmhy3': 1390, 'hry_': 3072, 'y7mny': 8115, 'ty1mlvy': 6929, 'tysyt': 7046, 'vmryc': 7467, 'c1ryumyq': 1588, 'vr': 7570, 'syyyyyyyyyyyyy': 6463, 'yc1v': 8194, '0yr': 62, 'nhtnc7hnmrcy': 5325, 'a_': 1325, 'o6': 5539, 'mmhmvnh': 4578, 'lw': 4066, 'pc': 5617, 'cytmm': 1998, 'yvm11': 8866, 'hqyctyv': 2910, '1tnsy': 439, 'syyyyyyyy': 6458, 'cyc': 1967, '11ymbm': 147, 'hqmy3': 2817, 'v7mhvyv': 7365, 'hmyxm': 2705, 'mryumh': 4708, 'tmnyy': 6612, 'vtsyh': 7613, 'hvmhvty': 3363, 'rmhn': 5997, 'y47': 8046, 'mtmy3': 4801, 'y31t7': 8018, '1bmn': 201, 'vn': 7529, 'hmyp7': 2683, 'xqybtypgp': 7956, '9n': 1254, '8lq': 1120, '1myvm': 359, 'ygx6': 8301, 'vy7c1v': 7726, 'mtmy7': 4803, 'mtc7': 4756, 'hmtyh': 2631, 'u7ytv': 7187, 'h8yr': 2354, 'sysye': 6362, 'yvm7': 8871, 'm1mth': 4213, 'hhmv': 2457, 'hnqx': 2742, '3hsy': 612, 'h8u': 2335, 'tvm11': 6811, 'vyvm': 7855, 'esy': 2060, 'psy': 5649, 'hyvm7': 3635, 'hqmyl': 2819, 'vutyumh': 7652, '3yh1': 694, 'lyij': 4119, 'ycm7': 8214, 'sysysyx': 6381, 'tmytv': 6675, '1ytm': 546, 'imsy': 3716, '1syv': 431, 'rmth': 6034, '1sysy': 428, '1vh': 465, 'vnmt8': 7540, 'vy8mm': 7734, 'qmny': 5787, 'm7tm1bmty3': 4321, 'hh1crmyv': 2416, 'lvyv': 4065, 'cy1m': 1956, 'tvyms': 6909, '0s': 46, 'pyx': 5691, 'quty': 5881, 'sysysy66ysy': 6375, '1cvmyv': 236, 'ysyyyyyy': 8706, 'n0y': 5257, 'hqygmhv': 2914, '1y6y': 484, '11u': 118, 'tmv': 6648, 'msysy': 4735, '1vy': 472, 'mytvcr': 5200, 'm11yr': 4204, 'cymbm': 1984, 'vyt8': 7820, 'yuv': 8860, 'yp8': 8544, 'vyrm': 7803, 'yyyysy': 8991, 'vyacll': 7739, 'syom3t6p': 6335, 'isyohv': 3745, 'yeo': 8264, 'ns0': 5418, 'ygm': 8292, 'ji': 3802, 'pi': 5629, 'vsyy': 7591, 'c7u': 1619, 'h7mhvy3': 2266, 'hh1crmty': 2412, 'mysy3': 5161, 'vw': 7701, 'vmyx': 7528, 'll1': 3961, 'yctm': 8229, 'mysyt': 5167, 'hryctmy': 3080, 'hqyrmb': 2950, '11yhmmryv': 143, 'chryr': 1686, 'ymvhnyy': 8502, 'vytvm': 7833, 'hsyq': 3180, 'tvm7nyy': 6816, 't8yr': 6516, 'hqymbm': 2934, '11yo': 149, 'vykcmtv': 7775, 'hqymhb': 2936, 'vutytv': 7650, 'mpy': 4648, '8myg': 1170, 'iyc': 3758, 'vmnmrcsy_': 7441, 'sysyyyyyy': 6392, '1cmt': 219, 'y3my8h': 8037, 'qmysy': 5834, 'vtyq': 7627, 'ctmyh': 1812, 'syrm': 6348, 'hmy6y': 2654, 'qmyc': 5824, 'ysypcu4mhv': 8689, 'r6v': 5923, '0n6': 32, 'ysyp': 8688, '0p': 43, '0g': 10, 'y66': 8073, 'yumybm': 8842, 'hni': 2731, '11c7': 67, 'y4h': 8063, '8mryl': 1146, 'mey': 4366, 'vmhvmr': 7430, 'hmym1tmyh': 2678, 'tyctmr': 6975, '1ybm': 497, 'ctnsysy': 1821, 'yom': 8523, 'rytch': 6188, 'myh1cvh': 5036, 'hyqm': 3567, 'bmnsysy': 1400, 'mysyv': 5169, 'myuml': 5214, 'ylmm1': 8426, 'sych': 6289, 'xyoj': 7972, '38y': 599, 'c1cnl': 1524, 'ly_c1c': 4090, 'mnyp': 4639, 'vy3my3': 7714, 'yangn': 8182, 'rykcmtv': 6166, 'hwyy': 3428, 'hmsyv': 2602, 'rhuvy7': 5957, 'tg': 6535, 'hnqrcy': 2741, 'bmtyl': 1428, 'jyq': 3878, 'hnmrcs': 2733, 'y6j': 8080, 'rchm': 5932, 'imtyv': 3718, 'jjn': 3817, 'ult': 7236, 'nchtn': 5289, 'l7mv': 3913, 'htnh': 3230, '1rnyy': 389, 'yypc': 8939, 'r6h': 5922, 'llsy': 3971, 'hymm': 3533, 'gpn': 2164, 'yyyyw': 8996, 'vhmv': 7396, 'yyyo': 8968, 'al': 1340, 'iy0': 3756, 'hhny': 2478, 'hqy7myv': 2897, 'qmvyv': 5818, 'm7yt': 4331, '1ry7myv': 403, 'yijsysysy': 8379, 'ybmy': 8191, 'y7hh': 8103, '11l78t': 72, 'lhmvh': 3946, 'c1vty': 1598, '7y6y': 1047, '7yb': 1056, 'm3nyy': 4260, 'thcttmry': 6541, 'tyhm3tq': 6992, '11y7m': 127, 'vm7ty': 7418, 'mtc': 4750, '31mrqm': 591, 'ysyucvy': 8699, '7mtyr': 931, 'qm1': 5762, 'sy8h': 6268, 'hypvm': 3561, 'm7yr': 4330, 'ysye': 8682, 'mtvyv': 4866, 'hqmryv': 2809, 'my7mhv': 4978, 'hmrnsysy': 2579, 'bmnh': 1398, 'qmhy': 5783, 'hrm7h': 3001, 'm3ty3m': 4268, 'ye0': 8252, 'h8tyr': 2332, '8v': 1216, 'vmysy': 7518, 'ttcmy3': 6763, 'm4mhvyv': 4285, 'lqmhmb': 4016, 'vv1': 7658, '3y3my': 685, 'mvsy': 4917, 'hry4': 3061, 'hquy': 2879, 'usysy': 7287, 'hrsy3': 3025, '7mty3': 925, 'tysy3': 7044, 'mhym': 4513, 'tvtyl': 6882, 'hvtyh': 3400, '1sy3': 421, 'hryum1': 3146, 'mbmty': 4352, 'mytmhtmy': 5191, 'umry': 7246, 'ryucvy': 6194, 'rrmhy': 6096, 'tey': 6531, 'mtctyt': 4765, 'hqmnyy': 2806, 'ryumvvm': 6200, 'g_cy_h61': 2138, 'hypm': 3557, 'jny0': 3847, 'jyqcmtv': 3879, 'qcmsy': 5721, 'chqm': 1661, '1rny': 388, 'my3mhvy': 4953, 'yny': 8516, 'hlt': 2512, 'vil': 7399, 'tln': 6575, 'hhjinh': 2422, 'bmy9': 1444, 'hq7': 2793, 'vy3mhvy': 7711, 'ttsy': 6786, 'mmvy': 4612, 'lnyy': 4008, 'chhmry': 1649, 'hqsyr': 2848, 'y47rlhcumn': 8047, 'w5wa': 7867, 'rchvt': 5938, 'hncrm1nmrcy': 2723, 'yrmtm': 8663, 'jyr': 3880, '7mysy': 967, 'hryqmvyv': 3117, 'myrmtm': 5156, 'hhmryl': 2441, 'vmryr': 7474, 'mttnyy': 4840, 'tnyyo': 6712, 'vyysy': 7859, 'vnyyacvy': 7561, '66hmbm': 760, 'wesy': 7876, 'cyi': 1978, 'y00syoo': 7979, 'qmsnhmvsysy': 5797, 'v1mryv': 7349, 'my8mm': 4987, 'nam': 5279, 'num': 5469, 'py3': 5672, 'pyvm': 5689, 'mutyv': 4903, 'pny': 5638, 'chryc': 1682, 'mcs': 4362, 'qcm': 5719, 'hry1mvyv': 3055, 'vysyh': 7812, 'ymvy': 8504, 'yyyyr': 8990, 'ts': 6724, 'y0nsysy': 7993, 'hqsyh': 2843, 'mty3m': 4870, 'nsysy66ysy': 5431, 'mnh': 4629, '11nh': 99, 'hylv': 3514, 'xi': 7934, 'bml': 1395, 'nnsysy': 5391, 'h87': 2280, 'bmry3': 1407, 'ylm7': 8425, 'yzz': 9055, 'jyyy': 3886, '1rt': 395, 'y0jsyoo': 7988, '11yumyq': 176, 'h67': 2241, 'm11m': 4194, 'ncn3': 5290, 'oym': 5593, 'rr1m': 6092, 'tyq1': 7025, 'hquty': 2878, 'my7m7': 4975, 'sysy6': 6354, '6syh': 801, 'hmym1tmy': 2676, 't7sy_': 6489, 'tmrny': 6616, 'vm7mhvyv': 7417, 'm1ty': 4231, 'mtnsy': 4818, 'tychl': 6969, 'htc': 3206, 'lsyyy': 4029, 'mhhmnyy': 4391, 'hqyctmryv': 2909, 'tsyyy': 6744, '7c': 843, 'mkcmtvyv': 4535, 'mylm': 5076, 'c1ryumsy': 1579, 'tvm7nsy': 6813, 'mtmyq': 4808, '1tyr': 456, 'hmhhmy': 2542, 'ye3': 8254, '3my': 648, 'tvm7ty3': 6823, 'htnnnsy': 3233, 'sysy_lyh': 6359, '1ty3m': 451, 'rmsyv': 6032, 'mhuvyv': 4466, 'yaqp': 8185, '11ychrm': 135, 'y_p': 8161, 'tvtnh': 6873, 'yrh': 8645, 'ltv': 4038, 'u11yq': 7109, 'vyh1': 7763, 'hmvsyoo': 2643, 'mry1': 4686, 'hyuct': 3611, 'mya1': 4992, 'yucvy3my': 8803, '6pm': 795, 'mmhmy': 4580, 'yag': 8175, 'lhm3tnht': 3944, 'chryi': 1684, 'mm8ty': 4571, 'mmsy': 4605, 'mm8yg': 4573, 'ym_': 8442, 'nyysy': 5524, '31mrqmyv': 593, 'huvyhmmryv': 3317, 'mhvmry': 4473, '7tym7u': 1029, '7ytc': 1087, '3hyt': 625, 'tmry7': 6622, 'vt5': 7596, 'myhmq': 5057, '7mtyl': 929, 'ttcmyl': 6764, 'vv1ml': 7660, '1yhm': 509, 'hsy1': 3163, 'my4ctv': 4961, 'utyq': 7312, 'm3tnyy': 4264, 'yr3': 8638, 'qxy': 5886, 'om3y': 5560, 'ijy': 3698, 'yqq': 8629, 'hytvm': 3607, 'mkcmtvyl': 4534, 'imq': 3706, 'dd': 2010, 'mvmry': 4911, 'yy7': 8911, 'hymll': 3530, 'ctvyl': 1837, 'vcvmsyp': 7384, 'h7mhvny': 2260, 'bn': 1504, 'hnr': 2743, '1tyh': 453, 'hvyq': 3418, '1vy3': 473, 'jyc': 3874, 'chyg': 1711, 'sybm': 6275, 'tnyp': 6705, 'mhvy7my': 4489, 'hhnh': 2473, '7ymm': 1073, 'nhtn': 5322, 'mymll': 5098, 'myhmv': 5061, 'mhn': 4431, 'y66y3': 8076, 'vm8nh': 7421, 'hhmnsy': 2434, 'hsyyyy': 3196, 'myxm': 5237, 'lyxm': 4181, 'hqsyyyy': 2855, 'hqypv': 2945, 'syysyy': 6425, 'utym': 7310, '7yyy': 1099, 'y9h': 8142, 'sb': 6212, 'yoo': 8535, 'cypgin': 1987, 'rlh1mtchngmhv': 5969, 'qbm': 5711, 'wyr': 7910, 'rhuvyr': 5960, 'wy3': 7904, 'tvmhvy3': 6842, 'bmnsy': 1399, 'hc1vyl': 2374, 'cuy': 1888, 'u7n': 7169, '7c7y': 849, 'mmhy3': 4584, 'syth': 6398, '1ry7': 401, '3l': 628, 'hmtty3': 2619, 'mylmm1': 5077, 'tvmhv': 6839, 'syoy': 6337, 'hmttnyy': 2617, 'hyt1': 3590, 'vcrmyv': 7377, 'hyqnyg': 3573, 'cchmv': 1636, 'rdw': 5944, 'h8wh': 2338, 'hmwsy': 2648, 'y7cvc': 8101, 'htmhv': 3222, '11ns': 101, 'ln7': 4005, 'qmtsy': 5805, 'mnc': 4626, 'nmnyv': 5358, 'bmyctmry': 1451, 'u4mhvty': 7162, 'myctm': 5014, 'ymvhnsy': 8499, 'rqmv': 6083, 'mtyms': 4879, 'yp1': 8541, 'u7yhc': 7180, 'hvy1': 3406, '1mtny': 308, 'yyyym': 8986, '9q': 1262, 'lkc': 3959, 'hctn7': 2390, 'rmry3': 6025, 'yqmvyh': 8623, 'tmtt': 6641, 'vyuml': 7841, 'ytms': 8764, 'bmyhm': 1456, '3h7': 603, 'vy3mu': 7712, 'mylc11y': 5072, 'vtey': 7598, 'tylc11y': 7001, 'cb': 1632, 'hmuty': 2638, 'hr1my': 2986, 'mvnsy': 4914, 'cvye': 1929, '1vyl': 474, 'yer': 8268, 'acvy3': 1332, 'mtytmm7yv': 4884, 'mttmryv': 4836, 'pmy': 5635, 'ney': 5299, 'hnysysy': 2766, '7mhyv': 893, 'mvyv': 4933, 'ysy7': 8679, 'hty6y': 3266, 'uty1': 7299, 'm1yx': 4247, 'hrymbmhy': 3101, '11yvm': 182, 'hrytmsc': 3138, 'lysyv': 4157, 'vcmy': 7373, 'ty3myr': 6942, '8tyt': 1212, 'hryms': 3104, 'yet': 8269, 'c1mt': 1528, 'bmyum': 1485, 'rymb': 6170, 'qyh': 5894, 'mrey': 4671, 'h1myfik': 2217, 'nesysy': 5298, 'tvyumh': 6918, 'bmytm': 1478, 'sysysys': 6379, 're': 5945, 'qsy_': 5873, '3tny': 665, 'crt': 1774, 'hvy7my': 3409, 'n6i': 5267, 'lhhtb': 3943, 'snc3mhnmrcy': 6233, 'u1m7sy': 7119, 'cyg1': 1972, 'lvmhyh': 4051, 'y7mnyy': 8116, 'hrym7': 3097, 'snc3mhnmrc': 6232, 'vmhv1': 7428, 'vmhmryu': 7426, 'uluh': 7237, '7nu': 990, 'm7nrc8mnmrcy': 4311, 'y4l': 8064, 'vmnqrcy': 7443, 'mtvsy': 4858, 'ytmvc': 8769, 'bmtny': 1421, '116pv': 66, '7tyh': 1027, 'utnyy': 7294, '7c1v': 847, 'c_': 1629, '8nsysy': 1194, 'vmsyh': 7482, 'hymsh': 3537, '1rypm': 412, 'hmvyh': 2646, '9qy': 1263, '_x': 1309, 'no': 5394, '1ng': 364, 'chm': 1654, 'lmhvy': 3988, '7ry': 995, 'hqtyh': 2871, 'hyum1': 3614, 'mlyv': 4560, 'mhyu': 4521, 'ml1': 4537, 'mymkc': 5097, 'huvyq': 3320, 'ttcm': 6757, 'u1mytv': 7155, '11ny': 104, 'yew': 8273, 'mtctyv': 4766, 'vyum1': 7839, 'lyu1': 4169, 'u1myvm': 7158, 'ysyyyyyyyyyyy': 8707, 'bmy7m': 1439, 'myrmb': 5148, 'umr': 7245, 'hty0': 3262, 'cthmtty': 1794, 'bmv': 1432, '3mryc': 641, 'hyct': 3478, '3mv': 647, 'vy3myt': 7717, '11yum': 166, '11yumy1': 171, 'i60': 3670, '7tm1l': 1014, '11yumq': 168, 'rry': 6100, 'hrymbm': 3099, 'mtct': 4757, '1mry3': 292, 'cmny': 1728, 'ymvm': 8503, 'cyg': 1971, 'u1mey': 7132, 'tmye': 6660, 'ulcth': 7234, 'vmny': 7449, 'ep': 2055, 'syyyyyyv': 6456, 'mtyumh': 4888, '1y8': 491, 'chmy': 1655, 'hyuml': 3616, 'msyyyyyy': 4747, 'h8yh': 2348, 'muty3': 4898, 'hqe': 2796, 'tvm7tsyp': 6821, 'nsyohv': 5425, 'cth': 1793, 'i7': 3672, 'vv1msy': 7661, 'hytkc': 3596, 'hrchv': 2994, 'nyv': 5502, 'jn0n': 3836, 'ltc': 4034, '1mhhmnsy': 267, 'yiny': 8387, '1mhvyh': 273, 'yhm3y1': 8330, 'u1m7tyv': 7126, '7myum': 974, 'yyyyyyyyyyyyyyyyyyyyyyy': 9040, 'jlc': 3832, 'hhl': 2423, 'hmtmvvm': 2605, 'qhty': 5747, '11mry3': 91, 'huy': 3336, 'm7l': 4298, 'yvmhryv': 8873, 'l6': 3909, 'y1mttm': 8009, 'vyev': 7757, 'huvysy': 3323, 'mymllmhvy': 5100, 'htt': 3250, 'hntmy': 2756, 'hmryt': 2589, 'fl': 2104, 'sysyq': 6371, '0syx': 53, 'm1t': 4230, '7mhvyh': 888, '0nni': 38, 'hyysy': 3646, '00y': 2, 'mtc1vt': 4752, 'hqnyc': 2827, 'vyt1': 7817, 'nsys': 5428, 'tm7': 6589, 'u1myu': 7156, 'wn': 7885, 'vytmm7ty1': 7828, '7mytv': 972, 'cvtv': 1912, 'tyrc': 7031, 'nsysya': 5433, 'cvyp': 1938, 'vmtyh': 7495, 'hqyw': 2978, 'rsyp': 6108, 'hh1crmryv': 2411, 'hhmy1': 2459, 'by3': 1514, 'rmtv': 6036, 'vmrym': 7470, '7mhvnsysy': 879, 'm3sy': 4262, 'lsyg': 4023, 'm7my': 4307, 'ttc7my': 6755, 'nsyc': 5422, 'myc1v': 5000, 'rmhvyv': 6010, 'lyv3': 4175, 'mtctyr': 4764, 'msya': 4721, 'mrm': 4673, 'pyu': 5687, 'lu1cmnh': 4041, 'qmnsysy': 5786, 'mryuml': 4709, 'yh8': 8309, '1mw': 329, 'fy': 2120, 'ylm3sy': 8418, 'ytm11': 8737, '1myb': 336, 'yun': 8855, 'lmhvyh': 3989, 'y11': 7997, 'oxq': 5587, 'm31mvv6m': 4250, 'm8': 4334, 'lym1mhv': 4126, 'hmyvm11y7my3': 2701, 'vytch': 7822, 'my7mh': 4977, 'vmytv': 7524, 'jyt': 3881, 'yhm3yh': 8332, 'myxc': 5236, 'qmtv': 5806, 'y5': 8069, 'nyypc': 5522, 'ty1m': 6928, 'y4q': 8067, 'mlly': 4552, 'sm': 6219, 'hwy': 3427, 'qnh': 5841, 'sh': 6213, 'hct': 2389, 'mysyr': 5166, 'htmh': 3220, 'tmhy': 6601, 'vyrm7': 7804, '1l3': 247, 'hygmhvm': 3491, 'hyqmh': 3568, 'rmsy_': 6031, 'm11mry': 4195, 'mhvyb': 4490, 'vtyr': 7628, 'y7ttlhmvh': 8127, '11mqnmrc': 87, 'hmc': 2537, 'hqykc': 2921, 'tv7': 6806, 'ysysysy': 8694, 'hryumh': 3147, 'rtnh': 6119, 'tvn': 6854, '17ypmm': 186, 'y71mml': 8091, 'hnyysy': 2775, 'y88m11m': 8131, '1nt': 374, 'y9m11m': 8144, 'ygc': 8290, 'lymmhht': 4133, 'mhhnmrcsysy': 4415, '1nhv': 367, '7tsy': 1021, 'rmryl': 6027, 'upy': 7272, 'pwwwwwsy': 5665, 'yon': 8533, 'qm1y': 5765, 'ii5': 3683, 'hnc8sy': 2717, 'hnc8sy_': 2718, 'ypchy': 8551, 'qmhhmy': 5775, '3mt': 644, 'thnmrcy': 6550, 'm1y9': 4237, 'h6c': 2246, 'mvty': 4919, 'mvt': 4918, 'myxmt8': 5239, 'tnvm7': 6703, '1mnmrc': 281, '1mnmrcy': 283, 'h1msy': 2200, 'yucvysy': 8809, 'c1ryhmbm': 1559, 'mvmy': 4912, 'lvmhyl': 4052, 'ql': 5757, 'rmnmrcn': 6016, '3tsy_': 668, '7yhc': 1065, 'tvmh': 6835, '1y7myv': 490, 'hhmnh': 2433, 'ty7mtt': 6956, '7cnmrcy': 854, 'zcy': 9067, 'hnsysyx': 2754, 'ymmhhypv': 8475, 'yxmb': 8896, 'ntq': 5463, '8u': 1215, 'myxmb': 5238, 'c1mtyl': 1530, 'nmhmvnrmhnh': 5354, 'hmychrm': 2664, '2x': 586, '0syoo': 50, 'pt': 5654, '0ji': 21, '8nt': 1195, 'vtyc': 7622, 'ze': 9069, 's7': 6211, '1mh': 264, 'uyr': 7339, '8tnyy': 1203, 'm1yw': 4246, 'tvy1m': 6890, 'h8ytv': 2358, 'yhch': 8315, 'h8tnsy': 2320, 'hypchr': 3553, 'nye': 5486, 'lypv': 4145, 'i1': 3665, '7ysy': 1085, 'utny': 7293, '1mtty': 311, 'c1ry7m': 1554, 'hvysy': 3420, 't8mryv': 6501, 'hesy': 2398, 'hc1vc': 2372, 'tvysy': 6913, 'nyi': 5491, 'mttmt': 4837, 'hvmmyv': 3368, 'ytmvyc': 8773, 'qyp': 5899, 'hmyx': 2704, 'tmym': 6664, 'hhmyg': 2462, 'qoy': 5854, 'yyym': 8967, 'vmytmht': 7522, 'hryrmbm1': 3120, 'hh1crmry': 2409, 'hyrmbm1': 3580, 'mnqn': 4632, 'hvtyl': 3402, 'mttmty': 4838, 'mkcmtvy': 4533, 'htmty': 3224, 'nyyq': 5523, 'htmtyv': 3225, 'mypch': 5124, 'hymrch': 3535, 'vyctmyv': 7754, 'mtvyh': 4864, 'hmyhc7um': 2670, 'httlclt': 3251, 'sm1tt': 6221, '1tt': 445, '7yyyy': 1101, 'ryum': 6195, 'ch8yv': 1645, '3ytv': 706, 'mhyc': 4507, 'hq1myv': 2787, 'hrl': 2997, '11y4': 125, 'nyq': 5499, 'tum': 6799, 'tyam': 6963, 'ntn': 5462, 'qmymh': 5831, 'm7mr': 4306, 'ytmsy': 8766, 'myc7': 5001, 'yumhh': 8820, 'myumhh': 5212, 'yyyyyt': 9006, 'cvl': 1895, 't8mvu': 6502, 'vmtyt': 7497, 'nsyo': 5424, 'h8mvt': 2300, 'vmyw': 7527, 'hh1crmtyv': 2413, 'lyxm1': 4182, 'syyyyyg': 6445, 'q1my': 5700, 'ygm11c1': 8293, 'y_81': 8149, 'tmhv': 6600, 'mmryv': 4604, 'syrmh': 6349, 'cyuc': 2003, 'ctmsyv': 1803, 'msyrm': 4734, '1mt7': 304, 'vymkc': 7785, '7mhvt': 883, 'xg': 7933, 'cvyei': 1930, 'myin': 5066, 'hypvcr': 3560, 'ir': 3742, 'y0iy': 7984, 'vtcu': 7597, 'ymh1': 8456, 'y0jy': 7990, 'bmyummhyr': 1495, 'tvmr': 6846, 'yumytv': 8851, 'sykc': 6322, 'nsyysy': 5453, 'mhm3': 4420, 'm11y_': 4202, '1syp': 426, 'n0n': 5256, 'xm': 7938, 'ty3my': 6940, '1cvmy': 235, 'tvmhv1': 6840, 'ryth': 6189, 'ml1mhvy': 4539, 'y7mmvy': 8111, 'ylc11': 8407, 'my3myh': 4955, 'hyumyv': 3627, 'vuty1': 7638, 'y1chh': 8000, 'hqnyyg': 2831, 'ml1mhv': 4538, '1msy3': 300, 'mhhmyumv3mmhy': 4410, 'y_bm': 8151, 'm11nh': 4197, '8my3': 1164, 'ssyp': 6246, 'hvmhvt': 3362, 'h1myfu': 2219, 'nlt': 5351, 'm3yl': 4277, 'c7lnh': 1613, 'ymq': 8480, 'cw': 1952, 'iyyyysysy': 3765, 'cunrc8mnmrcy': 1880, '1nh4nhmhnh': 366, 'm1rt': 4225, 'y1mlvy': 8005, 'yacvyv': 8174, 'mhy1': 4501, 'pn': 5636, 'wp': 7887, 'cvy9': 1925, 'hqyt1': 2957, 'hrmr': 3007, '7yhm': 1066, 'tum1': 6800, 'mhhmny': 4390, 'hry6y': 3062, 'vnyyw': 7567, 'rmhhmyl': 5995, 'y4crqmy': 8050, 'h7mhvyh': 2268, 'e0': 2025, 'htnl': 3232, 'tyumq': 7086, 'tyvc': 7091, 'mbmtyv': 4353, 'hutyh': 3300, 'rmhvns': 6000, 'h7n': 2273, 'xsy': 7960, 'm8y': 4336, '1muty': 323, '3hyr': 624, 't8nyy': 6505, 'tn7': 6683, 'hmnmrcy': 2569, 'p0': 5604, 'hqy7mtt': 2895, 'ysyyyyy': 8705, 'syqc': 6345, 'y_utm': 8162, 'vyhc': 7765, 'yqmvyc': 8622, '7nc7rnmrcy': 983, 'hyumv3mmhyv': 3619, 'ytm11yv': 8739, 'vy7ctvyumy': 7728, 'yijsyoo': 8377, 'ypctv': 8554, 'yhm3tlh': 8326, 'm1rnyy': 4223, 'tvmhh': 6836, 'hrybm': 3075, 'cu1m': 1864, 'myn': 5112, 'jya': 3873, '0y3': 58, 'hyom3y': 3548, 'imy7': 3721, 'wyb': 7906, 'c6': 1611, 'y7mvm': 8122, 'c7n': 1617, '36h': 597, 'typv': 7023, 'bmymh': 1464, 'cyqc': 1989, 'ubmy1': 7195, 'syctmy': 6301, 'imyt': 3723, 'mnyyp': 4643, 'huvyu': 3330, 'sy9': 6269, 'm7myg': 4308, 'vy6y': 7724, 'n7ttv': 5271, 'vmytc': 7520, 'p_o': 5613, 'qmtnsy': 5802, 'bmy7ch': 1438, 'htc1': 3207, '7ych': 1059, '60i': 755, 'yq7': 8588, 'hy9h': 3460, 'c1yph': 1605, 'vy_': 7736, '3s': 659, 'ty7mhv': 6955, 'mlv': 4558, 'thnmrc': 6549, 'rmyg': 6048, 'yrcv': 8644, '1ryt': 415, 'rmytv': 6054, 'ytmhry': 8747, 'mmhnyy': 4581, 'snsysy': 6238, '5yy': 752, 'j0y': 3774, 'yyyyyyyyyyyyyyyyyyyyyyyyyyy': 9044, 'yqvr': 8636, 'qqy': 5867, 'l4c1': 3907, 'hnc3': 2714, 'c1nhtrnc3': 1532, 'mhnt': 4435, '7myuml': 976, 'eo': 2053, '_ya': 1311, 'hymllmhvy': 3532, 'hrb': 2993, '8lhm3v': 1118, '9mhvyp': 1252, 'ymmh': 8474, '7chq': 851, 'tvyac': 6895, 'csyp': 1784, '8hl': 1115, 'yrmlmhry': 8657, '7mhvny': 880, 'u4mhvyv': 7164, 'hqykcmtv': 2922, 'hrtyl': 3047, 'y9p': 8145, 'oxy66ym': 5589, 'myhmvns': 5063, 'yhm1mu': 8322, 'lylm': 4124, 'mywm': 5233, 'y4c7': 8049, '1mhr': 270, 'yhm3t': 8325, '1my3my': 334, 'tsyy': 6743, 'hnyyo': 2773, 'hnyyacvyv': 2770, 'rmrnyy': 6022, 'yccmhh': 8199, 'w1': 7864, 'yhm3ty': 8328, 'y91': 8140, 'hry1m': 3054, '11yumyr': 177, 'hysyv': 3588, 'tyv3': 7090, 'sy0j': 6252, '11yqmvy': 155, 'snh1': 6235, '1yhmv3': 510, 'hqsy7': 2841, '_a': 1275, 'tml': 6602, 'm1yc': 4238, '7yqmvv': 1082, '7v': 1041, '8mtyl': 1155, 'uryv': 7283, 'y6yp': 8088, 'pyy': 5692, 'hn7': 2711, 'rmb': 5987, 'hyqnytc': 3574, 'mmhlm': 4576, 'tvntchnh': 6859, 'qry': 5870, '8yr': 1235, 'rmtyl': 6039, 'u7yqmvv': 7183, 'llyh': 3977, 'hhmtnsysy': 2447, 'sysyt': 6382, 'hmtnsy': 2608, 'umsy': 7249, 'c11y': 1520, 'h8n': 2306, 'iu': 3751, 'gopng': 2160, '0l1': 28, 'iyyyyyyyyyyyyyyyyyyyyyy': 3766, 'eh': 2038, 'htsysy': 3247, 'cyctmy': 1969, 'l1m': 3901, 'nmrcsys': 5367, 'vyqmhm': 7796, 'hnsysyp': 2752, 'h1myr': 2224, 'yy66y': 8910, 'rm7y': 5986, 'yg_c': 8287, '1syl': 425, 'tnyyx': 6715, 'myo_': 5114, 'hmhr': 2543, 'ypcv': 8555, 'hrtsy': 3040, 'hqyuc': 2967, 'hmn7': 2565, '7yp7': 1078, 'ltm': 4036, 'hymsvm': 3542, 'jjy7': 3821, 'sy66sy': 6261, 'nr': 5409, 'ypchr': 8550, 'hy4ctvy': 3442, 'vyhmbm': 7768, 'hy7mv': 3454, 'wl': 7883, 'y_hmy': 8157, 'hykcmtv': 3509, 'ye1': 8253, 'yep': 8265, '11yumh': 167, 'rmhvyum1': 6009, 'hmey': 2540, 'tt6': 6749, 'hhctmry': 2421, 'utya': 7303, 'ttcmyv': 6765, 'm7m': 4299, 'hey3': 2400, '1ty7': 452, 'hlc1y': 2496, 'hqym1tm': 2929, 'm1mtty': 4215, 'reyv': 5947, 'mhvyu': 4498, 'yumyq': 8846, 'qmey': 5771, 'vy3myr': 7716, '7yq1': 1081, 'myctc': 5013, 'hty1': 3263, 'cvyg': 1931, 'cuc': 1875, 'oyg': 5591, 'hqsyx': 2852, 'mttyu': 4849, 'lvty': 4057, 'mthuvyr': 4781, 'h8ny': 2313, 'ylc': 8406, 'hmtyr': 2633, 'tnnn': 6694, '6w': 812, 'vv1msyp': 7662, 'bmyp': 1467, 'nqrcy': 5406, 'qnsysy': 5846, 'x6': 7921, 'cysy': 1995, 'msyw': 4741, 'ew': 2071, '6z6': 821, '6z': 820, 'z6': 9061, 'nnnsy_': 5385, 'ngnyam': 5306, 'tvnq': 6856, '11ym1': 146, 'i00': 3658, 'u7n1': 7170, 'eny': 2051, 'vth': 7599, '7u1': 1035, 'nmrcsyp': 5365, 'thuvyq': 6558, 'yhcvy': 8319, 'jnh': 3840, 'hmrnsy': 2578, 'ctylv': 1849, 'hyumyctmryv': 3622, 'clth': 1723, '8ychgc11': 1227, 'cg': 1639, 'c1rsyumy': 1547, 'tmyc': 6658, 'bmsyt': 1416, 'hsyu': 3189, '8mysy': 1180, '8my1': 1163, 'xo': 7945, 'ga': 2140, 'hln': 2506, '8c': 1111, 'yfg': 8277, 'tncl1nmrc': 6687, 'ty1mq': 6930, 'yrmlm': 8656, 'hryy': 3158, 'vye7': 7756, 'tyummhy7': 7080, 'tm1ly3': 6586, 'm3nh7cnmrcy': 4259, 'mybtnycct1': 4998, 'xn': 7940, 'hmmr': 2561, '1ypv': 528, 'hqypm': 2944, 'imy3': 3720, 'bmtyr': 1429, 'vtv': 7614, 'mye1': 5019, 'mr3': 4662, 'cryv': 1776, '11mqmym': 86, '3mryu': 642, 'ij6': 3693, 'ylcvc': 8413, 'hqygmhvm': 2915, 'jj0': 3808, 'tvm7yv': 6834, 'bmyummhy3': 1491, 'vhmtty': 7394, 'yctmlc1y': 8230, 'yut8mhr': 8858, 'qlhmvh': 5758, 'hy9mhr': 3462, '1qncv': 379, 'ch8ty': 1643, 'vsy1': 7575, 'hyq7': 3563, '6x': 814, '1mnmrcsy': 282, 'y66yv': 8079, 'vytmbm': 7825, 'my1mhqv': 4944, 'vutyummhy': 7653, 'tvmhhm': 6837, 'ytmhvy': 8752, 'y66sy': 8074, 'ttytc': 6794, 'msyx': 4742, 'bmytmbm': 1479, 'hvyu': 3423, 'mhvmr': 4472, 'ctmyl': 1813, '7c7': 848, 'myhmmrmryv': 5053, 'mbmhvyv': 4346, 'h66': 2240, 'hhnqm': 2474, 'hnnnsy': 2739, 'pa': 5615, 'ing': 3727, 'syys': 6423, '11l': 71, 'rch': 5931, 'hychrm': 3475, 'h6q': 2252, '8mt7': 1151, 'ymsvm': 8490, 'smryv': 6225, 'hm1y': 2522, 'ih': 3681, 'yqmh': 8611, 'lycct1': 4096, 'mtyg': 4874, 'bmytc': 1475, '1y9': 493, 'my7c': 4969, '1my3m': 333, 'mysyy': 5170, '_r': 1302, 'rmhvyl': 6007, 'rqmny': 6081, 'imryu': 3714, 'c7yl': 1622, 'qmtny': 5803, 'lyt1': 4159, 'hqsyy': 2853, 'rqmy': 6089, '7tm1lyv': 1016, 'tmtny': 6638, 'ytkc': 8735, 'syyh': 6420, '3rm': 657, 'rytmbm': 6191, 'hywmu': 3641, 'mymhb': 5089, 'ryummhyv': 6199, 'hyhc7um': 3497, 'mv1': 4906, 'yh7': 8308, 'h6l': 2249, 'yq1rlhch': 8585, 'ypyx': 8580, '11syp': 110, 'my7mv': 4982, 'hymllmhv': 3531, 'my7myt': 4983, 'ypnyx': 8571, 'yq1rlh': 8584, '_yy': 1315, 'mqy': 4657, 'mvtyy': 4921, '_wwwsy': 1308, 'shna': 6215, '7yyyyyyyyyy': 1105, 'qsysy': 5875, 'bmhuvyummhy': 1386, 'yhmsvy': 8349, '0in': 15, 'bmrnyy': 1404, 'ncb': 5285, '7tvm': 1023, 'p5': 5607, 'hryu1': 3143, 'hrnsysy': 3017, '6rml': 798, 'tytmm7yv': 7063, 'hyctmy': 3480, 'oyl': 5592, 'yyyr': 8970, 'yjj': 8395, 'myuc18y': 5206, 'mnccqn': 4627, 'typh': 7022, 'mm6': 4567, 'hmtv1': 2622, 's5': 6210, 'lybm': 4094, 'c1mry': 1527, 'vmm': 7437, '7uty': 1038, 'tyh1m': 6988, 'nog': 5395, 'utyp': 7311, 'ypchyc': 8552, 'mbmhv': 4344, '7syh': 1001, '8ym': 1232, 'umnh': 7244, 'umyp': 7260, 'vmrsyp': 7460, 'tyumvvm': 7087, 'qcmty': 5722, '7mrnyy': 901, 'cqq1': 1762, 'njjsysy': 5344, 'hqymhh': 2937, 'h68m': 2242, 'm_': 4338, 'ta': 6521, 'a9': 1324, 'tw': 6921, 'hp': 2779, 'sn7': 6230, 'htnch': 3229, '1mtym': 321, 'h1myt': 2225, 'yucvyq': 8807, 'thuvy7': 6555, 'y3mm8ty': 8029, 'go': 2159, 'hh1crmr': 2408, 'nyy_lyh': 5509, 'gh': 2149, 'iin': 3686, 'inni': 3732, 'yt7ul': 8715, 'lmqc': 3994, 'hqu': 2877, 'xnnn2sy': 7941, 'lvmhyr': 4053, 'sysy0': 6352, '1ym1mhv': 519, 'vmtyu': 7498, 'ytm7': 8742, 'qhmv': 5743, 'nsyyyy': 5455, 'nm1mhv': 5353, 'vlh': 7405, 'chrmryu': 1667, 'bmhnyy': 1382, 'htnyyp': 3239, 'ywchr': 8882, 'mvnh': 4913, 'qm11': 5763, 'mhcty': 4384, 'hrypv': 3110, 'mysyl': 5164, '8ml': 1132, '7y6y_h1': 1048, '8mvyv': 1161, 'mrya': 4690, 'h1myf0j': 2211, 'h1myft': 2218, '3ymbm': 697, 'yy9': 8912, 'g9y': 2134, 'ywa': 8881, '8mytch': 1183, 'y3mm8y': 8030, 'llnsy': 3968, 'wyt': 7911, 'm7tm1bmtyv': 4322, 'mtmykcmtv': 4806, 'chrt': 1673, '11yb': 133, 'mhnsysy': 4434, 'y_v': 8163, 'rmnsy': 6017, 'tnyx': 6709, 'bmtsy': 1424, 'y1mlvyv': 8006, 'h8nyy': 2314, 'ctmryv': 1801, 'hmrny': 2580, 't7nyy': 6486, 'mhnsy': 4433, '8mm': 1135, 'my1mlv': 4945, 'aq': 1352, '11yo_': 150, 'hcvmtyv': 2395, 'y1mhqv': 8003, 'cytmmy': 2000, 'hmtsy': 2612, '68h': 764, 'h8ytm': 2357, 'hhyp': 2482, 'fp': 2108, 'i0i': 3660, 'fq': 2111, 'rm1ty': 5978, 'uryt': 7280, 't7yl': 6493, '7mvy': 940, 'yinj': 8383, 'hmty7': 2629, 'h1myfh': 2214, 'htenyy': 3213, '11cv': 70, 'h1myl': 2223, 'nsy66ysy': 5420, '1c7h': 212, 'hmb': 2535, 'ensysy': 2050, 'ee': 2035, 'mtymbm': 4878, 'my7ctvyumy': 4973, 'ysyc': 8681, 'yhm3yt': 8333, '1yl1': 515, 'hrytmvy': 3139, '11mryl': 95, 'vnyyo': 7563, 'ctvy7': 1835, 'htyq': 3279, 'mtvty': 4859, 'yrmlmht': 8658, 'syyyyyyyyyyyyyyyyyy': 6467, '1mypm': 346, '7mye': 952, 'ty7c': 6952, 'qmvty': 5814, '1e': 237, '11yumy7': 173, 'rml': 6013, 'gy7': 2180, '1mye': 338, 'ysyyy': 8703, 'v7mhvsyp': 7361, 'qnl': 5842, 'ygnyc': 8296, 'vv1myh': 7666, 'hryuml': 3148, '1yqc': 531, 'tvm7ny': 6815, '11yc': 134, 'qcmqp': 5720, '11yh1': 140, 'vtnsysy': 7607, 'mhvmryv': 4474, 'hrsy7': 3026, 'hcv': 2392, 'vutym': 7646, 'mlt': 4556, 'heyv': 2401, 'lty': 4039, 'h6ms': 2250, 'cylmm1y': 1981, 'csyv': 1787, 'qyrm': 5902, 'huvnyy': 3302, 'hqtyl': 2872, '5h': 730, 'ysyx': 8701, 'ymvhnsysy': 8500, 'hyyyy': 3649, 'y6yc': 8084, 'mqcy': 4652, 'gn': 2155, 'gj': 2151, 'hmvym': 2647, 'm61': 4289, 'u1m7yv': 7131, 'ctmyr': 1814, 'tmrmt': 6615, 't8mrytcmtv': 6500, 'bm6h': 1373, 'hm5': 2524, 'yex': 8274, '5j': 732, 'qog': 5852, 'rkc': 5965, '0j0': 19, 'ymvhny': 8501, 'syyyyyx': 6454, 'mtvmryv': 4856, 'a6': 1323, 'hmyw1': 2703, 'vygmhvm': 7761, 'oxp': 5586, 'iij': 3685, 'ych1': 8203, '7mtn': 916, '1yo': 523, '11yp': 151, 'myhmhvm': 5052, 'syyyyym': 6449, 'hmya': 2660, 'qhyh': 5752, 'lymh': 4130, 'nygmhvm': 5489, 'xt': 7962, 'ijj': 3695, 'gq': 2166, 'myrmth': 5155, 'jjyc': 3822, 'tmmyv': 6604, '5t': 747, 'hm6h': 2527, 'h81m': 2276, 'mqyp': 4658, 'yzyg': 9052, 'ly8h': 4085, 'y1mbm1y': 8002, 'hryh1': 3085, 'bmyy': 1503, 'yyamh': 8917, 'myrmlmhr': 5152, 'syumh': 6408, 'mlctmyv': 4547, 'hncrm1nmrcsy_': 2722, 'y3m11nyy': 8022, 'hhmr': 2438, 'vysy3': 7811, 'lmyl': 4002, 'u1mysy': 7153, 'hmcbm': 2538, 'tyrm1': 7034, 'myhm3ty': 5045, 'c1ryctmyv': 1556, 'vysyv': 7814, 'hqmy7': 2818, 'rmhhmy3': 5994, 'ysy3m': 8677, '8mry3': 1144, 'i00ul': 3659, 'unyy': 7269, 'hrty7my': 3044, 'qmn': 5784, 'rq': 6078, 't0': 6473, 'h8tnsysy': 2321, 'yqhb': 8606, 'hmyrm': 2688, 'u1msyl': 7138, 'c8ch': 1625, 'rm11': 5974, 'xcqyl': 7929, 'lucnmrc': 4043, 'lny': 4007, 'py1': 5671, 'sy9mhvsy666syt': 6271, 'mhhmsy': 4393, 'mvyh': 4929, 'mytcu4mhvyv': 5182, 't7ny': 6485, 'iint': 3687, 'jjjy7': 3814, 'ot': 5578, '9sy': 1264, 'vmry9': 7466, 'gsy': 2170, 'ggg': 2146, 'mrc1my': 4666, 'u1m7nsysy': 7116, 'msmhnu': 4714, 'tmny': 6611, 'hqyph': 2943, '7n7': 980, 'utye': 7306, 'me': 4365, 'g5': 2126, '4mhvsyp': 715, 'tlhmvh': 6573, '1sy_': 423, 'vcvmyl': 7387, 'h1mtyv': 2206, 'nnnyy': 5389, 'yyyyyyyp': 9022, 'bmyummhyt': 1496, 'lsy1': 4019, '1ml': 276, 'hl1cmhhmy': 2489, 'rysyv': 6185, 'ysym': 8686, 'hqtyt': 2874, 'ya1cmy': 8168, 'sy6y': 6263, 'mtvyl': 4865, 'nyy_': 5506, '1yqs': 534, 'qpm': 5856, 'mhvy1': 4486, 'hqy7m7um': 2894, 'hqeyt': 2798, 'bmybm': 1447, 'hmrsy': 2582, 'tvsyv': 6869, '11mhvy': 80, '7mht': 877, 'gyy': 2186, 'gyyyy': 2188, 'lc1yv': 3927, 'hqmty': 2813, 'hryh1m': 3086, 'vy3myh': 7715, 'hvmh': 3351, 'tytmm7tyv': 7062, 'jil': 3805, '3m11y': 636, 'vysyt': 7813, 'ytvmm': 8784, 'tych': 6967, 'ly7mr': 4083, 'hsyw': 3191, 'nsyg': 5423, 'yacll': 8172, 'et': 2063, 'hvywc': 3425, 'crm': 1773, 'yap': 8184, 'h7mhvnyy': 2261, 'qcmy3': 5724, 'vtm1lyv': 7604, '7mhvyv': 890, 'c7yv': 1623, 'y7msy': 8119, 'hqty7': 2869, 'qmhhm': 5774, '11ym': 145, 'jjj5': 3811, 'mrnsysy': 4678, 'uum': 7321, 'lqbq': 4015, 'nqbqnvm8nh': 5404, 'yummhyv': 8826, 'ymmhqc': 8476, 'y3mhvy': 8026, 'yxmv': 8900, 'y3mhvyv': 8027, 'm1u': 4232, '_aq': 1276, 'pcy': 5620, 'uc1': 7210, 'mymhr': 5093, 'psysy': 5653, 'myvmtv': 5229, 'vv1my3': 7664, 'h2y': 2229, '7tv': 1022, 'lytm': 4164, '11ytm': 161, 'ysytc': 8696, 'bmtnyy': 1422, 'hrymh': 3102, 'hsyms': 3175, 'rypvm': 6178, 'hqylm': 2927, '9nsyp': 1256, 'hno': 2740, 'pcur': 5619, '1v6': 464, 'ty4ctvy3': 6946, 'uyq': 7338, 'hnc': 2713, 'ty7mv': 6957, 'y4ctvyl': 8057, 'ctmtyv': 1805, '1ych': 499, 'y8hm3yv': 8134, 'h8ty3': 2327, 'utysy': 7314, '3c': 600, 'bm11': 1369, 'ctvyhc': 1836, 'hnyyacvy': 2769, 'l6v': 3910, 'rsyyyy': 6112, 'msyyyy': 4745, 'yiisyoo': 8368, 'hll': 2502, 'tnmrcsysy': 6692, 'syyyyyyyyyyyy': 6462, 'tvmrsy': 6848, 'ryhmbm': 6164, 'y3my3m': 8035, '31y': 595, 'hmytm': 2693, 'myhmsvyr': 5059, 'yhcv': 8318, 'mthuvy1': 4773, 'niinl': 5332, 'cvnl': 1901, 'qhm': 5736, 'y_1': 8147, 'nnnv': 5387, 'gu': 2174, 'es': 2059, 'chru1': 1677, 'hqybm': 2904, 'wa': 7871, 'mhykcmtv': 4511, 'm1yh': 4240, 'yn0': 8506, 'vnt': 7553, 'ue': 7225, 'yu7': 8788, 'mct': 4363, 'bmhyh': 1391, 'cch': 1635, 'hryqmhm': 3114, 'up': 7271, 'y81': 8129, 'n8n': 5273, 'cttm': 1826, 'tnysysy': 6707, 'hvmtv': 3382, 'mpq': 4647, 'yrum': 8669, 'sy5': 6259, 'cuv': 1885, 'hmlcs': 2557, 'opyx': 5569, 'wyo_yp': 7909, 'pwwwsy_': 5664, 'qhsyp': 5746, 'xlgc': 7937, 'm63': 4290, 'qty': 5879, '1y7mtt': 488, 'syf': 6310, '1yrmv': 541, '7yo': 1075, 'y0isyx': 7983, 'bsyom3t6p': 1510, 'yctmsy': 8236, '1yrmb': 537, 'mhrmhv1': 4444, 'hyctm': 3479, '1ry7my': 402, 'tyummhyq': 7082, 'ypgy': 8558, '3ntv': 653, '1lnlh': 251, '1nq': 370, 'htllh': 3217, 'ht66yam': 3203, 'tnr': 6695, 'y77': 8094, '5sy': 745, 'oplwo': 5566, 'o5': 5538, 'jii': 3803, 'mypg': 5126, 'h0': 2192, '11syl': 109, 'mycm': 5008, 'cyrml': 1994, 'ynsyoo': 8512, 'hvyp': 3417, '1cmtyv': 221, 'bmn': 1396, 'yhc7m': 8313, '5pxm': 742, 'cm1v': 1726, 'hqymhv': 2938, 'c11mry': 1519, 'hqyrm': 2949, 'vyrmtm': 7809, '2sysy': 583, 'ui': 7230, 't8m': 6496, 'ny0': 5477, 'yxc8my': 8892, 'yongnsyp': 8534, 'yxmhh': 8898, 'vyhmmrty': 7770, 'lchrm': 3931, 'yhmhvc': 8340, 'chvtyv': 1705, 'rypv': 6177, '11ytmmyv': 162, 'm1yl': 4241, '1tyu': 458, 'cvtyv': 1915, 'bmhyu': 1393, 'vmyg': 7508, 'utyg': 7307, 'myrm7': 5147, '7mty7': 926, '1mvm': 325, 'ctmnyy': 1798, 'hryhmbm': 3089, 'vvmmy': 7684, 'yucvsyv': 8798, 'ymbmhyl': 8449, 'vvmm': 7683, '3hym': 622, 'ytmtt': 8767, 'vnsysyp': 7550, 'chhmryv': 1650, 'yyyyx': 8997, 'yyyyo': 8988, 'qmryv': 5794, 'yum1m': 8818, 'mutyt': 4902, 'rm3': 5981, 'syt1': 6396, 'chvmryv': 1700, '1lh': 248, 'x_p': 7925, 'g9': 2132, '0jnj': 25, 'hrypm': 3109, 'myq7': 5135, 'hmttmty': 2615, 'hrchvy': 2995, 'hhmymbm': 2466, 'mhhmyh': 4407, 'syhm': 6315, 'hrth': 3038, '11ct': 68, 'h6t': 2254, 'hvmry3': 3375, 'h86c': 2279, 'htsyohv': 3245, 'uy7': 7330, '7tyu': 1032, 'hry9c': 3071, 'myhc7m': 5039, 'mm8yq': 4574, 'h7mhvnsysy': 2259, 'yqcmtt': 8598, 'myuct': 5207, 'syyy3': 6428, 'hqsyyy': 2854, 'syyyl': 6433, '1yrmh': 538, 'tmy3m': 6654, 'syyyt': 6435, 'syyyh': 6432, 'cqctvyi': 1758, 'q1mn3mt1m': 5699, 'chyl': 1713, 'my3m1h': 4952, 'rm1t': 5977, '8tny': 1202, 'ij5': 3692, 'iyv': 3761, 'oyv': 5598, '11mhy': 81, 'y7mmvyv': 8112, 'mmny': 4587, 'j05': 3771, 'yzyp': 9054, 'ni6': 5330, 'mkcmtvl': 4531, '8yx': 1240, 'hywm': 3640, 'bm6': 1372, 'xx': 7966, 'ctty': 1827, 'q0': 5695, 'v1n': 7351, 'y73': 8092, 'cr1': 1772, 'mymbmh': 5086, 'hmym1tmnyy': 2675, 'yjy': 8399, 'nh7cnmrcy': 5311, 'hmtyt': 2634, 'ti': 6564, 'la': 3917, 'cy8mm': 1965, 'ypg': 8556, 'syyyyyv': 6453, 'n4thnh': 5264, 'syyyyyt': 6452, 'ytcll': 8720, 'ctc': 1792, 'mhvyr': 4495, 'vcrm': 7375, '1ty1': 449, 'mtmyb': 4804, 'o9': 5540, 'wyl': 7908, '_g9q': 1284, 'htyc': 3268, 'mvvl': 4923, 'mtym': 4877, 'chvt': 1702, 'mtnh': 4817, 'mmyt': 4619, 'vmsvy': 7480, '1ylchhv': 516, 'vyrmth': 7808, 'u4mhvy': 7163, 'tnyyw': 6714, 'cqm': 1759, 'p60': 5609, 'rmm': 6014, 'hmsyl': 2597, 'yctmyt': 8242, 'mttm': 4830, '_cyr': 1281, 'vyhmmrtyv': 7771, 'jp': 3850, 'vvmr': 7685, 'jsysysy': 3860, 'rlr': 5971, 'nsyw': 5450, 'myhmmrtyv': 5054, 'yyyyh': 8983, 'qyl': 5895, 'hvtyt': 3403, 'yyyytv': 8993, '3tyr': 676, 'hygc': 3489, 'vtysy': 7629, 'pym': 5681, 'hryqc': 3113, 'hryctmyv': 3081, '7mn': 895, 'orml': 5574, 'gx': 2177, 'ge': 2143, '1c7hy': 213, 'gqo': 2167, 'gw': 2176, 'rw': 6145, 'rmryh': 6026, 'x0': 7916, 'zu': 9089, 'mhg': 4385, 'cvg': 1893, 'mh8g': 4374, 'yyyy5': 8977, 'tvrm': 6865, 'yyyydsy': 8980, '1mtnsy': 306, 'ytmhv': 8751, 'ev': 2070, 'tylchhv': 7002, 'qr': 5868, 'yyyyl': 8985, 'ju': 3864, 'yyyyu': 8994, 'ucl': 7212, '666ytmhv': 759, 'mytmhv': 5193, 'yq_wgo_': 8589, 'g_9': 2136, 'el': 2042, 'gz': 2189, 'ly7c1v': 4080, 'tvr': 6864, 'rx': 6146, 'yyyyyye': 9015, 'zm': 9080, 'my666': 4965, '8666ytmhv': 1109, 'yumytc': 8850, 'mttyl': 4847, '1mty7': 317, 'ttcmt': 6760, 'hx': 3429, 'hy1mhqv': 3435, 'wr': 7889, 'uytv': 7341, 'mh8yl': 4380, 'ytmvty': 8770, 'yiiy': 8372, 'vyctmy': 7753, 'jjyu': 3827, '11ctv': 69, 'pqoq': 5646, '8tsy': 1204, 'myhm3yh': 5047, 'u1myb': 7147, 'yyyyp': 8989, 'uw': 7326, 'ctym': 1850, 'v5': 7353, 'tmhmv': 6597, 'yyyyc': 8979, 'hh6': 2418, 'nmn': 5356, 'hryhc': 3087, 'htvyt': 3259, 'hlhtn': 2501, 'xny': 7944, 'hqyhc7um': 2918, 'sl': 6216, 'ty4ctv': 6944, 'vymb': 7779, 'hlmtt': 2505, '1mtnsysy': 307, 'c1ly': 1525, 'imry3': 3710, '1y7mr': 487, '6tvcvvq': 807, 'yumvyv': 8835, 'tvty1': 6879, 'muc': 4893, 'yht': 8356, 'na': 5277, 'ttnsy': 6781, 'tylm': 7003, 'ypcruc': 8553, 'vypm': 7791, 'ryvm': 6203, 'hum': 3297, 'vyqmvyv': 7800, 'mn1': 4624, 'h8hmvnh': 2284, 'thcttyv': 6543, 'hyumyt': 3626, 'chvyl': 1707, 'ol': 5555, 'vyctmty': 7752, 'hrysyv': 3125, 'bmhuvytmmhy': 1385, 'mysy1': 5160, 'yumv3mmhyv': 8833, 'imhty3': 3704, 'hcmy': 2386, 'ylm3yr': 8423, 'ttmryt': 6772, 'mpng': 4646, 'tb': 6522, '6b': 767, '7y1m': 1045, 'lhv': 3955, 'gy3': 2179, 'yom3tq': 8525, 'hnc7': 2715, '3lc1y1': 631, 'ntchnh': 5460, 'mhry3': 4451, 'h8mvyl': 2304, 'mby': 4359, '7myumh': 975, 'u4mhvt': 7161, 'hmhvt': 2550, 'tmryt': 6627, 'qmyp': 5832, 'htnysysy': 3237, '1ylm': 517, 'hmsysy': 2600, 'xpq': 7951, 'vvmhyl': 7680, 'tyeh': 6980, 'hnu7rnv': 2757, 'ucvmy': 7219, 'mym7m': 5083, 'm7y1': 4324, 'mytmm7tyv': 5194, 'rmhhmsy': 5992, 'qc7mhvy': 5715, 'pyr': 5685, 'jym': 3877, 'yucqy': 8793, 'nlh': 5350, 'hqytch': 2960, 'h1q': 2228, 'vlhmvh': 7406, '6mth': 783, 'lsyyyyyyyyyyyyyyyyyyyyyyyyyy': 4031, 'htymshm': 3276, 'vmrnyysysys': 7458, 'hncn3': 2721, 'qmry3': 5791, 'qpq': 5859, 'vy7mhv': 7730, 'c1rhuvy7': 1538, 'yjn': 8396, 'num11h': 5470, 'qhv': 5748, 'mthuvy7m': 4776, 'pyl': 5680, 'hq1myu': 2786, 'mytmhtmyv': 5192, 'syyyyy3': 6443, 'ytcu4mhvy': 8728, 'hymhh': 3525, 'chtychrm': 1694, 'mhvey': 4470, 'vy4ctvyr': 7721, 'ypy': 8579, 'pya': 5674, 'rhhnh': 5951, 'thuvyummhy': 6561, 'mrc1': 4664, 'nyy_hmy': 5507, '1ryp': 411, 'v7mhvyl': 7364, 'vyqmvty': 7797, 'hytc77': 3593, 'vyqc': 7795, 'mhhmtt': 4397, 'tmey': 6593, 'qm1nv': 5764, 'my4c': 4959, 'tytmvyc': 7064, 'sysysyg': 6377, 'ri': 5963, 'yg1m7t': 8284, '7myvm': 978, 'bmry7': 1408, 'hqwsy': 2883, 'nh4': 5310, 'yuu': 8859, '1rmhnh': 384, 'ymsh': 8485, '8b': 1110, 'ywp': 8885, '0i0': 12, 'hl1m1': 2490, 'hnysy': 2765, 'llny': 3969, 'omv': 5561, 'jiy': 3806, '0u': 54, 'yvm1m': 8869, 'h83': 2277, 'm3tyms': 4270, 'hyiniympn2sysy': 3506, 'jnsysy': 3845, 'hlb': 2494, 'lycmr': 4100, '3ry': 658, 'yhm3y7': 8331, 'myumhml': 5213, 'uctmy': 7215, 'c11yv': 1521, 'tmyth': 6673, 'bmyummhy1': 1490, 'np': 5398, 'yfv': 8281, 'qym': 5896, 'j6u': 3788, 'lyev': 4107, 'hsyi': 3172, '11y8mm': 131, 'myxmv': 5240, 'm3yf7': 4275, 'm3l7': 4253, '9nsy': 1255, 'tn3': 6682, '3l7': 629, 'nc8sy': 5283, '1ykc': 512, 'm3s': 4261, 'hte': 3212, 'yetv': 8270, '1msyv': 302, 'vv1myr': 7668, 'm11t': 4199, 'yyyyyyyi': 9021, 'inn': 3730, 'innj': 3733, '1ry_1h': 404, 'i0n': 3662, 'hvyc': 3412, 'i0j': 3661, 'nnj': 5379, 'mh8m': 4375, 'jnj': 3842, 'iii': 3684, 'syii': 6318, 'syi0': 6317, 'syin': 6320, 'qmc': 5770, 'hmu': 2637, 'njn': 5346, 'sy0i': 6251, 'vyph': 7790, 'sysyxc': 6387, 'nyyacvyv': 5512, 'mmrtv': 4596, 'myumtvy3': 5218, 'mmry7': 4601, 'jjyi': 3824, '7mviqm': 938, 'hynj6u': 3546, 'vych1': 7745, 'yypm': 8940, 'myeg1': 5022, 'hryvc': 3153, '7nc7rnmrc': 982, 'muy': 4904, 'hsytv': 3188, 'hq3': 2788, '5c': 723, '6nj': 785, '7ylv': 1070, 'sntl': 6239, 'ylmrm': 8429, 'yyy7': 8959, 'hyvm11y': 3634, '3yms': 699, 'yoqgy': 8538, 'thuvyh': 6556, 'tty3': 6789, 'tm1lyv': 6587, '1yfqv': 503, 'ylh': 8414, 'lt8': 4033, 'pyt': 5686, 'y7mq': 8117, 'hyp7': 3550, 'hy7m7': 3450, 'tym7': 7005, 'vnyya': 7560, 'rmtsy': 6035, 'hy7mtt': 3453, 'hmry7': 2585, '7mhvsy': 882, 'hmnhtnrcnmrc': 2568, 'm117': 4193, 'hmy8m': 2657, 'gg': 2145, 'yqg': 8604, 'mhty3': 4461, 'mryv3': 4711, 'tlh': 6572, 'cyumh': 2005, 'msym': 4728, 'lvy3': 4059, '9py': 1261, '8cnh': 1112, 'tysyh': 7045, '3yth': 704, 'hr1mry': 2985, '11yumyt': 178, 'rtyu': 6136, 'ycc1v': 8197, 'huvyms': 3319, 'qhsy': 5745, '1ytmhc': 547, '1nl': 368, 'vnyyx': 7568, '7mry3': 904, 'rhuvsy': 5953, 'hym7m': 3520, '3u': 680, 'hmtvm': 2623, 'rsyyyyy': 6113, 'y_g': 8153, 'ycm1u': 8213, '2m': 570, 'oe': 5549, 'zw': 9094, 'l0': 3899, 'wq': 7888, '2w': 585, 'oz': 5601, 'm0': 4190, '_i': 1288, '2j': 568, 'oj': 5554, 'syc2': 6278, 'o0': 5536, 'mz': 5248, 'wg': 7878, 'sycw': 6303, 'je': 3799, 'x9': 7923, 'fw': 2118, 'osyc': 5577, 'a2': 1320, 'e6': 2028, 'xa': 7927, 'ej': 2040, 'jg': 3801, '5f': 727, 'we': 7874, 'xj': 7935, 'lz': 4187, 'zz': 9098, 'sycl': 6293, 'on': 5562, 'xsyc': 7961, '_g': 1283, 'pw': 5663, 'ax': 1358, 'syc0': 6277, 'syce': 6286, '9syc': 1265, 'jo': 3849, 'tx': 6924, 'g2': 2125, 'nz': 5534, 'syc6': 6280, 'zx': 9095, 'e2': 2026, 'tz': 7101, 'j_': 3792, 'aj': 1339, '2p': 574, 'jx': 3868, 'cz': 2007, 'po': 5640, 'x2': 7917, 'co': 1750, 'esyc': 2061, 'pl': 5632, 'n5': 5265, '0z': 65, 'pe': 5621, 'm9': 4337, 'syc_': 6282, 'gsyc': 2171, 'zo': 9082, 'eq': 2057, 'isyc': 3744, 'z9': 9063, 'ou': 5579, 'ef': 2036, 'ua': 7191, 'z0': 9057, 'jq': 3851, '9j': 1247, 'uj': 7232, 'fg': 2099, 'af': 1336, 'syc9': 6281, 'xe': 7931, '9z': 1272, 'lx': 4067, 'jr': 3852, 'pf': 5624, 'z_': 9064, '_j': 1289, '5e': 726, '0w': 55, 'w6': 7868, 'sycn': 6295, 'ia': 3675, 'iw': 3752, 'io': 3739, 'sycm': 6294, 'sycg': 6288, 'zj': 9076, 'wj': 7880, '2o': 573, 'fj': 2103, 'ae': 1335, 'c9': 1628, '9w': 1269, 'xr': 7959, 'zq': 9084, 'lf': 3935, 'tf': 6532, '_m': 1292, 'mf': 4367, 'oc': 5544, '2u': 584, '2z': 589, 'au': 1356, 'fz': 2121, 'za': 9065, 'zg': 9072, 'e_': 2030, 'fpm': 2109, 'jsyc': 3856, 'fo': 2107, 'xz': 7975, 'p2': 5606, '2e': 565, '_n': 1293, 'u_': 7190, 'l2': 3903, 'sycr': 6299, 'syca': 6283, 'rj': 5964, 'of': 5550, '2g': 566, 'zr': 9085, 'cf': 1638, 'fsyc': 2113, 'wi': 7879, 'mx': 4936, 'zt': 9088, '9l': 1248, 'ff': 2098, 'jz': 3887, 'e9': 2029, 'u9': 7189, '2syc': 580, 'q9': 5706, 'syco': 6296, 'oi': 5553, '2l': 569, 'ie': 3678, 'z2': 9058, 'sycx': 6304, 'uz': 7345, 'sycy': 6305, 'gl': 2152, 'fn': 2106, '9e': 1244, 'jf': 3800, 'lj': 3958, '2i': 567, 'ux': 7327, 'wz': 7914, 'zn': 9081, '9u': 1268, 'jw': 3867, 'qz': 5909, '0e': 8, '2q': 575, 'psyc': 5651, 'ix': 3754, '0o': 42, '2yy': 588, '9g': 1245, 'cj': 1718, '5z': 754, '_w': 1307, 'rg': 5949, 'pr': 5648, 'ro': 6076, '9i': 1246, 'ize': 3768, 'j2': 3775, 'f9': 2093, 'rz': 6208, '0m': 29, 'mj': 4525, 'an': 1345, 'o2': 5537, 'm2': 4248, 'rp': 6077, 'wo': 7886, 'z5': 9059, 'uq': 7273, 'f_': 2094, 'cx': 1953, 'w5': 7866, 'ea': 2031, 'sycj': 6292, '2a': 564, 'csyc': 1782, '_z': 1316, 'm5': 4286, 'zi': 9073, '9c': 1243, 'uo': 7270, 'ao': 1348, 'r5': 5920, 'fe': 2097, '6e': 769, 'syci': 6291, 'if': 3679, '9t': 1267, 'uf': 7227, 'ca': 1630, 'tsyc': 6731, 'ez': 2087, 'a0': 1318, '_e': 1282, 'r0': 5911, 'fm': 2105, 'wt': 7897, 'zsyc': 9087, 'u5': 7165, '_q': 1301, '_l': 1290, 'aw': 1357, 'zf': 9070, 'az': 1362, 'sycu': 6302, 'n2': 5261, 'x5': 7920, 'q2': 5701, 'y2': 8016, 'nf': 5301, 'w9': 7869, 'usyc': 7285, 'u6': 7167, 'tp': 6717, '6syc': 800, 'to': 6716, 'w0': 7863, 't9': 6519, 'i_': 3674, 'qsyc': 5874, 'xu': 7964, 'tj': 6565, 'qi': 5755, 'xf': 7932, 'pwx': 5666, 'j9': 3791, 'ec': 2032, 'fc': 2096, 'syct': 6300, 'f2': 2090, 'gi': 2150, 'zl': 9079, 'w2': 7865, '_syc': 1303, 'g6': 2129, '5x': 750, 'pz': 5693, '9x': 1270, '5ct': 724, 'j_e': 3794, 'lo': 4009, 'n9': 5274, 'sycf': 6287, 'gf': 2144, 'ig': 3680, 'zc': 9066, 'rf': 5948, '0q': 44, 'r2': 5915, 'qe': 5728, 'f0': 2089, 'i9': 3673, 'or': 5573, 'sycp': 6297, '5o': 738, '_u': 1305, 'em': 2043, 'fx': 2119, 'l9': 3916, 'ce': 1637, 'oyr': 5597, 'jzn': 3888, 'lsyc': 4022, 'it': 3749, 'fu': 2117, 'wf': 7877, 'gr': 2169, 'ja': 3795, 'e5': 2027, 'ra': 5925, 'ozn': 5602, 'sycq': 6298, 'syc5': 6279, '5syc': 746, 'i2': 3666, '0f': 9, '2r': 576, 'p9': 5610, '0syc': 49, 'u05': 7105, 'fr': 2112, 'xnp': 7943, 'rsyc': 6105, 'sycz': 6306, '_t': 1304, 'asyc': 1353, '6f': 770, '56n': 721, 'ejx': 2041, 'exp': 2073, 'ai': 1338, 'ft': 2114, '5a': 722, 'n9n': 5275, 'mtmhvty': 4793, 'hygmhh': 3490, '0i6': 13, '7nmrcy': 985, 'my66y': 4966, 'hrymb': 3098, 'yhmht': 8338, 'qc7mhvyl': 5717, 'hmty1': 2626, 'qpp': 5857, 'oyq': 5596, 'ctu': 1828, '1ymhh': 521, 'mqh': 4653, 'qnyy': 5849, 'ygxy': 8302, 'h8tnyy': 2322, 'lyam': 4092, 'umym': 7259, 'hryxmbm1': 3157, 'vyhc7um': 7766, 'yxmbm1': 8897, 'ynn': 8508, 'cqyp': 1768, 'ct8': 1791, 'yyyyyyyyyyyyyyyyyyyyyyyyyyyyyy': 9046, 'ycmh': 8215, 'h8mlm11m': 2288, 'tvmr6w': 6847, '1n7': 362, 'vtvm': 7615, 'vmrsyv': 7461, 'rm7t': 5984, 'csy7': 1780, 'yut': 8857, 'mmrt': 4595, 'nyyv': 5526, '77mv': 836, 'mmryh': 4603, 'q3': 5702, 'hytm7': 3598, '17y': 185, 'c1ryumyumvvm': 1592, 'h8mryl': 2294, 'h8mr': 2290, 'llyt': 3980, 'ypmhc': 8565, 'tvm7yt': 6833, 'tymllmhv': 7013, 'htyum': 3285, 'bmrsy': 1405, 'cvmry': 1897, 'cvya': 1926, 'm7ncv': 4310, '1rs': 390, 'yhmvvm': 8352, '8mlu': 1134, 'inu': 3735, 'h1m7lh': 2197, 'mttnhhtcnmrcy': 4839, 'h1m7': 2196, 'ucycct': 7224, 'bm1yv': 1371, 'yy4': 8909, 'qmyact': 5823, 'h6_hhc': 2243, 'mryom3y': 4698, '8yyyyyyyyyyyyyyyyyyy': 1241, 'y6ym7': 8087, 'htnyyyytv': 3240, '1mrym': 294, 'qo_g': 5851, 'hryysy': 3159, 'm11mryv': 4196, 'mhvty3': 4483, 'mhy3m': 4503, 'vm6': 7412, '8l7': 1117, 'imry7': 3711, 'bmyrmh': 1471, 'mysym': 5165, 'mytc77m': 5178, 'hhm11': 2426, '1enyy': 238, 'yqhh': 8607, 'nc8y': 5284, 'vl7': 7404, 'htyp': 3277, 'qm7mhv': 5767, '6tm': 804, 'yqr7': 8631, 'mytmvy': 5196, 'y_oy': 8160, 'cqy3': 1766, '8mhyg': 1128, 'thuv': 6551, 'm1nsy': 4217, '7lr': 867, '1tyq': 455, 'tyg1': 6985, 'mh8mry': 4376, 'hrych': 3077, 'hmwy': 2649, 'mnqny': 4633, 'vsyyyy': 7593, 'yqcqmhmna': 8603, '3lmu': 632, 'mhvny': 4477, 'ctvyumh': 1839, 'hqym1tmy': 2930, 'syuc': 6402, '3tyt': 677, 'sqncuhnh': 6242, 'u11yvm11y': 7112, 'nhhncvms': 5315, 'tmnt': 6609, 'rqmlu7tnh': 6080, 'sy2': 6255, 'tm1lny': 6582, 'rs': 6102, 'mtmnyy': 4797, 'vry': 7571, 'bmyw': 1501, '7e': 856, 'tsyum': 6741, '1yrmt': 540, 'uyy': 7344, 'rnqmnh': 6066, 'sn8': 6231, '1rn': 385, 'hnhmvy': 2730, 'hyvmh': 3636, 'cu1myt': 1870, 'lhn': 3948, 'tvtny': 6875, '11mhvl': 79, 'yyacvyv': 8916, 'hqw': 2882, 'mmnsysy': 4586, 'hygy': 3492, '1tm': 437, 'yeb': 8257, 'rmhhmnyy': 5991, 'qnsy': 5845, 'mhhmtyl': 4401, 'nrquvnr': 5415, 'bmyum1': 1486, 'bmsy7': 1413, 'hmy_': 2659, 'hmlu': 2559, 'lyg1': 4109, 'y6yg': 8085, 'sysyyyyyyy': 6393, 'hrytmhc': 3135, 'ybmhr': 8189, 'mhrmhv': 4443, 'ly8m': 4086, 'hqy8m': 2899, 'ttyt': 6793, 'j6j': 3786, 'vyac': 7738, 'cury1': 1882, 'lchtcng': 3932, '1yvmh': 555, 'hme': 2539, 'hysy3': 3586, '3y7my': 688, 'mtmyqc': 4809, 'hnsysyo': 2751, 'yrc7': 8641, 'hqmr': 2807, 'tty7': 6790, 'jjyl': 3825, 'syyyyyyyyyy': 6461, 'c1ryumy1': 1581, 'yiisysysy': 8370, 'yqu': 8634, 'hvmhr': 3353, 'npnyq': 5402, 'hrmmryv': 3006, 'rsyl': 6107, 'my4ctvyv': 4964, 'hmhtmry': 2545, '7mychrm': 951, '1ntchnh': 375, '1chvmm': 217, 'mryrc': 4703, 'm3mryc': 4256, 'hqtsy_': 2863, '8nc8': 1190, 'ymvhnnn': 8498, '77mhrmry': 826, 'hhm1': 2425, '7mhvnyy': 881, 'bmymb': 1462, 'yombm': 8529, 'lygmhv': 4111, 'u7yl': 7181, 'mtc1vtyl': 4754, 'tvtm': 6872, 'vmytmhv': 7523, 'yumysy': 8848, 'ysysyp': 8693, 'rymbm': 6171, 'yinsyoo': 8384, 'vmtvybm': 7492, 'lyum1': 4173, 'mtctnyy': 4758, 'mlcv': 4548, 'nyacvyv': 5483, 'mysyu': 5168, 'syyyr': 6434, 'yumy8m': 8840, 'mvyl': 4930, 'yysyv': 8949, 'rutym': 6142, 'myp_': 5122, 'm4': 4280, 'mttmry3': 4834, 'bmhuvyv': 1387, '7my3m': 944, 'mhi': 4417, '7mymb': 960, 'c1ryum1': 1577, 'mbmyt': 4357, 'c1ryhm': 1558, 'yyacvy': 8915, '3mrsy': 639, 'yvmtv': 8876, 'y7ct': 8098, 'ubmytmmhyv': 7205, 'h8mryc': 2293, 'mtmytv': 4812, 'hutsy': 3298, '4l': 713, 'cht3': 1692, 'hyw1': 3639, 'qqmr': 5863, 'hytvc': 3605, 'hm7mhv': 2530, 'yxy': 8903, '0sy_': 48, 'hqylchhv': 2926, 'yhr': 8353, '3hmryu': 606, 'hrykcmtv': 3092, 'vnyysy': 7565, 'cqyv': 1770, 'ppq': 5642, 'htyumh': 3287, 'hrmht': 3002, 'vnmrcsypcu4mhv': 7537, 'rmhvyg1': 6006, 'mttypmh': 4848, 'xqo': 7954, 'y3m1h': 8025, 'hry3mu': 3058, 'nsysyyyyyy': 5448, 'hvq': 3389, 'tmy8': 6656, '7c1cty': 846, 'yypmh': 8941, 'y7mmv': 8110, 'vmyb': 7506, 'myrmq': 5153, 'yctmtyv': 8238, 'hqmtv': 2812, '3hnyy': 611, 'mthuv': 4770, 'h6b': 2245, 'yumyctmry': 8843, 'mytc77': 5177, 'imryl': 3713, 'rm1m': 5976, '1myum1': 356, 'mmytv': 4620, 'ymsmhcv': 8488, 'nqtlhnh': 5407, '7msyp': 913, 'lvsy': 4056, 'ypmu': 8568, 'hrymllmhv': 3103, 'ymhryc': 8465, 'msyms': 4729, 'hmhvsy': 2549, 't8nh': 6503, 't8yh': 6514, '7yrm': 1084, 'llmhvyv': 3967, 'thctty': 6542, '1ygmhvm': 505, '1syr': 427, 'yummhy3': 8825, '5l': 733, 'utytv': 7316, 'hmhv1': 2548, 'ymhl': 8460, 'bmyrm': 1470, 'vvn': 7690, 'hyvm11': 3633, 'tvy3mm8': 6892, 'oqnc': 5571, 'oqnqx': 5572, 'tmryr': 6626, 'l1m1': 3902, 'hrntv': 3018, '36c': 596, 'bmyuc': 1484, 'vtm': 7600, 'mvnsysy': 4915, '7sy3': 998, 'xyh': 7970, 'lyysy': 4185, 'mypmu': 5131, 'ctmysy': 1815, 'tvyi': 6902, 't7q': 6487, 'h1myi': 2222, 'yqmv': 8614, 'mymbmhvy': 5087, 'ynt': 8515, 'hmyph': 2684, 'hsyth': 3187, 'syyyyyyyyyyyyyy': 6464, 'mng_cy': 4628, 'm31mvvym': 4251, 'lhc': 3939, 'myhm3m': 5042, 'h4mhv': 2234, 'mllyc': 4553, 'ttyu': 6795, 'mk': 4526, 'thnh': 6547, 'sm1ty': 6222, 'c1ryhmmryv': 1560, 'hmyiy': 2671, 'rtnsy': 6120, 'syyyg': 6431, 'pvmbmhyam11': 5659, 'dp': 2020, 'syyyyyp': 6450, 'hqypc': 2942, 'hnctrnmrcy': 2724, 'zjc': 9078, 'anq': 1346, 'd2': 2009, 'syczix': 6307, '25z': 562, '22ui': 560, 'wret': 7891, 'emp': 2047, 'oxc': 5584, 'tfix': 6533, 'xno': 7942, 'anw': 1347, 'od': 5545, 'zix': 9074, 'tzix': 7102, 'xod': 7946, 'zui': 9090, 'x25': 7918, '2syc5': 581, 'wj6': 7881, 'oxox': 5585, 'c2ui': 1608, '9ox': 1258, 'sycanw': 6284, 'x25z': 7919, 'tfz': 6534, 'pjt': 5631, 'xodm': 7947, 'odm': 5546, 'xoxc': 7948, 'dm': 2016, 'odmn': 5548, 'dm6': 2017, 'jcwt': 3798, 'etz': 2068, 'wemp': 7875, 'dmn': 2019, 'f5': 2091, 'em5': 2044, 'xd': 7930, 'gzu': 2190, 'pet': 5622, 'fiw': 2101, 'odm6': 5547, '22u': 559, '9oxo': 1259, 'fiwe': 2102, 'qemp': 5729, 'zusyc': 9092, 'pett': 5623, '5cx': 725, '6oj': 788, 'jcw': 3797, 'etoet': 2065, 'loqi': 4011, 'ett': 2067, 'om2': 5558, 'loqi22': 4012, 'wre': 7890, 'apj': 1351, '5om': 739, 'zremp': 9086, '_cx': 1279, 'loq': 4010, 'c2u': 1607, 'ftt': 2115, 'emcw': 2045, 'uet': 7226, 'nmp': 5359, 'iwe': 3753, 'xoxoxo': 7949, 'zui2g': 9091, 'pue': 5656, '6o0': 787, 'fttzn': 2116, 'ui2g': 7231, 'mmtyv': 4609, 'sh1': 6214, 'lsyl': 4025, '3ty1': 670, 'yyj': 8926, 'tmtnsysy': 6637, 'tnsysysy': 6701, 'sm1': 6220, 'qmykc': 5828, 'tytmhv': 7061, 'ctyw': 1859, 'njjy': 5345, 't8tnyy': 6508, 't5q': 6480, 'rnyyo': 6074, '7ntv': 989, 'vyumyr': 7849, 'chy3': 1710, 'vmyhc7um': 7510, 't5h': 6479, 'kcmty': 3893, 'hqmtyl': 2814, '8mty7': 1153, 'hqmtyv': 2815, '1cr': 228, 'c0': 1516, 'zz2': 9099, 'eyp': 2081, 'qyq': 5900, 'f66': 2092, '0c': 7, 't_': 6520, '_np': 1294, 'xxp': 7967, 'u2': 7159, '0r': 45, 'etn': 2064, 'ext': 2074, 'a5': 1321, '_op': 1296, '2_r': 563, 'etsyc': 2066, 'p_p': 5614, 'c2': 1606, 'gyu': 2184, 'utp': 7295, 'yey': 8275, 'eo9': 2054, 'yi6': 8366, 'j5syc': 3781, 'a5g': 1322, 'ao9': 1349, '2ng': 572, 'iiz': 3689, 'ooq': 5564, 'zj6': 9077, 'oyo': 5594, '56e': 720, 'ziz': 9075, 'n6u': 5268, 'lhhcnc7': 3942, 'llyq': 3979, 'hlq': 2508, 'tmhc': 6595, 'hrum': 3050, 'syyyyyyyyyyyyyyyyyyyyyyyyyyy': 6469, 'tvm7yr': 6832, 'tymth': 7016, 'hc7h': 2376, 'hmy3m': 2653, 'hrypvm': 3111, 'yiiyx': 8373, 'm4mhvy': 4284, 'ryl1': 6168, 'yyyyt': 8992, 'yt3m': 8713, 'vmy8m': 7505, 'lyhm3y': 4116, 'a_p': 1328, 'yg_o': 8288, 'huvyuc': 3332, 'hmtyx': 2636, 'jjyr': 3826, 'hsyo': 3176, 'c1vyl': 1601, 'hml77': 2555, '1vnqc': 470, 'hmy9c1': 2658, 'chvsy': 1701, 't7n': 6483, '77u': 841, 'l7mq': 3912, 'rtv': 6127, 'mmhyv': 4585, 'uul': 7320, 'y4mkl1': 8066, 'vych': 7744, 'qhctcqn7': 5734, 'nyyacvy': 5511, 't7y3': 6492, 'rmyb': 6046, 'yrmht': 8654, 'h8y3my': 2342, 'u1m7tsy': 7122, 'hryumvvm': 3149, 'vtyms': 7625, 't7ty': 6490, 'imryh': 3712, 'tnhhtcnmrcy': 6689, 'ycmv': 8219, 'um11': 7240, 'bmn3': 1397, '4c': 711, 'bmtr': 1423, 'hrysyh': 3124, 'hqnyyw': 2833, 'm6v': 4296, 'vsyx': 7590, 'utyb': 7304, 'myqq': 5142, 'tychrml': 6971, 'hrtyc': 3045, 'lht': 3949, 'om1t': 5557, 'ryqc': 6180, 'yitvy': 8389, 'hnrm7': 2744, 'xyy': 7974, 'yxmt': 8899, 'nhhnh': 5316, 'hlrtq': 2511, 'nrtmnumh87': 5416, 'hmtm': 2604, 'ctvyt': 1838, 'ypny': 8570, 'mtu': 4851, 'tyysy': 7098, 'symt': 6330, '18ml8m1b': 188, 'yyggy': 8922, '7yom3y': 1076, 'ggggg': 2147, '5yyyyyyy': 753, 'rqmvty': 6086, '77my': 837, '82y': 1108, 'rhuvy1': 5955, 'slh': 6217, 'mttmryu': 4835, '7ytm': 1089, '1mq': 289, 'h8mvy3': 2303, 'ic7rm': 3677, 'unthht': 7267, '1yumh': 552, 'cin7': 1717, 'mmq': 4590, '1mty1': 315, 'yt1hijn': 8710, 'nnns': 5383, 'ctsyp': 1824, 'nhun': 5327, 'nyyyy': 5530, 'sytm': 6399, 'yumyb': 8841, 'nuhnh': 5468, 'hqyt3': 2958, 'hmnyyp': 2574, 'hqym1tmyv': 2931, '4mtv': 718, '8m6': 1125, 'hvml': 3366, 'ryi': 6165, 'mh3': 4372, '6ucllm': 809, 'hyiy': 3507, 'mkcmtvtyv': 4532, 'yyyyyyyyyyyyyyyyyyyyyyyyyyyyyyy': 9047, 'hqychv': 2908, 'htsy3': 3242, 'tmc': 6591, 'hnyya': 2768, 'r4mhv': 5919, 'hyxm': 3643, '7lv': 869, 'mtmctnchsnt': 4787, 'lb7tn': 3919, 'hycmr': 3477, 'v7mhvty': 7362, 'bl7': 1366, 'amh': 1342, '8myx': 1188, 'miu': 4524, 'hypmu': 3558, 'hmtmyvm': 2607, 'tvtnsysy': 6874, 'ry9m': 6154, 'hm63': 2526, 'ysyyyy': 8704, 'vyg_o': 7760, 'syyyyyyyyyyyyyyyg': 6465, 'hrsyyyyyyyyyyyyyyyh': 3036, 'lyg_o': 4110, 'hqysy3': 2953, 'tlm': 6574, 'chtyv': 1695, '1vyu': 476, '11yumyu': 179, 'hvmmryv': 3367, 'mtmhvmryv': 4792, 'hvmhrtyv': 3357, 'ed': 2033, '1myth': 352, 'lmn': 3991, 'tlg': 6571, '0n_': 33, 'yxg': 8893, 'hypc7q': 3552, 'h7mhvyl': 2269, 'cvysyv': 1942, 'yvm1mb': 8870, '3ychrm': 691, 'chhmy': 1651, 'myrmtv': 5157, 'hmty3m': 2628, 'h8ty3m': 2328, 'hyrurlc': 3584, 'qyyy': 5908, 'y3myms': 8041, 'hsypnxnmn': 3179, 'nyyyyyyyyyyyyyyyyyy': 5533, '1np': 369, 'my7mmv': 4979, 'ty3m11ny': 6937, 'hh1crmyt': 2415, 'rsyyyyyy': 6114, 'hyvmsvy': 3637, 'mymm': 5101, 'hrmhtm': 3003, 'qmyg': 5825, 'tytvcr': 7069, '1sy7': 422, 'hm8mhlcs': 2533, 'hm8mhr': 2534, 'cyctmyv': 1970, 'hytmm': 3601, 'uyx': 7343, 'ggy': 2148, 'vyt3': 7818, 'syyfi': 6419, '06i': 3, 'nmhq': 5355, 'bmysyv': 1473, 'y3htl': 8019, '11ypvm3': 153, 'rqmty': 6082, 'ctmyg': 1811, 'orw': 5575, 'dx': 2022, 'j5g': 3777, 'edl': 2034, 'g5p': 2127, 'dl': 2015, 'wd': 7873, 'zfwr': 9071, '6pf': 793, 'gd': 2142, 'j_9': 3793, '6gn': 772, 'dj': 2014, 'nol': 5396, 'qd': 5727, 'dz': 2023, 'rnu': 6071, '25j': 561, 'lzr': 4188, 'lly7': 3976, 'h7mhvyb': 2267, 'l8m': 3915, 'vyctmryv': 7751, 'tmsyh': 6634, 'hm6v': 2528, 'vtyvm': 7634, 'htyx': 3292, 'mqc': 4650, 'mry9': 4689, 'yyyyn': 8987, 'yyyj': 8966, 'tvyiyyyj': 6903, 'njyyyyy': 5348, 'pypq': 5683, 'gpg': 2162, 'thc': 6539, 'cuh': 1876, 't8mr': 6497, 'c1vy3m': 1600, '1mp': 288, 'hqsy1': 2839, 'yisy': 8388, 'hmttnsysy': 2616, 'ypvmbmy': 8577, 'ysyo': 8687, 'ttg_': 6766, 'rsyyy': 6111, 'ylmm1y': 8427, 'pyw': 5690, 'rsyyyyyyi': 6115, 'qmb': 5769, 'chqtv': 1662, 'yxg6': 8894, 'rqmvg1': 6084, 'mhtyl': 4462, 'ty3myh': 6941, 'ya_p6': 8169, '7g': 858, 'vc11': 7370, 'yctmryu': 8234, 'hmmrtyl': 2563, 'hnyyw': 2777, 'mtm1': 4786, 'hch': 2382, '1lq': 252, 'cunhhnc8': 1879, 'qnt': 5847, 'huc': 3295, 'nwgn': 5473, 'mum': 4894, 'hrnh': 3012, 'vychh': 7746, 'hy66yv': 3444, 'lvyl': 4062, '5nmh': 737, 'y8m7': 8136, 'oyy': 5600, 'htsyx': 3249, 'thm11': 6545, 'lnh': 4006, 'qth': 5877, '1i': 245, 'vsyyy': 7592, '8ya': 1223, 'tmnh': 6606, 'tmycmr': 6659, 'yyyyyyyyei': 9025, 'syyyyy7': 6444, 'paoyj6': 5616, 'thnl': 6548, 'syd': 6308, 'h1myg': 2220, 'vi7lh': 7398, 'ncv': 5294, '81m': 1107, 'njjsy': 5343, 'lytmhc': 4166, 'yqcmtty3': 8600, 'gyyy': 2187, 'yrm1v': 8648, 'm1vt': 4234, 'hqyl1c': 2925, 'syyyyyr': 6451, 'ycmvm': 8220, 'yoy': 8539, '3hnh7': 607, 'tmhry': 6599, '38ty': 598, '8g': 1113, 'hgp': 2403, 'x7': 7922, 'qxc': 5885, 'qgp': 5731, 'hrsyyy': 3034, 'nyyyyyy': 5532, 'c18y': 1523, 'qhmryu': 5740, 'mlm1r': 4555, 'vmn7': 7439, 'qhmt': 5742, 'tvymllmhv': 6908, 'gv': 2175, 'yyyyycpnyc': 9001, 'rmhvyt': 6008, 'yyxmmyxmm': 8956, 'qlrhvn': 5760, 'qoq': 5853, 'h8num': 2312, 'myom': 5115, 'qhy_ll': 5751, 'mmhm': 4577, '666sy': 758, '31mt1': 594, '77nh': 839, 'u51': 7166, '7cn': 853, 'o_m_': 5542, 'yyyyyc': 9000, 'yyjn': 8927, 'uut': 7323, 'myumr': 5216, 'yl1ms': 8405, 'yyjn0': 8928, 'jyyjn': 3885, 'jjyyjn': 3829, 'iyyjn': 3763, 'yyjnn': 8930, 'nyyjn': 5516, 'yyjni': 8929, '6vm': 811, 'mcvm': 4364, '1m7mhvmry': 260, 'cvvm': 1919, 'hsyyyyyv': 3198, '1mtyg': 318, 'y_hc': 8155, 'syyy6y': 6429, 'syz': 6471, 'syyy7': 6430, 'hsyyyv': 3195, '60yh': 757, 'z6z': 9062, 'vpmv': 7569, 'qtxh2': 5878, 'mhhmyc': 4406, 'emoq': 2046, 'nsysyyyyyyyyy': 5449, 'syy9m': 6417, 'ryyyyxmth': 6207, 'slnhhnh': 6218, '6w6': 813, 'zd': 9068, 'yyiyy': 8925, 'yjnn': 8397, 'yy0yy': 8906, 'yjnnn': 8398, 'hq5qm': 2790, 'vtypv': 7626, 'tyd': 6978, 'rm1g': 5975, 'p9n': 5611, 'np9': 5399, 'ng9': 5303, 'i56': 3668, 'zuz': 9093, 'j6x': 3789, 'g6n': 2130, 'gn5': 2156, 'gpgj': 2163, 'j5ggn5': 3778, 'j5sycg': 3782, 'g6ng': 2131, 'j5gj': 3780, '55p': 719, 'g5pg': 2128, 'nag': 5278, '_6n': 1274, 'ncg': 5287, 'gn5g': 2157, 'gpsyc': 2165, 'g9n': 2133, 'fpt': 2110, '5g0': 729, '5n5': 736, 'z5e': 9060, '5ot': 740, '6pi': 794, 'j5ggn5g': 3779, 'rsyyyyyyy': 6116, 'zyvryysyyyyyyyyy': 9097, 'wjc': 7882, '7cm1tt': 852, 'syyyyyyyyp': 6459, 'cu1myp': 1869, 'epowwjddld': 2056, 'dmj': 2018, 'dedw2j': 2013, 'dedeoj': 2012, 'dedeej': 2011, '6j0mee': 779}\n"
     ]
    }
   ],
   "source": [
    "print(word_vec.vocabulary_)\n"
   ]
  },
  {
   "cell_type": "code",
   "execution_count": 18,
   "id": "central-annex",
   "metadata": {},
   "outputs": [],
   "source": [
    "X2=char_vec.fit_transform(Ciph)"
   ]
  },
  {
   "cell_type": "code",
   "execution_count": 19,
   "id": "damaged-hardwood",
   "metadata": {},
   "outputs": [
    {
     "name": "stdout",
     "output_type": "stream",
     "text": [
      "['\\x02', '\\x03', '\\x06', '\\x08', '\\t', '\\n', '\\x10', '\\x18', '\\x1a', '\\x1b', '\\x1c', '\\x1e', ' ', '!', '\"', '#', '$', '%', '&', '(', ')', '*', '+', ',', '-', '.', '/', '0', '1', '2', '3', '4', '5', '6', '7', '8', '9', ':', ';', '<', '=', '>', '?', '@', '[', '\\\\', ']', '^', '_', '`', 'a', 'b', 'c', 'd', 'e', 'f', 'g', 'h', 'i', 'j', 'k', 'l', 'm', 'n', 'o', 'p', 'q', 'r', 's', 't', 'u', 'v', 'w', 'x', 'y', 'z', '{', '|', '}', '~', '\\x7f']\n"
     ]
    }
   ],
   "source": [
    "print(char_vec.get_feature_names())"
   ]
  },
  {
   "cell_type": "code",
   "execution_count": 20,
   "id": "flush-bandwidth",
   "metadata": {},
   "outputs": [
    {
     "name": "stdout",
     "output_type": "stream",
     "text": [
      "{'w': 72, ')': 20, '(': 19, '7': 34, '\\x1a': 8, 'y': 74, 't': 69, 'h': 57, '8': 35, ';': 38, 'v': 71, '\\n': 5, 'l': 61, 'c': 52, 'n': 63, '%': 17, 'm': 62, 'p': 65, 'g': 56, '_': 48, '^': 47, 'b': 51, '9': 36, '6': 33, ':': 37, 'o': 64, '/': 26, 's': 68, 'u': 70, '4': 31, '}': 78, '\\x03': 1, '\\x1e': 11, 'r': 67, '1': 28, 'q': 66, ']': 46, '3': 30, '|': 77, 'i': 58, '0': 27, '+': 22, 'x': 73, '\\x1b': 9, 'f': 55, 'k': 60, '=': 40, 'e': 54, '\"': 14, '-': 24, '@': 43, '\\x1c': 10, '`': 49, 'j': 59, '&': 18, ' ': 12, '?': 42, '\\x02': 0, ',': 23, 'a': 50, '\\x10': 6, '\\t': 4, '2': 29, 'z': 75, '\\\\': 45, '5': 32, '<': 39, '[': 44, '*': 21, '>': 41, '#': 15, '~': 79, '.': 25, '{': 76, '\\x7f': 80, 'd': 53, '!': 13, '\\x18': 7, '\\x06': 2, '\\x08': 3, '$': 16}\n"
     ]
    }
   ],
   "source": [
    "print(char_vec.vocabulary_)"
   ]
  },
  {
   "cell_type": "markdown",
   "id": "amateur-hughes",
   "metadata": {},
   "source": [
    "### Stacking the TF-IDF word and char level features."
   ]
  },
  {
   "cell_type": "code",
   "execution_count": 21,
   "id": "regional-customer",
   "metadata": {},
   "outputs": [],
   "source": [
    "from scipy.sparse import hstack, csr_matrix #need this if you want to save tfidf_matrix"
   ]
  },
  {
   "cell_type": "code",
   "execution_count": 22,
   "id": "statutory-anchor",
   "metadata": {},
   "outputs": [],
   "source": [
    "X = hstack([X1,X2])\n",
    "y=train.target"
   ]
  },
  {
   "cell_type": "code",
   "execution_count": 23,
   "id": "considerable-composite",
   "metadata": {},
   "outputs": [
    {
     "data": {
      "text/plain": [
       "(5631, 9181)"
      ]
     },
     "execution_count": 23,
     "metadata": {},
     "output_type": "execute_result"
    }
   ],
   "source": [
    "X.shape"
   ]
  },
  {
   "cell_type": "code",
   "execution_count": 24,
   "id": "serial-collective",
   "metadata": {},
   "outputs": [
    {
     "data": {
      "text/plain": [
       "((5631, 9181), (5631,))"
      ]
     },
     "execution_count": 24,
     "metadata": {},
     "output_type": "execute_result"
    }
   ],
   "source": [
    "X.shape,y.shape"
   ]
  },
  {
   "cell_type": "markdown",
   "id": "promising-tongue",
   "metadata": {},
   "source": [
    "### Train-Test Split"
   ]
  },
  {
   "cell_type": "code",
   "execution_count": 25,
   "id": "surrounded-slope",
   "metadata": {},
   "outputs": [],
   "source": [
    "from sklearn.model_selection import train_test_split\n",
    "X_train, X_test, y_train, y_test = train_test_split(X, y, test_size=0.2)"
   ]
  },
  {
   "cell_type": "markdown",
   "id": "studied-status",
   "metadata": {},
   "source": [
    "### Logistic Regression..\n",
    "\n"
   ]
  },
  {
   "cell_type": "code",
   "execution_count": 26,
   "id": "pleased-spouse",
   "metadata": {},
   "outputs": [],
   "source": [
    "from sklearn.linear_model import LogisticRegression"
   ]
  },
  {
   "cell_type": "code",
   "execution_count": 27,
   "id": "presidential-alignment",
   "metadata": {},
   "outputs": [],
   "source": [
    "lr=LogisticRegression()"
   ]
  },
  {
   "cell_type": "code",
   "execution_count": 28,
   "id": "advance-region",
   "metadata": {},
   "outputs": [
    {
     "data": {
      "text/plain": [
       "LogisticRegression(C=1.0, class_weight=None, dual=False, fit_intercept=True,\n",
       "                   intercept_scaling=1, l1_ratio=None, max_iter=100,\n",
       "                   multi_class='auto', n_jobs=None, penalty='l2',\n",
       "                   random_state=None, solver='lbfgs', tol=0.0001, verbose=0,\n",
       "                   warm_start=False)"
      ]
     },
     "execution_count": 28,
     "metadata": {},
     "output_type": "execute_result"
    }
   ],
   "source": [
    "lr= LogisticRegression()\n",
    "                   \n",
    "lr.fit(X,y)"
   ]
  },
  {
   "cell_type": "code",
   "execution_count": 29,
   "id": "white-leonard",
   "metadata": {},
   "outputs": [],
   "source": [
    "lr_pred=lr.predict(X_test)"
   ]
  },
  {
   "cell_type": "code",
   "execution_count": 30,
   "id": "taken-generator",
   "metadata": {
    "scrolled": true
   },
   "outputs": [
    {
     "name": "stdout",
     "output_type": "stream",
     "text": [
      "              precision    recall  f1-score   support\n",
      "\n",
      "           0       0.95      0.95      0.95        55\n",
      "           1       0.82      0.87      0.85        54\n",
      "           2       0.98      0.91      0.95        68\n",
      "           3       0.93      0.96      0.95        57\n",
      "           4       0.97      1.00      0.98        57\n",
      "           5       0.90      0.98      0.94        57\n",
      "           6       0.88      0.92      0.90        49\n",
      "           7       0.94      0.94      0.94        66\n",
      "           8       0.92      0.95      0.94        62\n",
      "           9       0.97      0.98      0.97        59\n",
      "          10       0.97      1.00      0.98        59\n",
      "          11       0.95      0.92      0.93        62\n",
      "          12       0.93      0.89      0.91        57\n",
      "          13       0.97      0.98      0.97        58\n",
      "          14       0.92      0.94      0.93        47\n",
      "          15       0.92      1.00      0.96        65\n",
      "          16       0.89      0.96      0.93        52\n",
      "          17       1.00      0.93      0.96        58\n",
      "          18       0.98      0.85      0.91        48\n",
      "          19       1.00      0.68      0.81        37\n",
      "\n",
      "    accuracy                           0.94      1127\n",
      "   macro avg       0.94      0.93      0.93      1127\n",
      "weighted avg       0.94      0.94      0.94      1127\n",
      "\n"
     ]
    }
   ],
   "source": [
    "print(classification_report(y_test,lr_pred)) "
   ]
  },
  {
   "cell_type": "code",
   "execution_count": 31,
   "id": "economic-operation",
   "metadata": {},
   "outputs": [
    {
     "data": {
      "text/plain": [
       "0.933617170253205"
      ]
     },
     "execution_count": 31,
     "metadata": {},
     "output_type": "execute_result"
    }
   ],
   "source": [
    "from sklearn.metrics import cohen_kappa_score\n",
    "cohen_kappa_score(y_test,lr_pred)"
   ]
  },
  {
   "cell_type": "markdown",
   "id": "tamil-hungary",
   "metadata": {},
   "source": [
    "### HyperParameter Optinization of Logistic regression using GridsearchCV"
   ]
  },
  {
   "cell_type": "code",
   "execution_count": 32,
   "id": "secret-commodity",
   "metadata": {},
   "outputs": [
    {
     "name": "stdout",
     "output_type": "stream",
     "text": [
      "Wall time: 5min 34s\n"
     ]
    }
   ],
   "source": [
    "%%time\n",
    "lr = LogisticRegression()\n",
    "solvers = ['newton-cg', 'lbfgs', 'sag'] \n",
    "penalty = ['l2']  #he ‘newton-cg’, ‘sag’ and ‘lbfgs’ solvers support only l2 penalties\n",
    "c_values = [ 10, 1.0, 0.1, 0.01] \n",
    "# define grid search\n",
    "grid = dict(solver=solvers,penalty=penalty,C=c_values)\n",
    "grid_search = GridSearchCV(estimator=lr, param_grid=grid, n_jobs=-1, cv=5, scoring='accuracy',error_score=0)\n",
    "grid_result = grid_search.fit(X, y)"
   ]
  },
  {
   "cell_type": "code",
   "execution_count": 33,
   "id": "widespread-interim",
   "metadata": {},
   "outputs": [
    {
     "name": "stdout",
     "output_type": "stream",
     "text": [
      "Grid_accuracy: 0.756704 using {'C': 10, 'penalty': 'l2', 'solver': 'newton-cg'}\n"
     ]
    }
   ],
   "source": [
    "# summarize results\n",
    "print(\"Grid_accuracy: %f using %s\" % (grid_result.best_score_, grid_result.best_params_))"
   ]
  },
  {
   "cell_type": "code",
   "execution_count": 34,
   "id": "handy-advice",
   "metadata": {},
   "outputs": [
    {
     "data": {
      "text/plain": [
       "LogisticRegression(C=10, class_weight=None, dual=False, fit_intercept=True,\n",
       "                   intercept_scaling=1, l1_ratio=None, max_iter=100,\n",
       "                   multi_class='auto', n_jobs=None, penalty='l2',\n",
       "                   random_state=None, solver='newton-cg', tol=0.0001, verbose=0,\n",
       "                   warm_start=False)"
      ]
     },
     "execution_count": 34,
     "metadata": {},
     "output_type": "execute_result"
    }
   ],
   "source": [
    "# finding best estimator..#\n",
    "grid_result.best_estimator_"
   ]
  },
  {
   "cell_type": "code",
   "execution_count": 35,
   "id": "careful-outdoors",
   "metadata": {},
   "outputs": [
    {
     "data": {
      "text/plain": [
       "LogisticRegression(C=10, class_weight=None, dual=False, fit_intercept=True,\n",
       "                   intercept_scaling=1, l1_ratio=None, max_iter=100,\n",
       "                   multi_class='auto', n_jobs=None, penalty='l2',\n",
       "                   random_state=None, solver='newton-cg', tol=0.0001, verbose=0,\n",
       "                   warm_start=False)"
      ]
     },
     "execution_count": 35,
     "metadata": {},
     "output_type": "execute_result"
    }
   ],
   "source": [
    "lr= LogisticRegression(C=10, class_weight=None, dual=False, fit_intercept=True,\n",
    "                   intercept_scaling=1, l1_ratio=None, max_iter=100,\n",
    "                   multi_class='auto', n_jobs=None, penalty='l2',\n",
    "                   random_state=None, solver='newton-cg', tol=0.0001, verbose=0,\n",
    "                   warm_start=False)\n",
    "                   \n",
    "lr.fit(X,y)\n"
   ]
  },
  {
   "cell_type": "code",
   "execution_count": 36,
   "id": "square-judges",
   "metadata": {},
   "outputs": [],
   "source": [
    "lr_pred=lr.predict(X_test)"
   ]
  },
  {
   "cell_type": "code",
   "execution_count": 37,
   "id": "marine-istanbul",
   "metadata": {},
   "outputs": [
    {
     "name": "stdout",
     "output_type": "stream",
     "text": [
      "              precision    recall  f1-score   support\n",
      "\n",
      "           0       1.00      1.00      1.00        55\n",
      "           1       1.00      1.00      1.00        54\n",
      "           2       1.00      1.00      1.00        68\n",
      "           3       1.00      1.00      1.00        57\n",
      "           4       1.00      1.00      1.00        57\n",
      "           5       1.00      1.00      1.00        57\n",
      "           6       1.00      0.98      0.99        49\n",
      "           7       1.00      1.00      1.00        66\n",
      "           8       1.00      1.00      1.00        62\n",
      "           9       1.00      1.00      1.00        59\n",
      "          10       1.00      1.00      1.00        59\n",
      "          11       0.98      1.00      0.99        62\n",
      "          12       0.98      1.00      0.99        57\n",
      "          13       1.00      1.00      1.00        58\n",
      "          14       1.00      1.00      1.00        47\n",
      "          15       1.00      1.00      1.00        65\n",
      "          16       1.00      0.98      0.99        52\n",
      "          17       1.00      1.00      1.00        58\n",
      "          18       1.00      1.00      1.00        48\n",
      "          19       1.00      1.00      1.00        37\n",
      "\n",
      "    accuracy                           1.00      1127\n",
      "   macro avg       1.00      1.00      1.00      1127\n",
      "weighted avg       1.00      1.00      1.00      1127\n",
      "\n"
     ]
    }
   ],
   "source": [
    "print(classification_report(y_test,lr_pred)) "
   ]
  },
  {
   "cell_type": "markdown",
   "id": "usual-section",
   "metadata": {},
   "source": [
    "So we can see, by changing few parameters like 'C', 'solver' model performence improve drastically."
   ]
  },
  {
   "cell_type": "code",
   "execution_count": 35,
   "id": "bridal-favorite",
   "metadata": {},
   "outputs": [
    {
     "data": {
      "text/plain": [
       "0.9990646907047518"
      ]
     },
     "execution_count": 35,
     "metadata": {},
     "output_type": "execute_result"
    }
   ],
   "source": [
    "from sklearn.metrics import cohen_kappa_score\n",
    "cohen_kappa_score(y_test,lr_pred)"
   ]
  },
  {
   "cell_type": "markdown",
   "id": "acquired-andrew",
   "metadata": {},
   "source": [
    "In kappa Scale 0.81–1.00 considered as almost perfect agreement,\n",
    "our model score is 0.99906."
   ]
  },
  {
   "cell_type": "markdown",
   "id": "subject-routine",
   "metadata": {},
   "source": [
    "### Applying the test data on Logistic Regression. As it provides the best Classification result"
   ]
  },
  {
   "cell_type": "code",
   "execution_count": 38,
   "id": "subtle-monitoring",
   "metadata": {},
   "outputs": [],
   "source": [
    "X3= test.ciphertext ## taking ciphertext from test data"
   ]
  },
  {
   "cell_type": "code",
   "execution_count": 39,
   "id": "adult-sperm",
   "metadata": {},
   "outputs": [],
   "source": [
    "X31=word_vec.transform(X3)"
   ]
  },
  {
   "cell_type": "code",
   "execution_count": 40,
   "id": "historic-equity",
   "metadata": {},
   "outputs": [],
   "source": [
    "X32=char_vec.transform(X3)"
   ]
  },
  {
   "cell_type": "code",
   "execution_count": 42,
   "id": "fundamental-relations",
   "metadata": {},
   "outputs": [],
   "source": [
    "X33 = hstack([X31,X32])"
   ]
  },
  {
   "cell_type": "code",
   "execution_count": 43,
   "id": "adequate-medline",
   "metadata": {},
   "outputs": [
    {
     "data": {
      "text/plain": [
       "(13142, 9181)"
      ]
     },
     "execution_count": 43,
     "metadata": {},
     "output_type": "execute_result"
    }
   ],
   "source": [
    "X33.shape"
   ]
  },
  {
   "cell_type": "code",
   "execution_count": 44,
   "id": "floppy-contact",
   "metadata": {},
   "outputs": [],
   "source": [
    "lr_pred_1=lr.predict(X33)"
   ]
  },
  {
   "cell_type": "code",
   "execution_count": 46,
   "id": "according-tiger",
   "metadata": {},
   "outputs": [],
   "source": [
    "df = pd.DataFrame({'Id':test['Id'] ,'Predicted': lr_pred_1})"
   ]
  },
  {
   "cell_type": "code",
   "execution_count": 49,
   "id": "insured-klein",
   "metadata": {},
   "outputs": [
    {
     "data": {
      "text/html": [
       "<div>\n",
       "<style scoped>\n",
       "    .dataframe tbody tr th:only-of-type {\n",
       "        vertical-align: middle;\n",
       "    }\n",
       "\n",
       "    .dataframe tbody tr th {\n",
       "        vertical-align: top;\n",
       "    }\n",
       "\n",
       "    .dataframe thead th {\n",
       "        text-align: right;\n",
       "    }\n",
       "</style>\n",
       "<table border=\"1\" class=\"dataframe\">\n",
       "  <thead>\n",
       "    <tr style=\"text-align: right;\">\n",
       "      <th></th>\n",
       "      <th>Id</th>\n",
       "      <th>Predicted</th>\n",
       "    </tr>\n",
       "  </thead>\n",
       "  <tbody>\n",
       "    <tr>\n",
       "      <th>0</th>\n",
       "      <td>ID_e93d1d4c6</td>\n",
       "      <td>2</td>\n",
       "    </tr>\n",
       "    <tr>\n",
       "      <th>1</th>\n",
       "      <td>ID_f5f7560ec</td>\n",
       "      <td>2</td>\n",
       "    </tr>\n",
       "    <tr>\n",
       "      <th>2</th>\n",
       "      <td>ID_6ebe8f07f</td>\n",
       "      <td>9</td>\n",
       "    </tr>\n",
       "    <tr>\n",
       "      <th>3</th>\n",
       "      <td>ID_26222d9b7</td>\n",
       "      <td>18</td>\n",
       "    </tr>\n",
       "    <tr>\n",
       "      <th>4</th>\n",
       "      <td>ID_a0632653b</td>\n",
       "      <td>6</td>\n",
       "    </tr>\n",
       "    <tr>\n",
       "      <th>5</th>\n",
       "      <td>ID_641f090da</td>\n",
       "      <td>14</td>\n",
       "    </tr>\n",
       "    <tr>\n",
       "      <th>6</th>\n",
       "      <td>ID_888b6c7a5</td>\n",
       "      <td>12</td>\n",
       "    </tr>\n",
       "    <tr>\n",
       "      <th>7</th>\n",
       "      <td>ID_7b5b3bb47</td>\n",
       "      <td>17</td>\n",
       "    </tr>\n",
       "    <tr>\n",
       "      <th>8</th>\n",
       "      <td>ID_70f08430c</td>\n",
       "      <td>11</td>\n",
       "    </tr>\n",
       "    <tr>\n",
       "      <th>9</th>\n",
       "      <td>ID_2562b050a</td>\n",
       "      <td>6</td>\n",
       "    </tr>\n",
       "  </tbody>\n",
       "</table>\n",
       "</div>"
      ],
      "text/plain": [
       "             Id  Predicted\n",
       "0  ID_e93d1d4c6          2\n",
       "1  ID_f5f7560ec          2\n",
       "2  ID_6ebe8f07f          9\n",
       "3  ID_26222d9b7         18\n",
       "4  ID_a0632653b          6\n",
       "5  ID_641f090da         14\n",
       "6  ID_888b6c7a5         12\n",
       "7  ID_7b5b3bb47         17\n",
       "8  ID_70f08430c         11\n",
       "9  ID_2562b050a          6"
      ]
     },
     "execution_count": 49,
     "metadata": {},
     "output_type": "execute_result"
    }
   ],
   "source": [
    "df.head(10)"
   ]
  },
  {
   "cell_type": "code",
   "execution_count": 48,
   "id": "canadian-syndrome",
   "metadata": {},
   "outputs": [],
   "source": [
    "fin_result=df.to_csv(\"C:/Users/Sayan Mondal/Desktop/bmed/submission.csv\", index=False)"
   ]
  },
  {
   "cell_type": "markdown",
   "id": "hollywood-november",
   "metadata": {},
   "source": [
    "### Naive Bayes Classifier"
   ]
  },
  {
   "cell_type": "code",
   "execution_count": 50,
   "id": "frequent-identity",
   "metadata": {},
   "outputs": [],
   "source": [
    "from sklearn.naive_bayes import MultinomialNB\n",
    "nb=MultinomialNB()"
   ]
  },
  {
   "cell_type": "code",
   "execution_count": 51,
   "id": "pressed-fever",
   "metadata": {},
   "outputs": [],
   "source": [
    "X_train, X_test, y_train, y_test = train_test_split(X, y, test_size=0.20)"
   ]
  },
  {
   "cell_type": "code",
   "execution_count": 52,
   "id": "administrative-egypt",
   "metadata": {},
   "outputs": [],
   "source": [
    "model=nb.fit(X_train, y_train)"
   ]
  },
  {
   "cell_type": "code",
   "execution_count": 53,
   "id": "placed-truth",
   "metadata": {},
   "outputs": [],
   "source": [
    "y_pred = model.predict(X_test)"
   ]
  },
  {
   "cell_type": "code",
   "execution_count": 54,
   "id": "grave-lloyd",
   "metadata": {},
   "outputs": [
    {
     "name": "stdout",
     "output_type": "stream",
     "text": [
      "              precision    recall  f1-score   support\n",
      "\n",
      "           0       1.00      0.18      0.30        45\n",
      "           1       0.71      0.18      0.29        56\n",
      "           2       0.67      0.12      0.20        68\n",
      "           3       0.58      0.12      0.20        58\n",
      "           4       1.00      0.05      0.10        60\n",
      "           5       0.83      0.19      0.31        53\n",
      "           6       0.86      0.35      0.49        52\n",
      "           7       0.12      0.86      0.20        44\n",
      "           8       0.44      0.58      0.50        57\n",
      "           9       0.37      0.90      0.53        63\n",
      "          10       0.80      0.18      0.30        65\n",
      "          11       0.94      0.69      0.79        70\n",
      "          12       0.64      0.43      0.52        58\n",
      "          13       1.00      0.12      0.21        68\n",
      "          14       1.00      0.17      0.29        65\n",
      "          15       0.20      1.00      0.33        60\n",
      "          16       1.00      0.41      0.58        61\n",
      "          17       0.97      0.69      0.81        45\n",
      "          18       1.00      0.04      0.09        45\n",
      "          19       0.00      0.00      0.00        34\n",
      "\n",
      "    accuracy                           0.37      1127\n",
      "   macro avg       0.71      0.36      0.35      1127\n",
      "weighted avg       0.72      0.37      0.36      1127\n",
      "\n"
     ]
    }
   ],
   "source": [
    "print(classification_report(y_test,y_pred)) "
   ]
  },
  {
   "cell_type": "code",
   "execution_count": 55,
   "id": "scenic-technology",
   "metadata": {},
   "outputs": [
    {
     "data": {
      "text/plain": [
       "0.3346821000687218"
      ]
     },
     "execution_count": 55,
     "metadata": {},
     "output_type": "execute_result"
    }
   ],
   "source": [
    "from sklearn.metrics import cohen_kappa_score\n",
    "cohen_kappa_score(y_test,y_pred)"
   ]
  },
  {
   "cell_type": "markdown",
   "id": "heated-behavior",
   "metadata": {},
   "source": [
    "### Random Forest Classifier"
   ]
  },
  {
   "cell_type": "code",
   "execution_count": 29,
   "id": "accomplished-controversy",
   "metadata": {},
   "outputs": [],
   "source": [
    "from sklearn.ensemble import RandomForestClassifier\n",
    "\n",
    "rf= RandomForestClassifier(n_estimators=200,n_jobs=-1,)"
   ]
  },
  {
   "cell_type": "code",
   "execution_count": 30,
   "id": "sustained-place",
   "metadata": {},
   "outputs": [
    {
     "data": {
      "text/plain": [
       "((4504, 9081), (4504,))"
      ]
     },
     "execution_count": 30,
     "metadata": {},
     "output_type": "execute_result"
    }
   ],
   "source": [
    "X_train, X_test, y_train, y_test = train_test_split(X, y, test_size=0.2)\n",
    "X_train.shape,y_train.shape\n"
   ]
  },
  {
   "cell_type": "code",
   "execution_count": 31,
   "id": "alien-share",
   "metadata": {},
   "outputs": [],
   "source": [
    "model=rf.fit(X_train, y_train)\n",
    "\n",
    "y_pred = model.predict(X_test)\n",
    "  "
   ]
  },
  {
   "cell_type": "code",
   "execution_count": 32,
   "id": "demanding-azerbaijan",
   "metadata": {},
   "outputs": [
    {
     "name": "stdout",
     "output_type": "stream",
     "text": [
      "              precision    recall  f1-score   support\n",
      "\n",
      "           0       0.74      0.58      0.65        59\n",
      "           1       0.43      0.28      0.34        58\n",
      "           2       0.47      0.68      0.56        59\n",
      "           3       0.59      0.45      0.51        60\n",
      "           4       0.38      0.35      0.37        57\n",
      "           5       0.60      0.69      0.64        55\n",
      "           6       0.34      0.75      0.46        48\n",
      "           7       0.44      0.31      0.36        68\n",
      "           8       0.51      0.54      0.53        72\n",
      "           9       0.56      0.70      0.62        64\n",
      "          10       0.70      0.75      0.72        52\n",
      "          11       0.75      0.76      0.76        59\n",
      "          12       0.40      0.47      0.43        51\n",
      "          13       0.77      0.53      0.63        64\n",
      "          14       0.68      0.60      0.64        47\n",
      "          15       0.50      0.86      0.63        59\n",
      "          16       0.74      0.55      0.63        67\n",
      "          17       0.84      0.76      0.80        49\n",
      "          18       0.70      0.40      0.51        35\n",
      "          19       0.80      0.18      0.30        44\n",
      "\n",
      "    accuracy                           0.56      1127\n",
      "   macro avg       0.60      0.56      0.55      1127\n",
      "weighted avg       0.59      0.56      0.56      1127\n",
      "\n"
     ]
    }
   ],
   "source": [
    "print(classification_report(y_test,y_pred)) "
   ]
  },
  {
   "cell_type": "code",
   "execution_count": 33,
   "id": "prescription-salem",
   "metadata": {},
   "outputs": [
    {
     "data": {
      "text/plain": [
       "0.5380358028932403"
      ]
     },
     "execution_count": 33,
     "metadata": {},
     "output_type": "execute_result"
    }
   ],
   "source": [
    "cohen_kappa_score(y_test,y_pred)"
   ]
  },
  {
   "cell_type": "markdown",
   "id": "virgin-tournament",
   "metadata": {},
   "source": [
    "## CatBoost Classifier"
   ]
  },
  {
   "cell_type": "code",
   "execution_count": 99,
   "id": "hollow-gossip",
   "metadata": {},
   "outputs": [],
   "source": [
    "from catboost import CatBoostClassifier"
   ]
  },
  {
   "cell_type": "code",
   "execution_count": 96,
   "id": "otherwise-learning",
   "metadata": {},
   "outputs": [
    {
     "name": "stdout",
     "output_type": "stream",
     "text": [
      "0:\tlearn: 2.9007626\ttotal: 26.9s\tremaining: 1h 6m 46s\n",
      "1:\tlearn: 2.8386856\ttotal: 54.8s\tremaining: 1h 7m 36s\n",
      "2:\tlearn: 2.7880172\ttotal: 1m 22s\tremaining: 1h 7m 34s\n",
      "3:\tlearn: 2.7432547\ttotal: 1m 56s\tremaining: 1h 10m 44s\n",
      "4:\tlearn: 2.7199767\ttotal: 2m 28s\tremaining: 1h 11m 49s\n",
      "5:\tlearn: 2.6804945\ttotal: 3m 2s\tremaining: 1h 13m 4s\n",
      "6:\tlearn: 2.6568111\ttotal: 3m 33s\tremaining: 1h 12m 35s\n",
      "7:\tlearn: 2.6281853\ttotal: 4m 3s\tremaining: 1h 11m 55s\n",
      "8:\tlearn: 2.6117318\ttotal: 4m 32s\tremaining: 1h 11m 10s\n",
      "9:\tlearn: 2.5838894\ttotal: 5m 2s\tremaining: 1h 10m 31s\n",
      "10:\tlearn: 2.5688622\ttotal: 5m 33s\tremaining: 1h 10m 19s\n",
      "11:\tlearn: 2.5522563\ttotal: 6m 10s\tremaining: 1h 11m 6s\n",
      "12:\tlearn: 2.5178514\ttotal: 6m 40s\tremaining: 1h 10m 17s\n",
      "13:\tlearn: 2.5092027\ttotal: 7m 10s\tremaining: 1h 9m 38s\n",
      "14:\tlearn: 2.4942745\ttotal: 7m 39s\tremaining: 1h 8m 55s\n",
      "15:\tlearn: 2.4803577\ttotal: 8m 9s\tremaining: 1h 8m 15s\n",
      "16:\tlearn: 2.4599820\ttotal: 8m 37s\tremaining: 1h 7m 31s\n",
      "17:\tlearn: 2.4442231\ttotal: 9m 7s\tremaining: 1h 6m 54s\n",
      "18:\tlearn: 2.4355661\ttotal: 9m 39s\tremaining: 1h 6m 34s\n",
      "19:\tlearn: 2.4184403\ttotal: 10m 12s\tremaining: 1h 6m 18s\n",
      "20:\tlearn: 2.4123183\ttotal: 10m 49s\tremaining: 1h 6m 30s\n",
      "21:\tlearn: 2.4034694\ttotal: 11m 20s\tremaining: 1h 5m 57s\n",
      "22:\tlearn: 2.3927914\ttotal: 11m 50s\tremaining: 1h 5m 25s\n",
      "23:\tlearn: 2.3781691\ttotal: 12m 23s\tremaining: 1h 5m 4s\n",
      "24:\tlearn: 2.3596667\ttotal: 12m 56s\tremaining: 1h 4m 41s\n",
      "25:\tlearn: 2.3325897\ttotal: 13m 29s\tremaining: 1h 4m 19s\n",
      "26:\tlearn: 2.3214024\ttotal: 13m 58s\tremaining: 1h 3m 38s\n",
      "27:\tlearn: 2.3102511\ttotal: 14m 26s\tremaining: 1h 2m 56s\n",
      "28:\tlearn: 2.3002353\ttotal: 14m 54s\tremaining: 1h 2m 11s\n",
      "29:\tlearn: 2.2840307\ttotal: 15m 22s\tremaining: 1h 1m 29s\n",
      "30:\tlearn: 2.2705650\ttotal: 15m 50s\tremaining: 1h 47s\n",
      "31:\tlearn: 2.2551261\ttotal: 16m 18s\tremaining: 1h 6s\n",
      "32:\tlearn: 2.2449382\ttotal: 16m 46s\tremaining: 59m 28s\n",
      "33:\tlearn: 2.2312554\ttotal: 17m 17s\tremaining: 59m\n",
      "34:\tlearn: 2.2200111\ttotal: 17m 50s\tremaining: 58m 36s\n",
      "35:\tlearn: 2.2094679\ttotal: 18m 22s\tremaining: 58m 11s\n",
      "36:\tlearn: 2.1898428\ttotal: 18m 54s\tremaining: 57m 46s\n",
      "37:\tlearn: 2.1810335\ttotal: 19m 24s\tremaining: 57m 11s\n",
      "38:\tlearn: 2.1644307\ttotal: 19m 55s\tremaining: 56m 43s\n",
      "39:\tlearn: 2.1563870\ttotal: 20m 25s\tremaining: 56m 9s\n",
      "40:\tlearn: 2.1471366\ttotal: 20m 54s\tremaining: 55m 35s\n",
      "41:\tlearn: 2.1334198\ttotal: 21m 24s\tremaining: 55m 4s\n",
      "42:\tlearn: 2.1234241\ttotal: 21m 54s\tremaining: 54m 30s\n",
      "43:\tlearn: 2.1075931\ttotal: 22m 22s\tremaining: 53m 55s\n",
      "44:\tlearn: 2.0983409\ttotal: 22m 52s\tremaining: 53m 21s\n",
      "45:\tlearn: 2.0733810\ttotal: 23m 21s\tremaining: 52m 48s\n",
      "46:\tlearn: 2.0606980\ttotal: 23m 50s\tremaining: 52m 15s\n",
      "47:\tlearn: 2.0361548\ttotal: 24m 21s\tremaining: 51m 45s\n",
      "48:\tlearn: 2.0201678\ttotal: 24m 52s\tremaining: 51m 15s\n",
      "49:\tlearn: 2.0085679\ttotal: 25m 18s\tremaining: 50m 37s\n",
      "50:\tlearn: 1.9999408\ttotal: 25m 46s\tremaining: 50m 1s\n",
      "51:\tlearn: 1.9878921\ttotal: 26m 15s\tremaining: 49m 28s\n",
      "52:\tlearn: 1.9646647\ttotal: 26m 42s\tremaining: 48m 52s\n",
      "53:\tlearn: 1.9461118\ttotal: 27m 9s\tremaining: 48m 17s\n",
      "54:\tlearn: 1.9380404\ttotal: 27m 37s\tremaining: 47m 42s\n",
      "55:\tlearn: 1.9255540\ttotal: 28m 4s\tremaining: 47m 8s\n",
      "56:\tlearn: 1.9101992\ttotal: 28m 34s\tremaining: 46m 36s\n",
      "57:\tlearn: 1.8977471\ttotal: 29m 1s\tremaining: 46m 2s\n",
      "58:\tlearn: 1.8822095\ttotal: 29m 29s\tremaining: 45m 28s\n",
      "59:\tlearn: 1.8756900\ttotal: 29m 56s\tremaining: 44m 54s\n",
      "60:\tlearn: 1.8616848\ttotal: 30m 24s\tremaining: 44m 21s\n",
      "61:\tlearn: 1.8505103\ttotal: 30m 52s\tremaining: 43m 49s\n",
      "62:\tlearn: 1.8348824\ttotal: 31m 24s\tremaining: 43m 21s\n",
      "63:\tlearn: 1.8245444\ttotal: 31m 55s\tremaining: 42m 53s\n",
      "64:\tlearn: 1.8128875\ttotal: 32m 32s\tremaining: 42m 33s\n",
      "65:\tlearn: 1.8027032\ttotal: 33m 3s\tremaining: 42m 3s\n",
      "66:\tlearn: 1.7911145\ttotal: 33m 32s\tremaining: 41m 32s\n",
      "67:\tlearn: 1.7851071\ttotal: 34m 1s\tremaining: 41m 1s\n",
      "68:\tlearn: 1.7726604\ttotal: 34m 30s\tremaining: 40m 30s\n",
      "69:\tlearn: 1.7656821\ttotal: 35m 5s\tremaining: 40m 6s\n",
      "70:\tlearn: 1.7541803\ttotal: 35m 41s\tremaining: 39m 42s\n",
      "71:\tlearn: 1.7357914\ttotal: 36m 10s\tremaining: 39m 11s\n",
      "72:\tlearn: 1.7242820\ttotal: 36m 39s\tremaining: 38m 40s\n",
      "73:\tlearn: 1.7177528\ttotal: 37m 9s\tremaining: 38m 9s\n",
      "74:\tlearn: 1.7110437\ttotal: 37m 38s\tremaining: 37m 38s\n",
      "75:\tlearn: 1.7014426\ttotal: 38m 11s\tremaining: 37m 11s\n",
      "76:\tlearn: 1.6884551\ttotal: 38m 49s\tremaining: 36m 48s\n",
      "77:\tlearn: 1.6820597\ttotal: 39m 31s\tremaining: 36m 28s\n",
      "78:\tlearn: 1.6739895\ttotal: 40m\tremaining: 35m 57s\n",
      "79:\tlearn: 1.6685612\ttotal: 40m 33s\tremaining: 35m 29s\n",
      "80:\tlearn: 1.6634584\ttotal: 41m 8s\tremaining: 35m 2s\n",
      "81:\tlearn: 1.6558048\ttotal: 41m 40s\tremaining: 34m 33s\n",
      "82:\tlearn: 1.6509972\ttotal: 42m 13s\tremaining: 34m 5s\n",
      "83:\tlearn: 1.6457888\ttotal: 42m 45s\tremaining: 33m 35s\n",
      "84:\tlearn: 1.6312059\ttotal: 43m 15s\tremaining: 33m 4s\n",
      "85:\tlearn: 1.6264635\ttotal: 43m 49s\tremaining: 32m 37s\n",
      "86:\tlearn: 1.6231255\ttotal: 44m 30s\tremaining: 32m 13s\n",
      "87:\tlearn: 1.6197374\ttotal: 45m 3s\tremaining: 31m 44s\n",
      "88:\tlearn: 1.6158191\ttotal: 45m 35s\tremaining: 31m 14s\n",
      "89:\tlearn: 1.6081089\ttotal: 46m 6s\tremaining: 30m 44s\n",
      "90:\tlearn: 1.6012420\ttotal: 46m 37s\tremaining: 30m 13s\n",
      "91:\tlearn: 1.5969853\ttotal: 47m 13s\tremaining: 29m 46s\n",
      "92:\tlearn: 1.5883538\ttotal: 47m 46s\tremaining: 29m 16s\n",
      "93:\tlearn: 1.5825178\ttotal: 48m 20s\tremaining: 28m 47s\n",
      "94:\tlearn: 1.5773857\ttotal: 48m 52s\tremaining: 28m 17s\n",
      "95:\tlearn: 1.5678607\ttotal: 49m 27s\tremaining: 27m 49s\n",
      "96:\tlearn: 1.5586392\ttotal: 49m 58s\tremaining: 27m 18s\n",
      "97:\tlearn: 1.5546003\ttotal: 50m 29s\tremaining: 26m 47s\n",
      "98:\tlearn: 1.5488461\ttotal: 51m 5s\tremaining: 26m 19s\n",
      "99:\tlearn: 1.5427347\ttotal: 51m 38s\tremaining: 25m 49s\n",
      "100:\tlearn: 1.5398451\ttotal: 52m 11s\tremaining: 25m 19s\n",
      "101:\tlearn: 1.5369278\ttotal: 52m 45s\tremaining: 24m 49s\n",
      "102:\tlearn: 1.5299491\ttotal: 53m 15s\tremaining: 24m 18s\n",
      "103:\tlearn: 1.5260884\ttotal: 53m 47s\tremaining: 23m 47s\n",
      "104:\tlearn: 1.5141658\ttotal: 54m 17s\tremaining: 23m 16s\n",
      "105:\tlearn: 1.5057084\ttotal: 54m 49s\tremaining: 22m 45s\n",
      "106:\tlearn: 1.5008032\ttotal: 55m 20s\tremaining: 22m 14s\n",
      "107:\tlearn: 1.4972851\ttotal: 55m 51s\tremaining: 21m 43s\n",
      "108:\tlearn: 1.4951608\ttotal: 56m 24s\tremaining: 21m 12s\n",
      "109:\tlearn: 1.4920581\ttotal: 56m 54s\tremaining: 20m 41s\n",
      "110:\tlearn: 1.4856930\ttotal: 57m 25s\tremaining: 20m 10s\n",
      "111:\tlearn: 1.4813980\ttotal: 57m 54s\tremaining: 19m 38s\n",
      "112:\tlearn: 1.4756826\ttotal: 58m 21s\tremaining: 19m 6s\n",
      "113:\tlearn: 1.4724471\ttotal: 58m 49s\tremaining: 18m 34s\n",
      "114:\tlearn: 1.4666309\ttotal: 59m 19s\tremaining: 18m 3s\n",
      "115:\tlearn: 1.4650456\ttotal: 59m 55s\tremaining: 17m 33s\n",
      "116:\tlearn: 1.4581238\ttotal: 1h 24s\tremaining: 17m 2s\n",
      "117:\tlearn: 1.4554825\ttotal: 1h 55s\tremaining: 16m 31s\n",
      "118:\tlearn: 1.4504206\ttotal: 1h 1m 22s\tremaining: 15m 59s\n",
      "119:\tlearn: 1.4466151\ttotal: 1h 1m 49s\tremaining: 15m 27s\n",
      "120:\tlearn: 1.4454854\ttotal: 1h 2m 17s\tremaining: 14m 55s\n",
      "121:\tlearn: 1.4407934\ttotal: 1h 2m 43s\tremaining: 14m 23s\n",
      "122:\tlearn: 1.4376096\ttotal: 1h 3m 11s\tremaining: 13m 52s\n",
      "123:\tlearn: 1.4315378\ttotal: 1h 3m 42s\tremaining: 13m 21s\n",
      "124:\tlearn: 1.4239774\ttotal: 1h 4m 14s\tremaining: 12m 50s\n",
      "125:\tlearn: 1.4196723\ttotal: 1h 4m 43s\tremaining: 12m 19s\n",
      "126:\tlearn: 1.4169267\ttotal: 1h 5m 10s\tremaining: 11m 48s\n",
      "127:\tlearn: 1.4156326\ttotal: 1h 5m 37s\tremaining: 11m 16s\n",
      "128:\tlearn: 1.4126255\ttotal: 1h 6m 3s\tremaining: 10m 45s\n",
      "129:\tlearn: 1.4085110\ttotal: 1h 6m 30s\tremaining: 10m 13s\n",
      "130:\tlearn: 1.3998929\ttotal: 1h 7m 1s\tremaining: 9m 43s\n",
      "131:\tlearn: 1.3969554\ttotal: 1h 7m 32s\tremaining: 9m 12s\n",
      "132:\tlearn: 1.3914253\ttotal: 1h 8m 7s\tremaining: 8m 42s\n",
      "133:\tlearn: 1.3885308\ttotal: 1h 8m 37s\tremaining: 8m 11s\n",
      "134:\tlearn: 1.3799071\ttotal: 1h 9m 18s\tremaining: 7m 42s\n",
      "135:\tlearn: 1.3754748\ttotal: 1h 9m 53s\tremaining: 7m 11s\n",
      "136:\tlearn: 1.3732102\ttotal: 1h 10m 27s\tremaining: 6m 41s\n",
      "137:\tlearn: 1.3698959\ttotal: 1h 10m 58s\tremaining: 6m 10s\n",
      "138:\tlearn: 1.3583673\ttotal: 1h 11m 33s\tremaining: 5m 39s\n",
      "139:\tlearn: 1.3565532\ttotal: 1h 12m 11s\tremaining: 5m 9s\n",
      "140:\tlearn: 1.3507114\ttotal: 1h 12m 50s\tremaining: 4m 38s\n",
      "141:\tlearn: 1.3496515\ttotal: 1h 13m 24s\tremaining: 4m 8s\n",
      "142:\tlearn: 1.3465186\ttotal: 1h 13m 59s\tremaining: 3m 37s\n",
      "143:\tlearn: 1.3441412\ttotal: 1h 14m 32s\tremaining: 3m 6s\n",
      "144:\tlearn: 1.3414175\ttotal: 1h 15m 1s\tremaining: 2m 35s\n",
      "145:\tlearn: 1.3401297\ttotal: 1h 15m 38s\tremaining: 2m 4s\n",
      "146:\tlearn: 1.3370850\ttotal: 1h 16m 14s\tremaining: 1m 33s\n",
      "147:\tlearn: 1.3360072\ttotal: 1h 16m 45s\tremaining: 1m 2s\n",
      "148:\tlearn: 1.3324309\ttotal: 1h 17m 28s\tremaining: 31.2s\n",
      "149:\tlearn: 1.3292011\ttotal: 1h 17m 59s\tremaining: 0us\n"
     ]
    },
    {
     "data": {
      "text/plain": [
       "<catboost.core.CatBoostClassifier at 0x21144bbc488>"
      ]
     },
     "execution_count": 96,
     "metadata": {},
     "output_type": "execute_result"
    }
   ],
   "source": [
    "cb=CatBoostClassifier(iterations=150,learning_rate= 0.20)\n",
    "cb.fit(X_train,y_train)"
   ]
  },
  {
   "cell_type": "code",
   "execution_count": 97,
   "id": "increased-billion",
   "metadata": {},
   "outputs": [
    {
     "name": "stdout",
     "output_type": "stream",
     "text": [
      "              precision    recall  f1-score   support\n",
      "\n",
      "           0       0.59      0.77      0.67        47\n",
      "           1       0.33      0.33      0.33        52\n",
      "           2       0.67      0.56      0.61        63\n",
      "           3       0.54      0.35      0.43        54\n",
      "           4       0.33      0.40      0.36        50\n",
      "           5       0.42      0.89      0.57        37\n",
      "           6       0.49      0.72      0.58        53\n",
      "           7       0.35      0.50      0.41        56\n",
      "           8       0.49      0.51      0.50        72\n",
      "           9       0.70      0.60      0.65        72\n",
      "          10       0.67      0.68      0.67        71\n",
      "          11       0.88      0.69      0.77        71\n",
      "          12       0.54      0.41      0.47        66\n",
      "          13       0.58      0.66      0.62        56\n",
      "          14       0.80      0.58      0.67        55\n",
      "          15       0.75      0.83      0.79        66\n",
      "          16       0.56      0.50      0.53        56\n",
      "          17       0.86      0.78      0.82        49\n",
      "          18       0.52      0.42      0.46        38\n",
      "          19       0.79      0.26      0.39        43\n",
      "\n",
      "    accuracy                           0.57      1127\n",
      "   macro avg       0.59      0.57      0.56      1127\n",
      "weighted avg       0.60      0.57      0.57      1127\n",
      "\n"
     ]
    }
   ],
   "source": [
    "cb_pred = cb.predict(X_test)\n",
    "print(classification_report(y_test,cb_pred )) "
   ]
  },
  {
   "cell_type": "code",
   "execution_count": 98,
   "id": "innocent-obligation",
   "metadata": {},
   "outputs": [
    {
     "data": {
      "text/plain": [
       "0.5511830230100008"
      ]
     },
     "execution_count": 98,
     "metadata": {},
     "output_type": "execute_result"
    }
   ],
   "source": [
    "cohen_kappa_score(y_test,cb_pred )"
   ]
  },
  {
   "cell_type": "markdown",
   "id": "worthy-church",
   "metadata": {},
   "source": [
    "So, Considering the all above model performence, Finalized model is Logistic Regression. And i have applied test data on the same."
   ]
  }
 ],
 "metadata": {
  "kernelspec": {
   "display_name": "Python 3",
   "language": "python",
   "name": "python3"
  },
  "language_info": {
   "codemirror_mode": {
    "name": "ipython",
    "version": 3
   },
   "file_extension": ".py",
   "mimetype": "text/x-python",
   "name": "python",
   "nbconvert_exporter": "python",
   "pygments_lexer": "ipython3",
   "version": "3.7.4"
  }
 },
 "nbformat": 4,
 "nbformat_minor": 5
}
